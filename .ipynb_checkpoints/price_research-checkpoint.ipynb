{
 "cells": [
  {
   "cell_type": "code",
   "execution_count": 5,
   "id": "98d5b8be",
   "metadata": {
    "ExecuteTime": {
     "end_time": "2024-03-07T13:57:59.019623Z",
     "start_time": "2024-03-07T13:57:59.005606Z"
    }
   },
   "outputs": [],
   "source": [
    "import numpy as np\n",
    "import pandas as pd\n",
    "import matplotlib.pyplot as plt\n",
    "import seaborn as sns"
   ]
  },
  {
   "cell_type": "code",
   "execution_count": 6,
   "id": "74d5dbbf",
   "metadata": {
    "ExecuteTime": {
     "end_time": "2024-03-07T13:57:59.316596Z",
     "start_time": "2024-03-07T13:57:59.029522Z"
    }
   },
   "outputs": [],
   "source": [
    "train = pd.read_csv('train.csv')\n",
    "test = pd.read_csv('test.csv')"
   ]
  },
  {
   "cell_type": "code",
   "execution_count": 7,
   "id": "e5d329ce",
   "metadata": {
    "ExecuteTime": {
     "end_time": "2024-03-07T13:57:59.364088Z",
     "start_time": "2024-03-07T13:57:59.322472Z"
    }
   },
   "outputs": [],
   "source": [
    "df = pd.concat([train, test], ignore_index=True, sort = False)"
   ]
  },
  {
   "cell_type": "code",
   "execution_count": 8,
   "id": "fbfb9c52",
   "metadata": {
    "ExecuteTime": {
     "end_time": "2024-03-07T13:57:59.502539Z",
     "start_time": "2024-03-07T13:57:59.374660Z"
    }
   },
   "outputs": [
    {
     "name": "stdout",
     "output_type": "stream",
     "text": [
      "<class 'pandas.core.frame.DataFrame'>\n",
      "RangeIndex: 2919 entries, 0 to 2918\n",
      "Data columns (total 81 columns):\n",
      " #   Column         Non-Null Count  Dtype  \n",
      "---  ------         --------------  -----  \n",
      " 0   Id             2919 non-null   int64  \n",
      " 1   MSSubClass     2919 non-null   int64  \n",
      " 2   MSZoning       2915 non-null   object \n",
      " 3   LotFrontage    2433 non-null   float64\n",
      " 4   LotArea        2919 non-null   int64  \n",
      " 5   Street         2919 non-null   object \n",
      " 6   Alley          198 non-null    object \n",
      " 7   LotShape       2919 non-null   object \n",
      " 8   LandContour    2919 non-null   object \n",
      " 9   Utilities      2917 non-null   object \n",
      " 10  LotConfig      2919 non-null   object \n",
      " 11  LandSlope      2919 non-null   object \n",
      " 12  Neighborhood   2919 non-null   object \n",
      " 13  Condition1     2919 non-null   object \n",
      " 14  Condition2     2919 non-null   object \n",
      " 15  BldgType       2919 non-null   object \n",
      " 16  HouseStyle     2919 non-null   object \n",
      " 17  OverallQual    2919 non-null   int64  \n",
      " 18  OverallCond    2919 non-null   int64  \n",
      " 19  YearBuilt      2919 non-null   int64  \n",
      " 20  YearRemodAdd   2919 non-null   int64  \n",
      " 21  RoofStyle      2919 non-null   object \n",
      " 22  RoofMatl       2919 non-null   object \n",
      " 23  Exterior1st    2918 non-null   object \n",
      " 24  Exterior2nd    2918 non-null   object \n",
      " 25  MasVnrType     2895 non-null   object \n",
      " 26  MasVnrArea     2896 non-null   float64\n",
      " 27  ExterQual      2919 non-null   object \n",
      " 28  ExterCond      2919 non-null   object \n",
      " 29  Foundation     2919 non-null   object \n",
      " 30  BsmtQual       2838 non-null   object \n",
      " 31  BsmtCond       2837 non-null   object \n",
      " 32  BsmtExposure   2837 non-null   object \n",
      " 33  BsmtFinType1   2840 non-null   object \n",
      " 34  BsmtFinSF1     2918 non-null   float64\n",
      " 35  BsmtFinType2   2839 non-null   object \n",
      " 36  BsmtFinSF2     2918 non-null   float64\n",
      " 37  BsmtUnfSF      2918 non-null   float64\n",
      " 38  TotalBsmtSF    2918 non-null   float64\n",
      " 39  Heating        2919 non-null   object \n",
      " 40  HeatingQC      2919 non-null   object \n",
      " 41  CentralAir     2919 non-null   object \n",
      " 42  Electrical     2918 non-null   object \n",
      " 43  1stFlrSF       2919 non-null   int64  \n",
      " 44  2ndFlrSF       2919 non-null   int64  \n",
      " 45  LowQualFinSF   2919 non-null   int64  \n",
      " 46  GrLivArea      2919 non-null   int64  \n",
      " 47  BsmtFullBath   2917 non-null   float64\n",
      " 48  BsmtHalfBath   2917 non-null   float64\n",
      " 49  FullBath       2919 non-null   int64  \n",
      " 50  HalfBath       2919 non-null   int64  \n",
      " 51  BedroomAbvGr   2919 non-null   int64  \n",
      " 52  KitchenAbvGr   2919 non-null   int64  \n",
      " 53  KitchenQual    2918 non-null   object \n",
      " 54  TotRmsAbvGrd   2919 non-null   int64  \n",
      " 55  Functional     2917 non-null   object \n",
      " 56  Fireplaces     2919 non-null   int64  \n",
      " 57  FireplaceQu    1499 non-null   object \n",
      " 58  GarageType     2762 non-null   object \n",
      " 59  GarageYrBlt    2760 non-null   float64\n",
      " 60  GarageFinish   2760 non-null   object \n",
      " 61  GarageCars     2918 non-null   float64\n",
      " 62  GarageArea     2918 non-null   float64\n",
      " 63  GarageQual     2760 non-null   object \n",
      " 64  GarageCond     2760 non-null   object \n",
      " 65  PavedDrive     2919 non-null   object \n",
      " 66  WoodDeckSF     2919 non-null   int64  \n",
      " 67  OpenPorchSF    2919 non-null   int64  \n",
      " 68  EnclosedPorch  2919 non-null   int64  \n",
      " 69  3SsnPorch      2919 non-null   int64  \n",
      " 70  ScreenPorch    2919 non-null   int64  \n",
      " 71  PoolArea       2919 non-null   int64  \n",
      " 72  PoolQC         10 non-null     object \n",
      " 73  Fence          571 non-null    object \n",
      " 74  MiscFeature    105 non-null    object \n",
      " 75  MiscVal        2919 non-null   int64  \n",
      " 76  MoSold         2919 non-null   int64  \n",
      " 77  YrSold         2919 non-null   int64  \n",
      " 78  SaleType       2918 non-null   object \n",
      " 79  SaleCondition  2919 non-null   object \n",
      " 80  SalePrice      1460 non-null   float64\n",
      "dtypes: float64(12), int64(26), object(43)\n",
      "memory usage: 1.8+ MB\n"
     ]
    }
   ],
   "source": [
    "df.info()"
   ]
  },
  {
   "cell_type": "code",
   "execution_count": 9,
   "id": "02664c82",
   "metadata": {
    "ExecuteTime": {
     "end_time": "2024-03-07T13:57:59.580496Z",
     "start_time": "2024-03-07T13:57:59.507515Z"
    }
   },
   "outputs": [
    {
     "data": {
      "text/plain": [
       "Id               2919\n",
       "MSSubClass         16\n",
       "MSZoning            5\n",
       "LotFrontage       128\n",
       "LotArea          1951\n",
       "                 ... \n",
       "MoSold             12\n",
       "YrSold              5\n",
       "SaleType            9\n",
       "SaleCondition       6\n",
       "SalePrice         663\n",
       "Length: 81, dtype: int64"
      ]
     },
     "execution_count": 9,
     "metadata": {},
     "output_type": "execute_result"
    }
   ],
   "source": [
    "df.nunique()"
   ]
  },
  {
   "cell_type": "code",
   "execution_count": 46,
   "id": "ac032be7",
   "metadata": {
    "ExecuteTime": {
     "end_time": "2024-03-07T13:58:23.370375Z",
     "start_time": "2024-03-07T13:58:23.327883Z"
    }
   },
   "outputs": [
    {
     "data": {
      "text/plain": [
       "SalePrice       1459\n",
       "Utilities          2\n",
       "Functional         2\n",
       "Exterior1st        1\n",
       "GarageCars         1\n",
       "GarageArea         1\n",
       "KitchenQual        1\n",
       "BsmtFinSF2         1\n",
       "BsmtFinSF1         1\n",
       "BsmtUnfSF          1\n",
       "TotalBsmtSF        1\n",
       "SaleType           1\n",
       "Electrical         1\n",
       "Exterior2nd        1\n",
       "HalfBath           0\n",
       "GarageYrBlt        0\n",
       "BedroomAbvGr       0\n",
       "KitchenAbvGr       0\n",
       "FullBath           0\n",
       "TotRmsAbvGrd       0\n",
       "dtype: int64"
      ]
     },
     "execution_count": 46,
     "metadata": {},
     "output_type": "execute_result"
    }
   ],
   "source": [
    "df.isnull().sum().sort_values(ascending=False)[:20]"
   ]
  },
  {
   "cell_type": "code",
   "execution_count": 11,
   "id": "b06cfac4",
   "metadata": {
    "ExecuteTime": {
     "end_time": "2024-03-07T13:57:59.704569Z",
     "start_time": "2024-03-07T13:57:59.681248Z"
    }
   },
   "outputs": [
    {
     "data": {
      "text/plain": [
       "Ex    4\n",
       "Gd    4\n",
       "Fa    2\n",
       "Name: PoolQC, dtype: int64"
      ]
     },
     "execution_count": 11,
     "metadata": {},
     "output_type": "execute_result"
    }
   ],
   "source": [
    "df['PoolQC'].value_counts()"
   ]
  },
  {
   "cell_type": "code",
   "execution_count": 12,
   "id": "0efaf389",
   "metadata": {
    "ExecuteTime": {
     "end_time": "2024-03-07T13:57:59.736309Z",
     "start_time": "2024-03-07T13:57:59.711087Z"
    }
   },
   "outputs": [],
   "source": [
    "df['PoolQC'] = df['PoolQC'].fillna('no_pool')"
   ]
  },
  {
   "cell_type": "code",
   "execution_count": 13,
   "id": "9c53cfd8",
   "metadata": {
    "ExecuteTime": {
     "end_time": "2024-03-07T13:57:59.782604Z",
     "start_time": "2024-03-07T13:57:59.744309Z"
    }
   },
   "outputs": [
    {
     "data": {
      "text/plain": [
       "Grvl    120\n",
       "Pave     78\n",
       "Name: Alley, dtype: int64"
      ]
     },
     "execution_count": 13,
     "metadata": {},
     "output_type": "execute_result"
    }
   ],
   "source": [
    "df['Alley'].value_counts()"
   ]
  },
  {
   "cell_type": "code",
   "execution_count": 14,
   "id": "7ab871a2",
   "metadata": {
    "ExecuteTime": {
     "end_time": "2024-03-07T13:57:59.813660Z",
     "start_time": "2024-03-07T13:57:59.794111Z"
    }
   },
   "outputs": [],
   "source": [
    "df['Alley'] = df['Alley'].fillna('No_access')"
   ]
  },
  {
   "cell_type": "code",
   "execution_count": 15,
   "id": "40328b72",
   "metadata": {
    "ExecuteTime": {
     "end_time": "2024-03-07T13:57:59.844637Z",
     "start_time": "2024-03-07T13:57:59.820787Z"
    }
   },
   "outputs": [
    {
     "data": {
      "text/plain": [
       "Shed    95\n",
       "Gar2     5\n",
       "Othr     4\n",
       "TenC     1\n",
       "Name: MiscFeature, dtype: int64"
      ]
     },
     "execution_count": 15,
     "metadata": {},
     "output_type": "execute_result"
    }
   ],
   "source": [
    "df['MiscFeature'].value_counts()"
   ]
  },
  {
   "cell_type": "code",
   "execution_count": 16,
   "id": "282a7da5",
   "metadata": {
    "ExecuteTime": {
     "end_time": "2024-03-07T13:57:59.875822Z",
     "start_time": "2024-03-07T13:57:59.852699Z"
    }
   },
   "outputs": [],
   "source": [
    "df['MiscFeature'] = df['MiscFeature'].fillna('No_item')"
   ]
  },
  {
   "cell_type": "code",
   "execution_count": 17,
   "id": "44d0dfd2",
   "metadata": {
    "ExecuteTime": {
     "end_time": "2024-03-07T13:57:59.907898Z",
     "start_time": "2024-03-07T13:57:59.881324Z"
    }
   },
   "outputs": [
    {
     "data": {
      "text/plain": [
       "MnPrv    329\n",
       "GdPrv    118\n",
       "GdWo     112\n",
       "MnWw      12\n",
       "Name: Fence, dtype: int64"
      ]
     },
     "execution_count": 17,
     "metadata": {},
     "output_type": "execute_result"
    }
   ],
   "source": [
    "df['Fence'].value_counts()"
   ]
  },
  {
   "cell_type": "code",
   "execution_count": 18,
   "id": "de2f3b19",
   "metadata": {
    "ExecuteTime": {
     "end_time": "2024-03-07T13:57:59.939218Z",
     "start_time": "2024-03-07T13:57:59.915468Z"
    }
   },
   "outputs": [],
   "source": [
    "df['Fence'] = df['Fence'].fillna('No_fence')"
   ]
  },
  {
   "cell_type": "code",
   "execution_count": 19,
   "id": "28905714",
   "metadata": {
    "ExecuteTime": {
     "end_time": "2024-03-07T13:57:59.970452Z",
     "start_time": "2024-03-07T13:57:59.946149Z"
    }
   },
   "outputs": [
    {
     "data": {
      "text/plain": [
       "Gd    744\n",
       "TA    592\n",
       "Fa     74\n",
       "Po     46\n",
       "Ex     43\n",
       "Name: FireplaceQu, dtype: int64"
      ]
     },
     "execution_count": 19,
     "metadata": {},
     "output_type": "execute_result"
    }
   ],
   "source": [
    "df['FireplaceQu'].value_counts()"
   ]
  },
  {
   "cell_type": "code",
   "execution_count": 20,
   "id": "6e64ed8c",
   "metadata": {
    "ExecuteTime": {
     "end_time": "2024-03-07T13:58:00.000767Z",
     "start_time": "2024-03-07T13:57:59.975448Z"
    }
   },
   "outputs": [],
   "source": [
    "df['FireplaceQu'] = df['FireplaceQu'].fillna('No_Fireplace')"
   ]
  },
  {
   "cell_type": "code",
   "execution_count": 21,
   "id": "83d4d36b",
   "metadata": {
    "ExecuteTime": {
     "end_time": "2024-03-07T13:58:00.046706Z",
     "start_time": "2024-03-07T13:58:00.009225Z"
    }
   },
   "outputs": [
    {
     "data": {
      "text/plain": [
       "60.0     276\n",
       "80.0     137\n",
       "70.0     133\n",
       "50.0     117\n",
       "75.0     105\n",
       "        ... \n",
       "152.0      1\n",
       "138.0      1\n",
       "182.0      1\n",
       "168.0      1\n",
       "133.0      1\n",
       "Name: LotFrontage, Length: 128, dtype: int64"
      ]
     },
     "execution_count": 21,
     "metadata": {},
     "output_type": "execute_result"
    }
   ],
   "source": [
    "df['LotFrontage'].value_counts()"
   ]
  },
  {
   "cell_type": "code",
   "execution_count": 22,
   "id": "287ca9ed",
   "metadata": {
    "ExecuteTime": {
     "end_time": "2024-03-07T13:58:00.061860Z",
     "start_time": "2024-03-07T13:58:00.053298Z"
    }
   },
   "outputs": [],
   "source": [
    "df['LotFrontage'] = df['LotFrontage'].fillna(0)"
   ]
  },
  {
   "cell_type": "code",
   "execution_count": 23,
   "id": "4bfd9826",
   "metadata": {
    "ExecuteTime": {
     "end_time": "2024-03-07T13:58:00.139406Z",
     "start_time": "2024-03-07T13:58:00.067846Z"
    }
   },
   "outputs": [
    {
     "data": {
      "text/html": [
       "<div>\n",
       "<style scoped>\n",
       "    .dataframe tbody tr th:only-of-type {\n",
       "        vertical-align: middle;\n",
       "    }\n",
       "\n",
       "    .dataframe tbody tr th {\n",
       "        vertical-align: top;\n",
       "    }\n",
       "\n",
       "    .dataframe thead th {\n",
       "        text-align: right;\n",
       "    }\n",
       "</style>\n",
       "<table border=\"1\" class=\"dataframe\">\n",
       "  <thead>\n",
       "    <tr style=\"text-align: right;\">\n",
       "      <th></th>\n",
       "      <th>GarageCond</th>\n",
       "      <th>GarageYrBlt</th>\n",
       "      <th>GarageFinish</th>\n",
       "      <th>GarageQual</th>\n",
       "    </tr>\n",
       "  </thead>\n",
       "  <tbody>\n",
       "    <tr>\n",
       "      <th>39</th>\n",
       "      <td>NaN</td>\n",
       "      <td>NaN</td>\n",
       "      <td>NaN</td>\n",
       "      <td>NaN</td>\n",
       "    </tr>\n",
       "    <tr>\n",
       "      <th>48</th>\n",
       "      <td>NaN</td>\n",
       "      <td>NaN</td>\n",
       "      <td>NaN</td>\n",
       "      <td>NaN</td>\n",
       "    </tr>\n",
       "    <tr>\n",
       "      <th>78</th>\n",
       "      <td>NaN</td>\n",
       "      <td>NaN</td>\n",
       "      <td>NaN</td>\n",
       "      <td>NaN</td>\n",
       "    </tr>\n",
       "    <tr>\n",
       "      <th>88</th>\n",
       "      <td>NaN</td>\n",
       "      <td>NaN</td>\n",
       "      <td>NaN</td>\n",
       "      <td>NaN</td>\n",
       "    </tr>\n",
       "    <tr>\n",
       "      <th>89</th>\n",
       "      <td>NaN</td>\n",
       "      <td>NaN</td>\n",
       "      <td>NaN</td>\n",
       "      <td>NaN</td>\n",
       "    </tr>\n",
       "    <tr>\n",
       "      <th>...</th>\n",
       "      <td>...</td>\n",
       "      <td>...</td>\n",
       "      <td>...</td>\n",
       "      <td>...</td>\n",
       "    </tr>\n",
       "    <tr>\n",
       "      <th>2893</th>\n",
       "      <td>NaN</td>\n",
       "      <td>NaN</td>\n",
       "      <td>NaN</td>\n",
       "      <td>NaN</td>\n",
       "    </tr>\n",
       "    <tr>\n",
       "      <th>2909</th>\n",
       "      <td>NaN</td>\n",
       "      <td>NaN</td>\n",
       "      <td>NaN</td>\n",
       "      <td>NaN</td>\n",
       "    </tr>\n",
       "    <tr>\n",
       "      <th>2913</th>\n",
       "      <td>NaN</td>\n",
       "      <td>NaN</td>\n",
       "      <td>NaN</td>\n",
       "      <td>NaN</td>\n",
       "    </tr>\n",
       "    <tr>\n",
       "      <th>2914</th>\n",
       "      <td>NaN</td>\n",
       "      <td>NaN</td>\n",
       "      <td>NaN</td>\n",
       "      <td>NaN</td>\n",
       "    </tr>\n",
       "    <tr>\n",
       "      <th>2917</th>\n",
       "      <td>NaN</td>\n",
       "      <td>NaN</td>\n",
       "      <td>NaN</td>\n",
       "      <td>NaN</td>\n",
       "    </tr>\n",
       "  </tbody>\n",
       "</table>\n",
       "<p>159 rows × 4 columns</p>\n",
       "</div>"
      ],
      "text/plain": [
       "     GarageCond  GarageYrBlt GarageFinish GarageQual\n",
       "39          NaN          NaN          NaN        NaN\n",
       "48          NaN          NaN          NaN        NaN\n",
       "78          NaN          NaN          NaN        NaN\n",
       "88          NaN          NaN          NaN        NaN\n",
       "89          NaN          NaN          NaN        NaN\n",
       "...         ...          ...          ...        ...\n",
       "2893        NaN          NaN          NaN        NaN\n",
       "2909        NaN          NaN          NaN        NaN\n",
       "2913        NaN          NaN          NaN        NaN\n",
       "2914        NaN          NaN          NaN        NaN\n",
       "2917        NaN          NaN          NaN        NaN\n",
       "\n",
       "[159 rows x 4 columns]"
      ]
     },
     "execution_count": 23,
     "metadata": {},
     "output_type": "execute_result"
    }
   ],
   "source": [
    "df[df['GarageYrBlt'].isnull()==True][['GarageCond', 'GarageYrBlt', 'GarageFinish', 'GarageQual']]"
   ]
  },
  {
   "cell_type": "code",
   "execution_count": 24,
   "id": "feacac0c",
   "metadata": {
    "ExecuteTime": {
     "end_time": "2024-03-07T13:58:00.185305Z",
     "start_time": "2024-03-07T13:58:00.144959Z"
    }
   },
   "outputs": [
    {
     "data": {
      "text/html": [
       "<div>\n",
       "<style scoped>\n",
       "    .dataframe tbody tr th:only-of-type {\n",
       "        vertical-align: middle;\n",
       "    }\n",
       "\n",
       "    .dataframe tbody tr th {\n",
       "        vertical-align: top;\n",
       "    }\n",
       "\n",
       "    .dataframe thead th {\n",
       "        text-align: right;\n",
       "    }\n",
       "</style>\n",
       "<table border=\"1\" class=\"dataframe\">\n",
       "  <thead>\n",
       "    <tr style=\"text-align: right;\">\n",
       "      <th></th>\n",
       "      <th>GarageCond</th>\n",
       "      <th>GarageYrBlt</th>\n",
       "      <th>GarageFinish</th>\n",
       "      <th>GarageQual</th>\n",
       "    </tr>\n",
       "  </thead>\n",
       "  <tbody>\n",
       "    <tr>\n",
       "      <th>0</th>\n",
       "      <td>TA</td>\n",
       "      <td>2003.0</td>\n",
       "      <td>RFn</td>\n",
       "      <td>TA</td>\n",
       "    </tr>\n",
       "    <tr>\n",
       "      <th>1</th>\n",
       "      <td>TA</td>\n",
       "      <td>1976.0</td>\n",
       "      <td>RFn</td>\n",
       "      <td>TA</td>\n",
       "    </tr>\n",
       "    <tr>\n",
       "      <th>2</th>\n",
       "      <td>TA</td>\n",
       "      <td>2001.0</td>\n",
       "      <td>RFn</td>\n",
       "      <td>TA</td>\n",
       "    </tr>\n",
       "    <tr>\n",
       "      <th>3</th>\n",
       "      <td>TA</td>\n",
       "      <td>1998.0</td>\n",
       "      <td>Unf</td>\n",
       "      <td>TA</td>\n",
       "    </tr>\n",
       "    <tr>\n",
       "      <th>4</th>\n",
       "      <td>TA</td>\n",
       "      <td>2000.0</td>\n",
       "      <td>RFn</td>\n",
       "      <td>TA</td>\n",
       "    </tr>\n",
       "    <tr>\n",
       "      <th>...</th>\n",
       "      <td>...</td>\n",
       "      <td>...</td>\n",
       "      <td>...</td>\n",
       "      <td>...</td>\n",
       "    </tr>\n",
       "    <tr>\n",
       "      <th>2914</th>\n",
       "      <td>NaN</td>\n",
       "      <td>NaN</td>\n",
       "      <td>NaN</td>\n",
       "      <td>NaN</td>\n",
       "    </tr>\n",
       "    <tr>\n",
       "      <th>2915</th>\n",
       "      <td>TA</td>\n",
       "      <td>1970.0</td>\n",
       "      <td>Unf</td>\n",
       "      <td>TA</td>\n",
       "    </tr>\n",
       "    <tr>\n",
       "      <th>2916</th>\n",
       "      <td>TA</td>\n",
       "      <td>1960.0</td>\n",
       "      <td>Unf</td>\n",
       "      <td>TA</td>\n",
       "    </tr>\n",
       "    <tr>\n",
       "      <th>2917</th>\n",
       "      <td>NaN</td>\n",
       "      <td>NaN</td>\n",
       "      <td>NaN</td>\n",
       "      <td>NaN</td>\n",
       "    </tr>\n",
       "    <tr>\n",
       "      <th>2918</th>\n",
       "      <td>TA</td>\n",
       "      <td>1993.0</td>\n",
       "      <td>Fin</td>\n",
       "      <td>TA</td>\n",
       "    </tr>\n",
       "  </tbody>\n",
       "</table>\n",
       "<p>2919 rows × 4 columns</p>\n",
       "</div>"
      ],
      "text/plain": [
       "     GarageCond  GarageYrBlt GarageFinish GarageQual\n",
       "0            TA       2003.0          RFn         TA\n",
       "1            TA       1976.0          RFn         TA\n",
       "2            TA       2001.0          RFn         TA\n",
       "3            TA       1998.0          Unf         TA\n",
       "4            TA       2000.0          RFn         TA\n",
       "...         ...          ...          ...        ...\n",
       "2914        NaN          NaN          NaN        NaN\n",
       "2915         TA       1970.0          Unf         TA\n",
       "2916         TA       1960.0          Unf         TA\n",
       "2917        NaN          NaN          NaN        NaN\n",
       "2918         TA       1993.0          Fin         TA\n",
       "\n",
       "[2919 rows x 4 columns]"
      ]
     },
     "execution_count": 24,
     "metadata": {},
     "output_type": "execute_result"
    }
   ],
   "source": [
    "df[['GarageCond', 'GarageYrBlt', 'GarageFinish', 'GarageQual']]"
   ]
  },
  {
   "cell_type": "code",
   "execution_count": 25,
   "id": "c81734c4",
   "metadata": {
    "ExecuteTime": {
     "end_time": "2024-03-07T13:58:00.216978Z",
     "start_time": "2024-03-07T13:58:00.189810Z"
    }
   },
   "outputs": [
    {
     "data": {
      "text/plain": [
       "2005.0    142\n",
       "2006.0    115\n",
       "2007.0    115\n",
       "2004.0     99\n",
       "2003.0     92\n",
       "         ... \n",
       "1908.0      1\n",
       "1896.0      1\n",
       "1933.0      1\n",
       "1906.0      1\n",
       "1919.0      1\n",
       "Name: GarageYrBlt, Length: 103, dtype: int64"
      ]
     },
     "execution_count": 25,
     "metadata": {},
     "output_type": "execute_result"
    }
   ],
   "source": [
    "df['GarageYrBlt'].value_counts()"
   ]
  },
  {
   "cell_type": "code",
   "execution_count": 26,
   "id": "8ea860cd",
   "metadata": {
    "ExecuteTime": {
     "end_time": "2024-03-07T13:58:00.248259Z",
     "start_time": "2024-03-07T13:58:00.223126Z"
    }
   },
   "outputs": [
    {
     "data": {
      "text/plain": [
       "Attchd     1723\n",
       "Detchd      779\n",
       "BuiltIn     186\n",
       "Basment      36\n",
       "2Types       23\n",
       "CarPort      15\n",
       "Name: GarageType, dtype: int64"
      ]
     },
     "execution_count": 26,
     "metadata": {},
     "output_type": "execute_result"
    }
   ],
   "source": [
    "df['GarageType'].value_counts()"
   ]
  },
  {
   "cell_type": "code",
   "execution_count": 27,
   "id": "f66be176",
   "metadata": {
    "ExecuteTime": {
     "end_time": "2024-03-07T13:58:00.263401Z",
     "start_time": "2024-03-07T13:58:00.253845Z"
    }
   },
   "outputs": [],
   "source": [
    "df['GarageYrBlt'] = df['GarageYrBlt'].fillna(0)"
   ]
  },
  {
   "cell_type": "code",
   "execution_count": 28,
   "id": "e9e10cc3",
   "metadata": {
    "ExecuteTime": {
     "end_time": "2024-03-07T13:58:00.310060Z",
     "start_time": "2024-03-07T13:58:00.269635Z"
    }
   },
   "outputs": [],
   "source": [
    "df[['GarageCond', 'GarageFinish', 'GarageQual', 'GarageType']] = \\\n",
    "df[['GarageCond', 'GarageFinish', 'GarageQual', 'GarageType']].fillna('No_garage')"
   ]
  },
  {
   "cell_type": "code",
   "execution_count": 29,
   "id": "e9b5d75a",
   "metadata": {
    "ExecuteTime": {
     "end_time": "2024-03-07T13:58:00.340654Z",
     "start_time": "2024-03-07T13:58:00.316078Z"
    }
   },
   "outputs": [
    {
     "data": {
      "text/plain": [
       "TA           2654\n",
       "No_garage     159\n",
       "Fa             74\n",
       "Gd             15\n",
       "Po             14\n",
       "Ex              3\n",
       "Name: GarageCond, dtype: int64"
      ]
     },
     "execution_count": 29,
     "metadata": {},
     "output_type": "execute_result"
    }
   ],
   "source": [
    "df['GarageCond'].value_counts()"
   ]
  },
  {
   "cell_type": "code",
   "execution_count": 30,
   "id": "2d31f781",
   "metadata": {
    "ExecuteTime": {
     "end_time": "2024-03-07T13:58:00.372850Z",
     "start_time": "2024-03-07T13:58:00.346148Z"
    }
   },
   "outputs": [
    {
     "data": {
      "text/plain": [
       "Unf    851\n",
       "GLQ    849\n",
       "ALQ    429\n",
       "Rec    288\n",
       "BLQ    269\n",
       "LwQ    154\n",
       "Name: BsmtFinType1, dtype: int64"
      ]
     },
     "execution_count": 30,
     "metadata": {},
     "output_type": "execute_result"
    }
   ],
   "source": [
    "df['BsmtFinType1'].value_counts()"
   ]
  },
  {
   "cell_type": "code",
   "execution_count": 31,
   "id": "0029d3c2",
   "metadata": {
    "ExecuteTime": {
     "end_time": "2024-03-07T13:58:00.435161Z",
     "start_time": "2024-03-07T13:58:00.376853Z"
    }
   },
   "outputs": [],
   "source": [
    "df[['BsmtExposure', 'BsmtCond', 'BsmtQual', 'BsmtFinType2', 'BsmtFinType1']] = \\\n",
    "df[['BsmtExposure', 'BsmtCond', 'BsmtQual', 'BsmtFinType2', 'BsmtFinType1']].fillna('No_basement')"
   ]
  },
  {
   "cell_type": "code",
   "execution_count": 33,
   "id": "9bd61ec5",
   "metadata": {
    "ExecuteTime": {
     "end_time": "2024-03-07T13:58:14.526438Z",
     "start_time": "2024-03-07T13:58:14.507372Z"
    }
   },
   "outputs": [
    {
     "data": {
      "text/plain": [
       "None       1742\n",
       "BrkFace     879\n",
       "Stone       249\n",
       "BrkCmn       25\n",
       "Name: MasVnrType, dtype: int64"
      ]
     },
     "execution_count": 33,
     "metadata": {},
     "output_type": "execute_result"
    }
   ],
   "source": [
    "df['MasVnrType'].value_counts()"
   ]
  },
  {
   "cell_type": "code",
   "execution_count": 34,
   "id": "730afb2e",
   "metadata": {
    "ExecuteTime": {
     "end_time": "2024-03-07T13:58:14.839596Z",
     "start_time": "2024-03-07T13:58:14.820598Z"
    }
   },
   "outputs": [
    {
     "data": {
      "text/plain": [
       "0.0      1738\n",
       "120.0      15\n",
       "176.0      13\n",
       "200.0      13\n",
       "216.0      12\n",
       "         ... \n",
       "137.0       1\n",
       "274.0       1\n",
       "415.0       1\n",
       "760.0       1\n",
       "382.0       1\n",
       "Name: MasVnrArea, Length: 444, dtype: int64"
      ]
     },
     "execution_count": 34,
     "metadata": {},
     "output_type": "execute_result"
    }
   ],
   "source": [
    "df['MasVnrArea'].value_counts()"
   ]
  },
  {
   "cell_type": "code",
   "execution_count": 35,
   "id": "d57da3e6",
   "metadata": {
    "ExecuteTime": {
     "end_time": "2024-03-07T13:58:15.180445Z",
     "start_time": "2024-03-07T13:58:15.163587Z"
    }
   },
   "outputs": [
    {
     "data": {
      "text/plain": [
       "{2610}"
      ]
     },
     "execution_count": 35,
     "metadata": {},
     "output_type": "execute_result"
    }
   ],
   "source": [
    "set(df[df['MasVnrType'].isnull()==True].index)-set(df[df['MasVnrArea'].isnull()==True].index)"
   ]
  },
  {
   "cell_type": "code",
   "execution_count": 36,
   "id": "ddb371b5",
   "metadata": {
    "ExecuteTime": {
     "end_time": "2024-03-07T13:58:15.412503Z",
     "start_time": "2024-03-07T13:58:15.347775Z"
    }
   },
   "outputs": [
    {
     "data": {
      "text/html": [
       "<div>\n",
       "<style scoped>\n",
       "    .dataframe tbody tr th:only-of-type {\n",
       "        vertical-align: middle;\n",
       "    }\n",
       "\n",
       "    .dataframe tbody tr th {\n",
       "        vertical-align: top;\n",
       "    }\n",
       "\n",
       "    .dataframe thead th {\n",
       "        text-align: right;\n",
       "    }\n",
       "</style>\n",
       "<table border=\"1\" class=\"dataframe\">\n",
       "  <thead>\n",
       "    <tr style=\"text-align: right;\">\n",
       "      <th></th>\n",
       "      <th>Id</th>\n",
       "      <th>MSSubClass</th>\n",
       "      <th>MSZoning</th>\n",
       "      <th>LotFrontage</th>\n",
       "      <th>LotArea</th>\n",
       "      <th>Street</th>\n",
       "      <th>Alley</th>\n",
       "      <th>LotShape</th>\n",
       "      <th>LandContour</th>\n",
       "      <th>Utilities</th>\n",
       "      <th>...</th>\n",
       "      <th>PoolArea</th>\n",
       "      <th>PoolQC</th>\n",
       "      <th>Fence</th>\n",
       "      <th>MiscFeature</th>\n",
       "      <th>MiscVal</th>\n",
       "      <th>MoSold</th>\n",
       "      <th>YrSold</th>\n",
       "      <th>SaleType</th>\n",
       "      <th>SaleCondition</th>\n",
       "      <th>SalePrice</th>\n",
       "    </tr>\n",
       "  </thead>\n",
       "  <tbody>\n",
       "    <tr>\n",
       "      <th>234</th>\n",
       "      <td>235</td>\n",
       "      <td>60</td>\n",
       "      <td>RL</td>\n",
       "      <td>0.0</td>\n",
       "      <td>7851</td>\n",
       "      <td>Pave</td>\n",
       "      <td>No_access</td>\n",
       "      <td>Reg</td>\n",
       "      <td>Lvl</td>\n",
       "      <td>AllPub</td>\n",
       "      <td>...</td>\n",
       "      <td>0</td>\n",
       "      <td>no_pool</td>\n",
       "      <td>No_fence</td>\n",
       "      <td>No_item</td>\n",
       "      <td>0</td>\n",
       "      <td>5</td>\n",
       "      <td>2010</td>\n",
       "      <td>WD</td>\n",
       "      <td>Normal</td>\n",
       "      <td>216500.0</td>\n",
       "    </tr>\n",
       "    <tr>\n",
       "      <th>529</th>\n",
       "      <td>530</td>\n",
       "      <td>20</td>\n",
       "      <td>RL</td>\n",
       "      <td>0.0</td>\n",
       "      <td>32668</td>\n",
       "      <td>Pave</td>\n",
       "      <td>No_access</td>\n",
       "      <td>IR1</td>\n",
       "      <td>Lvl</td>\n",
       "      <td>AllPub</td>\n",
       "      <td>...</td>\n",
       "      <td>0</td>\n",
       "      <td>no_pool</td>\n",
       "      <td>No_fence</td>\n",
       "      <td>No_item</td>\n",
       "      <td>0</td>\n",
       "      <td>3</td>\n",
       "      <td>2007</td>\n",
       "      <td>WD</td>\n",
       "      <td>Alloca</td>\n",
       "      <td>200624.0</td>\n",
       "    </tr>\n",
       "    <tr>\n",
       "      <th>650</th>\n",
       "      <td>651</td>\n",
       "      <td>60</td>\n",
       "      <td>FV</td>\n",
       "      <td>65.0</td>\n",
       "      <td>8125</td>\n",
       "      <td>Pave</td>\n",
       "      <td>No_access</td>\n",
       "      <td>Reg</td>\n",
       "      <td>Lvl</td>\n",
       "      <td>AllPub</td>\n",
       "      <td>...</td>\n",
       "      <td>0</td>\n",
       "      <td>no_pool</td>\n",
       "      <td>No_fence</td>\n",
       "      <td>No_item</td>\n",
       "      <td>0</td>\n",
       "      <td>5</td>\n",
       "      <td>2008</td>\n",
       "      <td>WD</td>\n",
       "      <td>Normal</td>\n",
       "      <td>205950.0</td>\n",
       "    </tr>\n",
       "    <tr>\n",
       "      <th>936</th>\n",
       "      <td>937</td>\n",
       "      <td>20</td>\n",
       "      <td>RL</td>\n",
       "      <td>67.0</td>\n",
       "      <td>10083</td>\n",
       "      <td>Pave</td>\n",
       "      <td>No_access</td>\n",
       "      <td>Reg</td>\n",
       "      <td>Lvl</td>\n",
       "      <td>AllPub</td>\n",
       "      <td>...</td>\n",
       "      <td>0</td>\n",
       "      <td>no_pool</td>\n",
       "      <td>No_fence</td>\n",
       "      <td>No_item</td>\n",
       "      <td>0</td>\n",
       "      <td>8</td>\n",
       "      <td>2009</td>\n",
       "      <td>WD</td>\n",
       "      <td>Normal</td>\n",
       "      <td>184900.0</td>\n",
       "    </tr>\n",
       "    <tr>\n",
       "      <th>973</th>\n",
       "      <td>974</td>\n",
       "      <td>20</td>\n",
       "      <td>FV</td>\n",
       "      <td>95.0</td>\n",
       "      <td>11639</td>\n",
       "      <td>Pave</td>\n",
       "      <td>No_access</td>\n",
       "      <td>Reg</td>\n",
       "      <td>Lvl</td>\n",
       "      <td>AllPub</td>\n",
       "      <td>...</td>\n",
       "      <td>0</td>\n",
       "      <td>no_pool</td>\n",
       "      <td>No_fence</td>\n",
       "      <td>No_item</td>\n",
       "      <td>0</td>\n",
       "      <td>12</td>\n",
       "      <td>2008</td>\n",
       "      <td>New</td>\n",
       "      <td>Partial</td>\n",
       "      <td>182000.0</td>\n",
       "    </tr>\n",
       "    <tr>\n",
       "      <th>977</th>\n",
       "      <td>978</td>\n",
       "      <td>120</td>\n",
       "      <td>FV</td>\n",
       "      <td>35.0</td>\n",
       "      <td>4274</td>\n",
       "      <td>Pave</td>\n",
       "      <td>Pave</td>\n",
       "      <td>IR1</td>\n",
       "      <td>Lvl</td>\n",
       "      <td>AllPub</td>\n",
       "      <td>...</td>\n",
       "      <td>0</td>\n",
       "      <td>no_pool</td>\n",
       "      <td>No_fence</td>\n",
       "      <td>No_item</td>\n",
       "      <td>0</td>\n",
       "      <td>11</td>\n",
       "      <td>2007</td>\n",
       "      <td>New</td>\n",
       "      <td>Partial</td>\n",
       "      <td>199900.0</td>\n",
       "    </tr>\n",
       "    <tr>\n",
       "      <th>1243</th>\n",
       "      <td>1244</td>\n",
       "      <td>20</td>\n",
       "      <td>RL</td>\n",
       "      <td>107.0</td>\n",
       "      <td>13891</td>\n",
       "      <td>Pave</td>\n",
       "      <td>No_access</td>\n",
       "      <td>Reg</td>\n",
       "      <td>Lvl</td>\n",
       "      <td>AllPub</td>\n",
       "      <td>...</td>\n",
       "      <td>0</td>\n",
       "      <td>no_pool</td>\n",
       "      <td>No_fence</td>\n",
       "      <td>No_item</td>\n",
       "      <td>0</td>\n",
       "      <td>9</td>\n",
       "      <td>2006</td>\n",
       "      <td>New</td>\n",
       "      <td>Partial</td>\n",
       "      <td>465000.0</td>\n",
       "    </tr>\n",
       "    <tr>\n",
       "      <th>1278</th>\n",
       "      <td>1279</td>\n",
       "      <td>60</td>\n",
       "      <td>RL</td>\n",
       "      <td>75.0</td>\n",
       "      <td>9473</td>\n",
       "      <td>Pave</td>\n",
       "      <td>No_access</td>\n",
       "      <td>Reg</td>\n",
       "      <td>Lvl</td>\n",
       "      <td>AllPub</td>\n",
       "      <td>...</td>\n",
       "      <td>0</td>\n",
       "      <td>no_pool</td>\n",
       "      <td>No_fence</td>\n",
       "      <td>No_item</td>\n",
       "      <td>0</td>\n",
       "      <td>3</td>\n",
       "      <td>2008</td>\n",
       "      <td>WD</td>\n",
       "      <td>Normal</td>\n",
       "      <td>237000.0</td>\n",
       "    </tr>\n",
       "    <tr>\n",
       "      <th>1691</th>\n",
       "      <td>1692</td>\n",
       "      <td>60</td>\n",
       "      <td>RL</td>\n",
       "      <td>0.0</td>\n",
       "      <td>12891</td>\n",
       "      <td>Pave</td>\n",
       "      <td>No_access</td>\n",
       "      <td>IR1</td>\n",
       "      <td>Lvl</td>\n",
       "      <td>AllPub</td>\n",
       "      <td>...</td>\n",
       "      <td>0</td>\n",
       "      <td>no_pool</td>\n",
       "      <td>No_fence</td>\n",
       "      <td>No_item</td>\n",
       "      <td>0</td>\n",
       "      <td>7</td>\n",
       "      <td>2009</td>\n",
       "      <td>WD</td>\n",
       "      <td>Normal</td>\n",
       "      <td>NaN</td>\n",
       "    </tr>\n",
       "    <tr>\n",
       "      <th>1706</th>\n",
       "      <td>1707</td>\n",
       "      <td>20</td>\n",
       "      <td>FV</td>\n",
       "      <td>90.0</td>\n",
       "      <td>7993</td>\n",
       "      <td>Pave</td>\n",
       "      <td>No_access</td>\n",
       "      <td>IR1</td>\n",
       "      <td>Lvl</td>\n",
       "      <td>AllPub</td>\n",
       "      <td>...</td>\n",
       "      <td>0</td>\n",
       "      <td>no_pool</td>\n",
       "      <td>No_fence</td>\n",
       "      <td>No_item</td>\n",
       "      <td>0</td>\n",
       "      <td>10</td>\n",
       "      <td>2009</td>\n",
       "      <td>New</td>\n",
       "      <td>Partial</td>\n",
       "      <td>NaN</td>\n",
       "    </tr>\n",
       "    <tr>\n",
       "      <th>1882</th>\n",
       "      <td>1883</td>\n",
       "      <td>60</td>\n",
       "      <td>RL</td>\n",
       "      <td>70.0</td>\n",
       "      <td>8749</td>\n",
       "      <td>Pave</td>\n",
       "      <td>No_access</td>\n",
       "      <td>Reg</td>\n",
       "      <td>Lvl</td>\n",
       "      <td>AllPub</td>\n",
       "      <td>...</td>\n",
       "      <td>0</td>\n",
       "      <td>no_pool</td>\n",
       "      <td>No_fence</td>\n",
       "      <td>No_item</td>\n",
       "      <td>0</td>\n",
       "      <td>11</td>\n",
       "      <td>2009</td>\n",
       "      <td>WD</td>\n",
       "      <td>Normal</td>\n",
       "      <td>NaN</td>\n",
       "    </tr>\n",
       "    <tr>\n",
       "      <th>1992</th>\n",
       "      <td>1993</td>\n",
       "      <td>60</td>\n",
       "      <td>RL</td>\n",
       "      <td>0.0</td>\n",
       "      <td>7750</td>\n",
       "      <td>Pave</td>\n",
       "      <td>No_access</td>\n",
       "      <td>Reg</td>\n",
       "      <td>Lvl</td>\n",
       "      <td>AllPub</td>\n",
       "      <td>...</td>\n",
       "      <td>0</td>\n",
       "      <td>no_pool</td>\n",
       "      <td>No_fence</td>\n",
       "      <td>No_item</td>\n",
       "      <td>0</td>\n",
       "      <td>4</td>\n",
       "      <td>2008</td>\n",
       "      <td>WD</td>\n",
       "      <td>Normal</td>\n",
       "      <td>NaN</td>\n",
       "    </tr>\n",
       "    <tr>\n",
       "      <th>2004</th>\n",
       "      <td>2005</td>\n",
       "      <td>20</td>\n",
       "      <td>RL</td>\n",
       "      <td>87.0</td>\n",
       "      <td>10037</td>\n",
       "      <td>Pave</td>\n",
       "      <td>No_access</td>\n",
       "      <td>Reg</td>\n",
       "      <td>Lvl</td>\n",
       "      <td>AllPub</td>\n",
       "      <td>...</td>\n",
       "      <td>0</td>\n",
       "      <td>no_pool</td>\n",
       "      <td>No_fence</td>\n",
       "      <td>No_item</td>\n",
       "      <td>0</td>\n",
       "      <td>8</td>\n",
       "      <td>2008</td>\n",
       "      <td>WD</td>\n",
       "      <td>Normal</td>\n",
       "      <td>NaN</td>\n",
       "    </tr>\n",
       "    <tr>\n",
       "      <th>2041</th>\n",
       "      <td>2042</td>\n",
       "      <td>60</td>\n",
       "      <td>FV</td>\n",
       "      <td>0.0</td>\n",
       "      <td>7500</td>\n",
       "      <td>Pave</td>\n",
       "      <td>No_access</td>\n",
       "      <td>Reg</td>\n",
       "      <td>Lvl</td>\n",
       "      <td>AllPub</td>\n",
       "      <td>...</td>\n",
       "      <td>0</td>\n",
       "      <td>no_pool</td>\n",
       "      <td>No_fence</td>\n",
       "      <td>No_item</td>\n",
       "      <td>0</td>\n",
       "      <td>4</td>\n",
       "      <td>2008</td>\n",
       "      <td>WD</td>\n",
       "      <td>Normal</td>\n",
       "      <td>NaN</td>\n",
       "    </tr>\n",
       "    <tr>\n",
       "      <th>2311</th>\n",
       "      <td>2312</td>\n",
       "      <td>60</td>\n",
       "      <td>RL</td>\n",
       "      <td>59.0</td>\n",
       "      <td>15810</td>\n",
       "      <td>Pave</td>\n",
       "      <td>No_access</td>\n",
       "      <td>IR1</td>\n",
       "      <td>Lvl</td>\n",
       "      <td>AllPub</td>\n",
       "      <td>...</td>\n",
       "      <td>0</td>\n",
       "      <td>no_pool</td>\n",
       "      <td>No_fence</td>\n",
       "      <td>No_item</td>\n",
       "      <td>0</td>\n",
       "      <td>5</td>\n",
       "      <td>2007</td>\n",
       "      <td>New</td>\n",
       "      <td>Partial</td>\n",
       "      <td>NaN</td>\n",
       "    </tr>\n",
       "    <tr>\n",
       "      <th>2325</th>\n",
       "      <td>2326</td>\n",
       "      <td>80</td>\n",
       "      <td>RL</td>\n",
       "      <td>0.0</td>\n",
       "      <td>11950</td>\n",
       "      <td>Pave</td>\n",
       "      <td>No_access</td>\n",
       "      <td>IR1</td>\n",
       "      <td>Lvl</td>\n",
       "      <td>AllPub</td>\n",
       "      <td>...</td>\n",
       "      <td>0</td>\n",
       "      <td>no_pool</td>\n",
       "      <td>No_fence</td>\n",
       "      <td>No_item</td>\n",
       "      <td>0</td>\n",
       "      <td>10</td>\n",
       "      <td>2007</td>\n",
       "      <td>WD</td>\n",
       "      <td>Normal</td>\n",
       "      <td>NaN</td>\n",
       "    </tr>\n",
       "    <tr>\n",
       "      <th>2340</th>\n",
       "      <td>2341</td>\n",
       "      <td>20</td>\n",
       "      <td>RL</td>\n",
       "      <td>85.0</td>\n",
       "      <td>9965</td>\n",
       "      <td>Pave</td>\n",
       "      <td>No_access</td>\n",
       "      <td>Reg</td>\n",
       "      <td>Lvl</td>\n",
       "      <td>AllPub</td>\n",
       "      <td>...</td>\n",
       "      <td>0</td>\n",
       "      <td>no_pool</td>\n",
       "      <td>No_fence</td>\n",
       "      <td>No_item</td>\n",
       "      <td>0</td>\n",
       "      <td>9</td>\n",
       "      <td>2007</td>\n",
       "      <td>New</td>\n",
       "      <td>Partial</td>\n",
       "      <td>NaN</td>\n",
       "    </tr>\n",
       "    <tr>\n",
       "      <th>2349</th>\n",
       "      <td>2350</td>\n",
       "      <td>60</td>\n",
       "      <td>FV</td>\n",
       "      <td>112.0</td>\n",
       "      <td>12217</td>\n",
       "      <td>Pave</td>\n",
       "      <td>No_access</td>\n",
       "      <td>IR1</td>\n",
       "      <td>Lvl</td>\n",
       "      <td>AllPub</td>\n",
       "      <td>...</td>\n",
       "      <td>0</td>\n",
       "      <td>no_pool</td>\n",
       "      <td>No_fence</td>\n",
       "      <td>No_item</td>\n",
       "      <td>0</td>\n",
       "      <td>12</td>\n",
       "      <td>2007</td>\n",
       "      <td>New</td>\n",
       "      <td>Partial</td>\n",
       "      <td>NaN</td>\n",
       "    </tr>\n",
       "    <tr>\n",
       "      <th>2368</th>\n",
       "      <td>2369</td>\n",
       "      <td>120</td>\n",
       "      <td>FV</td>\n",
       "      <td>30.0</td>\n",
       "      <td>5330</td>\n",
       "      <td>Pave</td>\n",
       "      <td>Pave</td>\n",
       "      <td>IR2</td>\n",
       "      <td>Lvl</td>\n",
       "      <td>AllPub</td>\n",
       "      <td>...</td>\n",
       "      <td>0</td>\n",
       "      <td>no_pool</td>\n",
       "      <td>No_fence</td>\n",
       "      <td>No_item</td>\n",
       "      <td>0</td>\n",
       "      <td>7</td>\n",
       "      <td>2007</td>\n",
       "      <td>New</td>\n",
       "      <td>Partial</td>\n",
       "      <td>NaN</td>\n",
       "    </tr>\n",
       "    <tr>\n",
       "      <th>2592</th>\n",
       "      <td>2593</td>\n",
       "      <td>20</td>\n",
       "      <td>RL</td>\n",
       "      <td>68.0</td>\n",
       "      <td>8298</td>\n",
       "      <td>Pave</td>\n",
       "      <td>No_access</td>\n",
       "      <td>IR1</td>\n",
       "      <td>HLS</td>\n",
       "      <td>AllPub</td>\n",
       "      <td>...</td>\n",
       "      <td>0</td>\n",
       "      <td>no_pool</td>\n",
       "      <td>No_fence</td>\n",
       "      <td>No_item</td>\n",
       "      <td>0</td>\n",
       "      <td>9</td>\n",
       "      <td>2007</td>\n",
       "      <td>New</td>\n",
       "      <td>Partial</td>\n",
       "      <td>NaN</td>\n",
       "    </tr>\n",
       "    <tr>\n",
       "      <th>2610</th>\n",
       "      <td>2611</td>\n",
       "      <td>20</td>\n",
       "      <td>RL</td>\n",
       "      <td>124.0</td>\n",
       "      <td>27697</td>\n",
       "      <td>Pave</td>\n",
       "      <td>No_access</td>\n",
       "      <td>Reg</td>\n",
       "      <td>Lvl</td>\n",
       "      <td>AllPub</td>\n",
       "      <td>...</td>\n",
       "      <td>0</td>\n",
       "      <td>no_pool</td>\n",
       "      <td>No_fence</td>\n",
       "      <td>No_item</td>\n",
       "      <td>0</td>\n",
       "      <td>11</td>\n",
       "      <td>2007</td>\n",
       "      <td>COD</td>\n",
       "      <td>Abnorml</td>\n",
       "      <td>NaN</td>\n",
       "    </tr>\n",
       "    <tr>\n",
       "      <th>2657</th>\n",
       "      <td>2658</td>\n",
       "      <td>60</td>\n",
       "      <td>RL</td>\n",
       "      <td>103.0</td>\n",
       "      <td>12867</td>\n",
       "      <td>Pave</td>\n",
       "      <td>No_access</td>\n",
       "      <td>IR1</td>\n",
       "      <td>Lvl</td>\n",
       "      <td>AllPub</td>\n",
       "      <td>...</td>\n",
       "      <td>0</td>\n",
       "      <td>no_pool</td>\n",
       "      <td>No_fence</td>\n",
       "      <td>No_item</td>\n",
       "      <td>0</td>\n",
       "      <td>7</td>\n",
       "      <td>2006</td>\n",
       "      <td>New</td>\n",
       "      <td>Partial</td>\n",
       "      <td>NaN</td>\n",
       "    </tr>\n",
       "    <tr>\n",
       "      <th>2686</th>\n",
       "      <td>2687</td>\n",
       "      <td>20</td>\n",
       "      <td>RL</td>\n",
       "      <td>49.0</td>\n",
       "      <td>15218</td>\n",
       "      <td>Pave</td>\n",
       "      <td>No_access</td>\n",
       "      <td>IR1</td>\n",
       "      <td>Lvl</td>\n",
       "      <td>AllPub</td>\n",
       "      <td>...</td>\n",
       "      <td>0</td>\n",
       "      <td>no_pool</td>\n",
       "      <td>No_fence</td>\n",
       "      <td>No_item</td>\n",
       "      <td>0</td>\n",
       "      <td>9</td>\n",
       "      <td>2006</td>\n",
       "      <td>New</td>\n",
       "      <td>Partial</td>\n",
       "      <td>NaN</td>\n",
       "    </tr>\n",
       "    <tr>\n",
       "      <th>2862</th>\n",
       "      <td>2863</td>\n",
       "      <td>20</td>\n",
       "      <td>RL</td>\n",
       "      <td>75.0</td>\n",
       "      <td>8050</td>\n",
       "      <td>Pave</td>\n",
       "      <td>No_access</td>\n",
       "      <td>Reg</td>\n",
       "      <td>Lvl</td>\n",
       "      <td>AllPub</td>\n",
       "      <td>...</td>\n",
       "      <td>0</td>\n",
       "      <td>no_pool</td>\n",
       "      <td>No_fence</td>\n",
       "      <td>No_item</td>\n",
       "      <td>0</td>\n",
       "      <td>4</td>\n",
       "      <td>2006</td>\n",
       "      <td>WD</td>\n",
       "      <td>Normal</td>\n",
       "      <td>NaN</td>\n",
       "    </tr>\n",
       "  </tbody>\n",
       "</table>\n",
       "<p>24 rows × 81 columns</p>\n",
       "</div>"
      ],
      "text/plain": [
       "        Id  MSSubClass MSZoning  LotFrontage  LotArea Street      Alley  \\\n",
       "234    235          60       RL          0.0     7851   Pave  No_access   \n",
       "529    530          20       RL          0.0    32668   Pave  No_access   \n",
       "650    651          60       FV         65.0     8125   Pave  No_access   \n",
       "936    937          20       RL         67.0    10083   Pave  No_access   \n",
       "973    974          20       FV         95.0    11639   Pave  No_access   \n",
       "977    978         120       FV         35.0     4274   Pave       Pave   \n",
       "1243  1244          20       RL        107.0    13891   Pave  No_access   \n",
       "1278  1279          60       RL         75.0     9473   Pave  No_access   \n",
       "1691  1692          60       RL          0.0    12891   Pave  No_access   \n",
       "1706  1707          20       FV         90.0     7993   Pave  No_access   \n",
       "1882  1883          60       RL         70.0     8749   Pave  No_access   \n",
       "1992  1993          60       RL          0.0     7750   Pave  No_access   \n",
       "2004  2005          20       RL         87.0    10037   Pave  No_access   \n",
       "2041  2042          60       FV          0.0     7500   Pave  No_access   \n",
       "2311  2312          60       RL         59.0    15810   Pave  No_access   \n",
       "2325  2326          80       RL          0.0    11950   Pave  No_access   \n",
       "2340  2341          20       RL         85.0     9965   Pave  No_access   \n",
       "2349  2350          60       FV        112.0    12217   Pave  No_access   \n",
       "2368  2369         120       FV         30.0     5330   Pave       Pave   \n",
       "2592  2593          20       RL         68.0     8298   Pave  No_access   \n",
       "2610  2611          20       RL        124.0    27697   Pave  No_access   \n",
       "2657  2658          60       RL        103.0    12867   Pave  No_access   \n",
       "2686  2687          20       RL         49.0    15218   Pave  No_access   \n",
       "2862  2863          20       RL         75.0     8050   Pave  No_access   \n",
       "\n",
       "     LotShape LandContour Utilities  ... PoolArea   PoolQC     Fence  \\\n",
       "234       Reg         Lvl    AllPub  ...        0  no_pool  No_fence   \n",
       "529       IR1         Lvl    AllPub  ...        0  no_pool  No_fence   \n",
       "650       Reg         Lvl    AllPub  ...        0  no_pool  No_fence   \n",
       "936       Reg         Lvl    AllPub  ...        0  no_pool  No_fence   \n",
       "973       Reg         Lvl    AllPub  ...        0  no_pool  No_fence   \n",
       "977       IR1         Lvl    AllPub  ...        0  no_pool  No_fence   \n",
       "1243      Reg         Lvl    AllPub  ...        0  no_pool  No_fence   \n",
       "1278      Reg         Lvl    AllPub  ...        0  no_pool  No_fence   \n",
       "1691      IR1         Lvl    AllPub  ...        0  no_pool  No_fence   \n",
       "1706      IR1         Lvl    AllPub  ...        0  no_pool  No_fence   \n",
       "1882      Reg         Lvl    AllPub  ...        0  no_pool  No_fence   \n",
       "1992      Reg         Lvl    AllPub  ...        0  no_pool  No_fence   \n",
       "2004      Reg         Lvl    AllPub  ...        0  no_pool  No_fence   \n",
       "2041      Reg         Lvl    AllPub  ...        0  no_pool  No_fence   \n",
       "2311      IR1         Lvl    AllPub  ...        0  no_pool  No_fence   \n",
       "2325      IR1         Lvl    AllPub  ...        0  no_pool  No_fence   \n",
       "2340      Reg         Lvl    AllPub  ...        0  no_pool  No_fence   \n",
       "2349      IR1         Lvl    AllPub  ...        0  no_pool  No_fence   \n",
       "2368      IR2         Lvl    AllPub  ...        0  no_pool  No_fence   \n",
       "2592      IR1         HLS    AllPub  ...        0  no_pool  No_fence   \n",
       "2610      Reg         Lvl    AllPub  ...        0  no_pool  No_fence   \n",
       "2657      IR1         Lvl    AllPub  ...        0  no_pool  No_fence   \n",
       "2686      IR1         Lvl    AllPub  ...        0  no_pool  No_fence   \n",
       "2862      Reg         Lvl    AllPub  ...        0  no_pool  No_fence   \n",
       "\n",
       "     MiscFeature MiscVal MoSold YrSold  SaleType  SaleCondition  SalePrice  \n",
       "234      No_item       0      5   2010        WD         Normal   216500.0  \n",
       "529      No_item       0      3   2007        WD         Alloca   200624.0  \n",
       "650      No_item       0      5   2008        WD         Normal   205950.0  \n",
       "936      No_item       0      8   2009        WD         Normal   184900.0  \n",
       "973      No_item       0     12   2008       New        Partial   182000.0  \n",
       "977      No_item       0     11   2007       New        Partial   199900.0  \n",
       "1243     No_item       0      9   2006       New        Partial   465000.0  \n",
       "1278     No_item       0      3   2008        WD         Normal   237000.0  \n",
       "1691     No_item       0      7   2009        WD         Normal        NaN  \n",
       "1706     No_item       0     10   2009       New        Partial        NaN  \n",
       "1882     No_item       0     11   2009        WD         Normal        NaN  \n",
       "1992     No_item       0      4   2008        WD         Normal        NaN  \n",
       "2004     No_item       0      8   2008        WD         Normal        NaN  \n",
       "2041     No_item       0      4   2008        WD         Normal        NaN  \n",
       "2311     No_item       0      5   2007       New        Partial        NaN  \n",
       "2325     No_item       0     10   2007        WD         Normal        NaN  \n",
       "2340     No_item       0      9   2007       New        Partial        NaN  \n",
       "2349     No_item       0     12   2007       New        Partial        NaN  \n",
       "2368     No_item       0      7   2007       New        Partial        NaN  \n",
       "2592     No_item       0      9   2007       New        Partial        NaN  \n",
       "2610     No_item       0     11   2007       COD        Abnorml        NaN  \n",
       "2657     No_item       0      7   2006       New        Partial        NaN  \n",
       "2686     No_item       0      9   2006       New        Partial        NaN  \n",
       "2862     No_item       0      4   2006        WD         Normal        NaN  \n",
       "\n",
       "[24 rows x 81 columns]"
      ]
     },
     "execution_count": 36,
     "metadata": {},
     "output_type": "execute_result"
    }
   ],
   "source": [
    "df[df['MasVnrType'].isnull()==True]"
   ]
  },
  {
   "cell_type": "code",
   "execution_count": 37,
   "id": "2b4b5ed2",
   "metadata": {
    "ExecuteTime": {
     "end_time": "2024-03-07T13:58:15.537063Z",
     "start_time": "2024-03-07T13:58:15.517249Z"
    }
   },
   "outputs": [],
   "source": [
    "df['MasVnrType'] = df['MasVnrType'].fillna('None')"
   ]
  },
  {
   "cell_type": "code",
   "execution_count": 38,
   "id": "3f6c209a",
   "metadata": {
    "ExecuteTime": {
     "end_time": "2024-03-07T13:58:15.793206Z",
     "start_time": "2024-03-07T13:58:15.776160Z"
    }
   },
   "outputs": [],
   "source": [
    "df['MasVnrArea'] = df['MasVnrArea'].fillna(0)"
   ]
  },
  {
   "cell_type": "code",
   "execution_count": 39,
   "id": "d2a24e55",
   "metadata": {
    "ExecuteTime": {
     "end_time": "2024-03-07T13:58:15.963194Z",
     "start_time": "2024-03-07T13:58:15.936810Z"
    }
   },
   "outputs": [
    {
     "data": {
      "text/plain": [
       "RL         2265\n",
       "RM          460\n",
       "FV          139\n",
       "RH           26\n",
       "C (all)      25\n",
       "Name: MSZoning, dtype: int64"
      ]
     },
     "execution_count": 39,
     "metadata": {},
     "output_type": "execute_result"
    }
   ],
   "source": [
    "df['MSZoning'].value_counts()"
   ]
  },
  {
   "cell_type": "code",
   "execution_count": 40,
   "id": "7c477991",
   "metadata": {
    "ExecuteTime": {
     "end_time": "2024-03-07T13:58:16.119583Z",
     "start_time": "2024-03-07T13:58:16.094894Z"
    }
   },
   "outputs": [],
   "source": [
    "df['MSZoning'] = df['MSZoning'].fillna('None')"
   ]
  },
  {
   "cell_type": "code",
   "execution_count": 41,
   "id": "7b4f1b9f",
   "metadata": {
    "ExecuteTime": {
     "end_time": "2024-03-07T13:58:16.272532Z",
     "start_time": "2024-03-07T13:58:16.260863Z"
    }
   },
   "outputs": [
    {
     "data": {
      "text/plain": [
       "0.0    1705\n",
       "1.0    1172\n",
       "2.0      38\n",
       "3.0       2\n",
       "Name: BsmtFullBath, dtype: int64"
      ]
     },
     "execution_count": 41,
     "metadata": {},
     "output_type": "execute_result"
    }
   ],
   "source": [
    "df['BsmtFullBath'].value_counts()"
   ]
  },
  {
   "cell_type": "code",
   "execution_count": 42,
   "id": "5cc1b5b2",
   "metadata": {
    "ExecuteTime": {
     "end_time": "2024-03-07T13:58:16.429450Z",
     "start_time": "2024-03-07T13:58:16.417921Z"
    }
   },
   "outputs": [],
   "source": [
    "df['BsmtFullBath'] = df['BsmtFullBath'].fillna(0)"
   ]
  },
  {
   "cell_type": "code",
   "execution_count": 43,
   "id": "e69c0bad",
   "metadata": {
    "ExecuteTime": {
     "end_time": "2024-03-07T13:58:16.585421Z",
     "start_time": "2024-03-07T13:58:16.574187Z"
    }
   },
   "outputs": [
    {
     "data": {
      "text/plain": [
       "0.0    2742\n",
       "1.0     171\n",
       "2.0       4\n",
       "Name: BsmtHalfBath, dtype: int64"
      ]
     },
     "execution_count": 43,
     "metadata": {},
     "output_type": "execute_result"
    }
   ],
   "source": [
    "df['BsmtHalfBath'].value_counts()"
   ]
  },
  {
   "cell_type": "code",
   "execution_count": 44,
   "id": "a04b89ca",
   "metadata": {
    "ExecuteTime": {
     "end_time": "2024-03-07T13:58:16.755955Z",
     "start_time": "2024-03-07T13:58:16.733365Z"
    }
   },
   "outputs": [],
   "source": [
    "df['BsmtHalfBath'] = df['BsmtHalfBath'].fillna(0)"
   ]
  },
  {
   "cell_type": "code",
   "execution_count": 49,
   "id": "69fd4cca",
   "metadata": {
    "ExecuteTime": {
     "end_time": "2024-03-07T14:25:03.947980Z",
     "start_time": "2024-03-07T14:25:03.933430Z"
    }
   },
   "outputs": [
    {
     "data": {
      "text/plain": [
       "AllPub    2918\n",
       "NoSeWa       1\n",
       "Name: Utilities, dtype: int64"
      ]
     },
     "execution_count": 49,
     "metadata": {},
     "output_type": "execute_result"
    }
   ],
   "source": [
    "df['Utilities'].value_counts()"
   ]
  },
  {
   "cell_type": "code",
   "execution_count": 48,
   "id": "c29a843a",
   "metadata": {
    "ExecuteTime": {
     "end_time": "2024-03-07T14:25:00.387266Z",
     "start_time": "2024-03-07T14:25:00.362609Z"
    }
   },
   "outputs": [],
   "source": [
    "df['Utilities'] = df['Utilities'].fillna(df['Utilities'].mode()[0])"
   ]
  },
  {
   "cell_type": "code",
   "execution_count": 53,
   "id": "31568839",
   "metadata": {
    "ExecuteTime": {
     "end_time": "2024-03-07T14:27:04.688551Z",
     "start_time": "2024-03-07T14:27:04.673335Z"
    }
   },
   "outputs": [
    {
     "data": {
      "text/plain": [
       "Typ     2719\n",
       "Min2      70\n",
       "Min1      65\n",
       "Mod       35\n",
       "Maj1      19\n",
       "Maj2       9\n",
       "Sev        2\n",
       "Name: Functional, dtype: int64"
      ]
     },
     "execution_count": 53,
     "metadata": {},
     "output_type": "execute_result"
    }
   ],
   "source": [
    "df['Functional'].value_counts()"
   ]
  },
  {
   "cell_type": "code",
   "execution_count": 52,
   "id": "557a8ee6",
   "metadata": {
    "ExecuteTime": {
     "end_time": "2024-03-07T14:27:01.754719Z",
     "start_time": "2024-03-07T14:27:01.741572Z"
    }
   },
   "outputs": [],
   "source": [
    "df['Functional'] = df['Functional'].fillna(df['Functional'].mode()[0])"
   ]
  },
  {
   "cell_type": "code",
   "execution_count": 57,
   "id": "54336ea0",
   "metadata": {
    "ExecuteTime": {
     "end_time": "2024-03-07T14:27:58.446708Z",
     "start_time": "2024-03-07T14:27:58.418991Z"
    }
   },
   "outputs": [
    {
     "data": {
      "text/plain": [
       "0.0       242\n",
       "384.0      19\n",
       "728.0      14\n",
       "672.0      13\n",
       "600.0      12\n",
       "         ... \n",
       "257.0       1\n",
       "1217.0      1\n",
       "539.0       1\n",
       "39.0        1\n",
       "1503.0      1\n",
       "Name: BsmtUnfSF, Length: 1135, dtype: int64"
      ]
     },
     "execution_count": 57,
     "metadata": {},
     "output_type": "execute_result"
    }
   ],
   "source": [
    "df['BsmtUnfSF'].value_counts()"
   ]
  },
  {
   "cell_type": "code",
   "execution_count": 56,
   "id": "f94e41c1",
   "metadata": {
    "ExecuteTime": {
     "end_time": "2024-03-07T14:27:55.946783Z",
     "start_time": "2024-03-07T14:27:55.927425Z"
    }
   },
   "outputs": [],
   "source": [
    "df['BsmtUnfSF'] = df['BsmtUnfSF'].fillna(0)"
   ]
  },
  {
   "cell_type": "code",
   "execution_count": 59,
   "id": "c28128c8",
   "metadata": {
    "ExecuteTime": {
     "end_time": "2024-03-07T14:28:22.410621Z",
     "start_time": "2024-03-07T14:28:22.382686Z"
    }
   },
   "outputs": [
    {
     "data": {
      "text/plain": [
       "0.0       2571\n",
       "180.0        5\n",
       "294.0        5\n",
       "435.0        3\n",
       "483.0        3\n",
       "          ... \n",
       "600.0        1\n",
       "211.0        1\n",
       "1031.0       1\n",
       "438.0        1\n",
       "297.0        1\n",
       "Name: BsmtFinSF2, Length: 272, dtype: int64"
      ]
     },
     "execution_count": 59,
     "metadata": {},
     "output_type": "execute_result"
    }
   ],
   "source": [
    "df['BsmtFinSF2'].value_counts()"
   ]
  },
  {
   "cell_type": "code",
   "execution_count": 60,
   "id": "5feab419",
   "metadata": {
    "ExecuteTime": {
     "end_time": "2024-03-07T14:28:41.197420Z",
     "start_time": "2024-03-07T14:28:41.188256Z"
    }
   },
   "outputs": [],
   "source": [
    "df['BsmtFinSF2'] = df['BsmtFinSF2'].fillna(0)"
   ]
  },
  {
   "cell_type": "code",
   "execution_count": 64,
   "id": "3fb46835",
   "metadata": {
    "ExecuteTime": {
     "end_time": "2024-03-07T14:29:15.330108Z",
     "start_time": "2024-03-07T14:29:15.310463Z"
    }
   },
   "outputs": [
    {
     "data": {
      "text/plain": [
       "0.0       930\n",
       "24.0       27\n",
       "16.0       14\n",
       "300.0       9\n",
       "288.0       8\n",
       "         ... \n",
       "383.0       1\n",
       "1085.0      1\n",
       "900.0       1\n",
       "1022.0      1\n",
       "337.0       1\n",
       "Name: BsmtFinSF1, Length: 991, dtype: int64"
      ]
     },
     "execution_count": 64,
     "metadata": {},
     "output_type": "execute_result"
    }
   ],
   "source": [
    "df['BsmtFinSF1'].value_counts()"
   ]
  },
  {
   "cell_type": "code",
   "execution_count": 63,
   "id": "90a4b3ae",
   "metadata": {
    "ExecuteTime": {
     "end_time": "2024-03-07T14:29:11.948633Z",
     "start_time": "2024-03-07T14:29:11.931514Z"
    }
   },
   "outputs": [],
   "source": [
    "df['BsmtFinSF1'] = df['BsmtFinSF1'].fillna(0)"
   ]
  },
  {
   "cell_type": "code",
   "execution_count": 69,
   "id": "0d64fe2d",
   "metadata": {
    "ExecuteTime": {
     "end_time": "2024-03-07T14:44:44.606943Z",
     "start_time": "2024-03-07T14:44:44.595272Z"
    }
   },
   "outputs": [
    {
     "data": {
      "text/plain": [
       "VinylSd    1026\n",
       "MetalSd     450\n",
       "HdBoard     442\n",
       "Wd Sdng     411\n",
       "Plywood     221\n",
       "CemntBd     126\n",
       "BrkFace      87\n",
       "WdShing      56\n",
       "AsbShng      44\n",
       "Stucco       43\n",
       "BrkComm       6\n",
       "AsphShn       2\n",
       "Stone         2\n",
       "CBlock        2\n",
       "ImStucc       1\n",
       "Name: Exterior1st, dtype: int64"
      ]
     },
     "execution_count": 69,
     "metadata": {},
     "output_type": "execute_result"
    }
   ],
   "source": [
    "df['Exterior1st'].value_counts()"
   ]
  },
  {
   "cell_type": "code",
   "execution_count": 68,
   "id": "e0aa542d",
   "metadata": {
    "ExecuteTime": {
     "end_time": "2024-03-07T14:44:41.181830Z",
     "start_time": "2024-03-07T14:44:41.150658Z"
    }
   },
   "outputs": [],
   "source": [
    "df['Exterior1st'] = df['Exterior1st'].fillna(df['Exterior1st'].mode()[0])"
   ]
  },
  {
   "cell_type": "code",
   "execution_count": 71,
   "id": "0a0c1481",
   "metadata": {
    "ExecuteTime": {
     "end_time": "2024-03-07T14:45:32.508231Z",
     "start_time": "2024-03-07T14:45:32.479901Z"
    }
   },
   "outputs": [
    {
     "data": {
      "text/plain": [
       "0.0       157\n",
       "576.0      97\n",
       "440.0      96\n",
       "240.0      69\n",
       "484.0      68\n",
       "         ... \n",
       "872.0       1\n",
       "923.0       1\n",
       "192.0       1\n",
       "1025.0      1\n",
       "272.0       1\n",
       "Name: GarageArea, Length: 603, dtype: int64"
      ]
     },
     "execution_count": 71,
     "metadata": {},
     "output_type": "execute_result"
    }
   ],
   "source": [
    "df['GarageArea'].value_counts()"
   ]
  },
  {
   "cell_type": "code",
   "execution_count": 72,
   "id": "98b2e38c",
   "metadata": {
    "ExecuteTime": {
     "end_time": "2024-03-07T14:45:50.387797Z",
     "start_time": "2024-03-07T14:45:50.379202Z"
    }
   },
   "outputs": [],
   "source": [
    "df['GarageArea'] = df['GarageArea'].fillna(0)"
   ]
  },
  {
   "cell_type": "code",
   "execution_count": 76,
   "id": "36c6775c",
   "metadata": {
    "ExecuteTime": {
     "end_time": "2024-03-07T14:47:30.478748Z",
     "start_time": "2024-03-07T14:47:30.454591Z"
    }
   },
   "outputs": [
    {
     "data": {
      "text/plain": [
       "SBrkr    2672\n",
       "FuseA     188\n",
       "FuseF      50\n",
       "FuseP       8\n",
       "Mix         1\n",
       "Name: Electrical, dtype: int64"
      ]
     },
     "execution_count": 76,
     "metadata": {},
     "output_type": "execute_result"
    }
   ],
   "source": [
    "df['Electrical'].value_counts()"
   ]
  },
  {
   "cell_type": "code",
   "execution_count": 75,
   "id": "9b486660",
   "metadata": {
    "ExecuteTime": {
     "end_time": "2024-03-07T14:47:25.942324Z",
     "start_time": "2024-03-07T14:47:25.917378Z"
    }
   },
   "outputs": [],
   "source": [
    "df['Electrical'] = df['Electrical'].fillna(df['Electrical'].mode()[0])"
   ]
  },
  {
   "cell_type": "code",
   "execution_count": 80,
   "id": "7604a1c9",
   "metadata": {
    "ExecuteTime": {
     "end_time": "2024-03-07T14:48:23.305379Z",
     "start_time": "2024-03-07T14:48:23.286693Z"
    }
   },
   "outputs": [
    {
     "data": {
      "text/plain": [
       "VinylSd    1015\n",
       "MetalSd     447\n",
       "HdBoard     406\n",
       "Wd Sdng     391\n",
       "Plywood     270\n",
       "CmentBd     126\n",
       "Wd Shng      81\n",
       "BrkFace      47\n",
       "Stucco       47\n",
       "AsbShng      38\n",
       "Brk Cmn      22\n",
       "ImStucc      15\n",
       "Stone         6\n",
       "AsphShn       4\n",
       "CBlock        3\n",
       "Other         1\n",
       "Name: Exterior2nd, dtype: int64"
      ]
     },
     "execution_count": 80,
     "metadata": {},
     "output_type": "execute_result"
    }
   ],
   "source": [
    "df['Exterior2nd'].value_counts()"
   ]
  },
  {
   "cell_type": "code",
   "execution_count": 79,
   "id": "90466235",
   "metadata": {
    "ExecuteTime": {
     "end_time": "2024-03-07T14:48:18.911360Z",
     "start_time": "2024-03-07T14:48:18.902386Z"
    }
   },
   "outputs": [],
   "source": [
    "df['Exterior2nd'] = df['Exterior2nd'].fillna(df['Exterior2nd'].mode()[0])"
   ]
  },
  {
   "cell_type": "code",
   "execution_count": 82,
   "id": "e4954c83",
   "metadata": {
    "ExecuteTime": {
     "end_time": "2024-03-07T14:48:47.447035Z",
     "start_time": "2024-03-07T14:48:47.412165Z"
    }
   },
   "outputs": [
    {
     "data": {
      "text/plain": [
       "TA    1492\n",
       "Gd    1151\n",
       "Ex     205\n",
       "Fa      70\n",
       "Name: KitchenQual, dtype: int64"
      ]
     },
     "execution_count": 82,
     "metadata": {},
     "output_type": "execute_result"
    }
   ],
   "source": [
    "df['KitchenQual'].value_counts() "
   ]
  },
  {
   "cell_type": "code",
   "execution_count": 83,
   "id": "b5f26468",
   "metadata": {
    "ExecuteTime": {
     "end_time": "2024-03-07T14:49:52.445980Z",
     "start_time": "2024-03-07T14:49:52.433250Z"
    }
   },
   "outputs": [],
   "source": [
    "df['KitchenQual'] = df['KitchenQual'].fillna(df['KitchenQual'].mode()[0])"
   ]
  },
  {
   "cell_type": "code",
   "execution_count": 87,
   "id": "a999c8b6",
   "metadata": {
    "ExecuteTime": {
     "end_time": "2024-03-07T14:51:08.419071Z",
     "start_time": "2024-03-07T14:51:08.400060Z"
    }
   },
   "outputs": [
    {
     "data": {
      "text/plain": [
       "WD       2526\n",
       "New       239\n",
       "COD        87\n",
       "ConLD      26\n",
       "CWD        12\n",
       "ConLI       9\n",
       "ConLw       8\n",
       "Oth         7\n",
       "Con         5\n",
       "Name: SaleType, dtype: int64"
      ]
     },
     "execution_count": 87,
     "metadata": {},
     "output_type": "execute_result"
    }
   ],
   "source": [
    "df['SaleType'].value_counts() "
   ]
  },
  {
   "cell_type": "code",
   "execution_count": 86,
   "id": "9a39e11a",
   "metadata": {
    "ExecuteTime": {
     "end_time": "2024-03-07T14:51:05.435128Z",
     "start_time": "2024-03-07T14:51:05.424561Z"
    }
   },
   "outputs": [],
   "source": [
    "df['SaleType'] = df['SaleType'].fillna(df['SaleType'].mode()[0])"
   ]
  },
  {
   "cell_type": "code",
   "execution_count": 91,
   "id": "4bb5daa6",
   "metadata": {
    "ExecuteTime": {
     "end_time": "2024-03-07T14:51:49.468997Z",
     "start_time": "2024-03-07T14:51:49.449326Z"
    }
   },
   "outputs": [
    {
     "data": {
      "text/plain": [
       "0.0       79\n",
       "864.0     74\n",
       "672.0     29\n",
       "912.0     26\n",
       "1040.0    25\n",
       "          ..\n",
       "1571.0     1\n",
       "2633.0     1\n",
       "757.0      1\n",
       "873.0      1\n",
       "1381.0     1\n",
       "Name: TotalBsmtSF, Length: 1058, dtype: int64"
      ]
     },
     "execution_count": 91,
     "metadata": {},
     "output_type": "execute_result"
    }
   ],
   "source": [
    "df['TotalBsmtSF'].value_counts() "
   ]
  },
  {
   "cell_type": "code",
   "execution_count": 90,
   "id": "e68963c0",
   "metadata": {
    "ExecuteTime": {
     "end_time": "2024-03-07T14:51:48.003894Z",
     "start_time": "2024-03-07T14:51:47.995346Z"
    }
   },
   "outputs": [],
   "source": [
    "df['TotalBsmtSF'] = df['TotalBsmtSF'].fillna(0)"
   ]
  },
  {
   "cell_type": "code",
   "execution_count": 95,
   "id": "ab3990fe",
   "metadata": {
    "ExecuteTime": {
     "end_time": "2024-03-07T14:52:40.159755Z",
     "start_time": "2024-03-07T14:52:40.137780Z"
    }
   },
   "outputs": [
    {
     "data": {
      "text/plain": [
       "2.0    1595\n",
       "1.0     776\n",
       "3.0     374\n",
       "0.0     157\n",
       "4.0      16\n",
       "5.0       1\n",
       "Name: GarageCars, dtype: int64"
      ]
     },
     "execution_count": 95,
     "metadata": {},
     "output_type": "execute_result"
    }
   ],
   "source": [
    "df['GarageCars'].value_counts() "
   ]
  },
  {
   "cell_type": "code",
   "execution_count": 94,
   "id": "b352d146",
   "metadata": {
    "ExecuteTime": {
     "end_time": "2024-03-07T14:52:38.778684Z",
     "start_time": "2024-03-07T14:52:38.757976Z"
    }
   },
   "outputs": [],
   "source": [
    "df['GarageCars'] = df['GarageCars'].fillna(df['GarageCars'].mode()[0])"
   ]
  },
  {
   "cell_type": "code",
   "execution_count": 96,
   "id": "1cc5dafd",
   "metadata": {
    "ExecuteTime": {
     "end_time": "2024-03-07T14:52:50.937703Z",
     "start_time": "2024-03-07T14:52:50.883655Z"
    }
   },
   "outputs": [
    {
     "data": {
      "text/plain": [
       "SalePrice       1459\n",
       "CentralAir         0\n",
       "GarageYrBlt        0\n",
       "GarageType         0\n",
       "FireplaceQu        0\n",
       "Fireplaces         0\n",
       "Functional         0\n",
       "TotRmsAbvGrd       0\n",
       "KitchenQual        0\n",
       "KitchenAbvGr       0\n",
       "BedroomAbvGr       0\n",
       "HalfBath           0\n",
       "FullBath           0\n",
       "BsmtHalfBath       0\n",
       "BsmtFullBath       0\n",
       "GrLivArea          0\n",
       "LowQualFinSF       0\n",
       "2ndFlrSF           0\n",
       "1stFlrSF           0\n",
       "GarageFinish       0\n",
       "dtype: int64"
      ]
     },
     "execution_count": 96,
     "metadata": {},
     "output_type": "execute_result"
    }
   ],
   "source": [
    "df.isnull().sum().sort_values(ascending=False)[:20]"
   ]
  },
  {
   "cell_type": "code",
   "execution_count": null,
   "id": "64b11982",
   "metadata": {},
   "outputs": [],
   "source": []
  }
 ],
 "metadata": {
  "kernelspec": {
   "display_name": "Python 3 (ipykernel)",
   "language": "python",
   "name": "python3"
  },
  "language_info": {
   "codemirror_mode": {
    "name": "ipython",
    "version": 3
   },
   "file_extension": ".py",
   "mimetype": "text/x-python",
   "name": "python",
   "nbconvert_exporter": "python",
   "pygments_lexer": "ipython3",
   "version": "3.9.12"
  }
 },
 "nbformat": 4,
 "nbformat_minor": 5
}
