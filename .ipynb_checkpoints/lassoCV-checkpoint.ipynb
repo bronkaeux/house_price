{
 "cells": [
  {
   "cell_type": "code",
   "execution_count": 1,
   "id": "948f356e",
   "metadata": {
    "ExecuteTime": {
     "end_time": "2024-03-17T06:58:48.694737Z",
     "start_time": "2024-03-17T06:58:45.326000Z"
    }
   },
   "outputs": [],
   "source": [
    "import numpy as np\n",
    "import pandas as pd\n",
    "import matplotlib.pyplot as plt\n",
    "import seaborn as sns"
   ]
  },
  {
   "cell_type": "code",
   "execution_count": 2,
   "id": "411b4bc5",
   "metadata": {
    "ExecuteTime": {
     "end_time": "2024-03-17T06:58:48.757468Z",
     "start_time": "2024-03-17T06:58:48.696721Z"
    }
   },
   "outputs": [],
   "source": [
    "df = pd.read_csv('cleaned_df.csv')"
   ]
  },
  {
   "cell_type": "code",
   "execution_count": 3,
   "id": "be4d87e5",
   "metadata": {
    "ExecuteTime": {
     "end_time": "2024-03-17T06:58:48.804617Z",
     "start_time": "2024-03-17T06:58:48.760464Z"
    }
   },
   "outputs": [
    {
     "name": "stdout",
     "output_type": "stream",
     "text": [
      "<class 'pandas.core.frame.DataFrame'>\n",
      "RangeIndex: 2895 entries, 0 to 2894\n",
      "Data columns (total 76 columns):\n",
      " #   Column         Non-Null Count  Dtype  \n",
      "---  ------         --------------  -----  \n",
      " 0   MSSubClass     2895 non-null   int64  \n",
      " 1   MSZoning       2895 non-null   object \n",
      " 2   LotFrontage    2895 non-null   float64\n",
      " 3   LotArea        2895 non-null   int64  \n",
      " 4   Street         2895 non-null   object \n",
      " 5   LotShape       2895 non-null   object \n",
      " 6   LandContour    2895 non-null   object \n",
      " 7   Utilities      2895 non-null   object \n",
      " 8   LotConfig      2895 non-null   object \n",
      " 9   LandSlope      2895 non-null   object \n",
      " 10  Neighborhood   2895 non-null   object \n",
      " 11  Condition1     2895 non-null   object \n",
      " 12  Condition2     2895 non-null   object \n",
      " 13  BldgType       2895 non-null   object \n",
      " 14  HouseStyle     2895 non-null   object \n",
      " 15  OverallQual    2895 non-null   int64  \n",
      " 16  OverallCond    2895 non-null   int64  \n",
      " 17  YearBuilt      2895 non-null   int64  \n",
      " 18  YearRemodAdd   2895 non-null   int64  \n",
      " 19  RoofStyle      2895 non-null   object \n",
      " 20  RoofMatl       2895 non-null   object \n",
      " 21  Exterior1st    2895 non-null   object \n",
      " 22  Exterior2nd    2895 non-null   object \n",
      " 23  MasVnrType     2895 non-null   object \n",
      " 24  MasVnrArea     2895 non-null   float64\n",
      " 25  ExterQual      2895 non-null   object \n",
      " 26  ExterCond      2895 non-null   object \n",
      " 27  Foundation     2895 non-null   object \n",
      " 28  BsmtQual       2895 non-null   object \n",
      " 29  BsmtCond       2895 non-null   object \n",
      " 30  BsmtExposure   2895 non-null   object \n",
      " 31  BsmtFinType1   2895 non-null   object \n",
      " 32  BsmtFinSF1     2895 non-null   float64\n",
      " 33  BsmtFinType2   2895 non-null   object \n",
      " 34  BsmtFinSF2     2895 non-null   float64\n",
      " 35  BsmtUnfSF      2895 non-null   float64\n",
      " 36  TotalBsmtSF    2895 non-null   float64\n",
      " 37  Heating        2895 non-null   object \n",
      " 38  HeatingQC      2895 non-null   object \n",
      " 39  CentralAir     2895 non-null   object \n",
      " 40  Electrical     2895 non-null   object \n",
      " 41  1stFlrSF       2895 non-null   int64  \n",
      " 42  2ndFlrSF       2895 non-null   int64  \n",
      " 43  LowQualFinSF   2895 non-null   int64  \n",
      " 44  GrLivArea      2895 non-null   int64  \n",
      " 45  BsmtFullBath   2895 non-null   float64\n",
      " 46  BsmtHalfBath   2895 non-null   float64\n",
      " 47  FullBath       2895 non-null   int64  \n",
      " 48  HalfBath       2895 non-null   int64  \n",
      " 49  BedroomAbvGr   2895 non-null   int64  \n",
      " 50  KitchenAbvGr   2895 non-null   int64  \n",
      " 51  KitchenQual    2895 non-null   object \n",
      " 52  TotRmsAbvGrd   2895 non-null   int64  \n",
      " 53  Functional     2895 non-null   object \n",
      " 54  Fireplaces     2895 non-null   int64  \n",
      " 55  FireplaceQu    2895 non-null   object \n",
      " 56  GarageType     2895 non-null   object \n",
      " 57  GarageYrBlt    2895 non-null   float64\n",
      " 58  GarageFinish   2895 non-null   object \n",
      " 59  GarageCars     2895 non-null   float64\n",
      " 60  GarageArea     2895 non-null   float64\n",
      " 61  GarageQual     2895 non-null   object \n",
      " 62  GarageCond     2895 non-null   object \n",
      " 63  PavedDrive     2895 non-null   object \n",
      " 64  WoodDeckSF     2895 non-null   int64  \n",
      " 65  OpenPorchSF    2895 non-null   int64  \n",
      " 66  EnclosedPorch  2895 non-null   int64  \n",
      " 67  3SsnPorch      2895 non-null   int64  \n",
      " 68  ScreenPorch    2895 non-null   int64  \n",
      " 69  PoolArea       2895 non-null   int64  \n",
      " 70  MiscVal        2895 non-null   int64  \n",
      " 71  MoSold         2895 non-null   int64  \n",
      " 72  YrSold         2895 non-null   int64  \n",
      " 73  SaleType       2895 non-null   object \n",
      " 74  SaleCondition  2895 non-null   object \n",
      " 75  SalePrice      1436 non-null   float64\n",
      "dtypes: float64(12), int64(25), object(39)\n",
      "memory usage: 1.7+ MB\n"
     ]
    }
   ],
   "source": [
    "df.info()"
   ]
  },
  {
   "cell_type": "code",
   "execution_count": 4,
   "id": "9f6204cb",
   "metadata": {
    "ExecuteTime": {
     "end_time": "2024-03-17T06:58:48.820732Z",
     "start_time": "2024-03-17T06:58:48.807623Z"
    }
   },
   "outputs": [
    {
     "data": {
      "text/plain": [
       "Index(['MSSubClass', 'MSZoning', 'LotFrontage', 'LotArea', 'Street',\n",
       "       'LotShape', 'LandContour', 'Utilities', 'LotConfig', 'LandSlope',\n",
       "       'Neighborhood', 'Condition1', 'Condition2', 'BldgType', 'HouseStyle',\n",
       "       'OverallQual', 'OverallCond', 'YearBuilt', 'YearRemodAdd', 'RoofStyle',\n",
       "       'RoofMatl', 'Exterior1st', 'Exterior2nd', 'MasVnrType', 'MasVnrArea',\n",
       "       'ExterQual', 'ExterCond', 'Foundation', 'BsmtQual', 'BsmtCond',\n",
       "       'BsmtExposure', 'BsmtFinType1', 'BsmtFinSF1', 'BsmtFinType2',\n",
       "       'BsmtFinSF2', 'BsmtUnfSF', 'TotalBsmtSF', 'Heating', 'HeatingQC',\n",
       "       'CentralAir', 'Electrical', '1stFlrSF', '2ndFlrSF', 'LowQualFinSF',\n",
       "       'GrLivArea', 'BsmtFullBath', 'BsmtHalfBath', 'FullBath', 'HalfBath',\n",
       "       'BedroomAbvGr', 'KitchenAbvGr', 'KitchenQual', 'TotRmsAbvGrd',\n",
       "       'Functional', 'Fireplaces', 'FireplaceQu', 'GarageType', 'GarageYrBlt',\n",
       "       'GarageFinish', 'GarageCars', 'GarageArea', 'GarageQual', 'GarageCond',\n",
       "       'PavedDrive', 'WoodDeckSF', 'OpenPorchSF', 'EnclosedPorch', '3SsnPorch',\n",
       "       'ScreenPorch', 'PoolArea', 'MiscVal', 'MoSold', 'YrSold', 'SaleType',\n",
       "       'SaleCondition', 'SalePrice'],\n",
       "      dtype='object')"
      ]
     },
     "execution_count": 4,
     "metadata": {},
     "output_type": "execute_result"
    }
   ],
   "source": [
    "df.columns"
   ]
  },
  {
   "cell_type": "code",
   "execution_count": 5,
   "id": "2488d485",
   "metadata": {
    "ExecuteTime": {
     "end_time": "2024-03-17T06:58:48.883871Z",
     "start_time": "2024-03-17T06:58:48.822673Z"
    }
   },
   "outputs": [],
   "source": [
    "df = pd.get_dummies(df, drop_first=True)"
   ]
  },
  {
   "cell_type": "code",
   "execution_count": 6,
   "id": "e92b42fa",
   "metadata": {
    "ExecuteTime": {
     "end_time": "2024-03-17T06:58:48.899749Z",
     "start_time": "2024-03-17T06:58:48.886620Z"
    }
   },
   "outputs": [],
   "source": [
    "# Data to be predicted\n",
    "df_to_predict = df[df['SalePrice'].isnull()]\n",
    "df_to_predict = df_to_predict.drop(['SalePrice'], axis = 1)"
   ]
  },
  {
   "cell_type": "code",
   "execution_count": 7,
   "id": "73a41923",
   "metadata": {
    "ExecuteTime": {
     "end_time": "2024-03-17T06:58:48.915796Z",
     "start_time": "2024-03-17T06:58:48.903269Z"
    }
   },
   "outputs": [],
   "source": [
    "df = df.dropna()"
   ]
  },
  {
   "cell_type": "code",
   "execution_count": 8,
   "id": "b6fe27dd",
   "metadata": {
    "ExecuteTime": {
     "end_time": "2024-03-17T06:58:48.930854Z",
     "start_time": "2024-03-17T06:58:48.918803Z"
    }
   },
   "outputs": [],
   "source": [
    "X = df.drop('SalePrice',axis=1)\n",
    "y = df['SalePrice']"
   ]
  },
  {
   "cell_type": "code",
   "execution_count": 9,
   "id": "3904e4e7",
   "metadata": {
    "ExecuteTime": {
     "end_time": "2024-03-17T06:58:49.961254Z",
     "start_time": "2024-03-17T06:58:49.563273Z"
    }
   },
   "outputs": [],
   "source": [
    "from sklearn.model_selection import train_test_split\n",
    "\n",
    "X_train, X_test, y_train, y_test = train_test_split(X, y, test_size=0.3)"
   ]
  },
  {
   "cell_type": "code",
   "execution_count": 10,
   "id": "00dc370f",
   "metadata": {
    "ExecuteTime": {
     "end_time": "2024-03-17T06:58:50.396728Z",
     "start_time": "2024-03-17T06:58:50.348963Z"
    }
   },
   "outputs": [],
   "source": [
    "from sklearn.preprocessing import StandardScaler\n",
    "\n",
    "scaler = StandardScaler()\n",
    "scaler.fit(X_train)\n",
    "X_train = scaler.transform(X_train)\n",
    "X_test = scaler.transform(X_test)"
   ]
  },
  {
   "cell_type": "markdown",
   "id": "f1d7feab",
   "metadata": {},
   "source": [
    "## LassoCV"
   ]
  },
  {
   "cell_type": "code",
   "execution_count": 11,
   "id": "99555fc1",
   "metadata": {
    "ExecuteTime": {
     "end_time": "2024-03-17T06:58:53.364911Z",
     "start_time": "2024-03-17T06:58:53.236621Z"
    }
   },
   "outputs": [],
   "source": [
    "from sklearn.linear_model import LassoCV\n",
    "from sklearn.model_selection import GridSearchCV\n",
    "from sklearn.metrics import mean_squared_error, mean_absolute_error, r2_score"
   ]
  },
  {
   "cell_type": "code",
   "execution_count": 12,
   "id": "60e9fd6d",
   "metadata": {
    "ExecuteTime": {
     "end_time": "2024-03-17T06:58:54.578952Z",
     "start_time": "2024-03-17T06:58:54.568284Z"
    }
   },
   "outputs": [],
   "source": [
    "lassoCV = LassoCV(eps=0.001, n_alphas=105, cv=10, tol=0.0001)"
   ]
  },
  {
   "cell_type": "code",
   "execution_count": 13,
   "id": "c9556fdd",
   "metadata": {
    "ExecuteTime": {
     "end_time": "2024-03-17T06:58:56.687003Z",
     "start_time": "2024-03-17T06:58:55.371503Z"
    }
   },
   "outputs": [
    {
     "data": {
      "text/plain": [
       "LassoCV(cv=10, n_alphas=105)"
      ]
     },
     "execution_count": 13,
     "metadata": {},
     "output_type": "execute_result"
    }
   ],
   "source": [
    "lassoCV.fit(X_train,y_train)"
   ]
  },
  {
   "cell_type": "code",
   "execution_count": 14,
   "id": "66e50356",
   "metadata": {
    "ExecuteTime": {
     "end_time": "2024-03-17T06:58:57.375193Z",
     "start_time": "2024-03-17T06:58:57.366528Z"
    }
   },
   "outputs": [],
   "source": [
    "y_pred = lassoCV.predict(X_test)"
   ]
  },
  {
   "cell_type": "code",
   "execution_count": 15,
   "id": "a8771dcc",
   "metadata": {
    "ExecuteTime": {
     "end_time": "2024-03-17T06:58:59.383057Z",
     "start_time": "2024-03-17T06:58:59.372544Z"
    }
   },
   "outputs": [],
   "source": [
    "MAE = mean_absolute_error(y_test,y_pred)\n",
    "MSE = mean_squared_error(y_test,y_pred)\n",
    "RMSE = np.sqrt(MSE)"
   ]
  },
  {
   "cell_type": "code",
   "execution_count": 16,
   "id": "11d3523e",
   "metadata": {
    "ExecuteTime": {
     "end_time": "2024-03-17T06:59:00.021830Z",
     "start_time": "2024-03-17T06:59:00.012296Z"
    }
   },
   "outputs": [
    {
     "data": {
      "text/plain": [
       "0.8908328534024522"
      ]
     },
     "execution_count": 16,
     "metadata": {},
     "output_type": "execute_result"
    }
   ],
   "source": [
    "r2_score(y_test,y_pred)"
   ]
  },
  {
   "cell_type": "code",
   "execution_count": 16,
   "id": "22180275",
   "metadata": {
    "ExecuteTime": {
     "end_time": "2024-03-16T16:09:00.881203Z",
     "start_time": "2024-03-16T16:09:00.861106Z"
    }
   },
   "outputs": [
    {
     "data": {
      "text/plain": [
       "15158.96129174893"
      ]
     },
     "execution_count": 16,
     "metadata": {},
     "output_type": "execute_result"
    }
   ],
   "source": [
    "MAE"
   ]
  },
  {
   "cell_type": "code",
   "execution_count": 17,
   "id": "0ab36bb5",
   "metadata": {
    "ExecuteTime": {
     "end_time": "2024-03-16T16:09:02.021479Z",
     "start_time": "2024-03-16T16:09:02.008397Z"
    }
   },
   "outputs": [
    {
     "data": {
      "text/plain": [
       "22512.731169358736"
      ]
     },
     "execution_count": 17,
     "metadata": {},
     "output_type": "execute_result"
    }
   ],
   "source": [
    "RMSE"
   ]
  },
  {
   "cell_type": "code",
   "execution_count": 18,
   "id": "4fe8bc22",
   "metadata": {
    "ExecuteTime": {
     "end_time": "2024-03-16T16:09:03.050754Z",
     "start_time": "2024-03-16T16:09:02.762105Z"
    }
   },
   "outputs": [
    {
     "data": {
      "image/png": "[encoded data removed]",
      "text/plain": [
       "<Figure size 432x288 with 1 Axes>"
      ]
     },
     "metadata": {
      "needs_background": "light"
     },
     "output_type": "display_data"
    }
   ],
   "source": [
    "test_residuals = y_test - y_pred\n",
    "sns.scatterplot(x=y_test, y=test_residuals)\n",
    "plt.axhline(y=0, color='red', ls='--');"
   ]
  },
  {
   "cell_type": "code",
   "execution_count": 19,
   "id": "bf53c7db",
   "metadata": {
    "ExecuteTime": {
     "end_time": "2024-03-16T16:09:03.922584Z",
     "start_time": "2024-03-16T16:09:03.907793Z"
    }
   },
   "outputs": [
    {
     "data": {
      "text/plain": [
       "1030    155194.211333\n",
       "675     124240.379428\n",
       "759     100800.172729\n",
       "465      93907.120202\n",
       "370      81255.826944\n",
       "            ...      \n",
       "1155    -51026.683014\n",
       "197     -56787.579719\n",
       "93      -59412.263085\n",
       "653     -61913.447045\n",
       "66      -68107.407525\n",
       "Name: SalePrice, Length: 431, dtype: float64"
      ]
     },
     "execution_count": 19,
     "metadata": {},
     "output_type": "execute_result"
    }
   ],
   "source": [
    "test_residuals.sort_values(ascending=False)"
   ]
  },
  {
   "cell_type": "code",
   "execution_count": 20,
   "id": "2307235a",
   "metadata": {
    "ExecuteTime": {
     "end_time": "2024-03-16T16:09:05.044136Z",
     "start_time": "2024-03-16T16:09:05.037322Z"
    }
   },
   "outputs": [],
   "source": [
    "from sklearn.model_selection import cross_validate"
   ]
  },
  {
   "cell_type": "code",
   "execution_count": 21,
   "id": "cdc4c404",
   "metadata": {
    "ExecuteTime": {
     "end_time": "2024-03-16T16:09:13.441483Z",
     "start_time": "2024-03-16T16:09:05.768282Z"
    }
   },
   "outputs": [],
   "source": [
    "scores = cross_validate(lassoCV,X_train,y_train,\n",
    "                         scoring=['neg_mean_absolute_error','neg_root_mean_squared_error',\n",
    "                                  'neg_mean_squared_error', 'max_error'],cv=5)"
   ]
  },
  {
   "cell_type": "code",
   "execution_count": 22,
   "id": "1b4e29a4",
   "metadata": {
    "ExecuteTime": {
     "end_time": "2024-03-16T16:09:14.267631Z",
     "start_time": "2024-03-16T16:09:14.239489Z"
    }
   },
   "outputs": [
    {
     "data": {
      "text/html": [
       "<div>\n",
       "<style scoped>\n",
       "    .dataframe tbody tr th:only-of-type {\n",
       "        vertical-align: middle;\n",
       "    }\n",
       "\n",
       "    .dataframe tbody tr th {\n",
       "        vertical-align: top;\n",
       "    }\n",
       "\n",
       "    .dataframe thead th {\n",
       "        text-align: right;\n",
       "    }\n",
       "</style>\n",
       "<table border=\"1\" class=\"dataframe\">\n",
       "  <thead>\n",
       "    <tr style=\"text-align: right;\">\n",
       "      <th></th>\n",
       "      <th>fit_time</th>\n",
       "      <th>score_time</th>\n",
       "      <th>test_neg_mean_absolute_error</th>\n",
       "      <th>test_neg_root_mean_squared_error</th>\n",
       "      <th>test_neg_mean_squared_error</th>\n",
       "      <th>test_max_error</th>\n",
       "    </tr>\n",
       "  </thead>\n",
       "  <tbody>\n",
       "    <tr>\n",
       "      <th>0</th>\n",
       "      <td>1.630136</td>\n",
       "      <td>0.002993</td>\n",
       "      <td>-18134.362873</td>\n",
       "      <td>-27848.332111</td>\n",
       "      <td>-7.755296e+08</td>\n",
       "      <td>-166499.429929</td>\n",
       "    </tr>\n",
       "    <tr>\n",
       "      <th>1</th>\n",
       "      <td>1.353492</td>\n",
       "      <td>0.002146</td>\n",
       "      <td>-14102.490638</td>\n",
       "      <td>-19679.191456</td>\n",
       "      <td>-3.872706e+08</td>\n",
       "      <td>-81712.561871</td>\n",
       "    </tr>\n",
       "    <tr>\n",
       "      <th>2</th>\n",
       "      <td>1.816111</td>\n",
       "      <td>0.004325</td>\n",
       "      <td>-15717.157194</td>\n",
       "      <td>-22272.591658</td>\n",
       "      <td>-4.960683e+08</td>\n",
       "      <td>-96808.249702</td>\n",
       "    </tr>\n",
       "    <tr>\n",
       "      <th>3</th>\n",
       "      <td>1.478637</td>\n",
       "      <td>0.001998</td>\n",
       "      <td>-15690.386977</td>\n",
       "      <td>-24255.411578</td>\n",
       "      <td>-5.883250e+08</td>\n",
       "      <td>-151309.305640</td>\n",
       "    </tr>\n",
       "    <tr>\n",
       "      <th>4</th>\n",
       "      <td>1.359864</td>\n",
       "      <td>0.001999</td>\n",
       "      <td>-15743.021198</td>\n",
       "      <td>-24343.930086</td>\n",
       "      <td>-5.926269e+08</td>\n",
       "      <td>-173887.928463</td>\n",
       "    </tr>\n",
       "  </tbody>\n",
       "</table>\n",
       "</div>"
      ],
      "text/plain": [
       "   fit_time  score_time  test_neg_mean_absolute_error  \\\n",
       "0  1.630136    0.002993                 -18134.362873   \n",
       "1  1.353492    0.002146                 -14102.490638   \n",
       "2  1.816111    0.004325                 -15717.157194   \n",
       "3  1.478637    0.001998                 -15690.386977   \n",
       "4  1.359864    0.001999                 -15743.021198   \n",
       "\n",
       "   test_neg_root_mean_squared_error  test_neg_mean_squared_error  \\\n",
       "0                     -27848.332111                -7.755296e+08   \n",
       "1                     -19679.191456                -3.872706e+08   \n",
       "2                     -22272.591658                -4.960683e+08   \n",
       "3                     -24255.411578                -5.883250e+08   \n",
       "4                     -24343.930086                -5.926269e+08   \n",
       "\n",
       "   test_max_error  \n",
       "0  -166499.429929  \n",
       "1   -81712.561871  \n",
       "2   -96808.249702  \n",
       "3  -151309.305640  \n",
       "4  -173887.928463  "
      ]
     },
     "execution_count": 22,
     "metadata": {},
     "output_type": "execute_result"
    }
   ],
   "source": [
    "pd.DataFrame(scores)"
   ]
  },
  {
   "cell_type": "code",
   "execution_count": 23,
   "id": "7387a94b",
   "metadata": {
    "ExecuteTime": {
     "end_time": "2024-03-16T16:09:17.467448Z",
     "start_time": "2024-03-16T16:09:17.445750Z"
    }
   },
   "outputs": [
    {
     "data": {
      "text/plain": [
       "fit_time                            1.527648e+00\n",
       "score_time                          2.692223e-03\n",
       "test_neg_mean_absolute_error       -1.587748e+04\n",
       "test_neg_root_mean_squared_error   -2.367989e+04\n",
       "test_neg_mean_squared_error        -5.679641e+08\n",
       "test_max_error                     -1.340435e+05\n",
       "dtype: float64"
      ]
     },
     "execution_count": 23,
     "metadata": {},
     "output_type": "execute_result"
    }
   ],
   "source": [
    "pd.DataFrame(scores).mean()"
   ]
  },
  {
   "cell_type": "code",
   "execution_count": 24,
   "id": "d26ec6a0",
   "metadata": {
    "ExecuteTime": {
     "end_time": "2024-03-16T16:09:19.522651Z",
     "start_time": "2024-03-16T16:09:19.515037Z"
    }
   },
   "outputs": [],
   "source": [
    "final_model = LassoCV(eps=0.001, n_alphas=105, cv=10, tol=0.0001)"
   ]
  },
  {
   "cell_type": "code",
   "execution_count": 25,
   "id": "41a209e8",
   "metadata": {
    "ExecuteTime": {
     "end_time": "2024-03-16T16:09:20.511096Z",
     "start_time": "2024-03-16T16:09:20.086996Z"
    }
   },
   "outputs": [
    {
     "data": {
      "text/plain": [
       "LassoCV(cv=10, n_alphas=105)"
      ]
     },
     "execution_count": 25,
     "metadata": {},
     "output_type": "execute_result"
    }
   ],
   "source": [
    "lassoCV.fit(X,y)"
   ]
  },
  {
   "cell_type": "code",
   "execution_count": 26,
   "id": "510f63fa",
   "metadata": {
    "ExecuteTime": {
     "end_time": "2024-03-16T16:09:21.537964Z",
     "start_time": "2024-03-16T16:09:21.513957Z"
    }
   },
   "outputs": [
    {
     "data": {
      "text/plain": [
       "0.8010189668066652"
      ]
     },
     "execution_count": 26,
     "metadata": {},
     "output_type": "execute_result"
    }
   ],
   "source": [
    "lassoCV.score(X,y)"
   ]
  },
  {
   "cell_type": "code",
   "execution_count": 27,
   "id": "607194ca",
   "metadata": {
    "ExecuteTime": {
     "end_time": "2024-03-16T16:09:28.206699Z",
     "start_time": "2024-03-16T16:09:25.965390Z"
    }
   },
   "outputs": [],
   "source": [
    "scores = cross_validate(lassoCV,X,y,\n",
    "                         scoring=['neg_mean_absolute_error','neg_root_mean_squared_error',\n",
    "                                  'neg_mean_squared_error', 'max_error'],cv=5)"
   ]
  },
  {
   "cell_type": "code",
   "execution_count": 28,
   "id": "f192d6b5",
   "metadata": {
    "ExecuteTime": {
     "end_time": "2024-03-16T16:09:29.046853Z",
     "start_time": "2024-03-16T16:09:29.028753Z"
    }
   },
   "outputs": [],
   "source": [
    "from sklearn.model_selection import cross_validate\n",
    "from sklearn.model_selection import cross_val_score\n",
    "from sklearn.model_selection import cross_val_predict"
   ]
  },
  {
   "cell_type": "code",
   "execution_count": 29,
   "id": "4a815953",
   "metadata": {
    "ExecuteTime": {
     "end_time": "2024-03-16T16:09:35.559617Z",
     "start_time": "2024-03-16T16:09:30.948522Z"
    }
   },
   "outputs": [],
   "source": [
    "y_pred = cross_val_predict(lassoCV, X, y, cv=10)"
   ]
  },
  {
   "cell_type": "code",
   "execution_count": 30,
   "id": "ace6bd3d",
   "metadata": {
    "ExecuteTime": {
     "end_time": "2024-03-16T16:09:35.715304Z",
     "start_time": "2024-03-16T16:09:35.563572Z"
    }
   },
   "outputs": [
    {
     "data": {
      "image/png": "[encoded data removed]",
      "text/plain": [
       "<Figure size 432x288 with 1 Axes>"
      ]
     },
     "metadata": {
      "needs_background": "light"
     },
     "output_type": "display_data"
    }
   ],
   "source": [
    "test_residuals = y - y_pred\n",
    "sns.scatterplot(x=y, y=test_residuals)\n",
    "plt.axhline(y=0, color='red', ls='--');"
   ]
  },
  {
   "cell_type": "code",
   "execution_count": 31,
   "id": "384a761a",
   "metadata": {
    "ExecuteTime": {
     "end_time": "2024-03-16T16:09:36.960937Z",
     "start_time": "2024-03-16T16:09:36.948927Z"
    }
   },
   "outputs": [
    {
     "data": {
      "text/plain": [
       "1302   -126330.356397\n",
       "620    -121228.931177\n",
       "66     -117880.169239\n",
       "1203   -117710.183885\n",
       "653    -116874.785981\n",
       "            ...      \n",
       "185     160743.497186\n",
       "675     178601.464069\n",
       "1030    209943.250418\n",
       "883     232265.559200\n",
       "788     233637.154218\n",
       "Name: SalePrice, Length: 1436, dtype: float64"
      ]
     },
     "execution_count": 31,
     "metadata": {},
     "output_type": "execute_result"
    }
   ],
   "source": [
    "test_residuals.sort_values()"
   ]
  },
  {
   "cell_type": "code",
   "execution_count": 32,
   "id": "956b6d62",
   "metadata": {
    "ExecuteTime": {
     "end_time": "2024-03-16T16:09:39.887055Z",
     "start_time": "2024-03-16T16:09:39.852828Z"
    }
   },
   "outputs": [],
   "source": [
    "test = pd.read_csv('test.csv')"
   ]
  },
  {
   "cell_type": "code",
   "execution_count": 33,
   "id": "44c2f904",
   "metadata": {
    "ExecuteTime": {
     "end_time": "2024-03-16T16:09:41.059638Z",
     "start_time": "2024-03-16T16:09:41.024722Z"
    }
   },
   "outputs": [
    {
     "data": {
      "text/html": [
       "<div>\n",
       "<style scoped>\n",
       "    .dataframe tbody tr th:only-of-type {\n",
       "        vertical-align: middle;\n",
       "    }\n",
       "\n",
       "    .dataframe tbody tr th {\n",
       "        vertical-align: top;\n",
       "    }\n",
       "\n",
       "    .dataframe thead th {\n",
       "        text-align: right;\n",
       "    }\n",
       "</style>\n",
       "<table border=\"1\" class=\"dataframe\">\n",
       "  <thead>\n",
       "    <tr style=\"text-align: right;\">\n",
       "      <th></th>\n",
       "      <th>Id</th>\n",
       "      <th>MSSubClass</th>\n",
       "      <th>MSZoning</th>\n",
       "      <th>LotFrontage</th>\n",
       "      <th>LotArea</th>\n",
       "      <th>Street</th>\n",
       "      <th>Alley</th>\n",
       "      <th>LotShape</th>\n",
       "      <th>LandContour</th>\n",
       "      <th>Utilities</th>\n",
       "      <th>...</th>\n",
       "      <th>ScreenPorch</th>\n",
       "      <th>PoolArea</th>\n",
       "      <th>PoolQC</th>\n",
       "      <th>Fence</th>\n",
       "      <th>MiscFeature</th>\n",
       "      <th>MiscVal</th>\n",
       "      <th>MoSold</th>\n",
       "      <th>YrSold</th>\n",
       "      <th>SaleType</th>\n",
       "      <th>SaleCondition</th>\n",
       "    </tr>\n",
       "  </thead>\n",
       "  <tbody>\n",
       "    <tr>\n",
       "      <th>0</th>\n",
       "      <td>1461</td>\n",
       "      <td>20</td>\n",
       "      <td>RH</td>\n",
       "      <td>80.0</td>\n",
       "      <td>11622</td>\n",
       "      <td>Pave</td>\n",
       "      <td>NaN</td>\n",
       "      <td>Reg</td>\n",
       "      <td>Lvl</td>\n",
       "      <td>AllPub</td>\n",
       "      <td>...</td>\n",
       "      <td>120</td>\n",
       "      <td>0</td>\n",
       "      <td>NaN</td>\n",
       "      <td>MnPrv</td>\n",
       "      <td>NaN</td>\n",
       "      <td>0</td>\n",
       "      <td>6</td>\n",
       "      <td>2010</td>\n",
       "      <td>WD</td>\n",
       "      <td>Normal</td>\n",
       "    </tr>\n",
       "    <tr>\n",
       "      <th>1</th>\n",
       "      <td>1462</td>\n",
       "      <td>20</td>\n",
       "      <td>RL</td>\n",
       "      <td>81.0</td>\n",
       "      <td>14267</td>\n",
       "      <td>Pave</td>\n",
       "      <td>NaN</td>\n",
       "      <td>IR1</td>\n",
       "      <td>Lvl</td>\n",
       "      <td>AllPub</td>\n",
       "      <td>...</td>\n",
       "      <td>0</td>\n",
       "      <td>0</td>\n",
       "      <td>NaN</td>\n",
       "      <td>NaN</td>\n",
       "      <td>Gar2</td>\n",
       "      <td>12500</td>\n",
       "      <td>6</td>\n",
       "      <td>2010</td>\n",
       "      <td>WD</td>\n",
       "      <td>Normal</td>\n",
       "    </tr>\n",
       "    <tr>\n",
       "      <th>2</th>\n",
       "      <td>1463</td>\n",
       "      <td>60</td>\n",
       "      <td>RL</td>\n",
       "      <td>74.0</td>\n",
       "      <td>13830</td>\n",
       "      <td>Pave</td>\n",
       "      <td>NaN</td>\n",
       "      <td>IR1</td>\n",
       "      <td>Lvl</td>\n",
       "      <td>AllPub</td>\n",
       "      <td>...</td>\n",
       "      <td>0</td>\n",
       "      <td>0</td>\n",
       "      <td>NaN</td>\n",
       "      <td>MnPrv</td>\n",
       "      <td>NaN</td>\n",
       "      <td>0</td>\n",
       "      <td>3</td>\n",
       "      <td>2010</td>\n",
       "      <td>WD</td>\n",
       "      <td>Normal</td>\n",
       "    </tr>\n",
       "    <tr>\n",
       "      <th>3</th>\n",
       "      <td>1464</td>\n",
       "      <td>60</td>\n",
       "      <td>RL</td>\n",
       "      <td>78.0</td>\n",
       "      <td>9978</td>\n",
       "      <td>Pave</td>\n",
       "      <td>NaN</td>\n",
       "      <td>IR1</td>\n",
       "      <td>Lvl</td>\n",
       "      <td>AllPub</td>\n",
       "      <td>...</td>\n",
       "      <td>0</td>\n",
       "      <td>0</td>\n",
       "      <td>NaN</td>\n",
       "      <td>NaN</td>\n",
       "      <td>NaN</td>\n",
       "      <td>0</td>\n",
       "      <td>6</td>\n",
       "      <td>2010</td>\n",
       "      <td>WD</td>\n",
       "      <td>Normal</td>\n",
       "    </tr>\n",
       "    <tr>\n",
       "      <th>4</th>\n",
       "      <td>1465</td>\n",
       "      <td>120</td>\n",
       "      <td>RL</td>\n",
       "      <td>43.0</td>\n",
       "      <td>5005</td>\n",
       "      <td>Pave</td>\n",
       "      <td>NaN</td>\n",
       "      <td>IR1</td>\n",
       "      <td>HLS</td>\n",
       "      <td>AllPub</td>\n",
       "      <td>...</td>\n",
       "      <td>144</td>\n",
       "      <td>0</td>\n",
       "      <td>NaN</td>\n",
       "      <td>NaN</td>\n",
       "      <td>NaN</td>\n",
       "      <td>0</td>\n",
       "      <td>1</td>\n",
       "      <td>2010</td>\n",
       "      <td>WD</td>\n",
       "      <td>Normal</td>\n",
       "    </tr>\n",
       "    <tr>\n",
       "      <th>...</th>\n",
       "      <td>...</td>\n",
       "      <td>...</td>\n",
       "      <td>...</td>\n",
       "      <td>...</td>\n",
       "      <td>...</td>\n",
       "      <td>...</td>\n",
       "      <td>...</td>\n",
       "      <td>...</td>\n",
       "      <td>...</td>\n",
       "      <td>...</td>\n",
       "      <td>...</td>\n",
       "      <td>...</td>\n",
       "      <td>...</td>\n",
       "      <td>...</td>\n",
       "      <td>...</td>\n",
       "      <td>...</td>\n",
       "      <td>...</td>\n",
       "      <td>...</td>\n",
       "      <td>...</td>\n",
       "      <td>...</td>\n",
       "      <td>...</td>\n",
       "    </tr>\n",
       "    <tr>\n",
       "      <th>1454</th>\n",
       "      <td>2915</td>\n",
       "      <td>160</td>\n",
       "      <td>RM</td>\n",
       "      <td>21.0</td>\n",
       "      <td>1936</td>\n",
       "      <td>Pave</td>\n",
       "      <td>NaN</td>\n",
       "      <td>Reg</td>\n",
       "      <td>Lvl</td>\n",
       "      <td>AllPub</td>\n",
       "      <td>...</td>\n",
       "      <td>0</td>\n",
       "      <td>0</td>\n",
       "      <td>NaN</td>\n",
       "      <td>NaN</td>\n",
       "      <td>NaN</td>\n",
       "      <td>0</td>\n",
       "      <td>6</td>\n",
       "      <td>2006</td>\n",
       "      <td>WD</td>\n",
       "      <td>Normal</td>\n",
       "    </tr>\n",
       "    <tr>\n",
       "      <th>1455</th>\n",
       "      <td>2916</td>\n",
       "      <td>160</td>\n",
       "      <td>RM</td>\n",
       "      <td>21.0</td>\n",
       "      <td>1894</td>\n",
       "      <td>Pave</td>\n",
       "      <td>NaN</td>\n",
       "      <td>Reg</td>\n",
       "      <td>Lvl</td>\n",
       "      <td>AllPub</td>\n",
       "      <td>...</td>\n",
       "      <td>0</td>\n",
       "      <td>0</td>\n",
       "      <td>NaN</td>\n",
       "      <td>NaN</td>\n",
       "      <td>NaN</td>\n",
       "      <td>0</td>\n",
       "      <td>4</td>\n",
       "      <td>2006</td>\n",
       "      <td>WD</td>\n",
       "      <td>Abnorml</td>\n",
       "    </tr>\n",
       "    <tr>\n",
       "      <th>1456</th>\n",
       "      <td>2917</td>\n",
       "      <td>20</td>\n",
       "      <td>RL</td>\n",
       "      <td>160.0</td>\n",
       "      <td>20000</td>\n",
       "      <td>Pave</td>\n",
       "      <td>NaN</td>\n",
       "      <td>Reg</td>\n",
       "      <td>Lvl</td>\n",
       "      <td>AllPub</td>\n",
       "      <td>...</td>\n",
       "      <td>0</td>\n",
       "      <td>0</td>\n",
       "      <td>NaN</td>\n",
       "      <td>NaN</td>\n",
       "      <td>NaN</td>\n",
       "      <td>0</td>\n",
       "      <td>9</td>\n",
       "      <td>2006</td>\n",
       "      <td>WD</td>\n",
       "      <td>Abnorml</td>\n",
       "    </tr>\n",
       "    <tr>\n",
       "      <th>1457</th>\n",
       "      <td>2918</td>\n",
       "      <td>85</td>\n",
       "      <td>RL</td>\n",
       "      <td>62.0</td>\n",
       "      <td>10441</td>\n",
       "      <td>Pave</td>\n",
       "      <td>NaN</td>\n",
       "      <td>Reg</td>\n",
       "      <td>Lvl</td>\n",
       "      <td>AllPub</td>\n",
       "      <td>...</td>\n",
       "      <td>0</td>\n",
       "      <td>0</td>\n",
       "      <td>NaN</td>\n",
       "      <td>MnPrv</td>\n",
       "      <td>Shed</td>\n",
       "      <td>700</td>\n",
       "      <td>7</td>\n",
       "      <td>2006</td>\n",
       "      <td>WD</td>\n",
       "      <td>Normal</td>\n",
       "    </tr>\n",
       "    <tr>\n",
       "      <th>1458</th>\n",
       "      <td>2919</td>\n",
       "      <td>60</td>\n",
       "      <td>RL</td>\n",
       "      <td>74.0</td>\n",
       "      <td>9627</td>\n",
       "      <td>Pave</td>\n",
       "      <td>NaN</td>\n",
       "      <td>Reg</td>\n",
       "      <td>Lvl</td>\n",
       "      <td>AllPub</td>\n",
       "      <td>...</td>\n",
       "      <td>0</td>\n",
       "      <td>0</td>\n",
       "      <td>NaN</td>\n",
       "      <td>NaN</td>\n",
       "      <td>NaN</td>\n",
       "      <td>0</td>\n",
       "      <td>11</td>\n",
       "      <td>2006</td>\n",
       "      <td>WD</td>\n",
       "      <td>Normal</td>\n",
       "    </tr>\n",
       "  </tbody>\n",
       "</table>\n",
       "<p>1459 rows × 80 columns</p>\n",
       "</div>"
      ],
      "text/plain": [
       "        Id  MSSubClass MSZoning  LotFrontage  LotArea Street Alley LotShape  \\\n",
       "0     1461          20       RH         80.0    11622   Pave   NaN      Reg   \n",
       "1     1462          20       RL         81.0    14267   Pave   NaN      IR1   \n",
       "2     1463          60       RL         74.0    13830   Pave   NaN      IR1   \n",
       "3     1464          60       RL         78.0     9978   Pave   NaN      IR1   \n",
       "4     1465         120       RL         43.0     5005   Pave   NaN      IR1   \n",
       "...    ...         ...      ...          ...      ...    ...   ...      ...   \n",
       "1454  2915         160       RM         21.0     1936   Pave   NaN      Reg   \n",
       "1455  2916         160       RM         21.0     1894   Pave   NaN      Reg   \n",
       "1456  2917          20       RL        160.0    20000   Pave   NaN      Reg   \n",
       "1457  2918          85       RL         62.0    10441   Pave   NaN      Reg   \n",
       "1458  2919          60       RL         74.0     9627   Pave   NaN      Reg   \n",
       "\n",
       "     LandContour Utilities  ... ScreenPorch PoolArea PoolQC  Fence  \\\n",
       "0            Lvl    AllPub  ...         120        0    NaN  MnPrv   \n",
       "1            Lvl    AllPub  ...           0        0    NaN    NaN   \n",
       "2            Lvl    AllPub  ...           0        0    NaN  MnPrv   \n",
       "3            Lvl    AllPub  ...           0        0    NaN    NaN   \n",
       "4            HLS    AllPub  ...         144        0    NaN    NaN   \n",
       "...          ...       ...  ...         ...      ...    ...    ...   \n",
       "1454         Lvl    AllPub  ...           0        0    NaN    NaN   \n",
       "1455         Lvl    AllPub  ...           0        0    NaN    NaN   \n",
       "1456         Lvl    AllPub  ...           0        0    NaN    NaN   \n",
       "1457         Lvl    AllPub  ...           0        0    NaN  MnPrv   \n",
       "1458         Lvl    AllPub  ...           0        0    NaN    NaN   \n",
       "\n",
       "     MiscFeature MiscVal MoSold  YrSold  SaleType  SaleCondition  \n",
       "0            NaN       0      6    2010        WD         Normal  \n",
       "1           Gar2   12500      6    2010        WD         Normal  \n",
       "2            NaN       0      3    2010        WD         Normal  \n",
       "3            NaN       0      6    2010        WD         Normal  \n",
       "4            NaN       0      1    2010        WD         Normal  \n",
       "...          ...     ...    ...     ...       ...            ...  \n",
       "1454         NaN       0      6    2006        WD         Normal  \n",
       "1455         NaN       0      4    2006        WD        Abnorml  \n",
       "1456         NaN       0      9    2006        WD        Abnorml  \n",
       "1457        Shed     700      7    2006        WD         Normal  \n",
       "1458         NaN       0     11    2006        WD         Normal  \n",
       "\n",
       "[1459 rows x 80 columns]"
      ]
     },
     "execution_count": 33,
     "metadata": {},
     "output_type": "execute_result"
    }
   ],
   "source": [
    "test"
   ]
  },
  {
   "cell_type": "code",
   "execution_count": 34,
   "id": "91b7bdd2",
   "metadata": {
    "ExecuteTime": {
     "end_time": "2024-03-16T16:09:44.269557Z",
     "start_time": "2024-03-16T16:09:44.249644Z"
    }
   },
   "outputs": [],
   "source": [
    "result = lassoCV.predict(df_to_predict)"
   ]
  },
  {
   "cell_type": "code",
   "execution_count": 35,
   "id": "80925eeb",
   "metadata": {
    "ExecuteTime": {
     "end_time": "2024-03-16T16:09:44.997919Z",
     "start_time": "2024-03-16T16:09:44.989850Z"
    }
   },
   "outputs": [],
   "source": [
    "submission = pd.DataFrame({'Id':test['Id'],'SalePrice':result})"
   ]
  },
  {
   "cell_type": "code",
   "execution_count": 36,
   "id": "a7cfd09e",
   "metadata": {
    "ExecuteTime": {
     "end_time": "2024-03-16T16:10:02.499772Z",
     "start_time": "2024-03-16T16:10:02.488198Z"
    }
   },
   "outputs": [
    {
     "name": "stdout",
     "output_type": "stream",
     "text": [
      "(1459, 2)\n"
     ]
    }
   ],
   "source": [
    "submission['SalePrice'] = submission['SalePrice'].astype(int)\n",
    "print(submission.shape)"
   ]
  },
  {
   "cell_type": "code",
   "execution_count": 37,
   "id": "6e54ae8a",
   "metadata": {
    "ExecuteTime": {
     "end_time": "2024-03-16T16:10:13.208492Z",
     "start_time": "2024-03-16T16:10:13.188287Z"
    }
   },
   "outputs": [
    {
     "name": "stdout",
     "output_type": "stream",
     "text": [
      "Saved file: house_preds.csv\n"
     ]
    }
   ],
   "source": [
    "filename = 'house_preds.csv'\n",
    "submission.to_csv(filename,index=False)\n",
    "print('Saved file: ' + filename)"
   ]
  },
  {
   "cell_type": "code",
   "execution_count": 38,
   "id": "61aa8dda",
   "metadata": {
    "ExecuteTime": {
     "end_time": "2024-03-17T06:43:31.833172Z",
     "start_time": "2024-03-17T06:43:31.821632Z"
    }
   },
   "outputs": [
    {
     "data": {
      "text/plain": [
       "<bound method RegressorMixin.score of LassoCV(cv=10, n_alphas=105)>"
      ]
     },
     "execution_count": 38,
     "metadata": {},
     "output_type": "execute_result"
    }
   ],
   "source": [
    "lassoCV."
   ]
  },
  {
   "cell_type": "code",
   "execution_count": null,
   "id": "1f6fc77f",
   "metadata": {},
   "outputs": [],
   "source": []
  }
 ],
 "metadata": {
  "kernelspec": {
   "display_name": "Python 3 (ipykernel)",
   "language": "python",
   "name": "python3"
  },
  "language_info": {
   "codemirror_mode": {
    "name": "ipython",
    "version": 3
   },
   "file_extension": ".py",
   "mimetype": "text/x-python",
   "name": "python",
   "nbconvert_exporter": "python",
   "pygments_lexer": "ipython3",
   "version": "3.9.12"
  }
 },
 "nbformat": 4,
 "nbformat_minor": 5
}
