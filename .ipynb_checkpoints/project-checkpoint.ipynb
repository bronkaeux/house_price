{
 "cells": [
  {
   "cell_type": "code",
   "execution_count": 1,
   "id": "9cbbdef6",
   "metadata": {
    "ExecuteTime": {
     "end_time": "2024-03-15T11:56:43.056326Z",
     "start_time": "2024-03-15T11:56:39.129772Z"
    }
   },
   "outputs": [],
   "source": [
    "import numpy as np\n",
    "import pandas as pd\n",
    "import matplotlib.pyplot as plt\n",
    "import seaborn as sns"
   ]
  },
  {
   "cell_type": "code",
   "execution_count": 2,
   "id": "a7f8a117",
   "metadata": {
    "ExecuteTime": {
     "end_time": "2024-03-15T11:56:45.928860Z",
     "start_time": "2024-03-15T11:56:45.868882Z"
    }
   },
   "outputs": [],
   "source": [
    "df = pd.read_csv('cleaned_df.csv')"
   ]
  },
  {
   "cell_type": "code",
   "execution_count": 3,
   "id": "50da5518",
   "metadata": {
    "ExecuteTime": {
     "end_time": "2024-03-15T11:56:53.370400Z",
     "start_time": "2024-03-15T11:56:53.307523Z"
    }
   },
   "outputs": [],
   "source": [
    "df = pd.get_dummies(df, drop_first=True)"
   ]
  },
  {
   "cell_type": "code",
   "execution_count": 4,
   "id": "4593eef2",
   "metadata": {
    "ExecuteTime": {
     "end_time": "2024-03-15T11:57:02.748656Z",
     "start_time": "2024-03-15T11:57:02.734428Z"
    }
   },
   "outputs": [],
   "source": [
    "# Data to be predicted\n",
    "df_to_predict = df[df['SalePrice'].isnull()]\n",
    "df_to_predict = df_to_predict.drop(['SalePrice'], axis = 1)"
   ]
  },
  {
   "cell_type": "code",
   "execution_count": 5,
   "id": "2c6c3402",
   "metadata": {
    "ExecuteTime": {
     "end_time": "2024-03-15T11:57:11.991238Z",
     "start_time": "2024-03-15T11:57:11.966028Z"
    }
   },
   "outputs": [],
   "source": [
    "df = df.dropna()"
   ]
  },
  {
   "cell_type": "code",
   "execution_count": 6,
   "id": "3c1999f5",
   "metadata": {
    "ExecuteTime": {
     "end_time": "2024-03-15T11:58:44.169867Z",
     "start_time": "2024-03-15T11:58:44.118485Z"
    }
   },
   "outputs": [
    {
     "name": "stdout",
     "output_type": "stream",
     "text": [
      "<class 'pandas.core.frame.DataFrame'>\n",
      "Int64Index: 1451 entries, 0 to 1450\n",
      "Columns: 250 entries, LotFrontage to SaleCondition_Partial\n",
      "dtypes: float64(12), int64(25), uint8(213)\n",
      "memory usage: 732.6 KB\n"
     ]
    }
   ],
   "source": [
    "df.info()"
   ]
  },
  {
   "cell_type": "code",
   "execution_count": null,
   "id": "f2c313d2",
   "metadata": {},
   "outputs": [],
   "source": []
  },
  {
   "cell_type": "code",
   "execution_count": 7,
   "id": "9ea53b9e",
   "metadata": {
    "ExecuteTime": {
     "end_time": "2024-03-15T11:59:08.348146Z",
     "start_time": "2024-03-15T11:59:08.333361Z"
    }
   },
   "outputs": [],
   "source": [
    "X = df.drop('SalePrice',axis=1)\n",
    "y = df['SalePrice']"
   ]
  },
  {
   "cell_type": "code",
   "execution_count": null,
   "id": "75050814",
   "metadata": {},
   "outputs": [],
   "source": []
  },
  {
   "cell_type": "code",
   "execution_count": 8,
   "id": "1b6633a0",
   "metadata": {
    "ExecuteTime": {
     "end_time": "2024-03-15T11:59:16.587604Z",
     "start_time": "2024-03-15T11:59:16.309142Z"
    }
   },
   "outputs": [],
   "source": [
    "from sklearn.model_selection import train_test_split"
   ]
  },
  {
   "cell_type": "code",
   "execution_count": 9,
   "id": "77cfde9c",
   "metadata": {
    "ExecuteTime": {
     "end_time": "2024-03-15T11:59:23.646118Z",
     "start_time": "2024-03-15T11:59:23.625346Z"
    }
   },
   "outputs": [],
   "source": [
    "X_train, X_test, y_train, y_test = train_test_split(X, y, test_size=0.10, random_state=101)"
   ]
  },
  {
   "cell_type": "code",
   "execution_count": null,
   "id": "aeb549f0",
   "metadata": {},
   "outputs": [],
   "source": []
  },
  {
   "cell_type": "code",
   "execution_count": 10,
   "id": "6fac8dfc",
   "metadata": {
    "ExecuteTime": {
     "end_time": "2024-03-15T11:59:29.892011Z",
     "start_time": "2024-03-15T11:59:29.879511Z"
    }
   },
   "outputs": [],
   "source": [
    "from sklearn.preprocessing import StandardScaler"
   ]
  },
  {
   "cell_type": "code",
   "execution_count": 11,
   "id": "0b126948",
   "metadata": {
    "ExecuteTime": {
     "end_time": "2024-03-15T11:59:34.956650Z",
     "start_time": "2024-03-15T11:59:34.941890Z"
    }
   },
   "outputs": [],
   "source": [
    "scaler = StandardScaler()"
   ]
  },
  {
   "cell_type": "code",
   "execution_count": 12,
   "id": "254fd129",
   "metadata": {
    "ExecuteTime": {
     "end_time": "2024-03-15T11:59:42.531685Z",
     "start_time": "2024-03-15T11:59:42.483247Z"
    }
   },
   "outputs": [],
   "source": [
    "scaled_X_train = scaler.fit_transform(X_train)\n",
    "scaled_X_test = scaler.transform(X_test)"
   ]
  },
  {
   "cell_type": "code",
   "execution_count": null,
   "id": "93d0a1cd",
   "metadata": {},
   "outputs": [],
   "source": []
  },
  {
   "cell_type": "code",
   "execution_count": 13,
   "id": "fe8a2fc0",
   "metadata": {
    "ExecuteTime": {
     "end_time": "2024-03-15T11:59:53.610904Z",
     "start_time": "2024-03-15T11:59:53.479597Z"
    }
   },
   "outputs": [],
   "source": [
    "from sklearn.linear_model import ElasticNet"
   ]
  },
  {
   "cell_type": "code",
   "execution_count": 29,
   "id": "d175de76",
   "metadata": {
    "ExecuteTime": {
     "end_time": "2024-03-15T12:03:45.154492Z",
     "start_time": "2024-03-15T12:03:45.134358Z"
    }
   },
   "outputs": [],
   "source": [
    "base_elastic_model = ElasticNet(max_iter=1000000)"
   ]
  },
  {
   "cell_type": "code",
   "execution_count": 30,
   "id": "aec62913",
   "metadata": {
    "ExecuteTime": {
     "end_time": "2024-03-15T12:03:45.808084Z",
     "start_time": "2024-03-15T12:03:45.796636Z"
    }
   },
   "outputs": [],
   "source": [
    "param_grid = {'alpha':[0.1,1,5,10,50,100],\n",
    "              'l1_ratio':[.1, .5, .7, .9, .95, .99, 1]}"
   ]
  },
  {
   "cell_type": "code",
   "execution_count": 31,
   "id": "f87f9d99",
   "metadata": {
    "ExecuteTime": {
     "end_time": "2024-03-15T12:03:46.354484Z",
     "start_time": "2024-03-15T12:03:46.338350Z"
    }
   },
   "outputs": [],
   "source": [
    "from sklearn.model_selection import GridSearchCV"
   ]
  },
  {
   "cell_type": "code",
   "execution_count": 32,
   "id": "df9d295d",
   "metadata": {
    "ExecuteTime": {
     "end_time": "2024-03-15T12:03:46.994081Z",
     "start_time": "2024-03-15T12:03:46.981036Z"
    }
   },
   "outputs": [],
   "source": [
    "grid_model = GridSearchCV(estimator=base_elastic_model,\n",
    "                          param_grid=param_grid,\n",
    "                          scoring='neg_root_mean_squared_error',\n",
    "                          cv=5,\n",
    "                          verbose=1)"
   ]
  },
  {
   "cell_type": "code",
   "execution_count": 33,
   "id": "8cdeab59",
   "metadata": {
    "ExecuteTime": {
     "end_time": "2024-03-15T12:08:47.813088Z",
     "start_time": "2024-03-15T12:03:47.778503Z"
    }
   },
   "outputs": [
    {
     "name": "stdout",
     "output_type": "stream",
     "text": [
      "Fitting 5 folds for each of 42 candidates, totalling 210 fits\n"
     ]
    },
    {
     "data": {
      "text/plain": [
       "GridSearchCV(cv=5, estimator=ElasticNet(max_iter=1000000),\n",
       "             param_grid={'alpha': [0.1, 1, 5, 10, 50, 100],\n",
       "                         'l1_ratio': [0.1, 0.5, 0.7, 0.9, 0.95, 0.99, 1]},\n",
       "             scoring='neg_root_mean_squared_error', verbose=1)"
      ]
     },
     "execution_count": 33,
     "metadata": {},
     "output_type": "execute_result"
    }
   ],
   "source": [
    "grid_model.fit(scaled_X_train,y_train)"
   ]
  },
  {
   "cell_type": "code",
   "execution_count": 34,
   "id": "01568ab4",
   "metadata": {
    "ExecuteTime": {
     "end_time": "2024-03-15T12:21:58.374283Z",
     "start_time": "2024-03-15T12:21:58.361098Z"
    }
   },
   "outputs": [
    {
     "data": {
      "text/plain": [
       "{'alpha': 10, 'l1_ratio': 0.99}"
      ]
     },
     "execution_count": 34,
     "metadata": {},
     "output_type": "execute_result"
    }
   ],
   "source": [
    "grid_model.best_params_"
   ]
  },
  {
   "cell_type": "code",
   "execution_count": 35,
   "id": "3b5cfff1",
   "metadata": {
    "ExecuteTime": {
     "end_time": "2024-03-15T12:22:01.300637Z",
     "start_time": "2024-03-15T12:22:01.292128Z"
    }
   },
   "outputs": [],
   "source": [
    "y_pred = grid_model.predict(scaled_X_test)"
   ]
  },
  {
   "cell_type": "code",
   "execution_count": 36,
   "id": "cf46a4fb",
   "metadata": {
    "ExecuteTime": {
     "end_time": "2024-03-15T12:22:04.319425Z",
     "start_time": "2024-03-15T12:22:04.300302Z"
    }
   },
   "outputs": [],
   "source": [
    "from sklearn.metrics import mean_absolute_error,mean_squared_error"
   ]
  },
  {
   "cell_type": "code",
   "execution_count": 37,
   "id": "003c801f",
   "metadata": {
    "ExecuteTime": {
     "end_time": "2024-03-15T12:22:05.826999Z",
     "start_time": "2024-03-15T12:22:05.804243Z"
    }
   },
   "outputs": [
    {
     "data": {
      "text/plain": [
       "18044.20957999615"
      ]
     },
     "execution_count": 37,
     "metadata": {},
     "output_type": "execute_result"
    }
   ],
   "source": [
    "mean_absolute_error(y_test,y_pred)"
   ]
  },
  {
   "cell_type": "code",
   "execution_count": 38,
   "id": "0310a668",
   "metadata": {
    "ExecuteTime": {
     "end_time": "2024-03-15T12:22:07.649239Z",
     "start_time": "2024-03-15T12:22:07.632839Z"
    }
   },
   "outputs": [
    {
     "data": {
      "text/plain": [
       "181117.1626464507"
      ]
     },
     "execution_count": 38,
     "metadata": {},
     "output_type": "execute_result"
    }
   ],
   "source": [
    "np.mean(df['SalePrice'])"
   ]
  },
  {
   "cell_type": "code",
   "execution_count": 39,
   "id": "0a841a6f",
   "metadata": {
    "ExecuteTime": {
     "end_time": "2024-03-15T12:22:10.622631Z",
     "start_time": "2024-03-15T12:22:10.614155Z"
    }
   },
   "outputs": [
    {
     "data": {
      "text/plain": [
       "1158995595.2222419"
      ]
     },
     "execution_count": 39,
     "metadata": {},
     "output_type": "execute_result"
    }
   ],
   "source": [
    "mean_squared_error(y_test,y_pred)"
   ]
  },
  {
   "cell_type": "code",
   "execution_count": 40,
   "id": "963ee5eb",
   "metadata": {
    "ExecuteTime": {
     "end_time": "2024-03-15T12:22:19.147744Z",
     "start_time": "2024-03-15T12:22:19.137615Z"
    }
   },
   "outputs": [
    {
     "data": {
      "text/plain": [
       "34044.02436878228"
      ]
     },
     "execution_count": 40,
     "metadata": {},
     "output_type": "execute_result"
    }
   ],
   "source": [
    "np.sqrt(mean_squared_error(y_test,y_pred))"
   ]
  },
  {
   "cell_type": "code",
   "execution_count": null,
   "id": "3715df50",
   "metadata": {},
   "outputs": [],
   "source": []
  }
 ],
 "metadata": {
  "kernelspec": {
   "display_name": "Python 3 (ipykernel)",
   "language": "python",
   "name": "python3"
  },
  "language_info": {
   "codemirror_mode": {
    "name": "ipython",
    "version": 3
   },
   "file_extension": ".py",
   "mimetype": "text/x-python",
   "name": "python",
   "nbconvert_exporter": "python",
   "pygments_lexer": "ipython3",
   "version": "3.9.12"
  }
 },
 "nbformat": 4,
 "nbformat_minor": 5
}
