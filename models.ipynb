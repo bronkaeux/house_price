{
 "cells": [
  {
   "cell_type": "code",
   "execution_count": 1,
   "id": "739a1f3e",
   "metadata": {
    "ExecuteTime": {
     "end_time": "2024-03-16T10:50:23.495776Z",
     "start_time": "2024-03-16T10:50:20.614236Z"
    }
   },
   "outputs": [],
   "source": [
    "import numpy as np\n",
    "import pandas as pd\n",
    "import matplotlib.pyplot as plt\n",
    "import seaborn as sns"
   ]
  },
  {
   "cell_type": "code",
   "execution_count": 2,
   "id": "919aa0ee",
   "metadata": {
    "ExecuteTime": {
     "end_time": "2024-03-16T10:50:23.541816Z",
     "start_time": "2024-03-16T10:50:23.498109Z"
    }
   },
   "outputs": [],
   "source": [
    "df = pd.read_csv('cleaned_df.csv')"
   ]
  },
  {
   "cell_type": "code",
   "execution_count": 3,
   "id": "dc0966bf",
   "metadata": {
    "ExecuteTime": {
     "end_time": "2024-03-16T10:50:23.588502Z",
     "start_time": "2024-03-16T10:50:23.543860Z"
    }
   },
   "outputs": [
    {
     "name": "stdout",
     "output_type": "stream",
     "text": [
      "<class 'pandas.core.frame.DataFrame'>\n",
      "RangeIndex: 2907 entries, 0 to 2906\n",
      "Data columns (total 76 columns):\n",
      " #   Column         Non-Null Count  Dtype  \n",
      "---  ------         --------------  -----  \n",
      " 0   LotFrontage    2907 non-null   float64\n",
      " 1   LotArea        2907 non-null   int64  \n",
      " 2   OverallQual    2907 non-null   int64  \n",
      " 3   OverallCond    2907 non-null   int64  \n",
      " 4   YearBuilt      2907 non-null   int64  \n",
      " 5   YearRemodAdd   2907 non-null   int64  \n",
      " 6   MasVnrArea     2907 non-null   float64\n",
      " 7   BsmtFinSF1     2907 non-null   float64\n",
      " 8   BsmtFinSF2     2907 non-null   float64\n",
      " 9   BsmtUnfSF      2907 non-null   float64\n",
      " 10  TotalBsmtSF    2907 non-null   float64\n",
      " 11  1stFlrSF       2907 non-null   int64  \n",
      " 12  2ndFlrSF       2907 non-null   int64  \n",
      " 13  LowQualFinSF   2907 non-null   int64  \n",
      " 14  GrLivArea      2907 non-null   int64  \n",
      " 15  BsmtFullBath   2907 non-null   float64\n",
      " 16  BsmtHalfBath   2907 non-null   float64\n",
      " 17  FullBath       2907 non-null   int64  \n",
      " 18  HalfBath       2907 non-null   int64  \n",
      " 19  BedroomAbvGr   2907 non-null   int64  \n",
      " 20  KitchenAbvGr   2907 non-null   int64  \n",
      " 21  TotRmsAbvGrd   2907 non-null   int64  \n",
      " 22  Fireplaces     2907 non-null   int64  \n",
      " 23  GarageYrBlt    2907 non-null   float64\n",
      " 24  GarageCars     2907 non-null   float64\n",
      " 25  GarageArea     2907 non-null   float64\n",
      " 26  WoodDeckSF     2907 non-null   int64  \n",
      " 27  OpenPorchSF    2907 non-null   int64  \n",
      " 28  EnclosedPorch  2907 non-null   int64  \n",
      " 29  3SsnPorch      2907 non-null   int64  \n",
      " 30  ScreenPorch    2907 non-null   int64  \n",
      " 31  PoolArea       2907 non-null   int64  \n",
      " 32  MiscVal        2907 non-null   int64  \n",
      " 33  MoSold         2907 non-null   int64  \n",
      " 34  YrSold         2907 non-null   int64  \n",
      " 35  SalePrice      1449 non-null   float64\n",
      " 36  MSSubClass     2907 non-null   int64  \n",
      " 37  MSZoning       2907 non-null   object \n",
      " 38  Street         2907 non-null   object \n",
      " 39  LotShape       2907 non-null   object \n",
      " 40  LandContour    2907 non-null   object \n",
      " 41  Utilities      2907 non-null   object \n",
      " 42  LotConfig      2907 non-null   object \n",
      " 43  LandSlope      2907 non-null   object \n",
      " 44  Neighborhood   2907 non-null   object \n",
      " 45  Condition1     2907 non-null   object \n",
      " 46  Condition2     2907 non-null   object \n",
      " 47  BldgType       2907 non-null   object \n",
      " 48  HouseStyle     2907 non-null   object \n",
      " 49  RoofStyle      2907 non-null   object \n",
      " 50  RoofMatl       2907 non-null   object \n",
      " 51  Exterior1st    2907 non-null   object \n",
      " 52  Exterior2nd    2907 non-null   object \n",
      " 53  MasVnrType     2907 non-null   object \n",
      " 54  ExterQual      2907 non-null   object \n",
      " 55  ExterCond      2907 non-null   object \n",
      " 56  Foundation     2907 non-null   object \n",
      " 57  BsmtQual       2907 non-null   object \n",
      " 58  BsmtCond       2907 non-null   object \n",
      " 59  BsmtExposure   2907 non-null   object \n",
      " 60  BsmtFinType1   2907 non-null   object \n",
      " 61  BsmtFinType2   2907 non-null   object \n",
      " 62  Heating        2907 non-null   object \n",
      " 63  HeatingQC      2907 non-null   object \n",
      " 64  CentralAir     2907 non-null   object \n",
      " 65  Electrical     2907 non-null   object \n",
      " 66  KitchenQual    2907 non-null   object \n",
      " 67  Functional     2907 non-null   object \n",
      " 68  FireplaceQu    2907 non-null   object \n",
      " 69  GarageType     2907 non-null   object \n",
      " 70  GarageFinish   2907 non-null   object \n",
      " 71  GarageQual     2907 non-null   object \n",
      " 72  GarageCond     2907 non-null   object \n",
      " 73  PavedDrive     2907 non-null   object \n",
      " 74  SaleType       2907 non-null   object \n",
      " 75  SaleCondition  2907 non-null   object \n",
      "dtypes: float64(12), int64(25), object(39)\n",
      "memory usage: 1.7+ MB\n"
     ]
    }
   ],
   "source": [
    "df.info()"
   ]
  },
  {
   "cell_type": "code",
   "execution_count": 4,
   "id": "65cb17c4",
   "metadata": {
    "ExecuteTime": {
     "end_time": "2024-03-16T10:50:23.620681Z",
     "start_time": "2024-03-16T10:50:23.591478Z"
    }
   },
   "outputs": [
    {
     "data": {
      "text/plain": [
       "Index(['LotFrontage', 'LotArea', 'OverallQual', 'OverallCond', 'YearBuilt',\n",
       "       'YearRemodAdd', 'MasVnrArea', 'BsmtFinSF1', 'BsmtFinSF2', 'BsmtUnfSF',\n",
       "       'TotalBsmtSF', '1stFlrSF', '2ndFlrSF', 'LowQualFinSF', 'GrLivArea',\n",
       "       'BsmtFullBath', 'BsmtHalfBath', 'FullBath', 'HalfBath', 'BedroomAbvGr',\n",
       "       'KitchenAbvGr', 'TotRmsAbvGrd', 'Fireplaces', 'GarageYrBlt',\n",
       "       'GarageCars', 'GarageArea', 'WoodDeckSF', 'OpenPorchSF',\n",
       "       'EnclosedPorch', '3SsnPorch', 'ScreenPorch', 'PoolArea', 'MiscVal',\n",
       "       'MoSold', 'YrSold', 'SalePrice', 'MSSubClass', 'MSZoning', 'Street',\n",
       "       'LotShape', 'LandContour', 'Utilities', 'LotConfig', 'LandSlope',\n",
       "       'Neighborhood', 'Condition1', 'Condition2', 'BldgType', 'HouseStyle',\n",
       "       'RoofStyle', 'RoofMatl', 'Exterior1st', 'Exterior2nd', 'MasVnrType',\n",
       "       'ExterQual', 'ExterCond', 'Foundation', 'BsmtQual', 'BsmtCond',\n",
       "       'BsmtExposure', 'BsmtFinType1', 'BsmtFinType2', 'Heating', 'HeatingQC',\n",
       "       'CentralAir', 'Electrical', 'KitchenQual', 'Functional', 'FireplaceQu',\n",
       "       'GarageType', 'GarageFinish', 'GarageQual', 'GarageCond', 'PavedDrive',\n",
       "       'SaleType', 'SaleCondition'],\n",
       "      dtype='object')"
      ]
     },
     "execution_count": 4,
     "metadata": {},
     "output_type": "execute_result"
    }
   ],
   "source": [
    "df.columns"
   ]
  },
  {
   "cell_type": "code",
   "execution_count": 5,
   "id": "6a153f55",
   "metadata": {
    "ExecuteTime": {
     "end_time": "2024-03-16T10:50:23.683103Z",
     "start_time": "2024-03-16T10:50:23.623623Z"
    }
   },
   "outputs": [],
   "source": [
    "df = pd.get_dummies(df, drop_first=True)"
   ]
  },
  {
   "cell_type": "code",
   "execution_count": 6,
   "id": "268a140f",
   "metadata": {
    "ExecuteTime": {
     "end_time": "2024-03-16T10:50:23.699183Z",
     "start_time": "2024-03-16T10:50:23.685605Z"
    }
   },
   "outputs": [],
   "source": [
    "# Data to be predicted\n",
    "df_to_predict = df[df['SalePrice'].isnull()]\n",
    "df_to_predict = df_to_predict.drop(['SalePrice'], axis = 1)"
   ]
  },
  {
   "cell_type": "code",
   "execution_count": 7,
   "id": "21e0feb5",
   "metadata": {
    "ExecuteTime": {
     "end_time": "2024-03-16T10:50:23.714748Z",
     "start_time": "2024-03-16T10:50:23.701138Z"
    }
   },
   "outputs": [],
   "source": [
    "df = df.dropna()"
   ]
  },
  {
   "cell_type": "code",
   "execution_count": 8,
   "id": "52d3caf7",
   "metadata": {
    "ExecuteTime": {
     "end_time": "2024-03-16T10:50:23.731357Z",
     "start_time": "2024-03-16T10:50:23.717133Z"
    }
   },
   "outputs": [],
   "source": [
    "X = df.drop('SalePrice',axis=1)\n",
    "y = df['SalePrice']"
   ]
  },
  {
   "cell_type": "code",
   "execution_count": 9,
   "id": "1cf0b758",
   "metadata": {
    "ExecuteTime": {
     "end_time": "2024-03-16T10:50:24.025952Z",
     "start_time": "2024-03-16T10:50:23.733283Z"
    }
   },
   "outputs": [],
   "source": [
    "from sklearn.model_selection import train_test_split\n",
    "\n",
    "X_train, X_test, y_train, y_test = train_test_split(X, y, test_size=0.2, random_state=101)"
   ]
  },
  {
   "cell_type": "code",
   "execution_count": 10,
   "id": "74b549ce",
   "metadata": {
    "ExecuteTime": {
     "end_time": "2024-03-16T10:50:24.057239Z",
     "start_time": "2024-03-16T10:50:24.029858Z"
    }
   },
   "outputs": [],
   "source": [
    "from sklearn.preprocessing import StandardScaler\n",
    "\n",
    "scaler = StandardScaler()\n",
    "scaler.fit(X_train)\n",
    "X_train = scaler.transform(X_train)\n",
    "X_test = scaler.transform(X_test)"
   ]
  },
  {
   "cell_type": "code",
   "execution_count": 20,
   "id": "e6b8fb01",
   "metadata": {
    "ExecuteTime": {
     "end_time": "2024-03-16T10:51:12.003504Z",
     "start_time": "2024-03-16T10:51:11.989968Z"
    }
   },
   "outputs": [],
   "source": [
    "from sklearn.linear_model import Ridge\n",
    "from sklearn.linear_model import RidgeCV\n",
    "from sklearn.linear_model import Lasso\n",
    "from sklearn.linear_model import LassoCV\n",
    "from sklearn.linear_model import ElasticNet\n",
    "from sklearn.linear_model import ElasticNetCV\n",
    "from sklearn.metrics import mean_squared_error, mean_absolute_error"
   ]
  },
  {
   "cell_type": "code",
   "execution_count": 65,
   "id": "e185bebd",
   "metadata": {
    "ExecuteTime": {
     "end_time": "2024-03-16T10:45:07.072888Z",
     "start_time": "2024-03-16T10:45:07.062361Z"
    }
   },
   "outputs": [],
   "source": [
    "\n",
    "\n",
    "lasso = Lasso()\n",
    "lassoCV = LassoCV()\n",
    "elasticnet = ElasticNet()\n",
    "elasticnetCV = ElasticNetCV()"
   ]
  },
  {
   "cell_type": "markdown",
   "id": "d51d19d7",
   "metadata": {},
   "source": [
    "## Ridge"
   ]
  },
  {
   "cell_type": "code",
   "execution_count": 95,
   "id": "8685d30c",
   "metadata": {
    "ExecuteTime": {
     "end_time": "2024-03-16T10:48:05.392117Z",
     "start_time": "2024-03-16T10:48:05.381784Z"
    }
   },
   "outputs": [],
   "source": [
    "ridge = Ridge()"
   ]
  },
  {
   "cell_type": "code",
   "execution_count": 106,
   "id": "e5e9a444",
   "metadata": {
    "ExecuteTime": {
     "end_time": "2024-03-16T10:48:35.444341Z",
     "start_time": "2024-03-16T10:48:35.430735Z"
    }
   },
   "outputs": [],
   "source": [
    "param_grid = {'alpha':[60, 70, 80, 85]}"
   ]
  },
  {
   "cell_type": "code",
   "execution_count": 107,
   "id": "27b312a2",
   "metadata": {
    "ExecuteTime": {
     "end_time": "2024-03-16T10:48:35.740922Z",
     "start_time": "2024-03-16T10:48:35.727347Z"
    }
   },
   "outputs": [],
   "source": [
    "from sklearn.model_selection import GridSearchCV"
   ]
  },
  {
   "cell_type": "code",
   "execution_count": 108,
   "id": "b866e44c",
   "metadata": {
    "ExecuteTime": {
     "end_time": "2024-03-16T10:48:36.036290Z",
     "start_time": "2024-03-16T10:48:36.025355Z"
    }
   },
   "outputs": [],
   "source": [
    "grid_model = GridSearchCV(estimator=ridge,\n",
    "                          param_grid=param_grid,\n",
    "                          scoring='neg_mean_squared_error',\n",
    "                          cv=10)"
   ]
  },
  {
   "cell_type": "code",
   "execution_count": 109,
   "id": "339e2b2f",
   "metadata": {
    "ExecuteTime": {
     "end_time": "2024-03-16T10:48:36.736987Z",
     "start_time": "2024-03-16T10:48:36.359008Z"
    }
   },
   "outputs": [
    {
     "data": {
      "text/plain": [
       "GridSearchCV(cv=10, estimator=Ridge(), param_grid={'alpha': [60, 70, 80, 85]},\n",
       "             scoring='neg_mean_squared_error')"
      ]
     },
     "execution_count": 109,
     "metadata": {},
     "output_type": "execute_result"
    }
   ],
   "source": [
    "grid_model.fit(X_train,y_train)"
   ]
  },
  {
   "cell_type": "code",
   "execution_count": 110,
   "id": "f341ca29",
   "metadata": {
    "ExecuteTime": {
     "end_time": "2024-03-16T10:48:36.831013Z",
     "start_time": "2024-03-16T10:48:36.814938Z"
    }
   },
   "outputs": [
    {
     "data": {
      "text/plain": [
       "{'alpha': 80}"
      ]
     },
     "execution_count": 110,
     "metadata": {},
     "output_type": "execute_result"
    }
   ],
   "source": [
    "grid_model.best_params_"
   ]
  },
  {
   "cell_type": "code",
   "execution_count": 111,
   "id": "2a2a883e",
   "metadata": {
    "ExecuteTime": {
     "end_time": "2024-03-16T10:48:37.880085Z",
     "start_time": "2024-03-16T10:48:37.860538Z"
    }
   },
   "outputs": [],
   "source": [
    "y_pred = grid_model.predict(X_test)"
   ]
  },
  {
   "cell_type": "code",
   "execution_count": 19,
   "id": "d738e3ff",
   "metadata": {
    "ExecuteTime": {
     "end_time": "2024-03-16T10:51:01.515420Z",
     "start_time": "2024-03-16T10:51:01.506805Z"
    }
   },
   "outputs": [],
   "source": []
  },
  {
   "cell_type": "code",
   "execution_count": 113,
   "id": "34745ed4",
   "metadata": {
    "ExecuteTime": {
     "end_time": "2024-03-16T10:48:38.989971Z",
     "start_time": "2024-03-16T10:48:38.977927Z"
    }
   },
   "outputs": [],
   "source": [
    "MAE = mean_absolute_error(y_test,y_pred)\n",
    "MSE = mean_squared_error(y_test,y_pred)\n",
    "RMSE = np.sqrt(MSE)"
   ]
  },
  {
   "cell_type": "code",
   "execution_count": 114,
   "id": "7a48b8e2",
   "metadata": {
    "ExecuteTime": {
     "end_time": "2024-03-16T10:48:39.361308Z",
     "start_time": "2024-03-16T10:48:39.340592Z"
    }
   },
   "outputs": [
    {
     "data": {
      "text/plain": [
       "15691.234530863674"
      ]
     },
     "execution_count": 114,
     "metadata": {},
     "output_type": "execute_result"
    }
   ],
   "source": [
    "MAE"
   ]
  },
  {
   "cell_type": "code",
   "execution_count": 115,
   "id": "0eccafcb",
   "metadata": {
    "ExecuteTime": {
     "end_time": "2024-03-16T10:48:39.798580Z",
     "start_time": "2024-03-16T10:48:39.783492Z"
    }
   },
   "outputs": [
    {
     "data": {
      "text/plain": [
       "23327.12714048733"
      ]
     },
     "execution_count": 115,
     "metadata": {},
     "output_type": "execute_result"
    }
   ],
   "source": [
    "RMSE"
   ]
  },
  {
   "cell_type": "markdown",
   "id": "9b58ec18",
   "metadata": {},
   "source": [
    "## RigdeCV"
   ]
  },
  {
   "cell_type": "code",
   "execution_count": 12,
   "id": "932f4e89",
   "metadata": {
    "ExecuteTime": {
     "end_time": "2024-03-16T10:50:29.778548Z",
     "start_time": "2024-03-16T10:50:29.763656Z"
    }
   },
   "outputs": [],
   "source": [
    "ridgeCV = RidgeCV(alphas=(75, 80, 85),scoring='neg_mean_absolute_error')"
   ]
  },
  {
   "cell_type": "code",
   "execution_count": 13,
   "id": "bfb9057e",
   "metadata": {
    "ExecuteTime": {
     "end_time": "2024-03-16T10:50:30.651941Z",
     "start_time": "2024-03-16T10:50:30.552482Z"
    }
   },
   "outputs": [
    {
     "data": {
      "text/plain": [
       "RidgeCV(alphas=array([60, 70, 80, 85]), scoring='neg_mean_absolute_error')"
      ]
     },
     "execution_count": 13,
     "metadata": {},
     "output_type": "execute_result"
    }
   ],
   "source": [
    "ridgeCV.fit(X_train,y_train)"
   ]
  },
  {
   "cell_type": "code",
   "execution_count": 14,
   "id": "41545091",
   "metadata": {
    "ExecuteTime": {
     "end_time": "2024-03-16T10:50:31.833806Z",
     "start_time": "2024-03-16T10:50:31.814357Z"
    }
   },
   "outputs": [
    {
     "data": {
      "text/plain": [
       "80"
      ]
     },
     "execution_count": 14,
     "metadata": {},
     "output_type": "execute_result"
    }
   ],
   "source": [
    "ridgeCV .alpha_"
   ]
  },
  {
   "cell_type": "code",
   "execution_count": 17,
   "id": "5f23a706",
   "metadata": {
    "ExecuteTime": {
     "end_time": "2024-03-16T10:50:48.132663Z",
     "start_time": "2024-03-16T10:50:48.120140Z"
    }
   },
   "outputs": [],
   "source": [
    "y_pred =ridgeCV.predict(X_test)"
   ]
  },
  {
   "cell_type": "code",
   "execution_count": 21,
   "id": "6db62b5a",
   "metadata": {
    "ExecuteTime": {
     "end_time": "2024-03-16T10:51:16.151629Z",
     "start_time": "2024-03-16T10:51:16.134885Z"
    }
   },
   "outputs": [],
   "source": [
    "MAE = mean_absolute_error(y_test,y_pred)\n",
    "MSE = mean_squared_error(y_test,y_pred)\n",
    "RMSE = np.sqrt(MSE)"
   ]
  },
  {
   "cell_type": "code",
   "execution_count": 22,
   "id": "17ae140d",
   "metadata": {
    "ExecuteTime": {
     "end_time": "2024-03-16T10:51:18.767010Z",
     "start_time": "2024-03-16T10:51:18.745936Z"
    }
   },
   "outputs": [
    {
     "data": {
      "text/plain": [
       "15691.234530863712"
      ]
     },
     "execution_count": 22,
     "metadata": {},
     "output_type": "execute_result"
    }
   ],
   "source": [
    "MAE"
   ]
  },
  {
   "cell_type": "code",
   "execution_count": 23,
   "id": "bb359052",
   "metadata": {
    "ExecuteTime": {
     "end_time": "2024-03-16T10:51:19.810466Z",
     "start_time": "2024-03-16T10:51:19.796428Z"
    }
   },
   "outputs": [
    {
     "data": {
      "text/plain": [
       "23327.127140487974"
      ]
     },
     "execution_count": 23,
     "metadata": {},
     "output_type": "execute_result"
    }
   ],
   "source": [
    "RMSE"
   ]
  },
  {
   "cell_type": "code",
   "execution_count": null,
   "id": "7f37ea3a",
   "metadata": {},
   "outputs": [],
   "source": []
  },
  {
   "cell_type": "code",
   "execution_count": null,
   "id": "ca441920",
   "metadata": {},
   "outputs": [],
   "source": []
  },
  {
   "cell_type": "code",
   "execution_count": null,
   "id": "af075a7a",
   "metadata": {},
   "outputs": [],
   "source": [
    "param_grid = {'alpha':[0.1,1,5,10,50,100],\n",
    "              'l1_ratio':[.1, .5, .7, .9, .95, .99, 1]}"
   ]
  }
 ],
 "metadata": {
  "kernelspec": {
   "display_name": "Python 3 (ipykernel)",
   "language": "python",
   "name": "python3"
  },
  "language_info": {
   "codemirror_mode": {
    "name": "ipython",
    "version": 3
   },
   "file_extension": ".py",
   "mimetype": "text/x-python",
   "name": "python",
   "nbconvert_exporter": "python",
   "pygments_lexer": "ipython3",
   "version": "3.9.12"
  }
 },
 "nbformat": 4,
 "nbformat_minor": 5
}
