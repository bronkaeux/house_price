{
 "cells": [
  {
   "cell_type": "code",
   "execution_count": 1,
   "id": "88f8549e",
   "metadata": {
    "ExecuteTime": {
     "end_time": "2024-03-13T13:21:12.390142Z",
     "start_time": "2024-03-13T13:21:10.161108Z"
    }
   },
   "outputs": [],
   "source": [
    "import numpy as np\n",
    "import pandas as pd\n",
    "import matplotlib.pyplot as plt\n",
    "import seaborn as sns"
   ]
  },
  {
   "cell_type": "code",
   "execution_count": 2,
   "id": "43314999",
   "metadata": {
    "ExecuteTime": {
     "end_time": "2024-03-13T13:21:12.452130Z",
     "start_time": "2024-03-13T13:21:12.393031Z"
    }
   },
   "outputs": [],
   "source": [
    "train = pd.read_csv('train.csv')\n",
    "test = pd.read_csv('test.csv')"
   ]
  },
  {
   "cell_type": "code",
   "execution_count": 3,
   "id": "a1540679",
   "metadata": {
    "ExecuteTime": {
     "end_time": "2024-03-13T13:21:12.468231Z",
     "start_time": "2024-03-13T13:21:12.455110Z"
    }
   },
   "outputs": [],
   "source": [
    "df = pd.concat([train, test], ignore_index=True, sort = False)"
   ]
  },
  {
   "cell_type": "code",
   "execution_count": 49,
   "id": "8e6e8640",
   "metadata": {
    "ExecuteTime": {
     "end_time": "2024-03-13T14:02:17.299840Z",
     "start_time": "2024-03-13T14:02:17.237641Z"
    }
   },
   "outputs": [
    {
     "name": "stdout",
     "output_type": "stream",
     "text": [
      "<class 'pandas.core.frame.DataFrame'>\n",
      "Int64Index: 2911 entries, 0 to 2918\n",
      "Data columns (total 81 columns):\n",
      " #   Column         Non-Null Count  Dtype  \n",
      "---  ------         --------------  -----  \n",
      " 0   Id             2911 non-null   int64  \n",
      " 1   MSSubClass     2911 non-null   int64  \n",
      " 2   MSZoning       2907 non-null   object \n",
      " 3   LotFrontage    2426 non-null   float64\n",
      " 4   LotArea        2911 non-null   int64  \n",
      " 5   Street         2911 non-null   object \n",
      " 6   Alley          197 non-null    object \n",
      " 7   LotShape       2911 non-null   object \n",
      " 8   LandContour    2911 non-null   object \n",
      " 9   Utilities      2909 non-null   object \n",
      " 10  LotConfig      2911 non-null   object \n",
      " 11  LandSlope      2911 non-null   object \n",
      " 12  Neighborhood   2911 non-null   object \n",
      " 13  Condition1     2911 non-null   object \n",
      " 14  Condition2     2911 non-null   object \n",
      " 15  BldgType       2911 non-null   object \n",
      " 16  HouseStyle     2911 non-null   object \n",
      " 17  OverallQual    2911 non-null   int64  \n",
      " 18  OverallCond    2911 non-null   int64  \n",
      " 19  YearBuilt      2911 non-null   int64  \n",
      " 20  YearRemodAdd   2911 non-null   int64  \n",
      " 21  RoofStyle      2911 non-null   object \n",
      " 22  RoofMatl       2911 non-null   object \n",
      " 23  Exterior1st    2910 non-null   object \n",
      " 24  Exterior2nd    2910 non-null   object \n",
      " 25  MasVnrType     2887 non-null   object \n",
      " 26  MasVnrArea     2888 non-null   float64\n",
      " 27  ExterQual      2911 non-null   object \n",
      " 28  ExterCond      2911 non-null   object \n",
      " 29  Foundation     2911 non-null   object \n",
      " 30  BsmtQual       2830 non-null   object \n",
      " 31  BsmtCond       2829 non-null   object \n",
      " 32  BsmtExposure   2829 non-null   object \n",
      " 33  BsmtFinType1   2832 non-null   object \n",
      " 34  BsmtFinSF1     2910 non-null   float64\n",
      " 35  BsmtFinType2   2831 non-null   object \n",
      " 36  BsmtFinSF2     2910 non-null   float64\n",
      " 37  BsmtUnfSF      2910 non-null   float64\n",
      " 38  TotalBsmtSF    2910 non-null   float64\n",
      " 39  Heating        2911 non-null   object \n",
      " 40  HeatingQC      2911 non-null   object \n",
      " 41  CentralAir     2911 non-null   object \n",
      " 42  Electrical     2910 non-null   object \n",
      " 43  1stFlrSF       2911 non-null   int64  \n",
      " 44  2ndFlrSF       2911 non-null   int64  \n",
      " 45  LowQualFinSF   2911 non-null   int64  \n",
      " 46  GrLivArea      2911 non-null   int64  \n",
      " 47  BsmtFullBath   2909 non-null   float64\n",
      " 48  BsmtHalfBath   2909 non-null   float64\n",
      " 49  FullBath       2911 non-null   int64  \n",
      " 50  HalfBath       2911 non-null   int64  \n",
      " 51  BedroomAbvGr   2911 non-null   int64  \n",
      " 52  KitchenAbvGr   2911 non-null   int64  \n",
      " 53  KitchenQual    2910 non-null   object \n",
      " 54  TotRmsAbvGrd   2911 non-null   int64  \n",
      " 55  Functional     2909 non-null   object \n",
      " 56  Fireplaces     2911 non-null   int64  \n",
      " 57  FireplaceQu    1494 non-null   object \n",
      " 58  GarageType     2756 non-null   object \n",
      " 59  GarageYrBlt    2754 non-null   float64\n",
      " 60  GarageFinish   2754 non-null   object \n",
      " 61  GarageCars     2910 non-null   float64\n",
      " 62  GarageArea     2910 non-null   float64\n",
      " 63  GarageQual     2754 non-null   object \n",
      " 64  GarageCond     2754 non-null   object \n",
      " 65  PavedDrive     2911 non-null   object \n",
      " 66  WoodDeckSF     2911 non-null   int64  \n",
      " 67  OpenPorchSF    2911 non-null   int64  \n",
      " 68  EnclosedPorch  2911 non-null   int64  \n",
      " 69  3SsnPorch      2911 non-null   int64  \n",
      " 70  ScreenPorch    2911 non-null   int64  \n",
      " 71  PoolArea       2911 non-null   int64  \n",
      " 72  PoolQC         9 non-null      object \n",
      " 73  Fence          570 non-null    object \n",
      " 74  MiscFeature    104 non-null    object \n",
      " 75  MiscVal        2911 non-null   int64  \n",
      " 76  MoSold         2911 non-null   int64  \n",
      " 77  YrSold         2911 non-null   int64  \n",
      " 78  SaleType       2910 non-null   object \n",
      " 79  SaleCondition  2911 non-null   object \n",
      " 80  SalePrice      1452 non-null   float64\n",
      "dtypes: float64(12), int64(26), object(43)\n",
      "memory usage: 1.8+ MB\n"
     ]
    }
   ],
   "source": [
    "df.info()"
   ]
  },
  {
   "cell_type": "code",
   "execution_count": 50,
   "id": "eb24139f",
   "metadata": {
    "ExecuteTime": {
     "end_time": "2024-03-13T14:02:23.786363Z",
     "start_time": "2024-03-13T14:02:23.752244Z"
    }
   },
   "outputs": [
    {
     "data": {
      "text/plain": [
       "Id               2911\n",
       "MSSubClass         16\n",
       "MSZoning            5\n",
       "LotFrontage       126\n",
       "LotArea          1944\n",
       "                 ... \n",
       "MoSold             12\n",
       "YrSold              5\n",
       "SaleType            9\n",
       "SaleCondition       6\n",
       "SalePrice         659\n",
       "Length: 81, dtype: int64"
      ]
     },
     "execution_count": 50,
     "metadata": {},
     "output_type": "execute_result"
    }
   ],
   "source": [
    "df.nunique()"
   ]
  },
  {
   "cell_type": "code",
   "execution_count": 51,
   "id": "627b23df",
   "metadata": {
    "ExecuteTime": {
     "end_time": "2024-03-13T14:02:27.090012Z",
     "start_time": "2024-03-13T14:02:27.059684Z"
    }
   },
   "outputs": [
    {
     "data": {
      "text/plain": [
       "PoolQC          2902\n",
       "MiscFeature     2807\n",
       "Alley           2714\n",
       "Fence           2341\n",
       "SalePrice       1459\n",
       "FireplaceQu     1417\n",
       "LotFrontage      485\n",
       "GarageFinish     157\n",
       "GarageQual       157\n",
       "GarageCond       157\n",
       "GarageYrBlt      157\n",
       "GarageType       155\n",
       "BsmtExposure      82\n",
       "BsmtCond          82\n",
       "BsmtQual          81\n",
       "BsmtFinType2      80\n",
       "BsmtFinType1      79\n",
       "MasVnrType        24\n",
       "MasVnrArea        23\n",
       "MSZoning           4\n",
       "dtype: int64"
      ]
     },
     "execution_count": 51,
     "metadata": {},
     "output_type": "execute_result"
    }
   ],
   "source": [
    "df.isnull().sum().sort_values(ascending=False)[:20]"
   ]
  },
  {
   "cell_type": "code",
   "execution_count": 52,
   "id": "0af5b921",
   "metadata": {
    "ExecuteTime": {
     "end_time": "2024-03-13T14:02:31.324478Z",
     "start_time": "2024-03-13T14:02:31.303177Z"
    }
   },
   "outputs": [
    {
     "data": {
      "text/plain": [
       "Ex    4\n",
       "Gd    3\n",
       "Fa    2\n",
       "Name: PoolQC, dtype: int64"
      ]
     },
     "execution_count": 52,
     "metadata": {},
     "output_type": "execute_result"
    }
   ],
   "source": [
    "df['PoolQC'].value_counts()"
   ]
  },
  {
   "cell_type": "code",
   "execution_count": 9,
   "id": "c4e1b595",
   "metadata": {
    "ExecuteTime": {
     "end_time": "2024-03-13T12:35:46.630219Z",
     "start_time": "2024-03-13T12:35:46.612099Z"
    }
   },
   "outputs": [],
   "source": [
    "df['PoolQC'] = df['PoolQC'].fillna('no_pool')"
   ]
  },
  {
   "cell_type": "code",
   "execution_count": 10,
   "id": "cfe8efb6",
   "metadata": {
    "ExecuteTime": {
     "end_time": "2024-03-13T12:35:46.785725Z",
     "start_time": "2024-03-13T12:35:46.766564Z"
    }
   },
   "outputs": [
    {
     "data": {
      "text/plain": [
       "Grvl    120\n",
       "Pave     78\n",
       "Name: Alley, dtype: int64"
      ]
     },
     "execution_count": 10,
     "metadata": {},
     "output_type": "execute_result"
    }
   ],
   "source": [
    "df['Alley'].value_counts()"
   ]
  },
  {
   "cell_type": "code",
   "execution_count": 11,
   "id": "4aa76b63",
   "metadata": {
    "ExecuteTime": {
     "end_time": "2024-03-13T12:35:47.082839Z",
     "start_time": "2024-03-13T12:35:47.069182Z"
    }
   },
   "outputs": [],
   "source": [
    "df['Alley'] = df['Alley'].fillna('No_access')"
   ]
  },
  {
   "cell_type": "code",
   "execution_count": 12,
   "id": "b372d063",
   "metadata": {
    "ExecuteTime": {
     "end_time": "2024-03-13T12:35:47.238601Z",
     "start_time": "2024-03-13T12:35:47.220537Z"
    }
   },
   "outputs": [
    {
     "data": {
      "text/plain": [
       "Shed    95\n",
       "Gar2     5\n",
       "Othr     4\n",
       "TenC     1\n",
       "Name: MiscFeature, dtype: int64"
      ]
     },
     "execution_count": 12,
     "metadata": {},
     "output_type": "execute_result"
    }
   ],
   "source": [
    "df['MiscFeature'].value_counts()"
   ]
  },
  {
   "cell_type": "code",
   "execution_count": 13,
   "id": "a92b7e52",
   "metadata": {
    "ExecuteTime": {
     "end_time": "2024-03-13T12:35:47.671052Z",
     "start_time": "2024-03-13T12:35:47.406053Z"
    }
   },
   "outputs": [],
   "source": [
    "df['MiscFeature'] = df['MiscFeature'].fillna('No_item')"
   ]
  },
  {
   "cell_type": "code",
   "execution_count": 14,
   "id": "3b5da1e3",
   "metadata": {
    "ExecuteTime": {
     "end_time": "2024-03-13T12:35:47.733833Z",
     "start_time": "2024-03-13T12:35:47.674588Z"
    }
   },
   "outputs": [
    {
     "data": {
      "text/plain": [
       "MnPrv    329\n",
       "GdPrv    118\n",
       "GdWo     112\n",
       "MnWw      12\n",
       "Name: Fence, dtype: int64"
      ]
     },
     "execution_count": 14,
     "metadata": {},
     "output_type": "execute_result"
    }
   ],
   "source": [
    "df['Fence'].value_counts()"
   ]
  },
  {
   "cell_type": "code",
   "execution_count": 15,
   "id": "534c9902",
   "metadata": {
    "ExecuteTime": {
     "end_time": "2024-03-13T12:35:47.748508Z",
     "start_time": "2024-03-13T12:35:47.737071Z"
    }
   },
   "outputs": [],
   "source": [
    "df['Fence'] = df['Fence'].fillna('No_fence')"
   ]
  },
  {
   "cell_type": "code",
   "execution_count": 16,
   "id": "c6aeebee",
   "metadata": {
    "ExecuteTime": {
     "end_time": "2024-03-13T12:35:47.857297Z",
     "start_time": "2024-03-13T12:35:47.832337Z"
    }
   },
   "outputs": [
    {
     "data": {
      "text/plain": [
       "Gd    744\n",
       "TA    592\n",
       "Fa     74\n",
       "Po     46\n",
       "Ex     43\n",
       "Name: FireplaceQu, dtype: int64"
      ]
     },
     "execution_count": 16,
     "metadata": {},
     "output_type": "execute_result"
    }
   ],
   "source": [
    "df['FireplaceQu'].value_counts()"
   ]
  },
  {
   "cell_type": "code",
   "execution_count": 17,
   "id": "fc043ec8",
   "metadata": {
    "ExecuteTime": {
     "end_time": "2024-03-13T12:35:48.152377Z",
     "start_time": "2024-03-13T12:35:48.142766Z"
    }
   },
   "outputs": [],
   "source": [
    "df['FireplaceQu'] = df['FireplaceQu'].fillna('No_Fireplace')"
   ]
  },
  {
   "cell_type": "code",
   "execution_count": 18,
   "id": "8eb7689c",
   "metadata": {
    "ExecuteTime": {
     "end_time": "2024-03-13T12:35:48.339845Z",
     "start_time": "2024-03-13T12:35:48.289927Z"
    }
   },
   "outputs": [
    {
     "data": {
      "text/plain": [
       "60.0     276\n",
       "80.0     137\n",
       "70.0     133\n",
       "50.0     117\n",
       "75.0     105\n",
       "        ... \n",
       "152.0      1\n",
       "138.0      1\n",
       "182.0      1\n",
       "168.0      1\n",
       "133.0      1\n",
       "Name: LotFrontage, Length: 128, dtype: int64"
      ]
     },
     "execution_count": 18,
     "metadata": {},
     "output_type": "execute_result"
    }
   ],
   "source": [
    "df['LotFrontage'].value_counts()"
   ]
  },
  {
   "cell_type": "code",
   "execution_count": 19,
   "id": "36992f01",
   "metadata": {
    "ExecuteTime": {
     "end_time": "2024-03-13T12:35:48.448894Z",
     "start_time": "2024-03-13T12:35:48.441341Z"
    }
   },
   "outputs": [],
   "source": [
    "df['LotFrontage'] = df['LotFrontage'].fillna(0)"
   ]
  },
  {
   "cell_type": "code",
   "execution_count": 20,
   "id": "0e39bae6",
   "metadata": {
    "ExecuteTime": {
     "end_time": "2024-03-13T12:35:48.698252Z",
     "start_time": "2024-03-13T12:35:48.600933Z"
    }
   },
   "outputs": [
    {
     "data": {
      "text/html": [
       "<div>\n",
       "<style scoped>\n",
       "    .dataframe tbody tr th:only-of-type {\n",
       "        vertical-align: middle;\n",
       "    }\n",
       "\n",
       "    .dataframe tbody tr th {\n",
       "        vertical-align: top;\n",
       "    }\n",
       "\n",
       "    .dataframe thead th {\n",
       "        text-align: right;\n",
       "    }\n",
       "</style>\n",
       "<table border=\"1\" class=\"dataframe\">\n",
       "  <thead>\n",
       "    <tr style=\"text-align: right;\">\n",
       "      <th></th>\n",
       "      <th>GarageCond</th>\n",
       "      <th>GarageYrBlt</th>\n",
       "      <th>GarageFinish</th>\n",
       "      <th>GarageQual</th>\n",
       "    </tr>\n",
       "  </thead>\n",
       "  <tbody>\n",
       "    <tr>\n",
       "      <th>39</th>\n",
       "      <td>NaN</td>\n",
       "      <td>NaN</td>\n",
       "      <td>NaN</td>\n",
       "      <td>NaN</td>\n",
       "    </tr>\n",
       "    <tr>\n",
       "      <th>48</th>\n",
       "      <td>NaN</td>\n",
       "      <td>NaN</td>\n",
       "      <td>NaN</td>\n",
       "      <td>NaN</td>\n",
       "    </tr>\n",
       "    <tr>\n",
       "      <th>78</th>\n",
       "      <td>NaN</td>\n",
       "      <td>NaN</td>\n",
       "      <td>NaN</td>\n",
       "      <td>NaN</td>\n",
       "    </tr>\n",
       "    <tr>\n",
       "      <th>88</th>\n",
       "      <td>NaN</td>\n",
       "      <td>NaN</td>\n",
       "      <td>NaN</td>\n",
       "      <td>NaN</td>\n",
       "    </tr>\n",
       "    <tr>\n",
       "      <th>89</th>\n",
       "      <td>NaN</td>\n",
       "      <td>NaN</td>\n",
       "      <td>NaN</td>\n",
       "      <td>NaN</td>\n",
       "    </tr>\n",
       "    <tr>\n",
       "      <th>...</th>\n",
       "      <td>...</td>\n",
       "      <td>...</td>\n",
       "      <td>...</td>\n",
       "      <td>...</td>\n",
       "    </tr>\n",
       "    <tr>\n",
       "      <th>2893</th>\n",
       "      <td>NaN</td>\n",
       "      <td>NaN</td>\n",
       "      <td>NaN</td>\n",
       "      <td>NaN</td>\n",
       "    </tr>\n",
       "    <tr>\n",
       "      <th>2909</th>\n",
       "      <td>NaN</td>\n",
       "      <td>NaN</td>\n",
       "      <td>NaN</td>\n",
       "      <td>NaN</td>\n",
       "    </tr>\n",
       "    <tr>\n",
       "      <th>2913</th>\n",
       "      <td>NaN</td>\n",
       "      <td>NaN</td>\n",
       "      <td>NaN</td>\n",
       "      <td>NaN</td>\n",
       "    </tr>\n",
       "    <tr>\n",
       "      <th>2914</th>\n",
       "      <td>NaN</td>\n",
       "      <td>NaN</td>\n",
       "      <td>NaN</td>\n",
       "      <td>NaN</td>\n",
       "    </tr>\n",
       "    <tr>\n",
       "      <th>2917</th>\n",
       "      <td>NaN</td>\n",
       "      <td>NaN</td>\n",
       "      <td>NaN</td>\n",
       "      <td>NaN</td>\n",
       "    </tr>\n",
       "  </tbody>\n",
       "</table>\n",
       "<p>159 rows × 4 columns</p>\n",
       "</div>"
      ],
      "text/plain": [
       "     GarageCond  GarageYrBlt GarageFinish GarageQual\n",
       "39          NaN          NaN          NaN        NaN\n",
       "48          NaN          NaN          NaN        NaN\n",
       "78          NaN          NaN          NaN        NaN\n",
       "88          NaN          NaN          NaN        NaN\n",
       "89          NaN          NaN          NaN        NaN\n",
       "...         ...          ...          ...        ...\n",
       "2893        NaN          NaN          NaN        NaN\n",
       "2909        NaN          NaN          NaN        NaN\n",
       "2913        NaN          NaN          NaN        NaN\n",
       "2914        NaN          NaN          NaN        NaN\n",
       "2917        NaN          NaN          NaN        NaN\n",
       "\n",
       "[159 rows x 4 columns]"
      ]
     },
     "execution_count": 20,
     "metadata": {},
     "output_type": "execute_result"
    }
   ],
   "source": [
    "df[df['GarageYrBlt'].isnull()==True][['GarageCond', 'GarageYrBlt', 'GarageFinish', 'GarageQual']]"
   ]
  },
  {
   "cell_type": "code",
   "execution_count": 21,
   "id": "9a1b21c1",
   "metadata": {
    "ExecuteTime": {
     "end_time": "2024-03-13T12:35:48.776161Z",
     "start_time": "2024-03-13T12:35:48.747719Z"
    }
   },
   "outputs": [
    {
     "data": {
      "text/html": [
       "<div>\n",
       "<style scoped>\n",
       "    .dataframe tbody tr th:only-of-type {\n",
       "        vertical-align: middle;\n",
       "    }\n",
       "\n",
       "    .dataframe tbody tr th {\n",
       "        vertical-align: top;\n",
       "    }\n",
       "\n",
       "    .dataframe thead th {\n",
       "        text-align: right;\n",
       "    }\n",
       "</style>\n",
       "<table border=\"1\" class=\"dataframe\">\n",
       "  <thead>\n",
       "    <tr style=\"text-align: right;\">\n",
       "      <th></th>\n",
       "      <th>GarageCond</th>\n",
       "      <th>GarageYrBlt</th>\n",
       "      <th>GarageFinish</th>\n",
       "      <th>GarageQual</th>\n",
       "    </tr>\n",
       "  </thead>\n",
       "  <tbody>\n",
       "    <tr>\n",
       "      <th>0</th>\n",
       "      <td>TA</td>\n",
       "      <td>2003.0</td>\n",
       "      <td>RFn</td>\n",
       "      <td>TA</td>\n",
       "    </tr>\n",
       "    <tr>\n",
       "      <th>1</th>\n",
       "      <td>TA</td>\n",
       "      <td>1976.0</td>\n",
       "      <td>RFn</td>\n",
       "      <td>TA</td>\n",
       "    </tr>\n",
       "    <tr>\n",
       "      <th>2</th>\n",
       "      <td>TA</td>\n",
       "      <td>2001.0</td>\n",
       "      <td>RFn</td>\n",
       "      <td>TA</td>\n",
       "    </tr>\n",
       "    <tr>\n",
       "      <th>3</th>\n",
       "      <td>TA</td>\n",
       "      <td>1998.0</td>\n",
       "      <td>Unf</td>\n",
       "      <td>TA</td>\n",
       "    </tr>\n",
       "    <tr>\n",
       "      <th>4</th>\n",
       "      <td>TA</td>\n",
       "      <td>2000.0</td>\n",
       "      <td>RFn</td>\n",
       "      <td>TA</td>\n",
       "    </tr>\n",
       "    <tr>\n",
       "      <th>...</th>\n",
       "      <td>...</td>\n",
       "      <td>...</td>\n",
       "      <td>...</td>\n",
       "      <td>...</td>\n",
       "    </tr>\n",
       "    <tr>\n",
       "      <th>2914</th>\n",
       "      <td>NaN</td>\n",
       "      <td>NaN</td>\n",
       "      <td>NaN</td>\n",
       "      <td>NaN</td>\n",
       "    </tr>\n",
       "    <tr>\n",
       "      <th>2915</th>\n",
       "      <td>TA</td>\n",
       "      <td>1970.0</td>\n",
       "      <td>Unf</td>\n",
       "      <td>TA</td>\n",
       "    </tr>\n",
       "    <tr>\n",
       "      <th>2916</th>\n",
       "      <td>TA</td>\n",
       "      <td>1960.0</td>\n",
       "      <td>Unf</td>\n",
       "      <td>TA</td>\n",
       "    </tr>\n",
       "    <tr>\n",
       "      <th>2917</th>\n",
       "      <td>NaN</td>\n",
       "      <td>NaN</td>\n",
       "      <td>NaN</td>\n",
       "      <td>NaN</td>\n",
       "    </tr>\n",
       "    <tr>\n",
       "      <th>2918</th>\n",
       "      <td>TA</td>\n",
       "      <td>1993.0</td>\n",
       "      <td>Fin</td>\n",
       "      <td>TA</td>\n",
       "    </tr>\n",
       "  </tbody>\n",
       "</table>\n",
       "<p>2919 rows × 4 columns</p>\n",
       "</div>"
      ],
      "text/plain": [
       "     GarageCond  GarageYrBlt GarageFinish GarageQual\n",
       "0            TA       2003.0          RFn         TA\n",
       "1            TA       1976.0          RFn         TA\n",
       "2            TA       2001.0          RFn         TA\n",
       "3            TA       1998.0          Unf         TA\n",
       "4            TA       2000.0          RFn         TA\n",
       "...         ...          ...          ...        ...\n",
       "2914        NaN          NaN          NaN        NaN\n",
       "2915         TA       1970.0          Unf         TA\n",
       "2916         TA       1960.0          Unf         TA\n",
       "2917        NaN          NaN          NaN        NaN\n",
       "2918         TA       1993.0          Fin         TA\n",
       "\n",
       "[2919 rows x 4 columns]"
      ]
     },
     "execution_count": 21,
     "metadata": {},
     "output_type": "execute_result"
    }
   ],
   "source": [
    "df[['GarageCond', 'GarageYrBlt', 'GarageFinish', 'GarageQual']]"
   ]
  },
  {
   "cell_type": "code",
   "execution_count": 22,
   "id": "48d11f5f",
   "metadata": {
    "ExecuteTime": {
     "end_time": "2024-03-13T12:35:49.258966Z",
     "start_time": "2024-03-13T12:35:49.242375Z"
    }
   },
   "outputs": [
    {
     "data": {
      "text/plain": [
       "2005.0    142\n",
       "2006.0    115\n",
       "2007.0    115\n",
       "2004.0     99\n",
       "2003.0     92\n",
       "         ... \n",
       "1908.0      1\n",
       "1896.0      1\n",
       "1933.0      1\n",
       "1906.0      1\n",
       "1919.0      1\n",
       "Name: GarageYrBlt, Length: 103, dtype: int64"
      ]
     },
     "execution_count": 22,
     "metadata": {},
     "output_type": "execute_result"
    }
   ],
   "source": [
    "df['GarageYrBlt'].value_counts()"
   ]
  },
  {
   "cell_type": "code",
   "execution_count": 23,
   "id": "5132649d",
   "metadata": {
    "ExecuteTime": {
     "end_time": "2024-03-13T12:35:49.321518Z",
     "start_time": "2024-03-13T12:35:49.295752Z"
    }
   },
   "outputs": [
    {
     "data": {
      "text/plain": [
       "Attchd     1723\n",
       "Detchd      779\n",
       "BuiltIn     186\n",
       "Basment      36\n",
       "2Types       23\n",
       "CarPort      15\n",
       "Name: GarageType, dtype: int64"
      ]
     },
     "execution_count": 23,
     "metadata": {},
     "output_type": "execute_result"
    }
   ],
   "source": [
    "df['GarageType'].value_counts()"
   ]
  },
  {
   "cell_type": "code",
   "execution_count": 24,
   "id": "960a44a6",
   "metadata": {
    "ExecuteTime": {
     "end_time": "2024-03-13T12:35:49.368441Z",
     "start_time": "2024-03-13T12:35:49.346613Z"
    }
   },
   "outputs": [],
   "source": [
    "df['GarageYrBlt'] = df['GarageYrBlt'].fillna(0)"
   ]
  },
  {
   "cell_type": "code",
   "execution_count": 25,
   "id": "7a920d25",
   "metadata": {
    "ExecuteTime": {
     "end_time": "2024-03-13T12:35:49.415948Z",
     "start_time": "2024-03-13T12:35:49.395807Z"
    }
   },
   "outputs": [],
   "source": [
    "df[['GarageCond', 'GarageFinish', 'GarageQual', 'GarageType']] = \\\n",
    "df[['GarageCond', 'GarageFinish', 'GarageQual', 'GarageType']].fillna('No_garage')"
   ]
  },
  {
   "cell_type": "code",
   "execution_count": 26,
   "id": "1e312943",
   "metadata": {
    "ExecuteTime": {
     "end_time": "2024-03-13T12:35:49.462314Z",
     "start_time": "2024-03-13T12:35:49.447855Z"
    }
   },
   "outputs": [
    {
     "data": {
      "text/plain": [
       "TA           2654\n",
       "No_garage     159\n",
       "Fa             74\n",
       "Gd             15\n",
       "Po             14\n",
       "Ex              3\n",
       "Name: GarageCond, dtype: int64"
      ]
     },
     "execution_count": 26,
     "metadata": {},
     "output_type": "execute_result"
    }
   ],
   "source": [
    "df['GarageCond'].value_counts()"
   ]
  },
  {
   "cell_type": "code",
   "execution_count": 27,
   "id": "c10d5ea4",
   "metadata": {
    "ExecuteTime": {
     "end_time": "2024-03-13T12:35:49.509071Z",
     "start_time": "2024-03-13T12:35:49.484930Z"
    }
   },
   "outputs": [
    {
     "data": {
      "text/plain": [
       "Unf    851\n",
       "GLQ    849\n",
       "ALQ    429\n",
       "Rec    288\n",
       "BLQ    269\n",
       "LwQ    154\n",
       "Name: BsmtFinType1, dtype: int64"
      ]
     },
     "execution_count": 27,
     "metadata": {},
     "output_type": "execute_result"
    }
   ],
   "source": [
    "df['BsmtFinType1'].value_counts()"
   ]
  },
  {
   "cell_type": "code",
   "execution_count": 28,
   "id": "12e32073",
   "metadata": {
    "ExecuteTime": {
     "end_time": "2024-03-13T12:35:49.570945Z",
     "start_time": "2024-03-13T12:35:49.513054Z"
    }
   },
   "outputs": [],
   "source": [
    "df[['BsmtExposure', 'BsmtCond', 'BsmtQual', 'BsmtFinType2', 'BsmtFinType1']] = \\\n",
    "df[['BsmtExposure', 'BsmtCond', 'BsmtQual', 'BsmtFinType2', 'BsmtFinType1']].fillna('No_basement')"
   ]
  },
  {
   "cell_type": "code",
   "execution_count": 29,
   "id": "5af37d07",
   "metadata": {
    "ExecuteTime": {
     "end_time": "2024-03-13T12:35:49.601337Z",
     "start_time": "2024-03-13T12:35:49.572952Z"
    }
   },
   "outputs": [
    {
     "data": {
      "text/plain": [
       "None       1742\n",
       "BrkFace     879\n",
       "Stone       249\n",
       "BrkCmn       25\n",
       "Name: MasVnrType, dtype: int64"
      ]
     },
     "execution_count": 29,
     "metadata": {},
     "output_type": "execute_result"
    }
   ],
   "source": [
    "df['MasVnrType'].value_counts()"
   ]
  },
  {
   "cell_type": "code",
   "execution_count": 30,
   "id": "27634a69",
   "metadata": {
    "ExecuteTime": {
     "end_time": "2024-03-13T12:35:49.647976Z",
     "start_time": "2024-03-13T12:35:49.604302Z"
    }
   },
   "outputs": [
    {
     "data": {
      "text/plain": [
       "0.0      1738\n",
       "120.0      15\n",
       "176.0      13\n",
       "200.0      13\n",
       "216.0      12\n",
       "         ... \n",
       "137.0       1\n",
       "274.0       1\n",
       "415.0       1\n",
       "760.0       1\n",
       "382.0       1\n",
       "Name: MasVnrArea, Length: 444, dtype: int64"
      ]
     },
     "execution_count": 30,
     "metadata": {},
     "output_type": "execute_result"
    }
   ],
   "source": [
    "df['MasVnrArea'].value_counts()"
   ]
  },
  {
   "cell_type": "code",
   "execution_count": 31,
   "id": "97281136",
   "metadata": {
    "ExecuteTime": {
     "end_time": "2024-03-13T12:35:49.710964Z",
     "start_time": "2024-03-13T12:35:49.651936Z"
    }
   },
   "outputs": [
    {
     "data": {
      "text/plain": [
       "{2610}"
      ]
     },
     "execution_count": 31,
     "metadata": {},
     "output_type": "execute_result"
    }
   ],
   "source": [
    "set(df[df['MasVnrType'].isnull()==True].index)-set(df[df['MasVnrArea'].isnull()==True].index)"
   ]
  },
  {
   "cell_type": "code",
   "execution_count": 32,
   "id": "80726748",
   "metadata": {
    "ExecuteTime": {
     "end_time": "2024-03-13T12:35:49.757234Z",
     "start_time": "2024-03-13T12:35:49.716481Z"
    }
   },
   "outputs": [
    {
     "data": {
      "text/html": [
       "<div>\n",
       "<style scoped>\n",
       "    .dataframe tbody tr th:only-of-type {\n",
       "        vertical-align: middle;\n",
       "    }\n",
       "\n",
       "    .dataframe tbody tr th {\n",
       "        vertical-align: top;\n",
       "    }\n",
       "\n",
       "    .dataframe thead th {\n",
       "        text-align: right;\n",
       "    }\n",
       "</style>\n",
       "<table border=\"1\" class=\"dataframe\">\n",
       "  <thead>\n",
       "    <tr style=\"text-align: right;\">\n",
       "      <th></th>\n",
       "      <th>Id</th>\n",
       "      <th>MSSubClass</th>\n",
       "      <th>MSZoning</th>\n",
       "      <th>LotFrontage</th>\n",
       "      <th>LotArea</th>\n",
       "      <th>Street</th>\n",
       "      <th>Alley</th>\n",
       "      <th>LotShape</th>\n",
       "      <th>LandContour</th>\n",
       "      <th>Utilities</th>\n",
       "      <th>...</th>\n",
       "      <th>PoolArea</th>\n",
       "      <th>PoolQC</th>\n",
       "      <th>Fence</th>\n",
       "      <th>MiscFeature</th>\n",
       "      <th>MiscVal</th>\n",
       "      <th>MoSold</th>\n",
       "      <th>YrSold</th>\n",
       "      <th>SaleType</th>\n",
       "      <th>SaleCondition</th>\n",
       "      <th>SalePrice</th>\n",
       "    </tr>\n",
       "  </thead>\n",
       "  <tbody>\n",
       "    <tr>\n",
       "      <th>234</th>\n",
       "      <td>235</td>\n",
       "      <td>60</td>\n",
       "      <td>RL</td>\n",
       "      <td>0.0</td>\n",
       "      <td>7851</td>\n",
       "      <td>Pave</td>\n",
       "      <td>No_access</td>\n",
       "      <td>Reg</td>\n",
       "      <td>Lvl</td>\n",
       "      <td>AllPub</td>\n",
       "      <td>...</td>\n",
       "      <td>0</td>\n",
       "      <td>no_pool</td>\n",
       "      <td>No_fence</td>\n",
       "      <td>No_item</td>\n",
       "      <td>0</td>\n",
       "      <td>5</td>\n",
       "      <td>2010</td>\n",
       "      <td>WD</td>\n",
       "      <td>Normal</td>\n",
       "      <td>216500.0</td>\n",
       "    </tr>\n",
       "    <tr>\n",
       "      <th>529</th>\n",
       "      <td>530</td>\n",
       "      <td>20</td>\n",
       "      <td>RL</td>\n",
       "      <td>0.0</td>\n",
       "      <td>32668</td>\n",
       "      <td>Pave</td>\n",
       "      <td>No_access</td>\n",
       "      <td>IR1</td>\n",
       "      <td>Lvl</td>\n",
       "      <td>AllPub</td>\n",
       "      <td>...</td>\n",
       "      <td>0</td>\n",
       "      <td>no_pool</td>\n",
       "      <td>No_fence</td>\n",
       "      <td>No_item</td>\n",
       "      <td>0</td>\n",
       "      <td>3</td>\n",
       "      <td>2007</td>\n",
       "      <td>WD</td>\n",
       "      <td>Alloca</td>\n",
       "      <td>200624.0</td>\n",
       "    </tr>\n",
       "    <tr>\n",
       "      <th>650</th>\n",
       "      <td>651</td>\n",
       "      <td>60</td>\n",
       "      <td>FV</td>\n",
       "      <td>65.0</td>\n",
       "      <td>8125</td>\n",
       "      <td>Pave</td>\n",
       "      <td>No_access</td>\n",
       "      <td>Reg</td>\n",
       "      <td>Lvl</td>\n",
       "      <td>AllPub</td>\n",
       "      <td>...</td>\n",
       "      <td>0</td>\n",
       "      <td>no_pool</td>\n",
       "      <td>No_fence</td>\n",
       "      <td>No_item</td>\n",
       "      <td>0</td>\n",
       "      <td>5</td>\n",
       "      <td>2008</td>\n",
       "      <td>WD</td>\n",
       "      <td>Normal</td>\n",
       "      <td>205950.0</td>\n",
       "    </tr>\n",
       "    <tr>\n",
       "      <th>936</th>\n",
       "      <td>937</td>\n",
       "      <td>20</td>\n",
       "      <td>RL</td>\n",
       "      <td>67.0</td>\n",
       "      <td>10083</td>\n",
       "      <td>Pave</td>\n",
       "      <td>No_access</td>\n",
       "      <td>Reg</td>\n",
       "      <td>Lvl</td>\n",
       "      <td>AllPub</td>\n",
       "      <td>...</td>\n",
       "      <td>0</td>\n",
       "      <td>no_pool</td>\n",
       "      <td>No_fence</td>\n",
       "      <td>No_item</td>\n",
       "      <td>0</td>\n",
       "      <td>8</td>\n",
       "      <td>2009</td>\n",
       "      <td>WD</td>\n",
       "      <td>Normal</td>\n",
       "      <td>184900.0</td>\n",
       "    </tr>\n",
       "    <tr>\n",
       "      <th>973</th>\n",
       "      <td>974</td>\n",
       "      <td>20</td>\n",
       "      <td>FV</td>\n",
       "      <td>95.0</td>\n",
       "      <td>11639</td>\n",
       "      <td>Pave</td>\n",
       "      <td>No_access</td>\n",
       "      <td>Reg</td>\n",
       "      <td>Lvl</td>\n",
       "      <td>AllPub</td>\n",
       "      <td>...</td>\n",
       "      <td>0</td>\n",
       "      <td>no_pool</td>\n",
       "      <td>No_fence</td>\n",
       "      <td>No_item</td>\n",
       "      <td>0</td>\n",
       "      <td>12</td>\n",
       "      <td>2008</td>\n",
       "      <td>New</td>\n",
       "      <td>Partial</td>\n",
       "      <td>182000.0</td>\n",
       "    </tr>\n",
       "    <tr>\n",
       "      <th>977</th>\n",
       "      <td>978</td>\n",
       "      <td>120</td>\n",
       "      <td>FV</td>\n",
       "      <td>35.0</td>\n",
       "      <td>4274</td>\n",
       "      <td>Pave</td>\n",
       "      <td>Pave</td>\n",
       "      <td>IR1</td>\n",
       "      <td>Lvl</td>\n",
       "      <td>AllPub</td>\n",
       "      <td>...</td>\n",
       "      <td>0</td>\n",
       "      <td>no_pool</td>\n",
       "      <td>No_fence</td>\n",
       "      <td>No_item</td>\n",
       "      <td>0</td>\n",
       "      <td>11</td>\n",
       "      <td>2007</td>\n",
       "      <td>New</td>\n",
       "      <td>Partial</td>\n",
       "      <td>199900.0</td>\n",
       "    </tr>\n",
       "    <tr>\n",
       "      <th>1243</th>\n",
       "      <td>1244</td>\n",
       "      <td>20</td>\n",
       "      <td>RL</td>\n",
       "      <td>107.0</td>\n",
       "      <td>13891</td>\n",
       "      <td>Pave</td>\n",
       "      <td>No_access</td>\n",
       "      <td>Reg</td>\n",
       "      <td>Lvl</td>\n",
       "      <td>AllPub</td>\n",
       "      <td>...</td>\n",
       "      <td>0</td>\n",
       "      <td>no_pool</td>\n",
       "      <td>No_fence</td>\n",
       "      <td>No_item</td>\n",
       "      <td>0</td>\n",
       "      <td>9</td>\n",
       "      <td>2006</td>\n",
       "      <td>New</td>\n",
       "      <td>Partial</td>\n",
       "      <td>465000.0</td>\n",
       "    </tr>\n",
       "    <tr>\n",
       "      <th>1278</th>\n",
       "      <td>1279</td>\n",
       "      <td>60</td>\n",
       "      <td>RL</td>\n",
       "      <td>75.0</td>\n",
       "      <td>9473</td>\n",
       "      <td>Pave</td>\n",
       "      <td>No_access</td>\n",
       "      <td>Reg</td>\n",
       "      <td>Lvl</td>\n",
       "      <td>AllPub</td>\n",
       "      <td>...</td>\n",
       "      <td>0</td>\n",
       "      <td>no_pool</td>\n",
       "      <td>No_fence</td>\n",
       "      <td>No_item</td>\n",
       "      <td>0</td>\n",
       "      <td>3</td>\n",
       "      <td>2008</td>\n",
       "      <td>WD</td>\n",
       "      <td>Normal</td>\n",
       "      <td>237000.0</td>\n",
       "    </tr>\n",
       "    <tr>\n",
       "      <th>1691</th>\n",
       "      <td>1692</td>\n",
       "      <td>60</td>\n",
       "      <td>RL</td>\n",
       "      <td>0.0</td>\n",
       "      <td>12891</td>\n",
       "      <td>Pave</td>\n",
       "      <td>No_access</td>\n",
       "      <td>IR1</td>\n",
       "      <td>Lvl</td>\n",
       "      <td>AllPub</td>\n",
       "      <td>...</td>\n",
       "      <td>0</td>\n",
       "      <td>no_pool</td>\n",
       "      <td>No_fence</td>\n",
       "      <td>No_item</td>\n",
       "      <td>0</td>\n",
       "      <td>7</td>\n",
       "      <td>2009</td>\n",
       "      <td>WD</td>\n",
       "      <td>Normal</td>\n",
       "      <td>NaN</td>\n",
       "    </tr>\n",
       "    <tr>\n",
       "      <th>1706</th>\n",
       "      <td>1707</td>\n",
       "      <td>20</td>\n",
       "      <td>FV</td>\n",
       "      <td>90.0</td>\n",
       "      <td>7993</td>\n",
       "      <td>Pave</td>\n",
       "      <td>No_access</td>\n",
       "      <td>IR1</td>\n",
       "      <td>Lvl</td>\n",
       "      <td>AllPub</td>\n",
       "      <td>...</td>\n",
       "      <td>0</td>\n",
       "      <td>no_pool</td>\n",
       "      <td>No_fence</td>\n",
       "      <td>No_item</td>\n",
       "      <td>0</td>\n",
       "      <td>10</td>\n",
       "      <td>2009</td>\n",
       "      <td>New</td>\n",
       "      <td>Partial</td>\n",
       "      <td>NaN</td>\n",
       "    </tr>\n",
       "    <tr>\n",
       "      <th>1882</th>\n",
       "      <td>1883</td>\n",
       "      <td>60</td>\n",
       "      <td>RL</td>\n",
       "      <td>70.0</td>\n",
       "      <td>8749</td>\n",
       "      <td>Pave</td>\n",
       "      <td>No_access</td>\n",
       "      <td>Reg</td>\n",
       "      <td>Lvl</td>\n",
       "      <td>AllPub</td>\n",
       "      <td>...</td>\n",
       "      <td>0</td>\n",
       "      <td>no_pool</td>\n",
       "      <td>No_fence</td>\n",
       "      <td>No_item</td>\n",
       "      <td>0</td>\n",
       "      <td>11</td>\n",
       "      <td>2009</td>\n",
       "      <td>WD</td>\n",
       "      <td>Normal</td>\n",
       "      <td>NaN</td>\n",
       "    </tr>\n",
       "    <tr>\n",
       "      <th>1992</th>\n",
       "      <td>1993</td>\n",
       "      <td>60</td>\n",
       "      <td>RL</td>\n",
       "      <td>0.0</td>\n",
       "      <td>7750</td>\n",
       "      <td>Pave</td>\n",
       "      <td>No_access</td>\n",
       "      <td>Reg</td>\n",
       "      <td>Lvl</td>\n",
       "      <td>AllPub</td>\n",
       "      <td>...</td>\n",
       "      <td>0</td>\n",
       "      <td>no_pool</td>\n",
       "      <td>No_fence</td>\n",
       "      <td>No_item</td>\n",
       "      <td>0</td>\n",
       "      <td>4</td>\n",
       "      <td>2008</td>\n",
       "      <td>WD</td>\n",
       "      <td>Normal</td>\n",
       "      <td>NaN</td>\n",
       "    </tr>\n",
       "    <tr>\n",
       "      <th>2004</th>\n",
       "      <td>2005</td>\n",
       "      <td>20</td>\n",
       "      <td>RL</td>\n",
       "      <td>87.0</td>\n",
       "      <td>10037</td>\n",
       "      <td>Pave</td>\n",
       "      <td>No_access</td>\n",
       "      <td>Reg</td>\n",
       "      <td>Lvl</td>\n",
       "      <td>AllPub</td>\n",
       "      <td>...</td>\n",
       "      <td>0</td>\n",
       "      <td>no_pool</td>\n",
       "      <td>No_fence</td>\n",
       "      <td>No_item</td>\n",
       "      <td>0</td>\n",
       "      <td>8</td>\n",
       "      <td>2008</td>\n",
       "      <td>WD</td>\n",
       "      <td>Normal</td>\n",
       "      <td>NaN</td>\n",
       "    </tr>\n",
       "    <tr>\n",
       "      <th>2041</th>\n",
       "      <td>2042</td>\n",
       "      <td>60</td>\n",
       "      <td>FV</td>\n",
       "      <td>0.0</td>\n",
       "      <td>7500</td>\n",
       "      <td>Pave</td>\n",
       "      <td>No_access</td>\n",
       "      <td>Reg</td>\n",
       "      <td>Lvl</td>\n",
       "      <td>AllPub</td>\n",
       "      <td>...</td>\n",
       "      <td>0</td>\n",
       "      <td>no_pool</td>\n",
       "      <td>No_fence</td>\n",
       "      <td>No_item</td>\n",
       "      <td>0</td>\n",
       "      <td>4</td>\n",
       "      <td>2008</td>\n",
       "      <td>WD</td>\n",
       "      <td>Normal</td>\n",
       "      <td>NaN</td>\n",
       "    </tr>\n",
       "    <tr>\n",
       "      <th>2311</th>\n",
       "      <td>2312</td>\n",
       "      <td>60</td>\n",
       "      <td>RL</td>\n",
       "      <td>59.0</td>\n",
       "      <td>15810</td>\n",
       "      <td>Pave</td>\n",
       "      <td>No_access</td>\n",
       "      <td>IR1</td>\n",
       "      <td>Lvl</td>\n",
       "      <td>AllPub</td>\n",
       "      <td>...</td>\n",
       "      <td>0</td>\n",
       "      <td>no_pool</td>\n",
       "      <td>No_fence</td>\n",
       "      <td>No_item</td>\n",
       "      <td>0</td>\n",
       "      <td>5</td>\n",
       "      <td>2007</td>\n",
       "      <td>New</td>\n",
       "      <td>Partial</td>\n",
       "      <td>NaN</td>\n",
       "    </tr>\n",
       "    <tr>\n",
       "      <th>2325</th>\n",
       "      <td>2326</td>\n",
       "      <td>80</td>\n",
       "      <td>RL</td>\n",
       "      <td>0.0</td>\n",
       "      <td>11950</td>\n",
       "      <td>Pave</td>\n",
       "      <td>No_access</td>\n",
       "      <td>IR1</td>\n",
       "      <td>Lvl</td>\n",
       "      <td>AllPub</td>\n",
       "      <td>...</td>\n",
       "      <td>0</td>\n",
       "      <td>no_pool</td>\n",
       "      <td>No_fence</td>\n",
       "      <td>No_item</td>\n",
       "      <td>0</td>\n",
       "      <td>10</td>\n",
       "      <td>2007</td>\n",
       "      <td>WD</td>\n",
       "      <td>Normal</td>\n",
       "      <td>NaN</td>\n",
       "    </tr>\n",
       "    <tr>\n",
       "      <th>2340</th>\n",
       "      <td>2341</td>\n",
       "      <td>20</td>\n",
       "      <td>RL</td>\n",
       "      <td>85.0</td>\n",
       "      <td>9965</td>\n",
       "      <td>Pave</td>\n",
       "      <td>No_access</td>\n",
       "      <td>Reg</td>\n",
       "      <td>Lvl</td>\n",
       "      <td>AllPub</td>\n",
       "      <td>...</td>\n",
       "      <td>0</td>\n",
       "      <td>no_pool</td>\n",
       "      <td>No_fence</td>\n",
       "      <td>No_item</td>\n",
       "      <td>0</td>\n",
       "      <td>9</td>\n",
       "      <td>2007</td>\n",
       "      <td>New</td>\n",
       "      <td>Partial</td>\n",
       "      <td>NaN</td>\n",
       "    </tr>\n",
       "    <tr>\n",
       "      <th>2349</th>\n",
       "      <td>2350</td>\n",
       "      <td>60</td>\n",
       "      <td>FV</td>\n",
       "      <td>112.0</td>\n",
       "      <td>12217</td>\n",
       "      <td>Pave</td>\n",
       "      <td>No_access</td>\n",
       "      <td>IR1</td>\n",
       "      <td>Lvl</td>\n",
       "      <td>AllPub</td>\n",
       "      <td>...</td>\n",
       "      <td>0</td>\n",
       "      <td>no_pool</td>\n",
       "      <td>No_fence</td>\n",
       "      <td>No_item</td>\n",
       "      <td>0</td>\n",
       "      <td>12</td>\n",
       "      <td>2007</td>\n",
       "      <td>New</td>\n",
       "      <td>Partial</td>\n",
       "      <td>NaN</td>\n",
       "    </tr>\n",
       "    <tr>\n",
       "      <th>2368</th>\n",
       "      <td>2369</td>\n",
       "      <td>120</td>\n",
       "      <td>FV</td>\n",
       "      <td>30.0</td>\n",
       "      <td>5330</td>\n",
       "      <td>Pave</td>\n",
       "      <td>Pave</td>\n",
       "      <td>IR2</td>\n",
       "      <td>Lvl</td>\n",
       "      <td>AllPub</td>\n",
       "      <td>...</td>\n",
       "      <td>0</td>\n",
       "      <td>no_pool</td>\n",
       "      <td>No_fence</td>\n",
       "      <td>No_item</td>\n",
       "      <td>0</td>\n",
       "      <td>7</td>\n",
       "      <td>2007</td>\n",
       "      <td>New</td>\n",
       "      <td>Partial</td>\n",
       "      <td>NaN</td>\n",
       "    </tr>\n",
       "    <tr>\n",
       "      <th>2592</th>\n",
       "      <td>2593</td>\n",
       "      <td>20</td>\n",
       "      <td>RL</td>\n",
       "      <td>68.0</td>\n",
       "      <td>8298</td>\n",
       "      <td>Pave</td>\n",
       "      <td>No_access</td>\n",
       "      <td>IR1</td>\n",
       "      <td>HLS</td>\n",
       "      <td>AllPub</td>\n",
       "      <td>...</td>\n",
       "      <td>0</td>\n",
       "      <td>no_pool</td>\n",
       "      <td>No_fence</td>\n",
       "      <td>No_item</td>\n",
       "      <td>0</td>\n",
       "      <td>9</td>\n",
       "      <td>2007</td>\n",
       "      <td>New</td>\n",
       "      <td>Partial</td>\n",
       "      <td>NaN</td>\n",
       "    </tr>\n",
       "    <tr>\n",
       "      <th>2610</th>\n",
       "      <td>2611</td>\n",
       "      <td>20</td>\n",
       "      <td>RL</td>\n",
       "      <td>124.0</td>\n",
       "      <td>27697</td>\n",
       "      <td>Pave</td>\n",
       "      <td>No_access</td>\n",
       "      <td>Reg</td>\n",
       "      <td>Lvl</td>\n",
       "      <td>AllPub</td>\n",
       "      <td>...</td>\n",
       "      <td>0</td>\n",
       "      <td>no_pool</td>\n",
       "      <td>No_fence</td>\n",
       "      <td>No_item</td>\n",
       "      <td>0</td>\n",
       "      <td>11</td>\n",
       "      <td>2007</td>\n",
       "      <td>COD</td>\n",
       "      <td>Abnorml</td>\n",
       "      <td>NaN</td>\n",
       "    </tr>\n",
       "    <tr>\n",
       "      <th>2657</th>\n",
       "      <td>2658</td>\n",
       "      <td>60</td>\n",
       "      <td>RL</td>\n",
       "      <td>103.0</td>\n",
       "      <td>12867</td>\n",
       "      <td>Pave</td>\n",
       "      <td>No_access</td>\n",
       "      <td>IR1</td>\n",
       "      <td>Lvl</td>\n",
       "      <td>AllPub</td>\n",
       "      <td>...</td>\n",
       "      <td>0</td>\n",
       "      <td>no_pool</td>\n",
       "      <td>No_fence</td>\n",
       "      <td>No_item</td>\n",
       "      <td>0</td>\n",
       "      <td>7</td>\n",
       "      <td>2006</td>\n",
       "      <td>New</td>\n",
       "      <td>Partial</td>\n",
       "      <td>NaN</td>\n",
       "    </tr>\n",
       "    <tr>\n",
       "      <th>2686</th>\n",
       "      <td>2687</td>\n",
       "      <td>20</td>\n",
       "      <td>RL</td>\n",
       "      <td>49.0</td>\n",
       "      <td>15218</td>\n",
       "      <td>Pave</td>\n",
       "      <td>No_access</td>\n",
       "      <td>IR1</td>\n",
       "      <td>Lvl</td>\n",
       "      <td>AllPub</td>\n",
       "      <td>...</td>\n",
       "      <td>0</td>\n",
       "      <td>no_pool</td>\n",
       "      <td>No_fence</td>\n",
       "      <td>No_item</td>\n",
       "      <td>0</td>\n",
       "      <td>9</td>\n",
       "      <td>2006</td>\n",
       "      <td>New</td>\n",
       "      <td>Partial</td>\n",
       "      <td>NaN</td>\n",
       "    </tr>\n",
       "    <tr>\n",
       "      <th>2862</th>\n",
       "      <td>2863</td>\n",
       "      <td>20</td>\n",
       "      <td>RL</td>\n",
       "      <td>75.0</td>\n",
       "      <td>8050</td>\n",
       "      <td>Pave</td>\n",
       "      <td>No_access</td>\n",
       "      <td>Reg</td>\n",
       "      <td>Lvl</td>\n",
       "      <td>AllPub</td>\n",
       "      <td>...</td>\n",
       "      <td>0</td>\n",
       "      <td>no_pool</td>\n",
       "      <td>No_fence</td>\n",
       "      <td>No_item</td>\n",
       "      <td>0</td>\n",
       "      <td>4</td>\n",
       "      <td>2006</td>\n",
       "      <td>WD</td>\n",
       "      <td>Normal</td>\n",
       "      <td>NaN</td>\n",
       "    </tr>\n",
       "  </tbody>\n",
       "</table>\n",
       "<p>24 rows × 81 columns</p>\n",
       "</div>"
      ],
      "text/plain": [
       "        Id  MSSubClass MSZoning  LotFrontage  LotArea Street      Alley  \\\n",
       "234    235          60       RL          0.0     7851   Pave  No_access   \n",
       "529    530          20       RL          0.0    32668   Pave  No_access   \n",
       "650    651          60       FV         65.0     8125   Pave  No_access   \n",
       "936    937          20       RL         67.0    10083   Pave  No_access   \n",
       "973    974          20       FV         95.0    11639   Pave  No_access   \n",
       "977    978         120       FV         35.0     4274   Pave       Pave   \n",
       "1243  1244          20       RL        107.0    13891   Pave  No_access   \n",
       "1278  1279          60       RL         75.0     9473   Pave  No_access   \n",
       "1691  1692          60       RL          0.0    12891   Pave  No_access   \n",
       "1706  1707          20       FV         90.0     7993   Pave  No_access   \n",
       "1882  1883          60       RL         70.0     8749   Pave  No_access   \n",
       "1992  1993          60       RL          0.0     7750   Pave  No_access   \n",
       "2004  2005          20       RL         87.0    10037   Pave  No_access   \n",
       "2041  2042          60       FV          0.0     7500   Pave  No_access   \n",
       "2311  2312          60       RL         59.0    15810   Pave  No_access   \n",
       "2325  2326          80       RL          0.0    11950   Pave  No_access   \n",
       "2340  2341          20       RL         85.0     9965   Pave  No_access   \n",
       "2349  2350          60       FV        112.0    12217   Pave  No_access   \n",
       "2368  2369         120       FV         30.0     5330   Pave       Pave   \n",
       "2592  2593          20       RL         68.0     8298   Pave  No_access   \n",
       "2610  2611          20       RL        124.0    27697   Pave  No_access   \n",
       "2657  2658          60       RL        103.0    12867   Pave  No_access   \n",
       "2686  2687          20       RL         49.0    15218   Pave  No_access   \n",
       "2862  2863          20       RL         75.0     8050   Pave  No_access   \n",
       "\n",
       "     LotShape LandContour Utilities  ... PoolArea   PoolQC     Fence  \\\n",
       "234       Reg         Lvl    AllPub  ...        0  no_pool  No_fence   \n",
       "529       IR1         Lvl    AllPub  ...        0  no_pool  No_fence   \n",
       "650       Reg         Lvl    AllPub  ...        0  no_pool  No_fence   \n",
       "936       Reg         Lvl    AllPub  ...        0  no_pool  No_fence   \n",
       "973       Reg         Lvl    AllPub  ...        0  no_pool  No_fence   \n",
       "977       IR1         Lvl    AllPub  ...        0  no_pool  No_fence   \n",
       "1243      Reg         Lvl    AllPub  ...        0  no_pool  No_fence   \n",
       "1278      Reg         Lvl    AllPub  ...        0  no_pool  No_fence   \n",
       "1691      IR1         Lvl    AllPub  ...        0  no_pool  No_fence   \n",
       "1706      IR1         Lvl    AllPub  ...        0  no_pool  No_fence   \n",
       "1882      Reg         Lvl    AllPub  ...        0  no_pool  No_fence   \n",
       "1992      Reg         Lvl    AllPub  ...        0  no_pool  No_fence   \n",
       "2004      Reg         Lvl    AllPub  ...        0  no_pool  No_fence   \n",
       "2041      Reg         Lvl    AllPub  ...        0  no_pool  No_fence   \n",
       "2311      IR1         Lvl    AllPub  ...        0  no_pool  No_fence   \n",
       "2325      IR1         Lvl    AllPub  ...        0  no_pool  No_fence   \n",
       "2340      Reg         Lvl    AllPub  ...        0  no_pool  No_fence   \n",
       "2349      IR1         Lvl    AllPub  ...        0  no_pool  No_fence   \n",
       "2368      IR2         Lvl    AllPub  ...        0  no_pool  No_fence   \n",
       "2592      IR1         HLS    AllPub  ...        0  no_pool  No_fence   \n",
       "2610      Reg         Lvl    AllPub  ...        0  no_pool  No_fence   \n",
       "2657      IR1         Lvl    AllPub  ...        0  no_pool  No_fence   \n",
       "2686      IR1         Lvl    AllPub  ...        0  no_pool  No_fence   \n",
       "2862      Reg         Lvl    AllPub  ...        0  no_pool  No_fence   \n",
       "\n",
       "     MiscFeature MiscVal MoSold YrSold  SaleType  SaleCondition  SalePrice  \n",
       "234      No_item       0      5   2010        WD         Normal   216500.0  \n",
       "529      No_item       0      3   2007        WD         Alloca   200624.0  \n",
       "650      No_item       0      5   2008        WD         Normal   205950.0  \n",
       "936      No_item       0      8   2009        WD         Normal   184900.0  \n",
       "973      No_item       0     12   2008       New        Partial   182000.0  \n",
       "977      No_item       0     11   2007       New        Partial   199900.0  \n",
       "1243     No_item       0      9   2006       New        Partial   465000.0  \n",
       "1278     No_item       0      3   2008        WD         Normal   237000.0  \n",
       "1691     No_item       0      7   2009        WD         Normal        NaN  \n",
       "1706     No_item       0     10   2009       New        Partial        NaN  \n",
       "1882     No_item       0     11   2009        WD         Normal        NaN  \n",
       "1992     No_item       0      4   2008        WD         Normal        NaN  \n",
       "2004     No_item       0      8   2008        WD         Normal        NaN  \n",
       "2041     No_item       0      4   2008        WD         Normal        NaN  \n",
       "2311     No_item       0      5   2007       New        Partial        NaN  \n",
       "2325     No_item       0     10   2007        WD         Normal        NaN  \n",
       "2340     No_item       0      9   2007       New        Partial        NaN  \n",
       "2349     No_item       0     12   2007       New        Partial        NaN  \n",
       "2368     No_item       0      7   2007       New        Partial        NaN  \n",
       "2592     No_item       0      9   2007       New        Partial        NaN  \n",
       "2610     No_item       0     11   2007       COD        Abnorml        NaN  \n",
       "2657     No_item       0      7   2006       New        Partial        NaN  \n",
       "2686     No_item       0      9   2006       New        Partial        NaN  \n",
       "2862     No_item       0      4   2006        WD         Normal        NaN  \n",
       "\n",
       "[24 rows x 81 columns]"
      ]
     },
     "execution_count": 32,
     "metadata": {},
     "output_type": "execute_result"
    }
   ],
   "source": [
    "df[df['MasVnrType'].isnull()==True]"
   ]
  },
  {
   "cell_type": "code",
   "execution_count": 33,
   "id": "f0d3cdbe",
   "metadata": {
    "ExecuteTime": {
     "end_time": "2024-03-13T12:35:49.803979Z",
     "start_time": "2024-03-13T12:35:49.759181Z"
    }
   },
   "outputs": [],
   "source": [
    "df['MasVnrType'] = df['MasVnrType'].fillna('None')"
   ]
  },
  {
   "cell_type": "code",
   "execution_count": 34,
   "id": "3a1d0cac",
   "metadata": {
    "ExecuteTime": {
     "end_time": "2024-03-13T12:35:49.851510Z",
     "start_time": "2024-03-13T12:35:49.806498Z"
    }
   },
   "outputs": [],
   "source": [
    "df['MasVnrArea'] = df['MasVnrArea'].fillna(0)"
   ]
  },
  {
   "cell_type": "code",
   "execution_count": 35,
   "id": "e8eef2f6",
   "metadata": {
    "ExecuteTime": {
     "end_time": "2024-03-13T12:35:49.882058Z",
     "start_time": "2024-03-13T12:35:49.854511Z"
    }
   },
   "outputs": [
    {
     "data": {
      "text/plain": [
       "RL         2265\n",
       "RM          460\n",
       "FV          139\n",
       "RH           26\n",
       "C (all)      25\n",
       "Name: MSZoning, dtype: int64"
      ]
     },
     "execution_count": 35,
     "metadata": {},
     "output_type": "execute_result"
    }
   ],
   "source": [
    "df['MSZoning'].value_counts()"
   ]
  },
  {
   "cell_type": "code",
   "execution_count": 36,
   "id": "d7dc8152",
   "metadata": {
    "ExecuteTime": {
     "end_time": "2024-03-13T12:35:49.929736Z",
     "start_time": "2024-03-13T12:35:49.885988Z"
    }
   },
   "outputs": [],
   "source": [
    "df['MSZoning'] = df['MSZoning'].fillna('None')"
   ]
  },
  {
   "cell_type": "code",
   "execution_count": 37,
   "id": "8dcff3de",
   "metadata": {
    "ExecuteTime": {
     "end_time": "2024-03-13T12:35:50.039046Z",
     "start_time": "2024-03-13T12:35:49.932741Z"
    }
   },
   "outputs": [
    {
     "data": {
      "text/plain": [
       "0.0    1705\n",
       "1.0    1172\n",
       "2.0      38\n",
       "3.0       2\n",
       "Name: BsmtFullBath, dtype: int64"
      ]
     },
     "execution_count": 37,
     "metadata": {},
     "output_type": "execute_result"
    }
   ],
   "source": [
    "df['BsmtFullBath'].value_counts()"
   ]
  },
  {
   "cell_type": "code",
   "execution_count": 38,
   "id": "8d26b718",
   "metadata": {
    "ExecuteTime": {
     "end_time": "2024-03-13T12:35:50.085790Z",
     "start_time": "2024-03-13T12:35:50.041046Z"
    }
   },
   "outputs": [],
   "source": [
    "df['BsmtFullBath'] = df['BsmtFullBath'].fillna(0)"
   ]
  },
  {
   "cell_type": "code",
   "execution_count": 39,
   "id": "bd7ed122",
   "metadata": {
    "ExecuteTime": {
     "end_time": "2024-03-13T12:35:50.132898Z",
     "start_time": "2024-03-13T12:35:50.089003Z"
    }
   },
   "outputs": [
    {
     "data": {
      "text/plain": [
       "0.0    2742\n",
       "1.0     171\n",
       "2.0       4\n",
       "Name: BsmtHalfBath, dtype: int64"
      ]
     },
     "execution_count": 39,
     "metadata": {},
     "output_type": "execute_result"
    }
   ],
   "source": [
    "df['BsmtHalfBath'].value_counts()"
   ]
  },
  {
   "cell_type": "code",
   "execution_count": 40,
   "id": "550f2a3a",
   "metadata": {
    "ExecuteTime": {
     "end_time": "2024-03-13T12:35:50.164021Z",
     "start_time": "2024-03-13T12:35:50.136916Z"
    }
   },
   "outputs": [],
   "source": [
    "df['BsmtHalfBath'] = df['BsmtHalfBath'].fillna(0)"
   ]
  },
  {
   "cell_type": "code",
   "execution_count": 41,
   "id": "f753a8ff",
   "metadata": {
    "ExecuteTime": {
     "end_time": "2024-03-13T12:35:50.210689Z",
     "start_time": "2024-03-13T12:35:50.165533Z"
    }
   },
   "outputs": [
    {
     "data": {
      "text/plain": [
       "AllPub    2916\n",
       "NoSeWa       1\n",
       "Name: Utilities, dtype: int64"
      ]
     },
     "execution_count": 41,
     "metadata": {},
     "output_type": "execute_result"
    }
   ],
   "source": [
    "df['Utilities'].value_counts()"
   ]
  },
  {
   "cell_type": "code",
   "execution_count": 42,
   "id": "0879784b",
   "metadata": {
    "ExecuteTime": {
     "end_time": "2024-03-13T12:35:50.256813Z",
     "start_time": "2024-03-13T12:35:50.214683Z"
    }
   },
   "outputs": [],
   "source": [
    "df['Utilities'] = df['Utilities'].fillna(df['Utilities'].mode()[0])"
   ]
  },
  {
   "cell_type": "code",
   "execution_count": 43,
   "id": "4a5cf98e",
   "metadata": {
    "ExecuteTime": {
     "end_time": "2024-03-13T12:35:50.303341Z",
     "start_time": "2024-03-13T12:35:50.259810Z"
    }
   },
   "outputs": [
    {
     "data": {
      "text/plain": [
       "Typ     2717\n",
       "Min2      70\n",
       "Min1      65\n",
       "Mod       35\n",
       "Maj1      19\n",
       "Maj2       9\n",
       "Sev        2\n",
       "Name: Functional, dtype: int64"
      ]
     },
     "execution_count": 43,
     "metadata": {},
     "output_type": "execute_result"
    }
   ],
   "source": [
    "df['Functional'].value_counts()"
   ]
  },
  {
   "cell_type": "code",
   "execution_count": 44,
   "id": "0b14d984",
   "metadata": {
    "ExecuteTime": {
     "end_time": "2024-03-13T12:35:50.349534Z",
     "start_time": "2024-03-13T12:35:50.306880Z"
    }
   },
   "outputs": [],
   "source": [
    "df['Functional'] = df['Functional'].fillna(df['Functional'].mode()[0])"
   ]
  },
  {
   "cell_type": "code",
   "execution_count": 45,
   "id": "dc20a685",
   "metadata": {
    "ExecuteTime": {
     "end_time": "2024-03-13T12:35:50.395880Z",
     "start_time": "2024-03-13T12:35:50.351546Z"
    }
   },
   "outputs": [
    {
     "data": {
      "text/plain": [
       "0.0       241\n",
       "384.0      19\n",
       "728.0      14\n",
       "672.0      13\n",
       "600.0      12\n",
       "         ... \n",
       "257.0       1\n",
       "1217.0      1\n",
       "539.0       1\n",
       "39.0        1\n",
       "1503.0      1\n",
       "Name: BsmtUnfSF, Length: 1135, dtype: int64"
      ]
     },
     "execution_count": 45,
     "metadata": {},
     "output_type": "execute_result"
    }
   ],
   "source": [
    "df['BsmtUnfSF'].value_counts()"
   ]
  },
  {
   "cell_type": "code",
   "execution_count": 46,
   "id": "5279ffe0",
   "metadata": {
    "ExecuteTime": {
     "end_time": "2024-03-13T12:35:50.443706Z",
     "start_time": "2024-03-13T12:35:50.399423Z"
    }
   },
   "outputs": [],
   "source": [
    "df['BsmtUnfSF'] = df['BsmtUnfSF'].fillna(0)"
   ]
  },
  {
   "cell_type": "code",
   "execution_count": 47,
   "id": "df462e43",
   "metadata": {
    "ExecuteTime": {
     "end_time": "2024-03-13T12:35:50.474194Z",
     "start_time": "2024-03-13T12:35:50.446799Z"
    }
   },
   "outputs": [
    {
     "data": {
      "text/plain": [
       "0.0       2571\n",
       "180.0        5\n",
       "294.0        5\n",
       "435.0        3\n",
       "483.0        3\n",
       "          ... \n",
       "600.0        1\n",
       "211.0        1\n",
       "1031.0       1\n",
       "438.0        1\n",
       "297.0        1\n",
       "Name: BsmtFinSF2, Length: 272, dtype: int64"
      ]
     },
     "execution_count": 47,
     "metadata": {},
     "output_type": "execute_result"
    }
   ],
   "source": [
    "df['BsmtFinSF2'].value_counts()"
   ]
  },
  {
   "cell_type": "code",
   "execution_count": 48,
   "id": "4671f9e6",
   "metadata": {
    "ExecuteTime": {
     "end_time": "2024-03-13T12:35:50.490168Z",
     "start_time": "2024-03-13T12:35:50.479741Z"
    }
   },
   "outputs": [],
   "source": [
    "df['BsmtFinSF2'] = df['BsmtFinSF2'].fillna(0)"
   ]
  },
  {
   "cell_type": "code",
   "execution_count": 49,
   "id": "a8a1df46",
   "metadata": {
    "ExecuteTime": {
     "end_time": "2024-03-13T12:35:50.568356Z",
     "start_time": "2024-03-13T12:35:50.554142Z"
    }
   },
   "outputs": [
    {
     "data": {
      "text/plain": [
       "0.0       929\n",
       "24.0       27\n",
       "16.0       14\n",
       "300.0       9\n",
       "288.0       8\n",
       "         ... \n",
       "383.0       1\n",
       "1085.0      1\n",
       "900.0       1\n",
       "1022.0      1\n",
       "337.0       1\n",
       "Name: BsmtFinSF1, Length: 991, dtype: int64"
      ]
     },
     "execution_count": 49,
     "metadata": {},
     "output_type": "execute_result"
    }
   ],
   "source": [
    "df['BsmtFinSF1'].value_counts()"
   ]
  },
  {
   "cell_type": "code",
   "execution_count": 50,
   "id": "80080546",
   "metadata": {
    "ExecuteTime": {
     "end_time": "2024-03-13T12:35:50.973207Z",
     "start_time": "2024-03-13T12:35:50.952980Z"
    }
   },
   "outputs": [],
   "source": [
    "df['BsmtFinSF1'] = df['BsmtFinSF1'].fillna(0)"
   ]
  },
  {
   "cell_type": "code",
   "execution_count": 51,
   "id": "2a57fa33",
   "metadata": {
    "ExecuteTime": {
     "end_time": "2024-03-13T12:35:51.176235Z",
     "start_time": "2024-03-13T12:35:51.152640Z"
    }
   },
   "outputs": [
    {
     "data": {
      "text/plain": [
       "VinylSd    1025\n",
       "MetalSd     450\n",
       "HdBoard     442\n",
       "Wd Sdng     411\n",
       "Plywood     221\n",
       "CemntBd     126\n",
       "BrkFace      87\n",
       "WdShing      56\n",
       "AsbShng      44\n",
       "Stucco       43\n",
       "BrkComm       6\n",
       "AsphShn       2\n",
       "Stone         2\n",
       "CBlock        2\n",
       "ImStucc       1\n",
       "Name: Exterior1st, dtype: int64"
      ]
     },
     "execution_count": 51,
     "metadata": {},
     "output_type": "execute_result"
    }
   ],
   "source": [
    "df['Exterior1st'].value_counts()"
   ]
  },
  {
   "cell_type": "code",
   "execution_count": 52,
   "id": "91335c2c",
   "metadata": {
    "ExecuteTime": {
     "end_time": "2024-03-13T12:35:51.378007Z",
     "start_time": "2024-03-13T12:35:51.354634Z"
    }
   },
   "outputs": [],
   "source": [
    "df['Exterior1st'] = df['Exterior1st'].fillna(df['Exterior1st'].mode()[0])"
   ]
  },
  {
   "cell_type": "code",
   "execution_count": 53,
   "id": "1bc9a3c2",
   "metadata": {
    "ExecuteTime": {
     "end_time": "2024-03-13T12:35:51.503039Z",
     "start_time": "2024-03-13T12:35:51.490428Z"
    }
   },
   "outputs": [
    {
     "data": {
      "text/plain": [
       "0.0       157\n",
       "576.0      97\n",
       "440.0      96\n",
       "240.0      69\n",
       "484.0      68\n",
       "         ... \n",
       "872.0       1\n",
       "923.0       1\n",
       "192.0       1\n",
       "1025.0      1\n",
       "272.0       1\n",
       "Name: GarageArea, Length: 603, dtype: int64"
      ]
     },
     "execution_count": 53,
     "metadata": {},
     "output_type": "execute_result"
    }
   ],
   "source": [
    "df['GarageArea'].value_counts()"
   ]
  },
  {
   "cell_type": "code",
   "execution_count": 54,
   "id": "ef80ce61",
   "metadata": {
    "ExecuteTime": {
     "end_time": "2024-03-13T12:35:51.876031Z",
     "start_time": "2024-03-13T12:35:51.860248Z"
    }
   },
   "outputs": [],
   "source": [
    "df['GarageArea'] = df['GarageArea'].fillna(0)"
   ]
  },
  {
   "cell_type": "code",
   "execution_count": 55,
   "id": "df335c25",
   "metadata": {
    "ExecuteTime": {
     "end_time": "2024-03-13T12:35:52.218872Z",
     "start_time": "2024-03-13T12:35:52.203499Z"
    }
   },
   "outputs": [
    {
     "data": {
      "text/plain": [
       "SBrkr    2671\n",
       "FuseA     188\n",
       "FuseF      50\n",
       "FuseP       8\n",
       "Mix         1\n",
       "Name: Electrical, dtype: int64"
      ]
     },
     "execution_count": 55,
     "metadata": {},
     "output_type": "execute_result"
    }
   ],
   "source": [
    "df['Electrical'].value_counts()"
   ]
  },
  {
   "cell_type": "code",
   "execution_count": 56,
   "id": "1d9aebb7",
   "metadata": {
    "ExecuteTime": {
     "end_time": "2024-03-13T12:35:52.436194Z",
     "start_time": "2024-03-13T12:35:52.419852Z"
    }
   },
   "outputs": [],
   "source": [
    "df['Electrical'] = df['Electrical'].fillna(df['Electrical'].mode()[0])"
   ]
  },
  {
   "cell_type": "code",
   "execution_count": 57,
   "id": "4012700c",
   "metadata": {
    "ExecuteTime": {
     "end_time": "2024-03-13T12:35:52.636997Z",
     "start_time": "2024-03-13T12:35:52.613857Z"
    }
   },
   "outputs": [
    {
     "data": {
      "text/plain": [
       "VinylSd    1014\n",
       "MetalSd     447\n",
       "HdBoard     406\n",
       "Wd Sdng     391\n",
       "Plywood     270\n",
       "CmentBd     126\n",
       "Wd Shng      81\n",
       "BrkFace      47\n",
       "Stucco       47\n",
       "AsbShng      38\n",
       "Brk Cmn      22\n",
       "ImStucc      15\n",
       "Stone         6\n",
       "AsphShn       4\n",
       "CBlock        3\n",
       "Other         1\n",
       "Name: Exterior2nd, dtype: int64"
      ]
     },
     "execution_count": 57,
     "metadata": {},
     "output_type": "execute_result"
    }
   ],
   "source": [
    "df['Exterior2nd'].value_counts()"
   ]
  },
  {
   "cell_type": "code",
   "execution_count": 58,
   "id": "98d675b7",
   "metadata": {
    "ExecuteTime": {
     "end_time": "2024-03-13T12:35:52.778110Z",
     "start_time": "2024-03-13T12:35:52.764961Z"
    }
   },
   "outputs": [],
   "source": [
    "df['Exterior2nd'] = df['Exterior2nd'].fillna(df['Exterior2nd'].mode()[0])"
   ]
  },
  {
   "cell_type": "code",
   "execution_count": 59,
   "id": "939521bd",
   "metadata": {
    "ExecuteTime": {
     "end_time": "2024-03-13T12:35:52.982818Z",
     "start_time": "2024-03-13T12:35:52.960916Z"
    }
   },
   "outputs": [
    {
     "data": {
      "text/plain": [
       "TA    1492\n",
       "Gd    1151\n",
       "Ex     205\n",
       "Fa      70\n",
       "Name: KitchenQual, dtype: int64"
      ]
     },
     "execution_count": 59,
     "metadata": {},
     "output_type": "execute_result"
    }
   ],
   "source": [
    "df['KitchenQual'].value_counts() "
   ]
  },
  {
   "cell_type": "code",
   "execution_count": 60,
   "id": "37bdd223",
   "metadata": {
    "ExecuteTime": {
     "end_time": "2024-03-13T12:35:53.169816Z",
     "start_time": "2024-03-13T12:35:53.150656Z"
    }
   },
   "outputs": [],
   "source": [
    "df['KitchenQual'] = df['KitchenQual'].fillna(df['KitchenQual'].mode()[0])"
   ]
  },
  {
   "cell_type": "code",
   "execution_count": 61,
   "id": "c4433154",
   "metadata": {
    "ExecuteTime": {
     "end_time": "2024-03-13T12:35:53.355873Z",
     "start_time": "2024-03-13T12:35:53.343239Z"
    }
   },
   "outputs": [
    {
     "data": {
      "text/plain": [
       "WD       2525\n",
       "New       239\n",
       "COD        87\n",
       "ConLD      26\n",
       "CWD        12\n",
       "ConLI       9\n",
       "ConLw       8\n",
       "Oth         7\n",
       "Con         5\n",
       "Name: SaleType, dtype: int64"
      ]
     },
     "execution_count": 61,
     "metadata": {},
     "output_type": "execute_result"
    }
   ],
   "source": [
    "df['SaleType'].value_counts() "
   ]
  },
  {
   "cell_type": "code",
   "execution_count": 62,
   "id": "a03053dc",
   "metadata": {
    "ExecuteTime": {
     "end_time": "2024-03-13T12:35:53.544965Z",
     "start_time": "2024-03-13T12:35:53.527465Z"
    }
   },
   "outputs": [],
   "source": [
    "df['SaleType'] = df['SaleType'].fillna(df['SaleType'].mode()[0])"
   ]
  },
  {
   "cell_type": "code",
   "execution_count": 63,
   "id": "603c12dd",
   "metadata": {
    "ExecuteTime": {
     "end_time": "2024-03-13T12:35:53.732996Z",
     "start_time": "2024-03-13T12:35:53.719472Z"
    }
   },
   "outputs": [
    {
     "data": {
      "text/plain": [
       "0.0       78\n",
       "864.0     74\n",
       "672.0     29\n",
       "912.0     26\n",
       "1040.0    25\n",
       "          ..\n",
       "1571.0     1\n",
       "2633.0     1\n",
       "757.0      1\n",
       "873.0      1\n",
       "1381.0     1\n",
       "Name: TotalBsmtSF, Length: 1058, dtype: int64"
      ]
     },
     "execution_count": 63,
     "metadata": {},
     "output_type": "execute_result"
    }
   ],
   "source": [
    "df['TotalBsmtSF'].value_counts() "
   ]
  },
  {
   "cell_type": "code",
   "execution_count": 64,
   "id": "e4bb9978",
   "metadata": {
    "ExecuteTime": {
     "end_time": "2024-03-13T12:35:54.061703Z",
     "start_time": "2024-03-13T12:35:54.043563Z"
    }
   },
   "outputs": [],
   "source": [
    "df['TotalBsmtSF'] = df['TotalBsmtSF'].fillna(0)"
   ]
  },
  {
   "cell_type": "code",
   "execution_count": 65,
   "id": "a5bb7518",
   "metadata": {
    "ExecuteTime": {
     "end_time": "2024-03-13T12:35:54.386351Z",
     "start_time": "2024-03-13T12:35:54.365625Z"
    }
   },
   "outputs": [
    {
     "data": {
      "text/plain": [
       "2.0    1594\n",
       "1.0     776\n",
       "3.0     374\n",
       "0.0     157\n",
       "4.0      16\n",
       "5.0       1\n",
       "Name: GarageCars, dtype: int64"
      ]
     },
     "execution_count": 65,
     "metadata": {},
     "output_type": "execute_result"
    }
   ],
   "source": [
    "df['GarageCars'].value_counts() "
   ]
  },
  {
   "cell_type": "code",
   "execution_count": 66,
   "id": "16987111",
   "metadata": {
    "ExecuteTime": {
     "end_time": "2024-03-13T12:35:54.929863Z",
     "start_time": "2024-03-13T12:35:54.913630Z"
    }
   },
   "outputs": [],
   "source": [
    "df['GarageCars'] = df['GarageCars'].fillna(df['GarageCars'].mode()[0])"
   ]
  },
  {
   "cell_type": "code",
   "execution_count": 67,
   "id": "498e1646",
   "metadata": {
    "ExecuteTime": {
     "end_time": "2024-03-13T12:35:55.429535Z",
     "start_time": "2024-03-13T12:35:55.375928Z"
    }
   },
   "outputs": [
    {
     "data": {
      "text/plain": [
       "SalePrice       1459\n",
       "CentralAir         0\n",
       "GarageYrBlt        0\n",
       "GarageType         0\n",
       "FireplaceQu        0\n",
       "Fireplaces         0\n",
       "Functional         0\n",
       "TotRmsAbvGrd       0\n",
       "KitchenQual        0\n",
       "KitchenAbvGr       0\n",
       "BedroomAbvGr       0\n",
       "HalfBath           0\n",
       "FullBath           0\n",
       "BsmtHalfBath       0\n",
       "BsmtFullBath       0\n",
       "GrLivArea          0\n",
       "LowQualFinSF       0\n",
       "2ndFlrSF           0\n",
       "1stFlrSF           0\n",
       "GarageFinish       0\n",
       "dtype: int64"
      ]
     },
     "execution_count": 67,
     "metadata": {},
     "output_type": "execute_result"
    }
   ],
   "source": [
    "df.isnull().sum().sort_values(ascending=False)[:20]"
   ]
  },
  {
   "cell_type": "code",
   "execution_count": 6,
   "id": "29237d3b",
   "metadata": {
    "ExecuteTime": {
     "end_time": "2024-03-13T13:02:11.255489Z",
     "start_time": "2024-03-13T13:02:11.214390Z"
    },
    "scrolled": true
   },
   "outputs": [
    {
     "data": {
      "text/html": [
       "<div>\n",
       "<style scoped>\n",
       "    .dataframe tbody tr th:only-of-type {\n",
       "        vertical-align: middle;\n",
       "    }\n",
       "\n",
       "    .dataframe tbody tr th {\n",
       "        vertical-align: top;\n",
       "    }\n",
       "\n",
       "    .dataframe thead th {\n",
       "        text-align: right;\n",
       "    }\n",
       "</style>\n",
       "<table border=\"1\" class=\"dataframe\">\n",
       "  <thead>\n",
       "    <tr style=\"text-align: right;\">\n",
       "      <th></th>\n",
       "      <th>Id</th>\n",
       "      <th>MSSubClass</th>\n",
       "      <th>MSZoning</th>\n",
       "      <th>LotFrontage</th>\n",
       "      <th>LotArea</th>\n",
       "      <th>Street</th>\n",
       "      <th>Alley</th>\n",
       "      <th>LotShape</th>\n",
       "      <th>LandContour</th>\n",
       "      <th>Utilities</th>\n",
       "      <th>...</th>\n",
       "      <th>PoolArea</th>\n",
       "      <th>PoolQC</th>\n",
       "      <th>Fence</th>\n",
       "      <th>MiscFeature</th>\n",
       "      <th>MiscVal</th>\n",
       "      <th>MoSold</th>\n",
       "      <th>YrSold</th>\n",
       "      <th>SaleType</th>\n",
       "      <th>SaleCondition</th>\n",
       "      <th>SalePrice</th>\n",
       "    </tr>\n",
       "  </thead>\n",
       "  <tbody>\n",
       "    <tr>\n",
       "      <th>0</th>\n",
       "      <td>1</td>\n",
       "      <td>60</td>\n",
       "      <td>RL</td>\n",
       "      <td>65.0</td>\n",
       "      <td>8450</td>\n",
       "      <td>Pave</td>\n",
       "      <td>NaN</td>\n",
       "      <td>Reg</td>\n",
       "      <td>Lvl</td>\n",
       "      <td>AllPub</td>\n",
       "      <td>...</td>\n",
       "      <td>0</td>\n",
       "      <td>NaN</td>\n",
       "      <td>NaN</td>\n",
       "      <td>NaN</td>\n",
       "      <td>0</td>\n",
       "      <td>2</td>\n",
       "      <td>2008</td>\n",
       "      <td>WD</td>\n",
       "      <td>Normal</td>\n",
       "      <td>208500.0</td>\n",
       "    </tr>\n",
       "    <tr>\n",
       "      <th>1</th>\n",
       "      <td>2</td>\n",
       "      <td>20</td>\n",
       "      <td>RL</td>\n",
       "      <td>80.0</td>\n",
       "      <td>9600</td>\n",
       "      <td>Pave</td>\n",
       "      <td>NaN</td>\n",
       "      <td>Reg</td>\n",
       "      <td>Lvl</td>\n",
       "      <td>AllPub</td>\n",
       "      <td>...</td>\n",
       "      <td>0</td>\n",
       "      <td>NaN</td>\n",
       "      <td>NaN</td>\n",
       "      <td>NaN</td>\n",
       "      <td>0</td>\n",
       "      <td>5</td>\n",
       "      <td>2007</td>\n",
       "      <td>WD</td>\n",
       "      <td>Normal</td>\n",
       "      <td>181500.0</td>\n",
       "    </tr>\n",
       "    <tr>\n",
       "      <th>2</th>\n",
       "      <td>3</td>\n",
       "      <td>60</td>\n",
       "      <td>RL</td>\n",
       "      <td>68.0</td>\n",
       "      <td>11250</td>\n",
       "      <td>Pave</td>\n",
       "      <td>NaN</td>\n",
       "      <td>IR1</td>\n",
       "      <td>Lvl</td>\n",
       "      <td>AllPub</td>\n",
       "      <td>...</td>\n",
       "      <td>0</td>\n",
       "      <td>NaN</td>\n",
       "      <td>NaN</td>\n",
       "      <td>NaN</td>\n",
       "      <td>0</td>\n",
       "      <td>9</td>\n",
       "      <td>2008</td>\n",
       "      <td>WD</td>\n",
       "      <td>Normal</td>\n",
       "      <td>223500.0</td>\n",
       "    </tr>\n",
       "    <tr>\n",
       "      <th>3</th>\n",
       "      <td>4</td>\n",
       "      <td>70</td>\n",
       "      <td>RL</td>\n",
       "      <td>60.0</td>\n",
       "      <td>9550</td>\n",
       "      <td>Pave</td>\n",
       "      <td>NaN</td>\n",
       "      <td>IR1</td>\n",
       "      <td>Lvl</td>\n",
       "      <td>AllPub</td>\n",
       "      <td>...</td>\n",
       "      <td>0</td>\n",
       "      <td>NaN</td>\n",
       "      <td>NaN</td>\n",
       "      <td>NaN</td>\n",
       "      <td>0</td>\n",
       "      <td>2</td>\n",
       "      <td>2006</td>\n",
       "      <td>WD</td>\n",
       "      <td>Abnorml</td>\n",
       "      <td>140000.0</td>\n",
       "    </tr>\n",
       "    <tr>\n",
       "      <th>4</th>\n",
       "      <td>5</td>\n",
       "      <td>60</td>\n",
       "      <td>RL</td>\n",
       "      <td>84.0</td>\n",
       "      <td>14260</td>\n",
       "      <td>Pave</td>\n",
       "      <td>NaN</td>\n",
       "      <td>IR1</td>\n",
       "      <td>Lvl</td>\n",
       "      <td>AllPub</td>\n",
       "      <td>...</td>\n",
       "      <td>0</td>\n",
       "      <td>NaN</td>\n",
       "      <td>NaN</td>\n",
       "      <td>NaN</td>\n",
       "      <td>0</td>\n",
       "      <td>12</td>\n",
       "      <td>2008</td>\n",
       "      <td>WD</td>\n",
       "      <td>Normal</td>\n",
       "      <td>250000.0</td>\n",
       "    </tr>\n",
       "  </tbody>\n",
       "</table>\n",
       "<p>5 rows × 81 columns</p>\n",
       "</div>"
      ],
      "text/plain": [
       "   Id  MSSubClass MSZoning  LotFrontage  LotArea Street Alley LotShape  \\\n",
       "0   1          60       RL         65.0     8450   Pave   NaN      Reg   \n",
       "1   2          20       RL         80.0     9600   Pave   NaN      Reg   \n",
       "2   3          60       RL         68.0    11250   Pave   NaN      IR1   \n",
       "3   4          70       RL         60.0     9550   Pave   NaN      IR1   \n",
       "4   5          60       RL         84.0    14260   Pave   NaN      IR1   \n",
       "\n",
       "  LandContour Utilities  ... PoolArea PoolQC Fence MiscFeature MiscVal MoSold  \\\n",
       "0         Lvl    AllPub  ...        0    NaN   NaN         NaN       0      2   \n",
       "1         Lvl    AllPub  ...        0    NaN   NaN         NaN       0      5   \n",
       "2         Lvl    AllPub  ...        0    NaN   NaN         NaN       0      9   \n",
       "3         Lvl    AllPub  ...        0    NaN   NaN         NaN       0      2   \n",
       "4         Lvl    AllPub  ...        0    NaN   NaN         NaN       0     12   \n",
       "\n",
       "  YrSold  SaleType  SaleCondition  SalePrice  \n",
       "0   2008        WD         Normal   208500.0  \n",
       "1   2007        WD         Normal   181500.0  \n",
       "2   2008        WD         Normal   223500.0  \n",
       "3   2006        WD        Abnorml   140000.0  \n",
       "4   2008        WD         Normal   250000.0  \n",
       "\n",
       "[5 rows x 81 columns]"
      ]
     },
     "execution_count": 6,
     "metadata": {},
     "output_type": "execute_result"
    }
   ],
   "source": [
    "df.head()"
   ]
  },
  {
   "cell_type": "markdown",
   "id": "979a510a",
   "metadata": {},
   "source": [
    "## Outliers"
   ]
  },
  {
   "cell_type": "code",
   "execution_count": 7,
   "id": "6953b531",
   "metadata": {
    "ExecuteTime": {
     "end_time": "2024-03-13T13:21:21.353852Z",
     "start_time": "2024-03-13T13:21:21.306017Z"
    }
   },
   "outputs": [
    {
     "data": {
      "text/plain": [
       "OverallQual      0.790982\n",
       "GrLivArea        0.708624\n",
       "GarageCars       0.640409\n",
       "GarageArea       0.623431\n",
       "TotalBsmtSF      0.613581\n",
       "1stFlrSF         0.605852\n",
       "FullBath         0.560664\n",
       "TotRmsAbvGrd     0.533723\n",
       "YearBuilt        0.522897\n",
       "YearRemodAdd     0.507101\n",
       "GarageYrBlt      0.486362\n",
       "MasVnrArea       0.477493\n",
       "Fireplaces       0.466929\n",
       "BsmtFinSF1       0.386420\n",
       "LotFrontage      0.351799\n",
       "WoodDeckSF       0.324413\n",
       "2ndFlrSF         0.319334\n",
       "OpenPorchSF      0.315856\n",
       "HalfBath         0.284108\n",
       "LotArea          0.263843\n",
       "BsmtFullBath     0.227122\n",
       "BsmtUnfSF        0.214479\n",
       "BedroomAbvGr     0.168213\n",
       "ScreenPorch      0.111447\n",
       "PoolArea         0.092404\n",
       "MoSold           0.046432\n",
       "3SsnPorch        0.044584\n",
       "BsmtFinSF2      -0.011378\n",
       "BsmtHalfBath    -0.016844\n",
       "MiscVal         -0.021190\n",
       "Id              -0.021917\n",
       "LowQualFinSF    -0.025606\n",
       "YrSold          -0.028923\n",
       "OverallCond     -0.077856\n",
       "MSSubClass      -0.084284\n",
       "EnclosedPorch   -0.128578\n",
       "KitchenAbvGr    -0.135907\n",
       "Name: SalePrice, dtype: float64"
      ]
     },
     "execution_count": 7,
     "metadata": {},
     "output_type": "execute_result"
    }
   ],
   "source": [
    "df.corr()['SalePrice'].sort_values(ascending=False)[1:]"
   ]
  },
  {
   "cell_type": "code",
   "execution_count": 8,
   "id": "b559dc84",
   "metadata": {
    "ExecuteTime": {
     "end_time": "2024-03-13T13:21:31.463964Z",
     "start_time": "2024-03-13T13:21:31.424222Z"
    }
   },
   "outputs": [],
   "source": [
    "features = df.corr()['SalePrice'].sort_values(ascending=False)[1:].index"
   ]
  },
  {
   "cell_type": "code",
   "execution_count": 9,
   "id": "7b68d145",
   "metadata": {
    "ExecuteTime": {
     "end_time": "2024-03-13T13:21:37.753508Z",
     "start_time": "2024-03-13T13:21:37.735455Z"
    }
   },
   "outputs": [
    {
     "data": {
      "text/plain": [
       "37"
      ]
     },
     "execution_count": 9,
     "metadata": {},
     "output_type": "execute_result"
    }
   ],
   "source": [
    "len(features)"
   ]
  },
  {
   "cell_type": "code",
   "execution_count": 12,
   "id": "68c5745b",
   "metadata": {
    "ExecuteTime": {
     "end_time": "2024-03-13T13:24:22.826089Z",
     "start_time": "2024-03-13T13:24:22.808055Z"
    }
   },
   "outputs": [],
   "source": [
    "target_column = 'SalePrice'"
   ]
  },
  {
   "cell_type": "code",
   "execution_count": 48,
   "id": "d95f1459",
   "metadata": {
    "ExecuteTime": {
     "end_time": "2024-03-13T13:58:18.888013Z",
     "start_time": "2024-03-13T13:58:12.069385Z"
    }
   },
   "outputs": [
    {
     "data": {
      "image/png": "[encoded data removed]",
      "text/plain": [
       "<Figure size 432x288 with 1 Axes>"
      ]
     },
     "metadata": {
      "needs_background": "light"
     },
     "output_type": "display_data"
    },
    {
     "data": {
      "image/png": "[encoded data removed]",
      "text/plain": [
       "<Figure size 432x288 with 1 Axes>"
      ]
     },
     "metadata": {
      "needs_background": "light"
     },
     "output_type": "display_data"
    },
    {
     "data": {
      "image/png": "[encoded data removed]",
      "text/plain": [
       "<Figure size 432x288 with 1 Axes>"
      ]
     },
     "metadata": {
      "needs_background": "light"
     },
     "output_type": "display_data"
    },
    {
     "data": {
      "image/png": "[encoded data removed]",
      "text/plain": [
       "<Figure size 432x288 with 1 Axes>"
      ]
     },
     "metadata": {
      "needs_background": "light"
     },
     "output_type": "display_data"
    },
    {
     "data": {
      "image/png": "[encoded data removed]",
      "text/plain": [
       "<Figure size 432x288 with 1 Axes>"
      ]
     },
     "metadata": {
      "needs_background": "light"
     },
     "output_type": "display_data"
    },
    {
     "data": {
      "image/png": "[encoded data removed]",
      "text/plain": [
       "<Figure size 432x288 with 1 Axes>"
      ]
     },
     "metadata": {
      "needs_background": "light"
     },
     "output_type": "display_data"
    },
    {
     "data": {
      "image/png": "[encoded data removed]",
      "text/plain": [
       "<Figure size 432x288 with 1 Axes>"
      ]
     },
     "metadata": {
      "needs_background": "light"
     },
     "output_type": "display_data"
    },
    {
     "data": {
      "image/png": "[encoded data removed]",
      "text/plain": [
       "<Figure size 432x288 with 1 Axes>"
      ]
     },
     "metadata": {
      "needs_background": "light"
     },
     "output_type": "display_data"
    },
    {
     "data": {
      "image/png": "[encoded data removed]",
      "text/plain": [
       "<Figure size 432x288 with 1 Axes>"
      ]
     },
     "metadata": {
      "needs_background": "light"
     },
     "output_type": "display_data"
    },
    {
     "data": {
      "image/png": "[encoded data removed]",
      "text/plain": [
       "<Figure size 432x288 with 1 Axes>"
      ]
     },
     "metadata": {
      "needs_background": "light"
     },
     "output_type": "display_data"
    },
    {
     "data": {
      "image/png": "[encoded data removed]",
      "text/plain": [
       "<Figure size 432x288 with 1 Axes>"
      ]
     },
     "metadata": {
      "needs_background": "light"
     },
     "output_type": "display_data"
    },
    {
     "data": {
      "image/png": "[encoded data removed]",
      "text/plain": [
       "<Figure size 432x288 with 1 Axes>"
      ]
     },
     "metadata": {
      "needs_background": "light"
     },
     "output_type": "display_data"
    },
    {
     "data": {
      "image/png": "[encoded data removed]",
      "text/plain": [
       "<Figure size 432x288 with 1 Axes>"
      ]
     },
     "metadata": {
      "needs_background": "light"
     },
     "output_type": "display_data"
    },
    {
     "data": {
      "image/png": "[encoded data removed]",
      "text/plain": [
       "<Figure size 432x288 with 1 Axes>"
      ]
     },
     "metadata": {
      "needs_background": "light"
     },
     "output_type": "display_data"
    },
    {
     "data": {
      "image/png": "[encoded data removed]",
      "text/plain": [
       "<Figure size 432x288 with 1 Axes>"
      ]
     },
     "metadata": {
      "needs_background": "light"
     },
     "output_type": "display_data"
    },
    {
     "data": {
      "image/png": "[encoded data removed]",
      "text/plain": [
       "<Figure size 432x288 with 1 Axes>"
      ]
     },
     "metadata": {
      "needs_background": "light"
     },
     "output_type": "display_data"
    },
    {
     "data": {
      "image/png": "[encoded data removed]",
      "text/plain": [
       "<Figure size 432x288 with 1 Axes>"
      ]
     },
     "metadata": {
      "needs_background": "light"
     },
     "output_type": "display_data"
    },
    {
     "data": {
      "image/png": "[encoded data removed]",
      "text/plain": [
       "<Figure size 432x288 with 1 Axes>"
      ]
     },
     "metadata": {
      "needs_background": "light"
     },
     "output_type": "display_data"
    },
    {
     "data": {
      "image/png": "[encoded data removed]",
      "text/plain": [
       "<Figure size 432x288 with 1 Axes>"
      ]
     },
     "metadata": {
      "needs_background": "light"
     },
     "output_type": "display_data"
    },
    {
     "data": {
      "image/png": "[encoded data removed]",
      "text/plain": [
       "<Figure size 432x288 with 1 Axes>"
      ]
     },
     "metadata": {
      "needs_background": "light"
     },
     "output_type": "display_data"
    },
    {
     "data": {
      "image/png": "[encoded data removed]",
      "text/plain": [
       "<Figure size 432x288 with 1 Axes>"
      ]
     },
     "metadata": {
      "needs_background": "light"
     },
     "output_type": "display_data"
    },
    {
     "data": {
      "image/png": "[encoded data removed]",
      "text/plain": [
       "<Figure size 432x288 with 1 Axes>"
      ]
     },
     "metadata": {
      "needs_background": "light"
     },
     "output_type": "display_data"
    },
    {
     "data": {
      "image/png": "[encoded data removed]",
      "text/plain": [
       "<Figure size 432x288 with 1 Axes>"
      ]
     },
     "metadata": {
      "needs_background": "light"
     },
     "output_type": "display_data"
    },
    {
     "data": {
      "image/png": "[encoded data removed]",
      "text/plain": [
       "<Figure size 432x288 with 1 Axes>"
      ]
     },
     "metadata": {
      "needs_background": "light"
     },
     "output_type": "display_data"
    },
    {
     "data": {
      "image/png": "[encoded data removed]",
      "text/plain": [
       "<Figure size 432x288 with 1 Axes>"
      ]
     },
     "metadata": {
      "needs_background": "light"
     },
     "output_type": "display_data"
    },
    {
     "data": {
      "image/png": "[encoded data removed]",
      "text/plain": [
       "<Figure size 432x288 with 1 Axes>"
      ]
     },
     "metadata": {
      "needs_background": "light"
     },
     "output_type": "display_data"
    },
    {
     "data": {
      "image/png": "[encoded data removed]",
      "text/plain": [
       "<Figure size 432x288 with 1 Axes>"
      ]
     },
     "metadata": {
      "needs_background": "light"
     },
     "output_type": "display_data"
    },
    {
     "data": {
      "image/png": "[encoded data removed]",
      "text/plain": [
       "<Figure size 432x288 with 1 Axes>"
      ]
     },
     "metadata": {
      "needs_background": "light"
     },
     "output_type": "display_data"
    },
    {
     "data": {
      "image/png": "[encoded data removed]",
      "text/plain": [
       "<Figure size 432x288 with 1 Axes>"
      ]
     },
     "metadata": {
      "needs_background": "light"
     },
     "output_type": "display_data"
    },
    {
     "data": {
      "image/png": "[encoded data removed]",
      "text/plain": [
       "<Figure size 432x288 with 1 Axes>"
      ]
     },
     "metadata": {
      "needs_background": "light"
     },
     "output_type": "display_data"
    },
    {
     "data": {
      "image/png": "[encoded data removed]",
      "text/plain": [
       "<Figure size 432x288 with 1 Axes>"
      ]
     },
     "metadata": {
      "needs_background": "light"
     },
     "output_type": "display_data"
    },
    {
     "data": {
      "image/png": "[encoded data removed]",
      "text/plain": [
       "<Figure size 432x288 with 1 Axes>"
      ]
     },
     "metadata": {
      "needs_background": "light"
     },
     "output_type": "display_data"
    },
    {
     "data": {
      "image/png": "[encoded data removed]",
      "text/plain": [
       "<Figure size 432x288 with 1 Axes>"
      ]
     },
     "metadata": {
      "needs_background": "light"
     },
     "output_type": "display_data"
    },
    {
     "data": {
      "image/png": "[encoded data removed]",
      "text/plain": [
       "<Figure size 432x288 with 1 Axes>"
      ]
     },
     "metadata": {
      "needs_background": "light"
     },
     "output_type": "display_data"
    },
    {
     "data": {
      "image/png": "[encoded data removed]",
      "text/plain": [
       "<Figure size 432x288 with 1 Axes>"
      ]
     },
     "metadata": {
      "needs_background": "light"
     },
     "output_type": "display_data"
    },
    {
     "data": {
      "image/png": "[encoded data removed]",
      "text/plain": [
       "<Figure size 432x288 with 1 Axes>"
      ]
     },
     "metadata": {
      "needs_background": "light"
     },
     "output_type": "display_data"
    },
    {
     "data": {
      "image/png": "[encoded data removed]",
      "text/plain": [
       "<Figure size 432x288 with 1 Axes>"
      ]
     },
     "metadata": {
      "needs_background": "light"
     },
     "output_type": "display_data"
    }
   ],
   "source": [
    "for feature in features:\n",
    "    plt.scatter(df[feature], df[target_column])\n",
    "    plt.title(f'Scatter Plot: {feature} vs {target_column}')\n",
    "    plt.xlabel(feature)\n",
    "    plt.ylabel(target_column)\n",
    "    plt.show()"
   ]
  },
  {
   "cell_type": "markdown",
   "id": "1ef8d544",
   "metadata": {},
   "source": [
    "### OverallQual"
   ]
  },
  {
   "cell_type": "code",
   "execution_count": 14,
   "id": "be407f59",
   "metadata": {
    "ExecuteTime": {
     "end_time": "2024-03-13T13:28:22.369278Z",
     "start_time": "2024-03-13T13:28:22.311438Z"
    }
   },
   "outputs": [
    {
     "data": {
      "text/html": [
       "<div>\n",
       "<style scoped>\n",
       "    .dataframe tbody tr th:only-of-type {\n",
       "        vertical-align: middle;\n",
       "    }\n",
       "\n",
       "    .dataframe tbody tr th {\n",
       "        vertical-align: top;\n",
       "    }\n",
       "\n",
       "    .dataframe thead th {\n",
       "        text-align: right;\n",
       "    }\n",
       "</style>\n",
       "<table border=\"1\" class=\"dataframe\">\n",
       "  <thead>\n",
       "    <tr style=\"text-align: right;\">\n",
       "      <th></th>\n",
       "      <th>Id</th>\n",
       "      <th>MSSubClass</th>\n",
       "      <th>MSZoning</th>\n",
       "      <th>LotFrontage</th>\n",
       "      <th>LotArea</th>\n",
       "      <th>Street</th>\n",
       "      <th>Alley</th>\n",
       "      <th>LotShape</th>\n",
       "      <th>LandContour</th>\n",
       "      <th>Utilities</th>\n",
       "      <th>...</th>\n",
       "      <th>PoolArea</th>\n",
       "      <th>PoolQC</th>\n",
       "      <th>Fence</th>\n",
       "      <th>MiscFeature</th>\n",
       "      <th>MiscVal</th>\n",
       "      <th>MoSold</th>\n",
       "      <th>YrSold</th>\n",
       "      <th>SaleType</th>\n",
       "      <th>SaleCondition</th>\n",
       "      <th>SalePrice</th>\n",
       "    </tr>\n",
       "  </thead>\n",
       "  <tbody>\n",
       "    <tr>\n",
       "      <th>523</th>\n",
       "      <td>524</td>\n",
       "      <td>60</td>\n",
       "      <td>RL</td>\n",
       "      <td>130.0</td>\n",
       "      <td>40094</td>\n",
       "      <td>Pave</td>\n",
       "      <td>NaN</td>\n",
       "      <td>IR1</td>\n",
       "      <td>Bnk</td>\n",
       "      <td>AllPub</td>\n",
       "      <td>...</td>\n",
       "      <td>0</td>\n",
       "      <td>NaN</td>\n",
       "      <td>NaN</td>\n",
       "      <td>NaN</td>\n",
       "      <td>0</td>\n",
       "      <td>10</td>\n",
       "      <td>2007</td>\n",
       "      <td>New</td>\n",
       "      <td>Partial</td>\n",
       "      <td>184750.0</td>\n",
       "    </tr>\n",
       "    <tr>\n",
       "      <th>1298</th>\n",
       "      <td>1299</td>\n",
       "      <td>60</td>\n",
       "      <td>RL</td>\n",
       "      <td>313.0</td>\n",
       "      <td>63887</td>\n",
       "      <td>Pave</td>\n",
       "      <td>NaN</td>\n",
       "      <td>IR3</td>\n",
       "      <td>Bnk</td>\n",
       "      <td>AllPub</td>\n",
       "      <td>...</td>\n",
       "      <td>480</td>\n",
       "      <td>Gd</td>\n",
       "      <td>NaN</td>\n",
       "      <td>NaN</td>\n",
       "      <td>0</td>\n",
       "      <td>1</td>\n",
       "      <td>2008</td>\n",
       "      <td>New</td>\n",
       "      <td>Partial</td>\n",
       "      <td>160000.0</td>\n",
       "    </tr>\n",
       "  </tbody>\n",
       "</table>\n",
       "<p>2 rows × 81 columns</p>\n",
       "</div>"
      ],
      "text/plain": [
       "        Id  MSSubClass MSZoning  LotFrontage  LotArea Street Alley LotShape  \\\n",
       "523    524          60       RL        130.0    40094   Pave   NaN      IR1   \n",
       "1298  1299          60       RL        313.0    63887   Pave   NaN      IR3   \n",
       "\n",
       "     LandContour Utilities  ... PoolArea PoolQC Fence MiscFeature MiscVal  \\\n",
       "523          Bnk    AllPub  ...        0    NaN   NaN         NaN       0   \n",
       "1298         Bnk    AllPub  ...      480     Gd   NaN         NaN       0   \n",
       "\n",
       "     MoSold YrSold  SaleType  SaleCondition  SalePrice  \n",
       "523      10   2007       New        Partial   184750.0  \n",
       "1298      1   2008       New        Partial   160000.0  \n",
       "\n",
       "[2 rows x 81 columns]"
      ]
     },
     "execution_count": 14,
     "metadata": {},
     "output_type": "execute_result"
    }
   ],
   "source": [
    "df[(df['OverallQual']>8) & (df['SalePrice'] < 200000)]"
   ]
  },
  {
   "cell_type": "markdown",
   "id": "1c22c0d1",
   "metadata": {},
   "source": [
    "### GrLivArea"
   ]
  },
  {
   "cell_type": "code",
   "execution_count": 15,
   "id": "a439a22f",
   "metadata": {
    "ExecuteTime": {
     "end_time": "2024-03-13T13:28:34.688409Z",
     "start_time": "2024-03-13T13:28:34.647666Z"
    }
   },
   "outputs": [
    {
     "data": {
      "text/html": [
       "<div>\n",
       "<style scoped>\n",
       "    .dataframe tbody tr th:only-of-type {\n",
       "        vertical-align: middle;\n",
       "    }\n",
       "\n",
       "    .dataframe tbody tr th {\n",
       "        vertical-align: top;\n",
       "    }\n",
       "\n",
       "    .dataframe thead th {\n",
       "        text-align: right;\n",
       "    }\n",
       "</style>\n",
       "<table border=\"1\" class=\"dataframe\">\n",
       "  <thead>\n",
       "    <tr style=\"text-align: right;\">\n",
       "      <th></th>\n",
       "      <th>Id</th>\n",
       "      <th>MSSubClass</th>\n",
       "      <th>MSZoning</th>\n",
       "      <th>LotFrontage</th>\n",
       "      <th>LotArea</th>\n",
       "      <th>Street</th>\n",
       "      <th>Alley</th>\n",
       "      <th>LotShape</th>\n",
       "      <th>LandContour</th>\n",
       "      <th>Utilities</th>\n",
       "      <th>...</th>\n",
       "      <th>PoolArea</th>\n",
       "      <th>PoolQC</th>\n",
       "      <th>Fence</th>\n",
       "      <th>MiscFeature</th>\n",
       "      <th>MiscVal</th>\n",
       "      <th>MoSold</th>\n",
       "      <th>YrSold</th>\n",
       "      <th>SaleType</th>\n",
       "      <th>SaleCondition</th>\n",
       "      <th>SalePrice</th>\n",
       "    </tr>\n",
       "  </thead>\n",
       "  <tbody>\n",
       "    <tr>\n",
       "      <th>523</th>\n",
       "      <td>524</td>\n",
       "      <td>60</td>\n",
       "      <td>RL</td>\n",
       "      <td>130.0</td>\n",
       "      <td>40094</td>\n",
       "      <td>Pave</td>\n",
       "      <td>NaN</td>\n",
       "      <td>IR1</td>\n",
       "      <td>Bnk</td>\n",
       "      <td>AllPub</td>\n",
       "      <td>...</td>\n",
       "      <td>0</td>\n",
       "      <td>NaN</td>\n",
       "      <td>NaN</td>\n",
       "      <td>NaN</td>\n",
       "      <td>0</td>\n",
       "      <td>10</td>\n",
       "      <td>2007</td>\n",
       "      <td>New</td>\n",
       "      <td>Partial</td>\n",
       "      <td>184750.0</td>\n",
       "    </tr>\n",
       "    <tr>\n",
       "      <th>1298</th>\n",
       "      <td>1299</td>\n",
       "      <td>60</td>\n",
       "      <td>RL</td>\n",
       "      <td>313.0</td>\n",
       "      <td>63887</td>\n",
       "      <td>Pave</td>\n",
       "      <td>NaN</td>\n",
       "      <td>IR3</td>\n",
       "      <td>Bnk</td>\n",
       "      <td>AllPub</td>\n",
       "      <td>...</td>\n",
       "      <td>480</td>\n",
       "      <td>Gd</td>\n",
       "      <td>NaN</td>\n",
       "      <td>NaN</td>\n",
       "      <td>0</td>\n",
       "      <td>1</td>\n",
       "      <td>2008</td>\n",
       "      <td>New</td>\n",
       "      <td>Partial</td>\n",
       "      <td>160000.0</td>\n",
       "    </tr>\n",
       "  </tbody>\n",
       "</table>\n",
       "<p>2 rows × 81 columns</p>\n",
       "</div>"
      ],
      "text/plain": [
       "        Id  MSSubClass MSZoning  LotFrontage  LotArea Street Alley LotShape  \\\n",
       "523    524          60       RL        130.0    40094   Pave   NaN      IR1   \n",
       "1298  1299          60       RL        313.0    63887   Pave   NaN      IR3   \n",
       "\n",
       "     LandContour Utilities  ... PoolArea PoolQC Fence MiscFeature MiscVal  \\\n",
       "523          Bnk    AllPub  ...        0    NaN   NaN         NaN       0   \n",
       "1298         Bnk    AllPub  ...      480     Gd   NaN         NaN       0   \n",
       "\n",
       "     MoSold YrSold  SaleType  SaleCondition  SalePrice  \n",
       "523      10   2007       New        Partial   184750.0  \n",
       "1298      1   2008       New        Partial   160000.0  \n",
       "\n",
       "[2 rows x 81 columns]"
      ]
     },
     "execution_count": 15,
     "metadata": {},
     "output_type": "execute_result"
    }
   ],
   "source": [
    "df[(df['GrLivArea'] > 4000) & (df['SalePrice'] < 200000)]"
   ]
  },
  {
   "cell_type": "code",
   "execution_count": 16,
   "id": "ce0e767e",
   "metadata": {
    "ExecuteTime": {
     "end_time": "2024-03-13T13:28:44.465357Z",
     "start_time": "2024-03-13T13:28:44.447432Z"
    }
   },
   "outputs": [],
   "source": [
    "drop_ind = df[(df['GrLivArea'] > 4000) & (df['SalePrice'] < 200000)].index"
   ]
  },
  {
   "cell_type": "code",
   "execution_count": 17,
   "id": "7b359193",
   "metadata": {
    "ExecuteTime": {
     "end_time": "2024-03-13T13:28:55.040173Z",
     "start_time": "2024-03-13T13:28:55.019998Z"
    }
   },
   "outputs": [],
   "source": [
    "df = df.drop(drop_ind, axis=0)"
   ]
  },
  {
   "cell_type": "code",
   "execution_count": null,
   "id": "4f48ba53",
   "metadata": {},
   "outputs": [],
   "source": []
  },
  {
   "cell_type": "code",
   "execution_count": 21,
   "id": "b2f16c1f",
   "metadata": {
    "ExecuteTime": {
     "end_time": "2024-03-13T13:40:34.454220Z",
     "start_time": "2024-03-13T13:40:34.420958Z"
    }
   },
   "outputs": [
    {
     "data": {
      "text/html": [
       "<div>\n",
       "<style scoped>\n",
       "    .dataframe tbody tr th:only-of-type {\n",
       "        vertical-align: middle;\n",
       "    }\n",
       "\n",
       "    .dataframe tbody tr th {\n",
       "        vertical-align: top;\n",
       "    }\n",
       "\n",
       "    .dataframe thead th {\n",
       "        text-align: right;\n",
       "    }\n",
       "</style>\n",
       "<table border=\"1\" class=\"dataframe\">\n",
       "  <thead>\n",
       "    <tr style=\"text-align: right;\">\n",
       "      <th></th>\n",
       "      <th>Id</th>\n",
       "      <th>MSSubClass</th>\n",
       "      <th>MSZoning</th>\n",
       "      <th>LotFrontage</th>\n",
       "      <th>LotArea</th>\n",
       "      <th>Street</th>\n",
       "      <th>Alley</th>\n",
       "      <th>LotShape</th>\n",
       "      <th>LandContour</th>\n",
       "      <th>Utilities</th>\n",
       "      <th>...</th>\n",
       "      <th>PoolArea</th>\n",
       "      <th>PoolQC</th>\n",
       "      <th>Fence</th>\n",
       "      <th>MiscFeature</th>\n",
       "      <th>MiscVal</th>\n",
       "      <th>MoSold</th>\n",
       "      <th>YrSold</th>\n",
       "      <th>SaleType</th>\n",
       "      <th>SaleCondition</th>\n",
       "      <th>SalePrice</th>\n",
       "    </tr>\n",
       "  </thead>\n",
       "  <tbody>\n",
       "    <tr>\n",
       "      <th>691</th>\n",
       "      <td>692</td>\n",
       "      <td>60</td>\n",
       "      <td>RL</td>\n",
       "      <td>104.0</td>\n",
       "      <td>21535</td>\n",
       "      <td>Pave</td>\n",
       "      <td>NaN</td>\n",
       "      <td>IR1</td>\n",
       "      <td>Lvl</td>\n",
       "      <td>AllPub</td>\n",
       "      <td>...</td>\n",
       "      <td>0</td>\n",
       "      <td>NaN</td>\n",
       "      <td>NaN</td>\n",
       "      <td>NaN</td>\n",
       "      <td>0</td>\n",
       "      <td>1</td>\n",
       "      <td>2007</td>\n",
       "      <td>WD</td>\n",
       "      <td>Normal</td>\n",
       "      <td>755000.0</td>\n",
       "    </tr>\n",
       "    <tr>\n",
       "      <th>1182</th>\n",
       "      <td>1183</td>\n",
       "      <td>60</td>\n",
       "      <td>RL</td>\n",
       "      <td>160.0</td>\n",
       "      <td>15623</td>\n",
       "      <td>Pave</td>\n",
       "      <td>NaN</td>\n",
       "      <td>IR1</td>\n",
       "      <td>Lvl</td>\n",
       "      <td>AllPub</td>\n",
       "      <td>...</td>\n",
       "      <td>555</td>\n",
       "      <td>Ex</td>\n",
       "      <td>MnPrv</td>\n",
       "      <td>NaN</td>\n",
       "      <td>0</td>\n",
       "      <td>7</td>\n",
       "      <td>2007</td>\n",
       "      <td>WD</td>\n",
       "      <td>Abnorml</td>\n",
       "      <td>745000.0</td>\n",
       "    </tr>\n",
       "  </tbody>\n",
       "</table>\n",
       "<p>2 rows × 81 columns</p>\n",
       "</div>"
      ],
      "text/plain": [
       "        Id  MSSubClass MSZoning  LotFrontage  LotArea Street Alley LotShape  \\\n",
       "691    692          60       RL        104.0    21535   Pave   NaN      IR1   \n",
       "1182  1183          60       RL        160.0    15623   Pave   NaN      IR1   \n",
       "\n",
       "     LandContour Utilities  ... PoolArea PoolQC  Fence MiscFeature MiscVal  \\\n",
       "691          Lvl    AllPub  ...        0    NaN    NaN         NaN       0   \n",
       "1182         Lvl    AllPub  ...      555     Ex  MnPrv         NaN       0   \n",
       "\n",
       "     MoSold YrSold  SaleType  SaleCondition  SalePrice  \n",
       "691       1   2007        WD         Normal   755000.0  \n",
       "1182      7   2007        WD        Abnorml   745000.0  \n",
       "\n",
       "[2 rows x 81 columns]"
      ]
     },
     "execution_count": 21,
     "metadata": {},
     "output_type": "execute_result"
    }
   ],
   "source": [
    "df[(df['GarageCars']==3) & (df['SalePrice'] > 700000)]"
   ]
  },
  {
   "cell_type": "code",
   "execution_count": 23,
   "id": "a1b9ddaf",
   "metadata": {
    "ExecuteTime": {
     "end_time": "2024-03-13T13:43:58.198350Z",
     "start_time": "2024-03-13T13:43:58.163185Z"
    }
   },
   "outputs": [
    {
     "data": {
      "text/html": [
       "<div>\n",
       "<style scoped>\n",
       "    .dataframe tbody tr th:only-of-type {\n",
       "        vertical-align: middle;\n",
       "    }\n",
       "\n",
       "    .dataframe tbody tr th {\n",
       "        vertical-align: top;\n",
       "    }\n",
       "\n",
       "    .dataframe thead th {\n",
       "        text-align: right;\n",
       "    }\n",
       "</style>\n",
       "<table border=\"1\" class=\"dataframe\">\n",
       "  <thead>\n",
       "    <tr style=\"text-align: right;\">\n",
       "      <th></th>\n",
       "      <th>Id</th>\n",
       "      <th>MSSubClass</th>\n",
       "      <th>MSZoning</th>\n",
       "      <th>LotFrontage</th>\n",
       "      <th>LotArea</th>\n",
       "      <th>Street</th>\n",
       "      <th>Alley</th>\n",
       "      <th>LotShape</th>\n",
       "      <th>LandContour</th>\n",
       "      <th>Utilities</th>\n",
       "      <th>...</th>\n",
       "      <th>PoolArea</th>\n",
       "      <th>PoolQC</th>\n",
       "      <th>Fence</th>\n",
       "      <th>MiscFeature</th>\n",
       "      <th>MiscVal</th>\n",
       "      <th>MoSold</th>\n",
       "      <th>YrSold</th>\n",
       "      <th>SaleType</th>\n",
       "      <th>SaleCondition</th>\n",
       "      <th>SalePrice</th>\n",
       "    </tr>\n",
       "  </thead>\n",
       "  <tbody>\n",
       "    <tr>\n",
       "      <th>581</th>\n",
       "      <td>582</td>\n",
       "      <td>20</td>\n",
       "      <td>RL</td>\n",
       "      <td>98.0</td>\n",
       "      <td>12704</td>\n",
       "      <td>Pave</td>\n",
       "      <td>NaN</td>\n",
       "      <td>Reg</td>\n",
       "      <td>Lvl</td>\n",
       "      <td>AllPub</td>\n",
       "      <td>...</td>\n",
       "      <td>0</td>\n",
       "      <td>NaN</td>\n",
       "      <td>NaN</td>\n",
       "      <td>NaN</td>\n",
       "      <td>0</td>\n",
       "      <td>8</td>\n",
       "      <td>2009</td>\n",
       "      <td>New</td>\n",
       "      <td>Partial</td>\n",
       "      <td>253293.0</td>\n",
       "    </tr>\n",
       "    <tr>\n",
       "      <th>1061</th>\n",
       "      <td>1062</td>\n",
       "      <td>30</td>\n",
       "      <td>C (all)</td>\n",
       "      <td>120.0</td>\n",
       "      <td>18000</td>\n",
       "      <td>Grvl</td>\n",
       "      <td>NaN</td>\n",
       "      <td>Reg</td>\n",
       "      <td>Low</td>\n",
       "      <td>AllPub</td>\n",
       "      <td>...</td>\n",
       "      <td>0</td>\n",
       "      <td>NaN</td>\n",
       "      <td>NaN</td>\n",
       "      <td>Shed</td>\n",
       "      <td>560</td>\n",
       "      <td>8</td>\n",
       "      <td>2008</td>\n",
       "      <td>ConLD</td>\n",
       "      <td>Normal</td>\n",
       "      <td>81000.0</td>\n",
       "    </tr>\n",
       "    <tr>\n",
       "      <th>1190</th>\n",
       "      <td>1191</td>\n",
       "      <td>190</td>\n",
       "      <td>RL</td>\n",
       "      <td>NaN</td>\n",
       "      <td>32463</td>\n",
       "      <td>Pave</td>\n",
       "      <td>NaN</td>\n",
       "      <td>Reg</td>\n",
       "      <td>Low</td>\n",
       "      <td>AllPub</td>\n",
       "      <td>...</td>\n",
       "      <td>0</td>\n",
       "      <td>NaN</td>\n",
       "      <td>NaN</td>\n",
       "      <td>NaN</td>\n",
       "      <td>0</td>\n",
       "      <td>3</td>\n",
       "      <td>2007</td>\n",
       "      <td>WD</td>\n",
       "      <td>Normal</td>\n",
       "      <td>168000.0</td>\n",
       "    </tr>\n",
       "  </tbody>\n",
       "</table>\n",
       "<p>3 rows × 81 columns</p>\n",
       "</div>"
      ],
      "text/plain": [
       "        Id  MSSubClass MSZoning  LotFrontage  LotArea Street Alley LotShape  \\\n",
       "581    582          20       RL         98.0    12704   Pave   NaN      Reg   \n",
       "1061  1062          30  C (all)        120.0    18000   Grvl   NaN      Reg   \n",
       "1190  1191         190       RL          NaN    32463   Pave   NaN      Reg   \n",
       "\n",
       "     LandContour Utilities  ... PoolArea PoolQC Fence MiscFeature MiscVal  \\\n",
       "581          Lvl    AllPub  ...        0    NaN   NaN         NaN       0   \n",
       "1061         Low    AllPub  ...        0    NaN   NaN        Shed     560   \n",
       "1190         Low    AllPub  ...        0    NaN   NaN         NaN       0   \n",
       "\n",
       "     MoSold YrSold  SaleType  SaleCondition  SalePrice  \n",
       "581       8   2009       New        Partial   253293.0  \n",
       "1061      8   2008     ConLD         Normal    81000.0  \n",
       "1190      3   2007        WD         Normal   168000.0  \n",
       "\n",
       "[3 rows x 81 columns]"
      ]
     },
     "execution_count": 23,
     "metadata": {},
     "output_type": "execute_result"
    }
   ],
   "source": [
    "df[(df['GarageArea'] > 1200) & (df['SalePrice'] < 300000)]"
   ]
  },
  {
   "cell_type": "code",
   "execution_count": 24,
   "id": "c6700da6",
   "metadata": {
    "ExecuteTime": {
     "end_time": "2024-03-13T13:44:13.415779Z",
     "start_time": "2024-03-13T13:44:13.399447Z"
    }
   },
   "outputs": [],
   "source": [
    "drop_ind = df[(df['GarageArea'] > 1200) & (df['SalePrice'] < 300000)].index"
   ]
  },
  {
   "cell_type": "code",
   "execution_count": 25,
   "id": "d2cf968d",
   "metadata": {
    "ExecuteTime": {
     "end_time": "2024-03-13T13:44:19.903534Z",
     "start_time": "2024-03-13T13:44:19.884944Z"
    }
   },
   "outputs": [],
   "source": [
    "df = df.drop(drop_ind, axis=0)"
   ]
  },
  {
   "cell_type": "code",
   "execution_count": 28,
   "id": "6e862951",
   "metadata": {
    "ExecuteTime": {
     "end_time": "2024-03-13T13:45:28.430608Z",
     "start_time": "2024-03-13T13:45:28.421019Z"
    }
   },
   "outputs": [
    {
     "data": {
      "text/plain": [
       "157"
      ]
     },
     "execution_count": 28,
     "metadata": {},
     "output_type": "execute_result"
    }
   ],
   "source": [
    "len(df[df['GarageArea'] == 0])"
   ]
  },
  {
   "cell_type": "code",
   "execution_count": 33,
   "id": "ccbae55c",
   "metadata": {
    "ExecuteTime": {
     "end_time": "2024-03-13T13:55:23.220364Z",
     "start_time": "2024-03-13T13:55:23.204961Z"
    }
   },
   "outputs": [],
   "source": [
    "one = df[(df['LotFrontage'] > 150) & (df['SalePrice'] < 100000)]"
   ]
  },
  {
   "cell_type": "code",
   "execution_count": 34,
   "id": "79f42493",
   "metadata": {
    "ExecuteTime": {
     "end_time": "2024-03-13T13:55:23.938687Z",
     "start_time": "2024-03-13T13:55:23.920626Z"
    }
   },
   "outputs": [],
   "source": [
    "two = df[(df['LotFrontage'] > 300) & (df['SalePrice'] < 300000)]"
   ]
  },
  {
   "cell_type": "code",
   "execution_count": 37,
   "id": "60a1e786",
   "metadata": {
    "ExecuteTime": {
     "end_time": "2024-03-13T13:55:43.950499Z",
     "start_time": "2024-03-13T13:55:43.931435Z"
    }
   },
   "outputs": [],
   "source": [
    "drop_ind = pd.concat([one,two],axis=0).index"
   ]
  },
  {
   "cell_type": "code",
   "execution_count": 38,
   "id": "7a241671",
   "metadata": {
    "ExecuteTime": {
     "end_time": "2024-03-13T13:55:44.382577Z",
     "start_time": "2024-03-13T13:55:44.371579Z"
    }
   },
   "outputs": [
    {
     "data": {
      "text/plain": [
       "Int64Index([1337, 934], dtype='int64')"
      ]
     },
     "execution_count": 38,
     "metadata": {},
     "output_type": "execute_result"
    }
   ],
   "source": [
    "drop_ind"
   ]
  },
  {
   "cell_type": "code",
   "execution_count": 41,
   "id": "1d130c53",
   "metadata": {
    "ExecuteTime": {
     "end_time": "2024-03-13T13:56:07.322430Z",
     "start_time": "2024-03-13T13:56:07.301338Z"
    }
   },
   "outputs": [],
   "source": [
    "df = df.drop(drop_ind, axis=0)"
   ]
  },
  {
   "cell_type": "code",
   "execution_count": 43,
   "id": "0b429a15",
   "metadata": {
    "ExecuteTime": {
     "end_time": "2024-03-13T13:57:25.692285Z",
     "start_time": "2024-03-13T13:57:25.655386Z"
    }
   },
   "outputs": [
    {
     "data": {
      "text/html": [
       "<div>\n",
       "<style scoped>\n",
       "    .dataframe tbody tr th:only-of-type {\n",
       "        vertical-align: middle;\n",
       "    }\n",
       "\n",
       "    .dataframe tbody tr th {\n",
       "        vertical-align: top;\n",
       "    }\n",
       "\n",
       "    .dataframe thead th {\n",
       "        text-align: right;\n",
       "    }\n",
       "</style>\n",
       "<table border=\"1\" class=\"dataframe\">\n",
       "  <thead>\n",
       "    <tr style=\"text-align: right;\">\n",
       "      <th></th>\n",
       "      <th>Id</th>\n",
       "      <th>MSSubClass</th>\n",
       "      <th>MSZoning</th>\n",
       "      <th>LotFrontage</th>\n",
       "      <th>LotArea</th>\n",
       "      <th>Street</th>\n",
       "      <th>Alley</th>\n",
       "      <th>LotShape</th>\n",
       "      <th>LandContour</th>\n",
       "      <th>Utilities</th>\n",
       "      <th>...</th>\n",
       "      <th>PoolArea</th>\n",
       "      <th>PoolQC</th>\n",
       "      <th>Fence</th>\n",
       "      <th>MiscFeature</th>\n",
       "      <th>MiscVal</th>\n",
       "      <th>MoSold</th>\n",
       "      <th>YrSold</th>\n",
       "      <th>SaleType</th>\n",
       "      <th>SaleCondition</th>\n",
       "      <th>SalePrice</th>\n",
       "    </tr>\n",
       "  </thead>\n",
       "  <tbody>\n",
       "    <tr>\n",
       "      <th>495</th>\n",
       "      <td>496</td>\n",
       "      <td>30</td>\n",
       "      <td>C (all)</td>\n",
       "      <td>60.0</td>\n",
       "      <td>7879</td>\n",
       "      <td>Pave</td>\n",
       "      <td>NaN</td>\n",
       "      <td>Reg</td>\n",
       "      <td>Lvl</td>\n",
       "      <td>AllPub</td>\n",
       "      <td>...</td>\n",
       "      <td>0</td>\n",
       "      <td>NaN</td>\n",
       "      <td>GdWo</td>\n",
       "      <td>NaN</td>\n",
       "      <td>0</td>\n",
       "      <td>11</td>\n",
       "      <td>2009</td>\n",
       "      <td>WD</td>\n",
       "      <td>Abnorml</td>\n",
       "      <td>34900.0</td>\n",
       "    </tr>\n",
       "  </tbody>\n",
       "</table>\n",
       "<p>1 rows × 81 columns</p>\n",
       "</div>"
      ],
      "text/plain": [
       "      Id  MSSubClass MSZoning  LotFrontage  LotArea Street Alley LotShape  \\\n",
       "495  496          30  C (all)         60.0     7879   Pave   NaN      Reg   \n",
       "\n",
       "    LandContour Utilities  ... PoolArea PoolQC Fence MiscFeature MiscVal  \\\n",
       "495         Lvl    AllPub  ...        0    NaN  GdWo         NaN       0   \n",
       "\n",
       "    MoSold YrSold  SaleType  SaleCondition  SalePrice  \n",
       "495     11   2009        WD        Abnorml    34900.0  \n",
       "\n",
       "[1 rows x 81 columns]"
      ]
     },
     "execution_count": 43,
     "metadata": {},
     "output_type": "execute_result"
    }
   ],
   "source": [
    "df[(df['OpenPorchSF'] > 500) & (df['SalePrice'] < 100000)]"
   ]
  },
  {
   "cell_type": "code",
   "execution_count": 46,
   "id": "e4ad38cf",
   "metadata": {
    "ExecuteTime": {
     "end_time": "2024-03-13T13:58:00.167146Z",
     "start_time": "2024-03-13T13:58:00.148136Z"
    }
   },
   "outputs": [],
   "source": [
    "drop_ind = df[(df['OpenPorchSF'] > 500) & (df['SalePrice'] < 100000)].index"
   ]
  },
  {
   "cell_type": "code",
   "execution_count": 47,
   "id": "55a41861",
   "metadata": {
    "ExecuteTime": {
     "end_time": "2024-03-13T13:58:00.542815Z",
     "start_time": "2024-03-13T13:58:00.528404Z"
    }
   },
   "outputs": [],
   "source": [
    "df = df.drop(drop_ind, axis=0)"
   ]
  },
  {
   "cell_type": "code",
   "execution_count": null,
   "id": "bb6a5a93",
   "metadata": {},
   "outputs": [],
   "source": []
  }
 ],
 "metadata": {
  "kernelspec": {
   "display_name": "Python 3 (ipykernel)",
   "language": "python",
   "name": "python3"
  },
  "language_info": {
   "codemirror_mode": {
    "name": "ipython",
    "version": 3
   },
   "file_extension": ".py",
   "mimetype": "text/x-python",
   "name": "python",
   "nbconvert_exporter": "python",
   "pygments_lexer": "ipython3",
   "version": "3.9.12"
  }
 },
 "nbformat": 4,
 "nbformat_minor": 5
}
