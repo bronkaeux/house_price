{
 "cells": [
  {
   "cell_type": "code",
   "execution_count": 1,
   "id": "c3b5a67e",
   "metadata": {
    "ExecuteTime": {
     "end_time": "2024-03-15T10:36:58.727003Z",
     "start_time": "2024-03-15T10:36:56.007116Z"
    }
   },
   "outputs": [],
   "source": [
    "import numpy as np\n",
    "import pandas as pd\n",
    "import matplotlib.pyplot as plt\n",
    "import seaborn as sns"
   ]
  },
  {
   "cell_type": "code",
   "execution_count": 2,
   "id": "871b7bb7",
   "metadata": {
    "ExecuteTime": {
     "end_time": "2024-03-15T10:36:58.773128Z",
     "start_time": "2024-03-15T10:36:58.729882Z"
    }
   },
   "outputs": [],
   "source": [
    "df = pd.read_csv('cleaned_df.csv')"
   ]
  },
  {
   "cell_type": "code",
   "execution_count": 3,
   "id": "0a240ca1",
   "metadata": {
    "ExecuteTime": {
     "end_time": "2024-03-15T10:36:59.396724Z",
     "start_time": "2024-03-15T10:36:59.383137Z"
    }
   },
   "outputs": [
    {
     "data": {
      "text/plain": [
       "Index(['LotFrontage', 'LotArea', 'OverallQual', 'OverallCond', 'YearBuilt',\n",
       "       'YearRemodAdd', 'MasVnrArea', 'BsmtFinSF1', 'BsmtFinSF2', 'BsmtUnfSF',\n",
       "       'TotalBsmtSF', '1stFlrSF', '2ndFlrSF', 'LowQualFinSF', 'GrLivArea',\n",
       "       'BsmtFullBath', 'BsmtHalfBath', 'FullBath', 'HalfBath', 'BedroomAbvGr',\n",
       "       'KitchenAbvGr', 'TotRmsAbvGrd', 'Fireplaces', 'GarageYrBlt',\n",
       "       'GarageCars', 'GarageArea', 'WoodDeckSF', 'OpenPorchSF',\n",
       "       'EnclosedPorch', '3SsnPorch', 'ScreenPorch', 'PoolArea', 'MiscVal',\n",
       "       'MoSold', 'YrSold', 'SalePrice', 'MSSubClass', 'MSZoning', 'Street',\n",
       "       'LotShape', 'LandContour', 'Utilities', 'LotConfig', 'LandSlope',\n",
       "       'Neighborhood', 'Condition1', 'Condition2', 'BldgType', 'HouseStyle',\n",
       "       'RoofStyle', 'RoofMatl', 'Exterior1st', 'Exterior2nd', 'MasVnrType',\n",
       "       'ExterQual', 'ExterCond', 'Foundation', 'BsmtQual', 'BsmtCond',\n",
       "       'BsmtExposure', 'BsmtFinType1', 'BsmtFinType2', 'Heating', 'HeatingQC',\n",
       "       'CentralAir', 'Electrical', 'KitchenQual', 'Functional', 'FireplaceQu',\n",
       "       'GarageType', 'GarageFinish', 'GarageQual', 'GarageCond', 'PavedDrive',\n",
       "       'SaleType', 'SaleCondition'],\n",
       "      dtype='object')"
      ]
     },
     "execution_count": 3,
     "metadata": {},
     "output_type": "execute_result"
    }
   ],
   "source": [
    "df.columns"
   ]
  },
  {
   "cell_type": "code",
   "execution_count": 4,
   "id": "563780fb",
   "metadata": {
    "ExecuteTime": {
     "end_time": "2024-03-15T10:37:05.038169Z",
     "start_time": "2024-03-15T10:37:04.964876Z"
    }
   },
   "outputs": [],
   "source": [
    "df = pd.get_dummies(df, drop_first=True)"
   ]
  },
  {
   "cell_type": "code",
   "execution_count": 5,
   "id": "a9e11f26",
   "metadata": {
    "ExecuteTime": {
     "end_time": "2024-03-15T10:37:06.786787Z",
     "start_time": "2024-03-15T10:37:06.765660Z"
    }
   },
   "outputs": [],
   "source": [
    "# Data to be predicted\n",
    "df_to_predict = df[df['SalePrice'].isnull()]\n",
    "df_to_predict = df_to_predict.drop(['SalePrice'], axis = 1)"
   ]
  },
  {
   "cell_type": "code",
   "execution_count": 6,
   "id": "5e6169b8",
   "metadata": {
    "ExecuteTime": {
     "end_time": "2024-03-15T10:37:07.863067Z",
     "start_time": "2024-03-15T10:37:07.836702Z"
    }
   },
   "outputs": [],
   "source": [
    "df = df.dropna()"
   ]
  },
  {
   "cell_type": "code",
   "execution_count": 7,
   "id": "cd652127",
   "metadata": {
    "ExecuteTime": {
     "end_time": "2024-03-15T10:37:08.552799Z",
     "start_time": "2024-03-15T10:37:08.534360Z"
    }
   },
   "outputs": [],
   "source": [
    "X = df.drop('SalePrice',axis=1)\n",
    "y = df['SalePrice']"
   ]
  },
  {
   "cell_type": "code",
   "execution_count": 8,
   "id": "c7a92c27",
   "metadata": {
    "ExecuteTime": {
     "end_time": "2024-03-15T10:37:09.395407Z",
     "start_time": "2024-03-15T10:37:09.072287Z"
    }
   },
   "outputs": [],
   "source": [
    "from sklearn.model_selection import train_test_split\n",
    "X_train, X_test, y_train, y_test = train_test_split(X, y, test_size=0.3, random_state=101)"
   ]
  },
  {
   "cell_type": "code",
   "execution_count": 9,
   "id": "718e5bcd",
   "metadata": {
    "ExecuteTime": {
     "end_time": "2024-03-15T10:37:13.747897Z",
     "start_time": "2024-03-15T10:37:13.733665Z"
    }
   },
   "outputs": [],
   "source": [
    "from sklearn.preprocessing import StandardScaler\n",
    "scaler = StandardScaler()"
   ]
  },
  {
   "cell_type": "code",
   "execution_count": 10,
   "id": "d2d21f4c",
   "metadata": {
    "ExecuteTime": {
     "end_time": "2024-03-15T10:37:16.675487Z",
     "start_time": "2024-03-15T10:37:16.642242Z"
    }
   },
   "outputs": [
    {
     "data": {
      "text/plain": [
       "StandardScaler()"
      ]
     },
     "execution_count": 10,
     "metadata": {},
     "output_type": "execute_result"
    }
   ],
   "source": [
    "scaler.fit(X_train)"
   ]
  },
  {
   "cell_type": "code",
   "execution_count": 11,
   "id": "97e1c9c2",
   "metadata": {
    "ExecuteTime": {
     "end_time": "2024-03-15T10:37:22.705431Z",
     "start_time": "2024-03-15T10:37:22.669865Z"
    }
   },
   "outputs": [],
   "source": [
    "scaled_X_train = scaler.transform(X_train)\n",
    "scaled_X_test = scaler.transform(X_test)"
   ]
  },
  {
   "cell_type": "markdown",
   "id": "e1d5a6fd",
   "metadata": {},
   "source": [
    "## Ridge"
   ]
  },
  {
   "cell_type": "code",
   "execution_count": 12,
   "id": "9cc2ca80",
   "metadata": {
    "ExecuteTime": {
     "end_time": "2024-03-15T10:37:48.203661Z",
     "start_time": "2024-03-15T10:37:48.043940Z"
    }
   },
   "outputs": [],
   "source": [
    "from sklearn.linear_model import Ridge"
   ]
  },
  {
   "cell_type": "code",
   "execution_count": 13,
   "id": "658e36ef",
   "metadata": {
    "ExecuteTime": {
     "end_time": "2024-03-15T10:38:00.049084Z",
     "start_time": "2024-03-15T10:38:00.038552Z"
    }
   },
   "outputs": [],
   "source": [
    "model = Ridge(alpha=100)"
   ]
  },
  {
   "cell_type": "code",
   "execution_count": 14,
   "id": "65ddedb0",
   "metadata": {
    "ExecuteTime": {
     "end_time": "2024-03-15T10:38:17.685039Z",
     "start_time": "2024-03-15T10:38:17.468152Z"
    }
   },
   "outputs": [
    {
     "data": {
      "text/plain": [
       "Ridge(alpha=100)"
      ]
     },
     "execution_count": 14,
     "metadata": {},
     "output_type": "execute_result"
    }
   ],
   "source": [
    "model.fit(scaled_X_train,y_train)"
   ]
  },
  {
   "cell_type": "code",
   "execution_count": 15,
   "id": "40e5156f",
   "metadata": {
    "ExecuteTime": {
     "end_time": "2024-03-15T10:38:32.608265Z",
     "start_time": "2024-03-15T10:38:32.588127Z"
    }
   },
   "outputs": [],
   "source": [
    "y_pred = model.predict(scaled_X_test)"
   ]
  },
  {
   "cell_type": "code",
   "execution_count": 16,
   "id": "ca71a132",
   "metadata": {
    "ExecuteTime": {
     "end_time": "2024-03-15T10:38:39.387040Z",
     "start_time": "2024-03-15T10:38:39.377423Z"
    }
   },
   "outputs": [],
   "source": [
    "from sklearn.metrics import mean_squared_error"
   ]
  },
  {
   "cell_type": "code",
   "execution_count": 18,
   "id": "913dcf3f",
   "metadata": {
    "ExecuteTime": {
     "end_time": "2024-03-15T10:39:37.411739Z",
     "start_time": "2024-03-15T10:39:37.388893Z"
    }
   },
   "outputs": [
    {
     "data": {
      "text/plain": [
       "26250.378897002865"
      ]
     },
     "execution_count": 18,
     "metadata": {},
     "output_type": "execute_result"
    }
   ],
   "source": [
    "np.sqrt(mean_squared_error(y_test,y_pred))"
   ]
  },
  {
   "cell_type": "code",
   "execution_count": 19,
   "id": "f582154f",
   "metadata": {
    "ExecuteTime": {
     "end_time": "2024-03-15T10:40:07.096805Z",
     "start_time": "2024-03-15T10:40:07.075448Z"
    }
   },
   "outputs": [],
   "source": [
    "model2 = Ridge(alpha=1)"
   ]
  },
  {
   "cell_type": "code",
   "execution_count": 20,
   "id": "4af973f5",
   "metadata": {
    "ExecuteTime": {
     "end_time": "2024-03-15T10:40:19.525623Z",
     "start_time": "2024-03-15T10:40:19.504311Z"
    }
   },
   "outputs": [
    {
     "data": {
      "text/plain": [
       "Ridge(alpha=1)"
      ]
     },
     "execution_count": 20,
     "metadata": {},
     "output_type": "execute_result"
    }
   ],
   "source": [
    "model2.fit(scaled_X_train,y_train)"
   ]
  },
  {
   "cell_type": "code",
   "execution_count": 21,
   "id": "f34556d4",
   "metadata": {
    "ExecuteTime": {
     "end_time": "2024-03-15T10:40:46.199458Z",
     "start_time": "2024-03-15T10:40:46.184448Z"
    }
   },
   "outputs": [],
   "source": [
    "y_pred2 = model2.predict(scaled_X_test)"
   ]
  },
  {
   "cell_type": "code",
   "execution_count": 22,
   "id": "1fafb6fd",
   "metadata": {
    "ExecuteTime": {
     "end_time": "2024-03-15T10:41:01.628601Z",
     "start_time": "2024-03-15T10:41:01.615297Z"
    }
   },
   "outputs": [
    {
     "data": {
      "text/plain": [
       "25110.440324224288"
      ]
     },
     "execution_count": 22,
     "metadata": {},
     "output_type": "execute_result"
    }
   ],
   "source": [
    "np.sqrt(mean_squared_error(y_test,y_pred2))"
   ]
  },
  {
   "cell_type": "markdown",
   "id": "f50b1245",
   "metadata": {},
   "source": [
    "## CV - train-validation- test split"
   ]
  },
  {
   "cell_type": "code",
   "execution_count": 23,
   "id": "108e4c37",
   "metadata": {
    "ExecuteTime": {
     "end_time": "2024-03-15T10:49:43.098039Z",
     "start_time": "2024-03-15T10:49:43.077975Z"
    }
   },
   "outputs": [],
   "source": [
    "X = df.drop('SalePrice',axis=1)\n",
    "y = df['SalePrice']"
   ]
  },
  {
   "cell_type": "code",
   "execution_count": 24,
   "id": "8e5d49ec",
   "metadata": {
    "ExecuteTime": {
     "end_time": "2024-03-15T10:52:30.282128Z",
     "start_time": "2024-03-15T10:52:30.262557Z"
    }
   },
   "outputs": [],
   "source": [
    "###############################################################################################\n",
    "#### Вызываем SPLIT дважды! Здесь мы создаём три набора данных - TRAIN, VALIDATION и TEST  #########\n",
    "###############################################################################################\n",
    "from sklearn.model_selection import train_test_split\n",
    "\n",
    "# 70% данных определяем в обучающий набор, остальные 30% откладываем в сторону\n",
    "X_train, X_OTHER, y_train, y_OTHER = train_test_split(X, y, test_size=0.3, random_state=101)\n",
    "\n",
    "# Оставшиеся 30% разбиваем на оценочный и тестовый наборы данных\n",
    "# Каждый будет по 15% от исходного набора данных \n",
    "X_eval, X_test, y_eval, y_test = train_test_split(X_OTHER, y_OTHER, test_size=0.5, random_state=101)"
   ]
  },
  {
   "cell_type": "code",
   "execution_count": 28,
   "id": "41cc6e37",
   "metadata": {
    "ExecuteTime": {
     "end_time": "2024-03-15T10:54:30.130773Z",
     "start_time": "2024-03-15T10:54:30.121237Z"
    }
   },
   "outputs": [
    {
     "name": "stdout",
     "output_type": "stream",
     "text": [
      "1451 1015 436 218\n"
     ]
    }
   ],
   "source": [
    "print(len(df), len(X_train), len(X_OTHER), len(X_eval))"
   ]
  },
  {
   "cell_type": "code",
   "execution_count": 29,
   "id": "b5a4acf2",
   "metadata": {
    "ExecuteTime": {
     "end_time": "2024-03-15T10:54:50.772093Z",
     "start_time": "2024-03-15T10:54:50.720074Z"
    }
   },
   "outputs": [],
   "source": [
    "# Масштабируем данные (SCALE)\n",
    "from sklearn.preprocessing import StandardScaler\n",
    "scaler = StandardScaler()\n",
    "scaler.fit(X_train)\n",
    "X_train = scaler.transform(X_train)\n",
    "X_eval = scaler.transform(X_eval)\n",
    "X_test = scaler.transform(X_test)"
   ]
  },
  {
   "cell_type": "code",
   "execution_count": 30,
   "id": "a647a28d",
   "metadata": {
    "ExecuteTime": {
     "end_time": "2024-03-15T10:56:03.811022Z",
     "start_time": "2024-03-15T10:56:03.796390Z"
    }
   },
   "outputs": [],
   "source": [
    "from sklearn.linear_model import Ridge"
   ]
  },
  {
   "cell_type": "code",
   "execution_count": 31,
   "id": "7369e66d",
   "metadata": {
    "ExecuteTime": {
     "end_time": "2024-03-15T10:56:09.907349Z",
     "start_time": "2024-03-15T10:56:09.891061Z"
    }
   },
   "outputs": [],
   "source": [
    "model = Ridge(alpha=100)"
   ]
  },
  {
   "cell_type": "code",
   "execution_count": 32,
   "id": "e8b97b52",
   "metadata": {
    "ExecuteTime": {
     "end_time": "2024-03-15T10:56:16.563733Z",
     "start_time": "2024-03-15T10:56:16.531990Z"
    }
   },
   "outputs": [
    {
     "data": {
      "text/plain": [
       "Ridge(alpha=100)"
      ]
     },
     "execution_count": 32,
     "metadata": {},
     "output_type": "execute_result"
    }
   ],
   "source": [
    "model.fit(X_train,y_train)"
   ]
  },
  {
   "cell_type": "code",
   "execution_count": 33,
   "id": "a992af67",
   "metadata": {
    "ExecuteTime": {
     "end_time": "2024-03-15T10:56:23.928342Z",
     "start_time": "2024-03-15T10:56:23.906415Z"
    }
   },
   "outputs": [],
   "source": [
    "y_eval_pred = model.predict(X_eval)"
   ]
  },
  {
   "cell_type": "code",
   "execution_count": 34,
   "id": "011d81dc",
   "metadata": {
    "ExecuteTime": {
     "end_time": "2024-03-15T10:56:30.698752Z",
     "start_time": "2024-03-15T10:56:30.683647Z"
    }
   },
   "outputs": [],
   "source": [
    "from sklearn.metrics import mean_squared_error"
   ]
  },
  {
   "cell_type": "code",
   "execution_count": 35,
   "id": "8d7a2f4e",
   "metadata": {
    "ExecuteTime": {
     "end_time": "2024-03-15T10:56:43.304687Z",
     "start_time": "2024-03-15T10:56:43.287819Z"
    }
   },
   "outputs": [
    {
     "data": {
      "text/plain": [
       "26219.670431563318"
      ]
     },
     "execution_count": 35,
     "metadata": {},
     "output_type": "execute_result"
    }
   ],
   "source": [
    "np.sqrt(mean_squared_error(y_eval,y_eval_pred))"
   ]
  },
  {
   "cell_type": "code",
   "execution_count": 36,
   "id": "5bb69b60",
   "metadata": {
    "ExecuteTime": {
     "end_time": "2024-03-15T10:57:02.830920Z",
     "start_time": "2024-03-15T10:57:02.813177Z"
    }
   },
   "outputs": [],
   "source": [
    "model = Ridge(alpha=1)"
   ]
  },
  {
   "cell_type": "code",
   "execution_count": 37,
   "id": "6414ec70",
   "metadata": {
    "ExecuteTime": {
     "end_time": "2024-03-15T10:57:09.225271Z",
     "start_time": "2024-03-15T10:57:09.206963Z"
    }
   },
   "outputs": [
    {
     "data": {
      "text/plain": [
       "Ridge(alpha=1)"
      ]
     },
     "execution_count": 37,
     "metadata": {},
     "output_type": "execute_result"
    }
   ],
   "source": [
    "model.fit(X_train,y_train)"
   ]
  },
  {
   "cell_type": "code",
   "execution_count": 38,
   "id": "158c42ef",
   "metadata": {
    "ExecuteTime": {
     "end_time": "2024-03-15T10:57:15.203720Z",
     "start_time": "2024-03-15T10:57:15.188825Z"
    }
   },
   "outputs": [],
   "source": [
    "y_eval_pred = model.predict(X_eval)"
   ]
  },
  {
   "cell_type": "code",
   "execution_count": 39,
   "id": "2aed0ccd",
   "metadata": {
    "ExecuteTime": {
     "end_time": "2024-03-15T10:57:26.282267Z",
     "start_time": "2024-03-15T10:57:26.263678Z"
    }
   },
   "outputs": [
    {
     "data": {
      "text/plain": [
       "24347.82403984005"
      ]
     },
     "execution_count": 39,
     "metadata": {},
     "output_type": "execute_result"
    }
   ],
   "source": [
    "np.sqrt(mean_squared_error(y_eval,y_eval_pred))"
   ]
  },
  {
   "cell_type": "code",
   "execution_count": 40,
   "id": "7942afc2",
   "metadata": {
    "ExecuteTime": {
     "end_time": "2024-03-15T10:58:08.711731Z",
     "start_time": "2024-03-15T10:58:08.695096Z"
    }
   },
   "outputs": [],
   "source": [
    "y_final_test_pred = model.predict(X_test)"
   ]
  },
  {
   "cell_type": "code",
   "execution_count": 41,
   "id": "c4091d2e",
   "metadata": {
    "ExecuteTime": {
     "end_time": "2024-03-15T10:58:23.869914Z",
     "start_time": "2024-03-15T10:58:23.848025Z"
    }
   },
   "outputs": [
    {
     "data": {
      "text/plain": [
       "25850.568486550645"
      ]
     },
     "execution_count": 41,
     "metadata": {},
     "output_type": "execute_result"
    }
   ],
   "source": [
    "np.sqrt(mean_squared_error(y_test,y_final_test_pred))"
   ]
  },
  {
   "cell_type": "markdown",
   "id": "8fcd65c3",
   "metadata": {},
   "source": [
    "## CV score"
   ]
  },
  {
   "cell_type": "code",
   "execution_count": 42,
   "id": "a9ef7db4",
   "metadata": {
    "ExecuteTime": {
     "end_time": "2024-03-15T11:02:25.818519Z",
     "start_time": "2024-03-15T11:02:25.796417Z"
    }
   },
   "outputs": [],
   "source": [
    "## Создаём X и y\n",
    "X = df.drop('SalePrice',axis=1)\n",
    "y = df['SalePrice']"
   ]
  },
  {
   "cell_type": "code",
   "execution_count": 43,
   "id": "ff5ac2cb",
   "metadata": {
    "ExecuteTime": {
     "end_time": "2024-03-15T11:02:28.999837Z",
     "start_time": "2024-03-15T11:02:28.984361Z"
    }
   },
   "outputs": [],
   "source": [
    "# Разбиение на TRAIN и TEST\n",
    "from sklearn.model_selection import train_test_split\n",
    "X_train, X_test, y_train, y_test = train_test_split(X, y, test_size=0.3, random_state=101)"
   ]
  },
  {
   "cell_type": "code",
   "execution_count": 44,
   "id": "d838c2a6",
   "metadata": {
    "ExecuteTime": {
     "end_time": "2024-03-15T11:02:30.728953Z",
     "start_time": "2024-03-15T11:02:30.681224Z"
    }
   },
   "outputs": [],
   "source": [
    "# Масштабирование данных (SCALE)\n",
    "from sklearn.preprocessing import StandardScaler\n",
    "scaler = StandardScaler()\n",
    "scaler.fit(X_train)\n",
    "X_train = scaler.transform(X_train)\n",
    "X_test = scaler.transform(X_test)"
   ]
  },
  {
   "cell_type": "code",
   "execution_count": 46,
   "id": "4cf1beb3",
   "metadata": {
    "ExecuteTime": {
     "end_time": "2024-03-15T11:30:58.620261Z",
     "start_time": "2024-03-15T11:30:58.612630Z"
    }
   },
   "outputs": [],
   "source": [
    "from sklearn.linear_model import Ridge"
   ]
  },
  {
   "cell_type": "code",
   "execution_count": 45,
   "id": "e4c7a553",
   "metadata": {
    "ExecuteTime": {
     "end_time": "2024-03-15T11:30:50.509069Z",
     "start_time": "2024-03-15T11:30:50.496010Z"
    }
   },
   "outputs": [],
   "source": [
    "model = Ridge(alpha=100)"
   ]
  },
  {
   "cell_type": "code",
   "execution_count": 47,
   "id": "6ca497cd",
   "metadata": {
    "ExecuteTime": {
     "end_time": "2024-03-15T11:31:13.269585Z",
     "start_time": "2024-03-15T11:31:13.252751Z"
    }
   },
   "outputs": [],
   "source": [
    "from sklearn.model_selection import cross_val_score"
   ]
  },
  {
   "cell_type": "code",
   "execution_count": 49,
   "id": "e55e2ccc",
   "metadata": {
    "ExecuteTime": {
     "end_time": "2024-03-15T11:32:39.550460Z",
     "start_time": "2024-03-15T11:32:39.492009Z"
    }
   },
   "outputs": [],
   "source": [
    "scores = cross_val_score(model,X_train,y_train,\n",
    "                         scoring='neg_root_mean_squared_error',cv=5)"
   ]
  },
  {
   "cell_type": "code",
   "execution_count": 52,
   "id": "d980bea6",
   "metadata": {
    "ExecuteTime": {
     "end_time": "2024-03-15T11:33:33.010816Z",
     "start_time": "2024-03-15T11:33:32.999812Z"
    }
   },
   "outputs": [
    {
     "data": {
      "text/plain": [
       "24287.157112857392"
      ]
     },
     "execution_count": 52,
     "metadata": {},
     "output_type": "execute_result"
    }
   ],
   "source": [
    "abs(scores.mean())"
   ]
  },
  {
   "cell_type": "code",
   "execution_count": 53,
   "id": "ac180eb7",
   "metadata": {
    "ExecuteTime": {
     "end_time": "2024-03-15T11:34:36.909389Z",
     "start_time": "2024-03-15T11:34:36.891209Z"
    }
   },
   "outputs": [],
   "source": [
    "model = Ridge(alpha=1)"
   ]
  },
  {
   "cell_type": "code",
   "execution_count": 54,
   "id": "814de8a4",
   "metadata": {
    "ExecuteTime": {
     "end_time": "2024-03-15T11:34:42.156012Z",
     "start_time": "2024-03-15T11:34:42.100418Z"
    }
   },
   "outputs": [],
   "source": [
    "scores = cross_val_score(model,X_train,y_train,\n",
    "                         scoring='neg_root_mean_squared_error',cv=5)"
   ]
  },
  {
   "cell_type": "code",
   "execution_count": 55,
   "id": "dfe2600d",
   "metadata": {
    "ExecuteTime": {
     "end_time": "2024-03-15T11:34:46.452489Z",
     "start_time": "2024-03-15T11:34:46.440411Z"
    }
   },
   "outputs": [
    {
     "data": {
      "text/plain": [
       "25760.150377973685"
      ]
     },
     "execution_count": 55,
     "metadata": {},
     "output_type": "execute_result"
    }
   ],
   "source": [
    "abs(scores.mean())"
   ]
  },
  {
   "cell_type": "code",
   "execution_count": 56,
   "id": "b4a1b301",
   "metadata": {
    "ExecuteTime": {
     "end_time": "2024-03-15T11:36:51.334101Z",
     "start_time": "2024-03-15T11:36:51.315824Z"
    }
   },
   "outputs": [
    {
     "data": {
      "text/plain": [
       "Ridge(alpha=1)"
      ]
     },
     "execution_count": 56,
     "metadata": {},
     "output_type": "execute_result"
    }
   ],
   "source": [
    "model.fit(X_train,y_train)"
   ]
  },
  {
   "cell_type": "code",
   "execution_count": 57,
   "id": "6b35942e",
   "metadata": {
    "ExecuteTime": {
     "end_time": "2024-03-15T11:36:58.939683Z",
     "start_time": "2024-03-15T11:36:58.917511Z"
    }
   },
   "outputs": [],
   "source": [
    "y_final_test_pred = model.predict(X_test)"
   ]
  },
  {
   "cell_type": "code",
   "execution_count": 58,
   "id": "9c9ae813",
   "metadata": {
    "ExecuteTime": {
     "end_time": "2024-03-15T11:37:10.752572Z",
     "start_time": "2024-03-15T11:37:10.735853Z"
    }
   },
   "outputs": [
    {
     "data": {
      "text/plain": [
       "25110.440324224288"
      ]
     },
     "execution_count": 58,
     "metadata": {},
     "output_type": "execute_result"
    }
   ],
   "source": [
    "np.sqrt(mean_squared_error(y_test,y_final_test_pred))"
   ]
  },
  {
   "cell_type": "code",
   "execution_count": null,
   "id": "4494fd83",
   "metadata": {},
   "outputs": [],
   "source": []
  },
  {
   "cell_type": "markdown",
   "id": "99fa8468",
   "metadata": {},
   "source": [
    "## Cross Validate"
   ]
  },
  {
   "cell_type": "code",
   "execution_count": 59,
   "id": "7a5cf5f4",
   "metadata": {
    "ExecuteTime": {
     "end_time": "2024-03-15T11:40:34.937128Z",
     "start_time": "2024-03-15T11:40:34.886738Z"
    }
   },
   "outputs": [],
   "source": [
    "## Создаём X и y\n",
    "X = df.drop('SalePrice',axis=1)\n",
    "y = df['SalePrice']\n",
    "\n",
    "# Делаем разбиение на TRAIN и TEST\n",
    "from sklearn.model_selection import train_test_split\n",
    "X_train, X_test, y_train, y_test = train_test_split(X, y, test_size=0.3, random_state=101)\n",
    "\n",
    "# Масштабируем данные (SCALE)\n",
    "from sklearn.preprocessing import StandardScaler\n",
    "scaler = StandardScaler()\n",
    "scaler.fit(X_train)\n",
    "X_train = scaler.transform(X_train)\n",
    "X_test = scaler.transform(X_test)"
   ]
  },
  {
   "cell_type": "code",
   "execution_count": 60,
   "id": "7da1906a",
   "metadata": {
    "ExecuteTime": {
     "end_time": "2024-03-15T11:40:38.820745Z",
     "start_time": "2024-03-15T11:40:38.815213Z"
    }
   },
   "outputs": [],
   "source": [
    "from sklearn.model_selection import cross_validate"
   ]
  },
  {
   "cell_type": "code",
   "execution_count": 61,
   "id": "4a0199e3",
   "metadata": {
    "ExecuteTime": {
     "end_time": "2024-03-15T11:40:45.712618Z",
     "start_time": "2024-03-15T11:40:45.703020Z"
    }
   },
   "outputs": [],
   "source": [
    "model = Ridge(alpha=100)"
   ]
  },
  {
   "cell_type": "code",
   "execution_count": 62,
   "id": "05c1a4ad",
   "metadata": {
    "ExecuteTime": {
     "end_time": "2024-03-15T11:41:55.499202Z",
     "start_time": "2024-03-15T11:41:55.396571Z"
    }
   },
   "outputs": [],
   "source": [
    "# Варианты оценки модели:\n",
    "# https://scikit-learn.org/stable/modules/model_evaluation.html\n",
    "scores = cross_validate(model,X_train,y_train,\n",
    "                         scoring=['neg_mean_absolute_error','neg_root_mean_squared_error',\n",
    "                                  'neg_mean_squared_error', 'max_error'],cv=5)"
   ]
  },
  {
   "cell_type": "code",
   "execution_count": 63,
   "id": "8749970b",
   "metadata": {
    "ExecuteTime": {
     "end_time": "2024-03-15T11:42:10.295916Z",
     "start_time": "2024-03-15T11:42:10.278146Z"
    }
   },
   "outputs": [
    {
     "data": {
      "text/plain": [
       "{'fit_time': array([0.01253414, 0.00604463, 0.00602531, 0.00764322, 0.00653625]),\n",
       " 'score_time': array([0.00150847, 0.00149655, 0.00199914, 0.00099182, 0.00199556]),\n",
       " 'test_neg_mean_absolute_error': array([-19674.01753452, -14515.36911628, -17219.88356373, -15718.06431927,\n",
       "        -17367.05524157]),\n",
       " 'test_neg_root_mean_squared_error': array([-29242.17314218, -19172.11340656, -23672.60488189, -22111.91842121,\n",
       "        -27236.97571244]),\n",
       " 'test_neg_mean_squared_error': array([-8.55104690e+08, -3.67569932e+08, -5.60392222e+08, -4.88936936e+08,\n",
       "        -7.41852846e+08]),\n",
       " 'test_max_error': array([-159074.85615497,  -78286.5263669 , -125294.53813376,\n",
       "        -142425.09223903, -177594.75341642])}"
      ]
     },
     "execution_count": 63,
     "metadata": {},
     "output_type": "execute_result"
    }
   ],
   "source": [
    "scores"
   ]
  },
  {
   "cell_type": "code",
   "execution_count": 64,
   "id": "de9845fa",
   "metadata": {
    "ExecuteTime": {
     "end_time": "2024-03-15T11:42:28.139328Z",
     "start_time": "2024-03-15T11:42:28.094624Z"
    }
   },
   "outputs": [
    {
     "data": {
      "text/html": [
       "<div>\n",
       "<style scoped>\n",
       "    .dataframe tbody tr th:only-of-type {\n",
       "        vertical-align: middle;\n",
       "    }\n",
       "\n",
       "    .dataframe tbody tr th {\n",
       "        vertical-align: top;\n",
       "    }\n",
       "\n",
       "    .dataframe thead th {\n",
       "        text-align: right;\n",
       "    }\n",
       "</style>\n",
       "<table border=\"1\" class=\"dataframe\">\n",
       "  <thead>\n",
       "    <tr style=\"text-align: right;\">\n",
       "      <th></th>\n",
       "      <th>fit_time</th>\n",
       "      <th>score_time</th>\n",
       "      <th>test_neg_mean_absolute_error</th>\n",
       "      <th>test_neg_root_mean_squared_error</th>\n",
       "      <th>test_neg_mean_squared_error</th>\n",
       "      <th>test_max_error</th>\n",
       "    </tr>\n",
       "  </thead>\n",
       "  <tbody>\n",
       "    <tr>\n",
       "      <th>0</th>\n",
       "      <td>0.012534</td>\n",
       "      <td>0.001508</td>\n",
       "      <td>-19674.017535</td>\n",
       "      <td>-29242.173142</td>\n",
       "      <td>-8.551047e+08</td>\n",
       "      <td>-159074.856155</td>\n",
       "    </tr>\n",
       "    <tr>\n",
       "      <th>1</th>\n",
       "      <td>0.006045</td>\n",
       "      <td>0.001497</td>\n",
       "      <td>-14515.369116</td>\n",
       "      <td>-19172.113407</td>\n",
       "      <td>-3.675699e+08</td>\n",
       "      <td>-78286.526367</td>\n",
       "    </tr>\n",
       "    <tr>\n",
       "      <th>2</th>\n",
       "      <td>0.006025</td>\n",
       "      <td>0.001999</td>\n",
       "      <td>-17219.883564</td>\n",
       "      <td>-23672.604882</td>\n",
       "      <td>-5.603922e+08</td>\n",
       "      <td>-125294.538134</td>\n",
       "    </tr>\n",
       "    <tr>\n",
       "      <th>3</th>\n",
       "      <td>0.007643</td>\n",
       "      <td>0.000992</td>\n",
       "      <td>-15718.064319</td>\n",
       "      <td>-22111.918421</td>\n",
       "      <td>-4.889369e+08</td>\n",
       "      <td>-142425.092239</td>\n",
       "    </tr>\n",
       "    <tr>\n",
       "      <th>4</th>\n",
       "      <td>0.006536</td>\n",
       "      <td>0.001996</td>\n",
       "      <td>-17367.055242</td>\n",
       "      <td>-27236.975712</td>\n",
       "      <td>-7.418528e+08</td>\n",
       "      <td>-177594.753416</td>\n",
       "    </tr>\n",
       "  </tbody>\n",
       "</table>\n",
       "</div>"
      ],
      "text/plain": [
       "   fit_time  score_time  test_neg_mean_absolute_error  \\\n",
       "0  0.012534    0.001508                 -19674.017535   \n",
       "1  0.006045    0.001497                 -14515.369116   \n",
       "2  0.006025    0.001999                 -17219.883564   \n",
       "3  0.007643    0.000992                 -15718.064319   \n",
       "4  0.006536    0.001996                 -17367.055242   \n",
       "\n",
       "   test_neg_root_mean_squared_error  test_neg_mean_squared_error  \\\n",
       "0                     -29242.173142                -8.551047e+08   \n",
       "1                     -19172.113407                -3.675699e+08   \n",
       "2                     -23672.604882                -5.603922e+08   \n",
       "3                     -22111.918421                -4.889369e+08   \n",
       "4                     -27236.975712                -7.418528e+08   \n",
       "\n",
       "   test_max_error  \n",
       "0  -159074.856155  \n",
       "1   -78286.526367  \n",
       "2  -125294.538134  \n",
       "3  -142425.092239  \n",
       "4  -177594.753416  "
      ]
     },
     "execution_count": 64,
     "metadata": {},
     "output_type": "execute_result"
    }
   ],
   "source": [
    "pd.DataFrame(scores)"
   ]
  },
  {
   "cell_type": "code",
   "execution_count": 66,
   "id": "a98fd266",
   "metadata": {
    "ExecuteTime": {
     "end_time": "2024-03-15T11:43:28.869034Z",
     "start_time": "2024-03-15T11:43:28.846645Z"
    }
   },
   "outputs": [
    {
     "data": {
      "text/plain": [
       "fit_time                            7.756710e-03\n",
       "score_time                          1.598310e-03\n",
       "test_neg_mean_absolute_error       -1.689888e+04\n",
       "test_neg_root_mean_squared_error   -2.428716e+04\n",
       "test_neg_mean_squared_error        -6.027713e+08\n",
       "test_max_error                     -1.365352e+05\n",
       "dtype: float64"
      ]
     },
     "execution_count": 66,
     "metadata": {},
     "output_type": "execute_result"
    }
   ],
   "source": [
    "pd.DataFrame(scores).mean()"
   ]
  },
  {
   "cell_type": "code",
   "execution_count": 68,
   "id": "0366f609",
   "metadata": {
    "ExecuteTime": {
     "end_time": "2024-03-15T11:44:02.881785Z",
     "start_time": "2024-03-15T11:44:02.866238Z"
    }
   },
   "outputs": [],
   "source": [
    "model = Ridge(alpha=1)"
   ]
  },
  {
   "cell_type": "code",
   "execution_count": 69,
   "id": "dc400d18",
   "metadata": {
    "ExecuteTime": {
     "end_time": "2024-03-15T11:44:22.025847Z",
     "start_time": "2024-03-15T11:44:21.948341Z"
    }
   },
   "outputs": [],
   "source": [
    "# Варианты оценки модели:\n",
    "# https://scikit-learn.org/stable/modules/model_evaluation.html\n",
    "scores = cross_validate(model,X_train,y_train,\n",
    "                         scoring=['neg_mean_absolute_error','neg_root_mean_squared_error',\n",
    "                                  'neg_mean_squared_error', 'max_error'],cv=5)"
   ]
  },
  {
   "cell_type": "code",
   "execution_count": 70,
   "id": "9b9bc6c4",
   "metadata": {
    "ExecuteTime": {
     "end_time": "2024-03-15T11:44:28.475794Z",
     "start_time": "2024-03-15T11:44:28.457474Z"
    }
   },
   "outputs": [
    {
     "data": {
      "text/html": [
       "<div>\n",
       "<style scoped>\n",
       "    .dataframe tbody tr th:only-of-type {\n",
       "        vertical-align: middle;\n",
       "    }\n",
       "\n",
       "    .dataframe tbody tr th {\n",
       "        vertical-align: top;\n",
       "    }\n",
       "\n",
       "    .dataframe thead th {\n",
       "        text-align: right;\n",
       "    }\n",
       "</style>\n",
       "<table border=\"1\" class=\"dataframe\">\n",
       "  <thead>\n",
       "    <tr style=\"text-align: right;\">\n",
       "      <th></th>\n",
       "      <th>fit_time</th>\n",
       "      <th>score_time</th>\n",
       "      <th>test_neg_mean_absolute_error</th>\n",
       "      <th>test_neg_root_mean_squared_error</th>\n",
       "      <th>test_neg_mean_squared_error</th>\n",
       "      <th>test_max_error</th>\n",
       "    </tr>\n",
       "  </thead>\n",
       "  <tbody>\n",
       "    <tr>\n",
       "      <th>0</th>\n",
       "      <td>0.014177</td>\n",
       "      <td>0.001466</td>\n",
       "      <td>-21048.057952</td>\n",
       "      <td>-30505.623292</td>\n",
       "      <td>-9.305931e+08</td>\n",
       "      <td>-147981.388259</td>\n",
       "    </tr>\n",
       "    <tr>\n",
       "      <th>1</th>\n",
       "      <td>0.006598</td>\n",
       "      <td>0.000932</td>\n",
       "      <td>-15998.476713</td>\n",
       "      <td>-21528.173034</td>\n",
       "      <td>-4.634622e+08</td>\n",
       "      <td>-95513.352422</td>\n",
       "    </tr>\n",
       "    <tr>\n",
       "      <th>2</th>\n",
       "      <td>0.006889</td>\n",
       "      <td>0.002015</td>\n",
       "      <td>-18793.802420</td>\n",
       "      <td>-25850.077075</td>\n",
       "      <td>-6.682265e+08</td>\n",
       "      <td>-120700.768637</td>\n",
       "    </tr>\n",
       "    <tr>\n",
       "      <th>3</th>\n",
       "      <td>0.006529</td>\n",
       "      <td>0.002009</td>\n",
       "      <td>-17087.809952</td>\n",
       "      <td>-23821.747537</td>\n",
       "      <td>-5.674757e+08</td>\n",
       "      <td>-150581.454922</td>\n",
       "    </tr>\n",
       "    <tr>\n",
       "      <th>4</th>\n",
       "      <td>0.008200</td>\n",
       "      <td>0.001010</td>\n",
       "      <td>-17294.121269</td>\n",
       "      <td>-27095.130953</td>\n",
       "      <td>-7.341461e+08</td>\n",
       "      <td>-165796.031341</td>\n",
       "    </tr>\n",
       "  </tbody>\n",
       "</table>\n",
       "</div>"
      ],
      "text/plain": [
       "   fit_time  score_time  test_neg_mean_absolute_error  \\\n",
       "0  0.014177    0.001466                 -21048.057952   \n",
       "1  0.006598    0.000932                 -15998.476713   \n",
       "2  0.006889    0.002015                 -18793.802420   \n",
       "3  0.006529    0.002009                 -17087.809952   \n",
       "4  0.008200    0.001010                 -17294.121269   \n",
       "\n",
       "   test_neg_root_mean_squared_error  test_neg_mean_squared_error  \\\n",
       "0                     -30505.623292                -9.305931e+08   \n",
       "1                     -21528.173034                -4.634622e+08   \n",
       "2                     -25850.077075                -6.682265e+08   \n",
       "3                     -23821.747537                -5.674757e+08   \n",
       "4                     -27095.130953                -7.341461e+08   \n",
       "\n",
       "   test_max_error  \n",
       "0  -147981.388259  \n",
       "1   -95513.352422  \n",
       "2  -120700.768637  \n",
       "3  -150581.454922  \n",
       "4  -165796.031341  "
      ]
     },
     "execution_count": 70,
     "metadata": {},
     "output_type": "execute_result"
    }
   ],
   "source": [
    "pd.DataFrame(scores)"
   ]
  },
  {
   "cell_type": "code",
   "execution_count": 71,
   "id": "05578893",
   "metadata": {
    "ExecuteTime": {
     "end_time": "2024-03-15T11:44:33.743851Z",
     "start_time": "2024-03-15T11:44:33.716760Z"
    }
   },
   "outputs": [
    {
     "data": {
      "text/plain": [
       "fit_time                            8.478498e-03\n",
       "score_time                          1.486254e-03\n",
       "test_neg_mean_absolute_error       -1.804445e+04\n",
       "test_neg_root_mean_squared_error   -2.576015e+04\n",
       "test_neg_mean_squared_error        -6.727807e+08\n",
       "test_max_error                     -1.361146e+05\n",
       "dtype: float64"
      ]
     },
     "execution_count": 71,
     "metadata": {},
     "output_type": "execute_result"
    }
   ],
   "source": [
    "pd.DataFrame(scores).mean()"
   ]
  },
  {
   "cell_type": "code",
   "execution_count": 72,
   "id": "4620b5db",
   "metadata": {
    "ExecuteTime": {
     "end_time": "2024-03-15T11:44:49.602378Z",
     "start_time": "2024-03-15T11:44:49.581201Z"
    }
   },
   "outputs": [
    {
     "data": {
      "text/plain": [
       "Ridge(alpha=1)"
      ]
     },
     "execution_count": 72,
     "metadata": {},
     "output_type": "execute_result"
    }
   ],
   "source": [
    "model.fit(X_train,y_train)"
   ]
  },
  {
   "cell_type": "code",
   "execution_count": 73,
   "id": "e169a753",
   "metadata": {
    "ExecuteTime": {
     "end_time": "2024-03-15T11:44:55.751518Z",
     "start_time": "2024-03-15T11:44:55.739601Z"
    }
   },
   "outputs": [],
   "source": [
    "y_final_test_pred = model.predict(X_test)"
   ]
  },
  {
   "cell_type": "code",
   "execution_count": 74,
   "id": "e6a584ee",
   "metadata": {
    "ExecuteTime": {
     "end_time": "2024-03-15T11:45:06.429723Z",
     "start_time": "2024-03-15T11:45:06.420181Z"
    }
   },
   "outputs": [
    {
     "data": {
      "text/plain": [
       "25110.440324224288"
      ]
     },
     "execution_count": 74,
     "metadata": {},
     "output_type": "execute_result"
    }
   ],
   "source": [
    "np.sqrt(mean_squared_error(y_test, y_final_test_pred))"
   ]
  },
  {
   "cell_type": "markdown",
   "id": "4642fef9",
   "metadata": {},
   "source": [
    "## Grid"
   ]
  },
  {
   "cell_type": "code",
   "execution_count": 75,
   "id": "b78a0aad",
   "metadata": {
    "ExecuteTime": {
     "end_time": "2024-03-15T11:48:02.404931Z",
     "start_time": "2024-03-15T11:48:02.351224Z"
    }
   },
   "outputs": [],
   "source": [
    "## Создаём X и y\n",
    "X = df.drop('SalePrice',axis=1)\n",
    "y = df['SalePrice']\n",
    "\n",
    "# Разбиение на обучающий и тестовый наборы - TRAIN TEST SPLIT\n",
    "from sklearn.model_selection import train_test_split\n",
    "X_train, X_test, y_train, y_test = train_test_split(X, y, test_size=0.3, random_state=101)\n",
    "\n",
    "# Масштабирование данных (SCALE)\n",
    "from sklearn.preprocessing import StandardScaler\n",
    "scaler = StandardScaler()\n",
    "scaler.fit(X_train)\n",
    "X_train = scaler.transform(X_train)\n",
    "X_test = scaler.transform(X_test)"
   ]
  },
  {
   "cell_type": "code",
   "execution_count": 76,
   "id": "81a60314",
   "metadata": {
    "ExecuteTime": {
     "end_time": "2024-03-15T11:48:18.693334Z",
     "start_time": "2024-03-15T11:48:18.680318Z"
    }
   },
   "outputs": [],
   "source": [
    "from sklearn.linear_model import ElasticNet"
   ]
  },
  {
   "cell_type": "code",
   "execution_count": 77,
   "id": "65f68548",
   "metadata": {
    "ExecuteTime": {
     "end_time": "2024-03-15T11:48:32.877814Z",
     "start_time": "2024-03-15T11:48:32.859874Z"
    }
   },
   "outputs": [],
   "source": [
    "base_elastic_model = ElasticNet()"
   ]
  },
  {
   "cell_type": "code",
   "execution_count": 78,
   "id": "9128d8e8",
   "metadata": {
    "ExecuteTime": {
     "end_time": "2024-03-15T11:48:54.993255Z",
     "start_time": "2024-03-15T11:48:54.974097Z"
    }
   },
   "outputs": [],
   "source": [
    "param_grid = {'alpha':[0.1,1,5,10,50,100],\n",
    "              'l1_ratio':[.1, .5, .7, .9, .95, .99, 1]}"
   ]
  },
  {
   "cell_type": "code",
   "execution_count": 79,
   "id": "44fce105",
   "metadata": {
    "ExecuteTime": {
     "end_time": "2024-03-15T11:49:02.376224Z",
     "start_time": "2024-03-15T11:49:02.362607Z"
    }
   },
   "outputs": [],
   "source": [
    "from sklearn.model_selection import GridSearchCV"
   ]
  },
  {
   "cell_type": "code",
   "execution_count": 80,
   "id": "d0708a9f",
   "metadata": {
    "ExecuteTime": {
     "end_time": "2024-03-15T11:49:47.277023Z",
     "start_time": "2024-03-15T11:49:47.254929Z"
    }
   },
   "outputs": [],
   "source": [
    "# число verbose выбирайте сами\n",
    "grid_model = GridSearchCV(estimator=base_elastic_model,\n",
    "                          param_grid=param_grid,\n",
    "                          scoring='neg_root_mean_squared_error',\n",
    "                          cv=5,\n",
    "                          verbose=2)"
   ]
  },
  {
   "cell_type": "code",
   "execution_count": 81,
   "id": "6c3e81f9",
   "metadata": {
    "ExecuteTime": {
     "end_time": "2024-03-15T11:50:06.818446Z",
     "start_time": "2024-03-15T11:49:58.643583Z"
    }
   },
   "outputs": [
    {
     "name": "stdout",
     "output_type": "stream",
     "text": [
      "Fitting 5 folds for each of 42 candidates, totalling 210 fits\n",
      "[CV] END ............................alpha=0.1, l1_ratio=0.1; total time=   0.0s\n",
      "[CV] END ............................alpha=0.1, l1_ratio=0.1; total time=   0.0s\n",
      "[CV] END ............................alpha=0.1, l1_ratio=0.1; total time=   0.0s\n",
      "[CV] END ............................alpha=0.1, l1_ratio=0.1; total time=   0.0s\n",
      "[CV] END ............................alpha=0.1, l1_ratio=0.1; total time=   0.0s\n",
      "[CV] END ............................alpha=0.1, l1_ratio=0.5; total time=   0.0s\n",
      "[CV] END ............................alpha=0.1, l1_ratio=0.5; total time=   0.0s\n",
      "[CV] END ............................alpha=0.1, l1_ratio=0.5; total time=   0.0s\n",
      "[CV] END ............................alpha=0.1, l1_ratio=0.5; total time=   0.0s\n",
      "[CV] END ............................alpha=0.1, l1_ratio=0.5; total time=   0.0s\n",
      "[CV] END ............................alpha=0.1, l1_ratio=0.7; total time=   0.0s\n",
      "[CV] END ............................alpha=0.1, l1_ratio=0.7; total time=   0.0s\n",
      "[CV] END ............................alpha=0.1, l1_ratio=0.7; total time=   0.0s\n",
      "[CV] END ............................alpha=0.1, l1_ratio=0.7; total time=   0.0s\n",
      "[CV] END ............................alpha=0.1, l1_ratio=0.7; total time=   0.0s\n",
      "[CV] END ............................alpha=0.1, l1_ratio=0.9; total time=   0.0s\n",
      "[CV] END ............................alpha=0.1, l1_ratio=0.9; total time=   0.0s\n"
     ]
    },
    {
     "name": "stderr",
     "output_type": "stream",
     "text": [
      "C:\\Users\\79852\\anaconda3\\lib\\site-packages\\sklearn\\linear_model\\_coordinate_descent.py:647: ConvergenceWarning: Objective did not converge. You might want to increase the number of iterations, check the scale of the features or consider increasing regularisation. Duality gap: 2.770e+09, tolerance: 4.583e+08\n",
      "  model = cd_fast.enet_coordinate_descent(\n",
      "C:\\Users\\79852\\anaconda3\\lib\\site-packages\\sklearn\\linear_model\\_coordinate_descent.py:647: ConvergenceWarning: Objective did not converge. You might want to increase the number of iterations, check the scale of the features or consider increasing regularisation. Duality gap: 3.995e+09, tolerance: 4.815e+08\n",
      "  model = cd_fast.enet_coordinate_descent(\n"
     ]
    },
    {
     "name": "stdout",
     "output_type": "stream",
     "text": [
      "[CV] END ............................alpha=0.1, l1_ratio=0.9; total time=   0.0s\n",
      "[CV] END ............................alpha=0.1, l1_ratio=0.9; total time=   0.0s\n",
      "[CV] END ............................alpha=0.1, l1_ratio=0.9; total time=   0.0s\n",
      "[CV] END ...........................alpha=0.1, l1_ratio=0.95; total time=   0.0s\n",
      "[CV] END ...........................alpha=0.1, l1_ratio=0.95; total time=   0.0s\n"
     ]
    },
    {
     "name": "stderr",
     "output_type": "stream",
     "text": [
      "C:\\Users\\79852\\anaconda3\\lib\\site-packages\\sklearn\\linear_model\\_coordinate_descent.py:647: ConvergenceWarning: Objective did not converge. You might want to increase the number of iterations, check the scale of the features or consider increasing regularisation. Duality gap: 2.499e+10, tolerance: 4.594e+08\n",
      "  model = cd_fast.enet_coordinate_descent(\n",
      "C:\\Users\\79852\\anaconda3\\lib\\site-packages\\sklearn\\linear_model\\_coordinate_descent.py:647: ConvergenceWarning: Objective did not converge. You might want to increase the number of iterations, check the scale of the features or consider increasing regularisation. Duality gap: 9.652e+10, tolerance: 4.787e+08\n",
      "  model = cd_fast.enet_coordinate_descent(\n",
      "C:\\Users\\79852\\anaconda3\\lib\\site-packages\\sklearn\\linear_model\\_coordinate_descent.py:647: ConvergenceWarning: Objective did not converge. You might want to increase the number of iterations, check the scale of the features or consider increasing regularisation. Duality gap: 8.394e+10, tolerance: 4.583e+08\n",
      "  model = cd_fast.enet_coordinate_descent(\n",
      "C:\\Users\\79852\\anaconda3\\lib\\site-packages\\sklearn\\linear_model\\_coordinate_descent.py:647: ConvergenceWarning: Objective did not converge. You might want to increase the number of iterations, check the scale of the features or consider increasing regularisation. Duality gap: 9.294e+10, tolerance: 4.815e+08\n",
      "  model = cd_fast.enet_coordinate_descent(\n"
     ]
    },
    {
     "name": "stdout",
     "output_type": "stream",
     "text": [
      "[CV] END ...........................alpha=0.1, l1_ratio=0.95; total time=   0.0s\n",
      "[CV] END ...........................alpha=0.1, l1_ratio=0.95; total time=   0.0s\n"
     ]
    },
    {
     "name": "stderr",
     "output_type": "stream",
     "text": [
      "C:\\Users\\79852\\anaconda3\\lib\\site-packages\\sklearn\\linear_model\\_coordinate_descent.py:647: ConvergenceWarning: Objective did not converge. You might want to increase the number of iterations, check the scale of the features or consider increasing regularisation. Duality gap: 9.150e+10, tolerance: 4.474e+08\n",
      "  model = cd_fast.enet_coordinate_descent(\n",
      "C:\\Users\\79852\\anaconda3\\lib\\site-packages\\sklearn\\linear_model\\_coordinate_descent.py:647: ConvergenceWarning: Objective did not converge. You might want to increase the number of iterations, check the scale of the features or consider increasing regularisation. Duality gap: 1.093e+11, tolerance: 4.594e+08\n",
      "  model = cd_fast.enet_coordinate_descent(\n"
     ]
    },
    {
     "name": "stdout",
     "output_type": "stream",
     "text": [
      "[CV] END ...........................alpha=0.1, l1_ratio=0.95; total time=   0.0s\n",
      "[CV] END ...........................alpha=0.1, l1_ratio=0.99; total time=   0.0s\n"
     ]
    },
    {
     "name": "stderr",
     "output_type": "stream",
     "text": [
      "C:\\Users\\79852\\anaconda3\\lib\\site-packages\\sklearn\\linear_model\\_coordinate_descent.py:647: ConvergenceWarning: Objective did not converge. You might want to increase the number of iterations, check the scale of the features or consider increasing regularisation. Duality gap: 1.348e+11, tolerance: 4.787e+08\n",
      "  model = cd_fast.enet_coordinate_descent(\n",
      "C:\\Users\\79852\\anaconda3\\lib\\site-packages\\sklearn\\linear_model\\_coordinate_descent.py:647: ConvergenceWarning: Objective did not converge. You might want to increase the number of iterations, check the scale of the features or consider increasing regularisation. Duality gap: 1.221e+11, tolerance: 4.583e+08\n",
      "  model = cd_fast.enet_coordinate_descent(\n"
     ]
    },
    {
     "name": "stdout",
     "output_type": "stream",
     "text": [
      "[CV] END ...........................alpha=0.1, l1_ratio=0.99; total time=   0.0s\n",
      "[CV] END ...........................alpha=0.1, l1_ratio=0.99; total time=   0.0s\n"
     ]
    },
    {
     "name": "stderr",
     "output_type": "stream",
     "text": [
      "C:\\Users\\79852\\anaconda3\\lib\\site-packages\\sklearn\\linear_model\\_coordinate_descent.py:647: ConvergenceWarning: Objective did not converge. You might want to increase the number of iterations, check the scale of the features or consider increasing regularisation. Duality gap: 1.342e+11, tolerance: 4.815e+08\n",
      "  model = cd_fast.enet_coordinate_descent(\n",
      "C:\\Users\\79852\\anaconda3\\lib\\site-packages\\sklearn\\linear_model\\_coordinate_descent.py:647: ConvergenceWarning: Objective did not converge. You might want to increase the number of iterations, check the scale of the features or consider increasing regularisation. Duality gap: 1.189e+11, tolerance: 4.474e+08\n",
      "  model = cd_fast.enet_coordinate_descent(\n",
      "C:\\Users\\79852\\anaconda3\\lib\\site-packages\\sklearn\\linear_model\\_coordinate_descent.py:647: ConvergenceWarning: Objective did not converge. You might want to increase the number of iterations, check the scale of the features or consider increasing regularisation. Duality gap: 8.367e+10, tolerance: 4.594e+08\n",
      "  model = cd_fast.enet_coordinate_descent(\n"
     ]
    },
    {
     "name": "stdout",
     "output_type": "stream",
     "text": [
      "[CV] END ...........................alpha=0.1, l1_ratio=0.99; total time=   0.1s\n",
      "[CV] END ...........................alpha=0.1, l1_ratio=0.99; total time=   0.0s\n"
     ]
    },
    {
     "name": "stderr",
     "output_type": "stream",
     "text": [
      "C:\\Users\\79852\\anaconda3\\lib\\site-packages\\sklearn\\linear_model\\_coordinate_descent.py:647: ConvergenceWarning: Objective did not converge. You might want to increase the number of iterations, check the scale of the features or consider increasing regularisation. Duality gap: 9.528e+10, tolerance: 4.787e+08\n",
      "  model = cd_fast.enet_coordinate_descent(\n",
      "C:\\Users\\79852\\anaconda3\\lib\\site-packages\\sklearn\\linear_model\\_coordinate_descent.py:647: ConvergenceWarning: Objective did not converge. You might want to increase the number of iterations, check the scale of the features or consider increasing regularisation. Duality gap: 1.283e+11, tolerance: 4.583e+08\n",
      "  model = cd_fast.enet_coordinate_descent(\n",
      "C:\\Users\\79852\\anaconda3\\lib\\site-packages\\sklearn\\linear_model\\_coordinate_descent.py:647: ConvergenceWarning: Objective did not converge. You might want to increase the number of iterations, check the scale of the features or consider increasing regularisation. Duality gap: 1.101e+11, tolerance: 4.815e+08\n",
      "  model = cd_fast.enet_coordinate_descent(\n"
     ]
    },
    {
     "name": "stdout",
     "output_type": "stream",
     "text": [
      "[CV] END ..............................alpha=0.1, l1_ratio=1; total time=   0.0s\n",
      "[CV] END ..............................alpha=0.1, l1_ratio=1; total time=   0.0s\n",
      "[CV] END ..............................alpha=0.1, l1_ratio=1; total time=   0.0s\n"
     ]
    },
    {
     "name": "stderr",
     "output_type": "stream",
     "text": [
      "C:\\Users\\79852\\anaconda3\\lib\\site-packages\\sklearn\\linear_model\\_coordinate_descent.py:647: ConvergenceWarning: Objective did not converge. You might want to increase the number of iterations, check the scale of the features or consider increasing regularisation. Duality gap: 1.066e+11, tolerance: 4.474e+08\n",
      "  model = cd_fast.enet_coordinate_descent(\n"
     ]
    },
    {
     "name": "stdout",
     "output_type": "stream",
     "text": [
      "[CV] END ..............................alpha=0.1, l1_ratio=1; total time=   0.0s\n",
      "[CV] END ..............................alpha=0.1, l1_ratio=1; total time=   0.0s\n",
      "[CV] END ..............................alpha=1, l1_ratio=0.1; total time=   0.0s\n",
      "[CV] END ..............................alpha=1, l1_ratio=0.1; total time=   0.0s\n",
      "[CV] END ..............................alpha=1, l1_ratio=0.1; total time=   0.0s\n",
      "[CV] END ..............................alpha=1, l1_ratio=0.1; total time=   0.0s\n",
      "[CV] END ..............................alpha=1, l1_ratio=0.1; total time=   0.0s\n",
      "[CV] END ..............................alpha=1, l1_ratio=0.5; total time=   0.0s\n",
      "[CV] END ..............................alpha=1, l1_ratio=0.5; total time=   0.0s\n",
      "[CV] END ..............................alpha=1, l1_ratio=0.5; total time=   0.0s\n",
      "[CV] END ..............................alpha=1, l1_ratio=0.5; total time=   0.0s\n",
      "[CV] END ..............................alpha=1, l1_ratio=0.5; total time=   0.0s\n",
      "[CV] END ..............................alpha=1, l1_ratio=0.7; total time=   0.0s\n",
      "[CV] END ..............................alpha=1, l1_ratio=0.7; total time=   0.0s\n",
      "[CV] END ..............................alpha=1, l1_ratio=0.7; total time=   0.0s\n",
      "[CV] END ..............................alpha=1, l1_ratio=0.7; total time=   0.0s\n",
      "[CV] END ..............................alpha=1, l1_ratio=0.7; total time=   0.0s\n",
      "[CV] END ..............................alpha=1, l1_ratio=0.9; total time=   0.0s\n",
      "[CV] END ..............................alpha=1, l1_ratio=0.9; total time=   0.0s\n",
      "[CV] END ..............................alpha=1, l1_ratio=0.9; total time=   0.0s\n",
      "[CV] END ..............................alpha=1, l1_ratio=0.9; total time=   0.0s\n",
      "[CV] END ..............................alpha=1, l1_ratio=0.9; total time=   0.0s\n",
      "[CV] END .............................alpha=1, l1_ratio=0.95; total time=   0.0s\n",
      "[CV] END .............................alpha=1, l1_ratio=0.95; total time=   0.0s\n",
      "[CV] END .............................alpha=1, l1_ratio=0.95; total time=   0.0s\n",
      "[CV] END .............................alpha=1, l1_ratio=0.95; total time=   0.0s\n",
      "[CV] END .............................alpha=1, l1_ratio=0.95; total time=   0.0s\n",
      "[CV] END .............................alpha=1, l1_ratio=0.99; total time=   0.0s\n",
      "[CV] END .............................alpha=1, l1_ratio=0.99; total time=   0.0s\n",
      "[CV] END .............................alpha=1, l1_ratio=0.99; total time=   0.0s\n",
      "[CV] END .............................alpha=1, l1_ratio=0.99; total time=   0.0s\n",
      "[CV] END .............................alpha=1, l1_ratio=0.99; total time=   0.0s\n"
     ]
    },
    {
     "name": "stderr",
     "output_type": "stream",
     "text": [
      "C:\\Users\\79852\\anaconda3\\lib\\site-packages\\sklearn\\linear_model\\_coordinate_descent.py:647: ConvergenceWarning: Objective did not converge. You might want to increase the number of iterations, check the scale of the features or consider increasing regularisation. Duality gap: 3.808e+09, tolerance: 4.594e+08\n",
      "  model = cd_fast.enet_coordinate_descent(\n",
      "C:\\Users\\79852\\anaconda3\\lib\\site-packages\\sklearn\\linear_model\\_coordinate_descent.py:647: ConvergenceWarning: Objective did not converge. You might want to increase the number of iterations, check the scale of the features or consider increasing regularisation. Duality gap: 8.383e+09, tolerance: 4.787e+08\n",
      "  model = cd_fast.enet_coordinate_descent(\n"
     ]
    },
    {
     "name": "stdout",
     "output_type": "stream",
     "text": [
      "[CV] END ................................alpha=1, l1_ratio=1; total time=   0.1s\n",
      "[CV] END ................................alpha=1, l1_ratio=1; total time=   0.0s\n"
     ]
    },
    {
     "name": "stderr",
     "output_type": "stream",
     "text": [
      "C:\\Users\\79852\\anaconda3\\lib\\site-packages\\sklearn\\linear_model\\_coordinate_descent.py:647: ConvergenceWarning: Objective did not converge. You might want to increase the number of iterations, check the scale of the features or consider increasing regularisation. Duality gap: 9.567e+10, tolerance: 4.583e+08\n",
      "  model = cd_fast.enet_coordinate_descent(\n",
      "C:\\Users\\79852\\anaconda3\\lib\\site-packages\\sklearn\\linear_model\\_coordinate_descent.py:647: ConvergenceWarning: Objective did not converge. You might want to increase the number of iterations, check the scale of the features or consider increasing regularisation. Duality gap: 1.692e+10, tolerance: 4.815e+08\n",
      "  model = cd_fast.enet_coordinate_descent(\n",
      "C:\\Users\\79852\\anaconda3\\lib\\site-packages\\sklearn\\linear_model\\_coordinate_descent.py:647: ConvergenceWarning: Objective did not converge. You might want to increase the number of iterations, check the scale of the features or consider increasing regularisation. Duality gap: 2.065e+10, tolerance: 4.474e+08\n",
      "  model = cd_fast.enet_coordinate_descent(\n"
     ]
    },
    {
     "name": "stdout",
     "output_type": "stream",
     "text": [
      "[CV] END ................................alpha=1, l1_ratio=1; total time=   0.0s\n",
      "[CV] END ................................alpha=1, l1_ratio=1; total time=   0.0s\n",
      "[CV] END ................................alpha=1, l1_ratio=1; total time=   0.0s\n",
      "[CV] END ..............................alpha=5, l1_ratio=0.1; total time=   0.0s\n",
      "[CV] END ..............................alpha=5, l1_ratio=0.1; total time=   0.0s\n",
      "[CV] END ..............................alpha=5, l1_ratio=0.1; total time=   0.0s\n",
      "[CV] END ..............................alpha=5, l1_ratio=0.1; total time=   0.0s\n",
      "[CV] END ..............................alpha=5, l1_ratio=0.1; total time=   0.0s\n",
      "[CV] END ..............................alpha=5, l1_ratio=0.5; total time=   0.0s\n",
      "[CV] END ..............................alpha=5, l1_ratio=0.5; total time=   0.0s\n",
      "[CV] END ..............................alpha=5, l1_ratio=0.5; total time=   0.0s\n",
      "[CV] END ..............................alpha=5, l1_ratio=0.5; total time=   0.0s\n",
      "[CV] END ..............................alpha=5, l1_ratio=0.5; total time=   0.0s\n",
      "[CV] END ..............................alpha=5, l1_ratio=0.7; total time=   0.0s\n",
      "[CV] END ..............................alpha=5, l1_ratio=0.7; total time=   0.0s\n",
      "[CV] END ..............................alpha=5, l1_ratio=0.7; total time=   0.0s\n",
      "[CV] END ..............................alpha=5, l1_ratio=0.7; total time=   0.0s\n",
      "[CV] END ..............................alpha=5, l1_ratio=0.7; total time=   0.0s\n",
      "[CV] END ..............................alpha=5, l1_ratio=0.9; total time=   0.0s\n",
      "[CV] END ..............................alpha=5, l1_ratio=0.9; total time=   0.0s\n",
      "[CV] END ..............................alpha=5, l1_ratio=0.9; total time=   0.0s\n",
      "[CV] END ..............................alpha=5, l1_ratio=0.9; total time=   0.0s\n",
      "[CV] END ..............................alpha=5, l1_ratio=0.9; total time=   0.0s\n",
      "[CV] END .............................alpha=5, l1_ratio=0.95; total time=   0.0s\n",
      "[CV] END .............................alpha=5, l1_ratio=0.95; total time=   0.0s\n",
      "[CV] END .............................alpha=5, l1_ratio=0.95; total time=   0.0s\n",
      "[CV] END .............................alpha=5, l1_ratio=0.95; total time=   0.0s\n",
      "[CV] END .............................alpha=5, l1_ratio=0.95; total time=   0.0s\n",
      "[CV] END .............................alpha=5, l1_ratio=0.99; total time=   0.0s\n",
      "[CV] END .............................alpha=5, l1_ratio=0.99; total time=   0.0s\n",
      "[CV] END .............................alpha=5, l1_ratio=0.99; total time=   0.0s\n",
      "[CV] END .............................alpha=5, l1_ratio=0.99; total time=   0.0s\n",
      "[CV] END .............................alpha=5, l1_ratio=0.99; total time=   0.0s\n"
     ]
    },
    {
     "name": "stderr",
     "output_type": "stream",
     "text": [
      "C:\\Users\\79852\\anaconda3\\lib\\site-packages\\sklearn\\linear_model\\_coordinate_descent.py:647: ConvergenceWarning: Objective did not converge. You might want to increase the number of iterations, check the scale of the features or consider increasing regularisation. Duality gap: 2.693e+09, tolerance: 4.594e+08\n",
      "  model = cd_fast.enet_coordinate_descent(\n",
      "C:\\Users\\79852\\anaconda3\\lib\\site-packages\\sklearn\\linear_model\\_coordinate_descent.py:647: ConvergenceWarning: Objective did not converge. You might want to increase the number of iterations, check the scale of the features or consider increasing regularisation. Duality gap: 5.804e+08, tolerance: 4.787e+08\n",
      "  model = cd_fast.enet_coordinate_descent(\n"
     ]
    },
    {
     "name": "stdout",
     "output_type": "stream",
     "text": [
      "[CV] END ................................alpha=5, l1_ratio=1; total time=   0.0s\n",
      "[CV] END ................................alpha=5, l1_ratio=1; total time=   0.0s\n"
     ]
    },
    {
     "name": "stderr",
     "output_type": "stream",
     "text": [
      "C:\\Users\\79852\\anaconda3\\lib\\site-packages\\sklearn\\linear_model\\_coordinate_descent.py:647: ConvergenceWarning: Objective did not converge. You might want to increase the number of iterations, check the scale of the features or consider increasing regularisation. Duality gap: 1.323e+10, tolerance: 4.583e+08\n",
      "  model = cd_fast.enet_coordinate_descent(\n",
      "C:\\Users\\79852\\anaconda3\\lib\\site-packages\\sklearn\\linear_model\\_coordinate_descent.py:647: ConvergenceWarning: Objective did not converge. You might want to increase the number of iterations, check the scale of the features or consider increasing regularisation. Duality gap: 8.392e+08, tolerance: 4.815e+08\n",
      "  model = cd_fast.enet_coordinate_descent(\n"
     ]
    },
    {
     "name": "stdout",
     "output_type": "stream",
     "text": [
      "[CV] END ................................alpha=5, l1_ratio=1; total time=   0.0s\n",
      "[CV] END ................................alpha=5, l1_ratio=1; total time=   0.0s\n"
     ]
    },
    {
     "name": "stderr",
     "output_type": "stream",
     "text": [
      "C:\\Users\\79852\\anaconda3\\lib\\site-packages\\sklearn\\linear_model\\_coordinate_descent.py:647: ConvergenceWarning: Objective did not converge. You might want to increase the number of iterations, check the scale of the features or consider increasing regularisation. Duality gap: 1.011e+09, tolerance: 4.474e+08\n",
      "  model = cd_fast.enet_coordinate_descent(\n"
     ]
    },
    {
     "name": "stdout",
     "output_type": "stream",
     "text": [
      "[CV] END ................................alpha=5, l1_ratio=1; total time=   0.0s\n",
      "[CV] END .............................alpha=10, l1_ratio=0.1; total time=   0.0s\n",
      "[CV] END .............................alpha=10, l1_ratio=0.1; total time=   0.0s\n",
      "[CV] END .............................alpha=10, l1_ratio=0.1; total time=   0.0s\n",
      "[CV] END .............................alpha=10, l1_ratio=0.1; total time=   0.0s\n",
      "[CV] END .............................alpha=10, l1_ratio=0.1; total time=   0.0s\n",
      "[CV] END .............................alpha=10, l1_ratio=0.5; total time=   0.0s\n",
      "[CV] END .............................alpha=10, l1_ratio=0.5; total time=   0.0s\n",
      "[CV] END .............................alpha=10, l1_ratio=0.5; total time=   0.0s\n",
      "[CV] END .............................alpha=10, l1_ratio=0.5; total time=   0.0s\n",
      "[CV] END .............................alpha=10, l1_ratio=0.5; total time=   0.0s\n",
      "[CV] END .............................alpha=10, l1_ratio=0.7; total time=   0.0s\n",
      "[CV] END .............................alpha=10, l1_ratio=0.7; total time=   0.0s\n",
      "[CV] END .............................alpha=10, l1_ratio=0.7; total time=   0.0s\n",
      "[CV] END .............................alpha=10, l1_ratio=0.7; total time=   0.0s\n",
      "[CV] END .............................alpha=10, l1_ratio=0.7; total time=   0.0s\n",
      "[CV] END .............................alpha=10, l1_ratio=0.9; total time=   0.0s\n",
      "[CV] END .............................alpha=10, l1_ratio=0.9; total time=   0.0s\n",
      "[CV] END .............................alpha=10, l1_ratio=0.9; total time=   0.0s\n",
      "[CV] END .............................alpha=10, l1_ratio=0.9; total time=   0.0s\n",
      "[CV] END .............................alpha=10, l1_ratio=0.9; total time=   0.0s\n",
      "[CV] END ............................alpha=10, l1_ratio=0.95; total time=   0.0s\n",
      "[CV] END ............................alpha=10, l1_ratio=0.95; total time=   0.0s\n",
      "[CV] END ............................alpha=10, l1_ratio=0.95; total time=   0.0s\n",
      "[CV] END ............................alpha=10, l1_ratio=0.95; total time=   0.0s\n",
      "[CV] END ............................alpha=10, l1_ratio=0.95; total time=   0.0s\n",
      "[CV] END ............................alpha=10, l1_ratio=0.99; total time=   0.0s\n",
      "[CV] END ............................alpha=10, l1_ratio=0.99; total time=   0.0s\n",
      "[CV] END ............................alpha=10, l1_ratio=0.99; total time=   0.0s\n",
      "[CV] END ............................alpha=10, l1_ratio=0.99; total time=   0.0s\n",
      "[CV] END ............................alpha=10, l1_ratio=0.99; total time=   0.0s\n",
      "[CV] END ...............................alpha=10, l1_ratio=1; total time=   0.1s\n",
      "[CV] END ...............................alpha=10, l1_ratio=1; total time=   0.0s\n"
     ]
    },
    {
     "name": "stderr",
     "output_type": "stream",
     "text": [
      "C:\\Users\\79852\\anaconda3\\lib\\site-packages\\sklearn\\linear_model\\_coordinate_descent.py:647: ConvergenceWarning: Objective did not converge. You might want to increase the number of iterations, check the scale of the features or consider increasing regularisation. Duality gap: 6.980e+08, tolerance: 4.787e+08\n",
      "  model = cd_fast.enet_coordinate_descent(\n",
      "C:\\Users\\79852\\anaconda3\\lib\\site-packages\\sklearn\\linear_model\\_coordinate_descent.py:647: ConvergenceWarning: Objective did not converge. You might want to increase the number of iterations, check the scale of the features or consider increasing regularisation. Duality gap: 1.905e+09, tolerance: 4.583e+08\n",
      "  model = cd_fast.enet_coordinate_descent(\n"
     ]
    },
    {
     "name": "stdout",
     "output_type": "stream",
     "text": [
      "[CV] END ...............................alpha=10, l1_ratio=1; total time=   0.0s\n",
      "[CV] END ...............................alpha=10, l1_ratio=1; total time=   0.0s\n",
      "[CV] END ...............................alpha=10, l1_ratio=1; total time=   0.0s\n",
      "[CV] END .............................alpha=50, l1_ratio=0.1; total time=   0.0s\n"
     ]
    },
    {
     "name": "stderr",
     "output_type": "stream",
     "text": [
      "C:\\Users\\79852\\anaconda3\\lib\\site-packages\\sklearn\\linear_model\\_coordinate_descent.py:647: ConvergenceWarning: Objective did not converge. You might want to increase the number of iterations, check the scale of the features or consider increasing regularisation. Duality gap: 9.482e+08, tolerance: 4.815e+08\n",
      "  model = cd_fast.enet_coordinate_descent(\n"
     ]
    },
    {
     "name": "stdout",
     "output_type": "stream",
     "text": [
      "[CV] END .............................alpha=50, l1_ratio=0.1; total time=   0.0s\n",
      "[CV] END .............................alpha=50, l1_ratio=0.1; total time=   0.0s\n",
      "[CV] END .............................alpha=50, l1_ratio=0.1; total time=   0.0s\n",
      "[CV] END .............................alpha=50, l1_ratio=0.1; total time=   0.0s\n",
      "[CV] END .............................alpha=50, l1_ratio=0.5; total time=   0.0s\n",
      "[CV] END .............................alpha=50, l1_ratio=0.5; total time=   0.0s\n",
      "[CV] END .............................alpha=50, l1_ratio=0.5; total time=   0.0s\n",
      "[CV] END .............................alpha=50, l1_ratio=0.5; total time=   0.0s\n",
      "[CV] END .............................alpha=50, l1_ratio=0.5; total time=   0.0s\n",
      "[CV] END .............................alpha=50, l1_ratio=0.7; total time=   0.0s\n",
      "[CV] END .............................alpha=50, l1_ratio=0.7; total time=   0.0s\n",
      "[CV] END .............................alpha=50, l1_ratio=0.7; total time=   0.0s\n",
      "[CV] END .............................alpha=50, l1_ratio=0.7; total time=   0.0s\n",
      "[CV] END .............................alpha=50, l1_ratio=0.7; total time=   0.0s\n",
      "[CV] END .............................alpha=50, l1_ratio=0.9; total time=   0.0s\n",
      "[CV] END .............................alpha=50, l1_ratio=0.9; total time=   0.0s\n",
      "[CV] END .............................alpha=50, l1_ratio=0.9; total time=   0.0s\n",
      "[CV] END .............................alpha=50, l1_ratio=0.9; total time=   0.0s\n",
      "[CV] END .............................alpha=50, l1_ratio=0.9; total time=   0.0s\n",
      "[CV] END ............................alpha=50, l1_ratio=0.95; total time=   0.0s\n",
      "[CV] END ............................alpha=50, l1_ratio=0.95; total time=   0.0s\n",
      "[CV] END ............................alpha=50, l1_ratio=0.95; total time=   0.0s\n",
      "[CV] END ............................alpha=50, l1_ratio=0.95; total time=   0.0s\n",
      "[CV] END ............................alpha=50, l1_ratio=0.95; total time=   0.0s\n",
      "[CV] END ............................alpha=50, l1_ratio=0.99; total time=   0.0s\n",
      "[CV] END ............................alpha=50, l1_ratio=0.99; total time=   0.0s\n",
      "[CV] END ............................alpha=50, l1_ratio=0.99; total time=   0.0s\n",
      "[CV] END ............................alpha=50, l1_ratio=0.99; total time=   0.0s\n",
      "[CV] END ............................alpha=50, l1_ratio=0.99; total time=   0.0s\n",
      "[CV] END ...............................alpha=50, l1_ratio=1; total time=   0.0s\n"
     ]
    },
    {
     "name": "stderr",
     "output_type": "stream",
     "text": [
      "C:\\Users\\79852\\anaconda3\\lib\\site-packages\\sklearn\\linear_model\\_coordinate_descent.py:647: ConvergenceWarning: Objective did not converge. You might want to increase the number of iterations, check the scale of the features or consider increasing regularisation. Duality gap: 1.339e+09, tolerance: 4.787e+08\n",
      "  model = cd_fast.enet_coordinate_descent(\n",
      "C:\\Users\\79852\\anaconda3\\lib\\site-packages\\sklearn\\linear_model\\_coordinate_descent.py:647: ConvergenceWarning: Objective did not converge. You might want to increase the number of iterations, check the scale of the features or consider increasing regularisation. Duality gap: 1.715e+09, tolerance: 4.815e+08\n",
      "  model = cd_fast.enet_coordinate_descent(\n"
     ]
    },
    {
     "name": "stdout",
     "output_type": "stream",
     "text": [
      "[CV] END ...............................alpha=50, l1_ratio=1; total time=   0.0s\n",
      "[CV] END ...............................alpha=50, l1_ratio=1; total time=   0.0s\n",
      "[CV] END ...............................alpha=50, l1_ratio=1; total time=   0.0s\n",
      "[CV] END ...............................alpha=50, l1_ratio=1; total time=   0.0s\n",
      "[CV] END ............................alpha=100, l1_ratio=0.1; total time=   0.0s\n",
      "[CV] END ............................alpha=100, l1_ratio=0.1; total time=   0.0s\n",
      "[CV] END ............................alpha=100, l1_ratio=0.1; total time=   0.0s\n",
      "[CV] END ............................alpha=100, l1_ratio=0.1; total time=   0.0s\n",
      "[CV] END ............................alpha=100, l1_ratio=0.1; total time=   0.0s\n",
      "[CV] END ............................alpha=100, l1_ratio=0.5; total time=   0.0s\n",
      "[CV] END ............................alpha=100, l1_ratio=0.5; total time=   0.0s\n",
      "[CV] END ............................alpha=100, l1_ratio=0.5; total time=   0.0s\n",
      "[CV] END ............................alpha=100, l1_ratio=0.5; total time=   0.0s\n",
      "[CV] END ............................alpha=100, l1_ratio=0.5; total time=   0.0s\n",
      "[CV] END ............................alpha=100, l1_ratio=0.7; total time=   0.0s\n",
      "[CV] END ............................alpha=100, l1_ratio=0.7; total time=   0.0s\n",
      "[CV] END ............................alpha=100, l1_ratio=0.7; total time=   0.0s\n",
      "[CV] END ............................alpha=100, l1_ratio=0.7; total time=   0.0s\n",
      "[CV] END ............................alpha=100, l1_ratio=0.7; total time=   0.0s\n",
      "[CV] END ............................alpha=100, l1_ratio=0.9; total time=   0.0s\n",
      "[CV] END ............................alpha=100, l1_ratio=0.9; total time=   0.0s\n",
      "[CV] END ............................alpha=100, l1_ratio=0.9; total time=   0.0s\n",
      "[CV] END ............................alpha=100, l1_ratio=0.9; total time=   0.0s\n",
      "[CV] END ............................alpha=100, l1_ratio=0.9; total time=   0.0s\n",
      "[CV] END ...........................alpha=100, l1_ratio=0.95; total time=   0.0s\n",
      "[CV] END ...........................alpha=100, l1_ratio=0.95; total time=   0.0s\n",
      "[CV] END ...........................alpha=100, l1_ratio=0.95; total time=   0.0s\n",
      "[CV] END ...........................alpha=100, l1_ratio=0.95; total time=   0.0s\n",
      "[CV] END ...........................alpha=100, l1_ratio=0.95; total time=   0.0s\n",
      "[CV] END ...........................alpha=100, l1_ratio=0.99; total time=   0.0s\n",
      "[CV] END ...........................alpha=100, l1_ratio=0.99; total time=   0.0s\n",
      "[CV] END ...........................alpha=100, l1_ratio=0.99; total time=   0.0s\n",
      "[CV] END ...........................alpha=100, l1_ratio=0.99; total time=   0.0s\n",
      "[CV] END ...........................alpha=100, l1_ratio=0.99; total time=   0.0s\n",
      "[CV] END ..............................alpha=100, l1_ratio=1; total time=   0.0s\n",
      "[CV] END ..............................alpha=100, l1_ratio=1; total time=   0.0s\n",
      "[CV] END ..............................alpha=100, l1_ratio=1; total time=   0.0s\n",
      "[CV] END ..............................alpha=100, l1_ratio=1; total time=   0.0s\n",
      "[CV] END ..............................alpha=100, l1_ratio=1; total time=   0.0s\n"
     ]
    },
    {
     "data": {
      "text/plain": [
       "GridSearchCV(cv=5, estimator=ElasticNet(),\n",
       "             param_grid={'alpha': [0.1, 1, 5, 10, 50, 100],\n",
       "                         'l1_ratio': [0.1, 0.5, 0.7, 0.9, 0.95, 0.99, 1]},\n",
       "             scoring='neg_root_mean_squared_error', verbose=2)"
      ]
     },
     "execution_count": 81,
     "metadata": {},
     "output_type": "execute_result"
    }
   ],
   "source": [
    "grid_model.fit(X_train,y_train)"
   ]
  },
  {
   "cell_type": "code",
   "execution_count": 82,
   "id": "1febd709",
   "metadata": {
    "ExecuteTime": {
     "end_time": "2024-03-15T11:50:16.611803Z",
     "start_time": "2024-03-15T11:50:16.600638Z"
    }
   },
   "outputs": [
    {
     "data": {
      "text/plain": [
       "ElasticNet(alpha=10, l1_ratio=0.99)"
      ]
     },
     "execution_count": 82,
     "metadata": {},
     "output_type": "execute_result"
    }
   ],
   "source": [
    "grid_model.best_estimator_"
   ]
  },
  {
   "cell_type": "code",
   "execution_count": 83,
   "id": "bb774913",
   "metadata": {
    "ExecuteTime": {
     "end_time": "2024-03-15T11:50:29.823722Z",
     "start_time": "2024-03-15T11:50:29.813738Z"
    }
   },
   "outputs": [
    {
     "data": {
      "text/plain": [
       "{'alpha': 10, 'l1_ratio': 0.99}"
      ]
     },
     "execution_count": 83,
     "metadata": {},
     "output_type": "execute_result"
    }
   ],
   "source": [
    "grid_model.best_params_"
   ]
  },
  {
   "cell_type": "code",
   "execution_count": 84,
   "id": "8a87850d",
   "metadata": {
    "ExecuteTime": {
     "end_time": "2024-03-15T11:51:24.781325Z",
     "start_time": "2024-03-15T11:51:24.772751Z"
    }
   },
   "outputs": [],
   "source": [
    "y_pred = grid_model.predict(X_test)"
   ]
  },
  {
   "cell_type": "code",
   "execution_count": 85,
   "id": "e8db339e",
   "metadata": {
    "ExecuteTime": {
     "end_time": "2024-03-15T11:51:32.096703Z",
     "start_time": "2024-03-15T11:51:32.087162Z"
    }
   },
   "outputs": [],
   "source": [
    "from sklearn.metrics import mean_squared_error"
   ]
  },
  {
   "cell_type": "code",
   "execution_count": 86,
   "id": "4d2c9eb5",
   "metadata": {
    "ExecuteTime": {
     "end_time": "2024-03-15T11:51:42.388477Z",
     "start_time": "2024-03-15T11:51:42.371845Z"
    }
   },
   "outputs": [
    {
     "data": {
      "text/plain": [
       "26258.36482920989"
      ]
     },
     "execution_count": 86,
     "metadata": {},
     "output_type": "execute_result"
    }
   ],
   "source": [
    "np.sqrt(mean_squared_error(y_test,y_pred))"
   ]
  },
  {
   "cell_type": "code",
   "execution_count": 88,
   "id": "076c69a2",
   "metadata": {
    "ExecuteTime": {
     "end_time": "2024-03-15T11:53:56.308908Z",
     "start_time": "2024-03-15T11:53:56.247052Z"
    }
   },
   "outputs": [
    {
     "data": {
      "text/html": [
       "<div>\n",
       "<style scoped>\n",
       "    .dataframe tbody tr th:only-of-type {\n",
       "        vertical-align: middle;\n",
       "    }\n",
       "\n",
       "    .dataframe tbody tr th {\n",
       "        vertical-align: top;\n",
       "    }\n",
       "\n",
       "    .dataframe thead th {\n",
       "        text-align: right;\n",
       "    }\n",
       "</style>\n",
       "<table border=\"1\" class=\"dataframe\">\n",
       "  <thead>\n",
       "    <tr style=\"text-align: right;\">\n",
       "      <th></th>\n",
       "      <th>mean_fit_time</th>\n",
       "      <th>std_fit_time</th>\n",
       "      <th>mean_score_time</th>\n",
       "      <th>std_score_time</th>\n",
       "      <th>param_alpha</th>\n",
       "      <th>param_l1_ratio</th>\n",
       "      <th>params</th>\n",
       "      <th>split0_test_score</th>\n",
       "      <th>split1_test_score</th>\n",
       "      <th>split2_test_score</th>\n",
       "      <th>split3_test_score</th>\n",
       "      <th>split4_test_score</th>\n",
       "      <th>mean_test_score</th>\n",
       "      <th>std_test_score</th>\n",
       "      <th>rank_test_score</th>\n",
       "    </tr>\n",
       "  </thead>\n",
       "  <tbody>\n",
       "    <tr>\n",
       "      <th>0</th>\n",
       "      <td>0.047924</td>\n",
       "      <td>0.027555</td>\n",
       "      <td>0.001214</td>\n",
       "      <td>0.000431</td>\n",
       "      <td>0.1</td>\n",
       "      <td>0.1</td>\n",
       "      <td>{'alpha': 0.1, 'l1_ratio': 0.1}</td>\n",
       "      <td>-29231.204331</td>\n",
       "      <td>-19284.392300</td>\n",
       "      <td>-23795.317012</td>\n",
       "      <td>-22287.020781</td>\n",
       "      <td>-27072.352189</td>\n",
       "      <td>-24334.057323</td>\n",
       "      <td>3505.995555</td>\n",
       "      <td>3</td>\n",
       "    </tr>\n",
       "    <tr>\n",
       "      <th>1</th>\n",
       "      <td>0.058100</td>\n",
       "      <td>0.015106</td>\n",
       "      <td>0.001467</td>\n",
       "      <td>0.000548</td>\n",
       "      <td>0.1</td>\n",
       "      <td>0.5</td>\n",
       "      <td>{'alpha': 0.1, 'l1_ratio': 0.5}</td>\n",
       "      <td>-29385.271404</td>\n",
       "      <td>-19594.571839</td>\n",
       "      <td>-24176.676314</td>\n",
       "      <td>-22653.582317</td>\n",
       "      <td>-26891.419022</td>\n",
       "      <td>-24540.304179</td>\n",
       "      <td>3380.936598</td>\n",
       "      <td>8</td>\n",
       "    </tr>\n",
       "    <tr>\n",
       "      <th>2</th>\n",
       "      <td>0.078718</td>\n",
       "      <td>0.021044</td>\n",
       "      <td>0.001308</td>\n",
       "      <td>0.000420</td>\n",
       "      <td>0.1</td>\n",
       "      <td>0.7</td>\n",
       "      <td>{'alpha': 0.1, 'l1_ratio': 0.7}</td>\n",
       "      <td>-29602.706733</td>\n",
       "      <td>-19916.114316</td>\n",
       "      <td>-24558.716676</td>\n",
       "      <td>-22952.976284</td>\n",
       "      <td>-26832.485845</td>\n",
       "      <td>-24772.599971</td>\n",
       "      <td>3301.977907</td>\n",
       "      <td>10</td>\n",
       "    </tr>\n",
       "    <tr>\n",
       "      <th>3</th>\n",
       "      <td>0.106412</td>\n",
       "      <td>0.018838</td>\n",
       "      <td>0.001314</td>\n",
       "      <td>0.000887</td>\n",
       "      <td>0.1</td>\n",
       "      <td>0.9</td>\n",
       "      <td>{'alpha': 0.1, 'l1_ratio': 0.9}</td>\n",
       "      <td>-30048.309911</td>\n",
       "      <td>-20610.345417</td>\n",
       "      <td>-25244.834425</td>\n",
       "      <td>-23436.436668</td>\n",
       "      <td>-26883.341162</td>\n",
       "      <td>-25244.653517</td>\n",
       "      <td>3178.265933</td>\n",
       "      <td>13</td>\n",
       "    </tr>\n",
       "    <tr>\n",
       "      <th>4</th>\n",
       "      <td>0.109143</td>\n",
       "      <td>0.019952</td>\n",
       "      <td>0.001624</td>\n",
       "      <td>0.000608</td>\n",
       "      <td>0.1</td>\n",
       "      <td>0.95</td>\n",
       "      <td>{'alpha': 0.1, 'l1_ratio': 0.95}</td>\n",
       "      <td>-30253.422486</td>\n",
       "      <td>-20984.013731</td>\n",
       "      <td>-25523.464077</td>\n",
       "      <td>-23626.615065</td>\n",
       "      <td>-26959.442459</td>\n",
       "      <td>-25469.391564</td>\n",
       "      <td>3118.479338</td>\n",
       "      <td>18</td>\n",
       "    </tr>\n",
       "    <tr>\n",
       "      <th>5</th>\n",
       "      <td>0.112124</td>\n",
       "      <td>0.027270</td>\n",
       "      <td>0.000704</td>\n",
       "      <td>0.000391</td>\n",
       "      <td>0.1</td>\n",
       "      <td>0.99</td>\n",
       "      <td>{'alpha': 0.1, 'l1_ratio': 0.99}</td>\n",
       "      <td>-30533.630605</td>\n",
       "      <td>-21582.612960</td>\n",
       "      <td>-25896.261134</td>\n",
       "      <td>-23816.982975</td>\n",
       "      <td>-27106.882951</td>\n",
       "      <td>-25787.274125</td>\n",
       "      <td>3027.948751</td>\n",
       "      <td>21</td>\n",
       "    </tr>\n",
       "    <tr>\n",
       "      <th>6</th>\n",
       "      <td>0.100829</td>\n",
       "      <td>0.007986</td>\n",
       "      <td>0.001503</td>\n",
       "      <td>0.000641</td>\n",
       "      <td>0.1</td>\n",
       "      <td>1</td>\n",
       "      <td>{'alpha': 0.1, 'l1_ratio': 1}</td>\n",
       "      <td>-30713.485876</td>\n",
       "      <td>-21954.154958</td>\n",
       "      <td>-26115.101373</td>\n",
       "      <td>-23843.201960</td>\n",
       "      <td>-27196.357971</td>\n",
       "      <td>-25964.460428</td>\n",
       "      <td>2989.173612</td>\n",
       "      <td>23</td>\n",
       "    </tr>\n",
       "    <tr>\n",
       "      <th>7</th>\n",
       "      <td>0.012812</td>\n",
       "      <td>0.001446</td>\n",
       "      <td>0.001003</td>\n",
       "      <td>0.000656</td>\n",
       "      <td>1</td>\n",
       "      <td>0.1</td>\n",
       "      <td>{'alpha': 1, 'l1_ratio': 0.1}</td>\n",
       "      <td>-32761.004155</td>\n",
       "      <td>-20707.278631</td>\n",
       "      <td>-26692.728940</td>\n",
       "      <td>-23437.089080</td>\n",
       "      <td>-30867.831423</td>\n",
       "      <td>-26893.186446</td>\n",
       "      <td>4482.841400</td>\n",
       "      <td>24</td>\n",
       "    </tr>\n",
       "    <tr>\n",
       "      <th>8</th>\n",
       "      <td>0.028945</td>\n",
       "      <td>0.005367</td>\n",
       "      <td>0.001407</td>\n",
       "      <td>0.000399</td>\n",
       "      <td>1</td>\n",
       "      <td>0.5</td>\n",
       "      <td>{'alpha': 1, 'l1_ratio': 0.5}</td>\n",
       "      <td>-30935.161861</td>\n",
       "      <td>-19682.460745</td>\n",
       "      <td>-24858.771668</td>\n",
       "      <td>-22354.774539</td>\n",
       "      <td>-29101.884992</td>\n",
       "      <td>-25386.610761</td>\n",
       "      <td>4161.674046</td>\n",
       "      <td>14</td>\n",
       "    </tr>\n",
       "    <tr>\n",
       "      <th>9</th>\n",
       "      <td>0.019724</td>\n",
       "      <td>0.004669</td>\n",
       "      <td>0.000723</td>\n",
       "      <td>0.000621</td>\n",
       "      <td>1</td>\n",
       "      <td>0.7</td>\n",
       "      <td>{'alpha': 1, 'l1_ratio': 0.7}</td>\n",
       "      <td>-29928.461656</td>\n",
       "      <td>-19241.696302</td>\n",
       "      <td>-23988.361028</td>\n",
       "      <td>-21968.217892</td>\n",
       "      <td>-28129.744385</td>\n",
       "      <td>-24651.296253</td>\n",
       "      <td>3920.465287</td>\n",
       "      <td>9</td>\n",
       "    </tr>\n",
       "    <tr>\n",
       "      <th>10</th>\n",
       "      <td>0.019720</td>\n",
       "      <td>0.001556</td>\n",
       "      <td>0.000810</td>\n",
       "      <td>0.000406</td>\n",
       "      <td>1</td>\n",
       "      <td>0.9</td>\n",
       "      <td>{'alpha': 1, 'l1_ratio': 0.9}</td>\n",
       "      <td>-29223.262736</td>\n",
       "      <td>-19237.811366</td>\n",
       "      <td>-23742.891808</td>\n",
       "      <td>-22220.284474</td>\n",
       "      <td>-27119.882700</td>\n",
       "      <td>-24308.826617</td>\n",
       "      <td>3534.153501</td>\n",
       "      <td>2</td>\n",
       "    </tr>\n",
       "    <tr>\n",
       "      <th>11</th>\n",
       "      <td>0.024776</td>\n",
       "      <td>0.000382</td>\n",
       "      <td>0.000795</td>\n",
       "      <td>0.000397</td>\n",
       "      <td>1</td>\n",
       "      <td>0.95</td>\n",
       "      <td>{'alpha': 1, 'l1_ratio': 0.95}</td>\n",
       "      <td>-29379.192272</td>\n",
       "      <td>-19586.822912</td>\n",
       "      <td>-24171.306490</td>\n",
       "      <td>-22646.817444</td>\n",
       "      <td>-26889.358782</td>\n",
       "      <td>-24534.699580</td>\n",
       "      <td>3382.045725</td>\n",
       "      <td>7</td>\n",
       "    </tr>\n",
       "    <tr>\n",
       "      <th>12</th>\n",
       "      <td>0.081180</td>\n",
       "      <td>0.013605</td>\n",
       "      <td>0.000839</td>\n",
       "      <td>0.000432</td>\n",
       "      <td>1</td>\n",
       "      <td>0.99</td>\n",
       "      <td>{'alpha': 1, 'l1_ratio': 0.99}</td>\n",
       "      <td>-30031.279429</td>\n",
       "      <td>-20589.474638</td>\n",
       "      <td>-25235.656187</td>\n",
       "      <td>-23419.170057</td>\n",
       "      <td>-26875.213888</td>\n",
       "      <td>-25230.158840</td>\n",
       "      <td>3180.334117</td>\n",
       "      <td>12</td>\n",
       "    </tr>\n",
       "    <tr>\n",
       "      <th>13</th>\n",
       "      <td>0.121116</td>\n",
       "      <td>0.032307</td>\n",
       "      <td>0.001304</td>\n",
       "      <td>0.000407</td>\n",
       "      <td>1</td>\n",
       "      <td>1</td>\n",
       "      <td>{'alpha': 1, 'l1_ratio': 1}</td>\n",
       "      <td>-30626.684546</td>\n",
       "      <td>-21851.541008</td>\n",
       "      <td>-26067.441353</td>\n",
       "      <td>-23821.220684</td>\n",
       "      <td>-27172.698910</td>\n",
       "      <td>-25907.917300</td>\n",
       "      <td>2989.995858</td>\n",
       "      <td>22</td>\n",
       "    </tr>\n",
       "    <tr>\n",
       "      <th>14</th>\n",
       "      <td>0.009220</td>\n",
       "      <td>0.002110</td>\n",
       "      <td>0.001289</td>\n",
       "      <td>0.000375</td>\n",
       "      <td>5</td>\n",
       "      <td>0.1</td>\n",
       "      <td>{'alpha': 5, 'l1_ratio': 0.1}</td>\n",
       "      <td>-42016.858738</td>\n",
       "      <td>-28654.683459</td>\n",
       "      <td>-37136.356621</td>\n",
       "      <td>-31344.313229</td>\n",
       "      <td>-41023.117246</td>\n",
       "      <td>-36035.065859</td>\n",
       "      <td>5260.200541</td>\n",
       "      <td>31</td>\n",
       "    </tr>\n",
       "    <tr>\n",
       "      <th>15</th>\n",
       "      <td>0.009142</td>\n",
       "      <td>0.000987</td>\n",
       "      <td>0.001400</td>\n",
       "      <td>0.000511</td>\n",
       "      <td>5</td>\n",
       "      <td>0.5</td>\n",
       "      <td>{'alpha': 5, 'l1_ratio': 0.5}</td>\n",
       "      <td>-37829.834845</td>\n",
       "      <td>-24550.891391</td>\n",
       "      <td>-32323.088670</td>\n",
       "      <td>-27436.310423</td>\n",
       "      <td>-36253.160130</td>\n",
       "      <td>-31678.657092</td>\n",
       "      <td>5059.266884</td>\n",
       "      <td>28</td>\n",
       "    </tr>\n",
       "    <tr>\n",
       "      <th>16</th>\n",
       "      <td>0.010973</td>\n",
       "      <td>0.002005</td>\n",
       "      <td>0.001296</td>\n",
       "      <td>0.000468</td>\n",
       "      <td>5</td>\n",
       "      <td>0.7</td>\n",
       "      <td>{'alpha': 5, 'l1_ratio': 0.7}</td>\n",
       "      <td>-34978.080991</td>\n",
       "      <td>-22215.044782</td>\n",
       "      <td>-29101.897633</td>\n",
       "      <td>-25056.010542</td>\n",
       "      <td>-33142.935087</td>\n",
       "      <td>-28898.793807</td>\n",
       "      <td>4784.374636</td>\n",
       "      <td>27</td>\n",
       "    </tr>\n",
       "    <tr>\n",
       "      <th>17</th>\n",
       "      <td>0.016308</td>\n",
       "      <td>0.003979</td>\n",
       "      <td>0.000811</td>\n",
       "      <td>0.000410</td>\n",
       "      <td>5</td>\n",
       "      <td>0.9</td>\n",
       "      <td>{'alpha': 5, 'l1_ratio': 0.9}</td>\n",
       "      <td>-30944.433395</td>\n",
       "      <td>-19682.426468</td>\n",
       "      <td>-24862.299990</td>\n",
       "      <td>-22356.511115</td>\n",
       "      <td>-29102.980625</td>\n",
       "      <td>-25389.730319</td>\n",
       "      <td>4164.009434</td>\n",
       "      <td>15</td>\n",
       "    </tr>\n",
       "    <tr>\n",
       "      <th>18</th>\n",
       "      <td>0.026999</td>\n",
       "      <td>0.002120</td>\n",
       "      <td>0.001171</td>\n",
       "      <td>0.000436</td>\n",
       "      <td>5</td>\n",
       "      <td>0.95</td>\n",
       "      <td>{'alpha': 5, 'l1_ratio': 0.95}</td>\n",
       "      <td>-29690.747951</td>\n",
       "      <td>-19159.721032</td>\n",
       "      <td>-23814.442695</td>\n",
       "      <td>-21923.665602</td>\n",
       "      <td>-27875.695756</td>\n",
       "      <td>-24492.854607</td>\n",
       "      <td>3846.166872</td>\n",
       "      <td>5</td>\n",
       "    </tr>\n",
       "    <tr>\n",
       "      <th>19</th>\n",
       "      <td>0.026154</td>\n",
       "      <td>0.002388</td>\n",
       "      <td>0.001213</td>\n",
       "      <td>0.000408</td>\n",
       "      <td>5</td>\n",
       "      <td>0.99</td>\n",
       "      <td>{'alpha': 5, 'l1_ratio': 0.99}</td>\n",
       "      <td>-29356.380427</td>\n",
       "      <td>-19552.484745</td>\n",
       "      <td>-24147.216014</td>\n",
       "      <td>-22617.223784</td>\n",
       "      <td>-26880.890154</td>\n",
       "      <td>-24510.839025</td>\n",
       "      <td>3388.205760</td>\n",
       "      <td>6</td>\n",
       "    </tr>\n",
       "    <tr>\n",
       "      <th>20</th>\n",
       "      <td>0.113552</td>\n",
       "      <td>0.022484</td>\n",
       "      <td>0.001066</td>\n",
       "      <td>0.000187</td>\n",
       "      <td>5</td>\n",
       "      <td>1</td>\n",
       "      <td>{'alpha': 5, 'l1_ratio': 1}</td>\n",
       "      <td>-30518.832615</td>\n",
       "      <td>-21529.429005</td>\n",
       "      <td>-25881.633850</td>\n",
       "      <td>-23716.852127</td>\n",
       "      <td>-27078.102588</td>\n",
       "      <td>-25744.970037</td>\n",
       "      <td>3048.597440</td>\n",
       "      <td>20</td>\n",
       "    </tr>\n",
       "    <tr>\n",
       "      <th>21</th>\n",
       "      <td>0.006491</td>\n",
       "      <td>0.000069</td>\n",
       "      <td>0.000621</td>\n",
       "      <td>0.000509</td>\n",
       "      <td>10</td>\n",
       "      <td>0.1</td>\n",
       "      <td>{'alpha': 10, 'l1_ratio': 0.1}</td>\n",
       "      <td>-48276.973466</td>\n",
       "      <td>-35745.046928</td>\n",
       "      <td>-44416.871945</td>\n",
       "      <td>-37774.242087</td>\n",
       "      <td>-48305.621140</td>\n",
       "      <td>-42903.751113</td>\n",
       "      <td>5251.669475</td>\n",
       "      <td>35</td>\n",
       "    </tr>\n",
       "    <tr>\n",
       "      <th>22</th>\n",
       "      <td>0.006895</td>\n",
       "      <td>0.001743</td>\n",
       "      <td>0.000593</td>\n",
       "      <td>0.000484</td>\n",
       "      <td>10</td>\n",
       "      <td>0.5</td>\n",
       "      <td>{'alpha': 10, 'l1_ratio': 0.5}</td>\n",
       "      <td>-42881.457364</td>\n",
       "      <td>-29580.705208</td>\n",
       "      <td>-38139.367111</td>\n",
       "      <td>-32198.846420</td>\n",
       "      <td>-42023.693251</td>\n",
       "      <td>-36964.813871</td>\n",
       "      <td>5276.703756</td>\n",
       "      <td>32</td>\n",
       "    </tr>\n",
       "    <tr>\n",
       "      <th>23</th>\n",
       "      <td>0.006108</td>\n",
       "      <td>0.001122</td>\n",
       "      <td>0.000710</td>\n",
       "      <td>0.000606</td>\n",
       "      <td>10</td>\n",
       "      <td>0.7</td>\n",
       "      <td>{'alpha': 10, 'l1_ratio': 0.7}</td>\n",
       "      <td>-39023.977445</td>\n",
       "      <td>-25648.405289</td>\n",
       "      <td>-33691.663925</td>\n",
       "      <td>-28509.221685</td>\n",
       "      <td>-37596.511535</td>\n",
       "      <td>-32893.955976</td>\n",
       "      <td>5139.093880</td>\n",
       "      <td>30</td>\n",
       "    </tr>\n",
       "    <tr>\n",
       "      <th>24</th>\n",
       "      <td>0.010705</td>\n",
       "      <td>0.002002</td>\n",
       "      <td>0.000884</td>\n",
       "      <td>0.000192</td>\n",
       "      <td>10</td>\n",
       "      <td>0.9</td>\n",
       "      <td>{'alpha': 10, 'l1_ratio': 0.9}</td>\n",
       "      <td>-33183.302902</td>\n",
       "      <td>-20965.464383</td>\n",
       "      <td>-27132.066153</td>\n",
       "      <td>-23723.147332</td>\n",
       "      <td>-31281.725801</td>\n",
       "      <td>-27257.141314</td>\n",
       "      <td>4547.672533</td>\n",
       "      <td>25</td>\n",
       "    </tr>\n",
       "    <tr>\n",
       "      <th>25</th>\n",
       "      <td>0.014426</td>\n",
       "      <td>0.002495</td>\n",
       "      <td>0.000894</td>\n",
       "      <td>0.000197</td>\n",
       "      <td>10</td>\n",
       "      <td>0.95</td>\n",
       "      <td>{'alpha': 10, 'l1_ratio': 0.95}</td>\n",
       "      <td>-30956.441046</td>\n",
       "      <td>-19682.499150</td>\n",
       "      <td>-24867.118079</td>\n",
       "      <td>-22359.701332</td>\n",
       "      <td>-29105.092563</td>\n",
       "      <td>-25394.170434</td>\n",
       "      <td>4166.983878</td>\n",
       "      <td>16</td>\n",
       "    </tr>\n",
       "    <tr>\n",
       "      <th>26</th>\n",
       "      <td>0.022003</td>\n",
       "      <td>0.006715</td>\n",
       "      <td>0.000806</td>\n",
       "      <td>0.000403</td>\n",
       "      <td>10</td>\n",
       "      <td>0.99</td>\n",
       "      <td>{'alpha': 10, 'l1_ratio': 0.99}</td>\n",
       "      <td>-29203.003802</td>\n",
       "      <td>-19203.536151</td>\n",
       "      <td>-23719.315307</td>\n",
       "      <td>-22172.875909</td>\n",
       "      <td>-27106.525013</td>\n",
       "      <td>-24281.051236</td>\n",
       "      <td>3542.598736</td>\n",
       "      <td>1</td>\n",
       "    </tr>\n",
       "    <tr>\n",
       "      <th>27</th>\n",
       "      <td>0.113942</td>\n",
       "      <td>0.026612</td>\n",
       "      <td>0.000807</td>\n",
       "      <td>0.000404</td>\n",
       "      <td>10</td>\n",
       "      <td>1</td>\n",
       "      <td>{'alpha': 10, 'l1_ratio': 1}</td>\n",
       "      <td>-30373.858527</td>\n",
       "      <td>-21217.433927</td>\n",
       "      <td>-25747.420609</td>\n",
       "      <td>-23589.366805</td>\n",
       "      <td>-27006.781834</td>\n",
       "      <td>-25586.972340</td>\n",
       "      <td>3099.650814</td>\n",
       "      <td>19</td>\n",
       "    </tr>\n",
       "    <tr>\n",
       "      <th>28</th>\n",
       "      <td>0.006375</td>\n",
       "      <td>0.000988</td>\n",
       "      <td>0.000800</td>\n",
       "      <td>0.000400</td>\n",
       "      <td>50</td>\n",
       "      <td>0.1</td>\n",
       "      <td>{'alpha': 50, 'l1_ratio': 0.1}</td>\n",
       "      <td>-64890.486951</td>\n",
       "      <td>-56041.877190</td>\n",
       "      <td>-63696.501122</td>\n",
       "      <td>-56131.328678</td>\n",
       "      <td>-67341.607414</td>\n",
       "      <td>-61620.360271</td>\n",
       "      <td>4668.740720</td>\n",
       "      <td>40</td>\n",
       "    </tr>\n",
       "    <tr>\n",
       "      <th>29</th>\n",
       "      <td>0.005519</td>\n",
       "      <td>0.001307</td>\n",
       "      <td>0.001100</td>\n",
       "      <td>0.000206</td>\n",
       "      <td>50</td>\n",
       "      <td>0.5</td>\n",
       "      <td>{'alpha': 50, 'l1_ratio': 0.5}</td>\n",
       "      <td>-59129.240515</td>\n",
       "      <td>-48990.528460</td>\n",
       "      <td>-57066.828690</td>\n",
       "      <td>-49688.118928</td>\n",
       "      <td>-60832.437957</td>\n",
       "      <td>-55141.430910</td>\n",
       "      <td>4890.185186</td>\n",
       "      <td>38</td>\n",
       "    </tr>\n",
       "    <tr>\n",
       "      <th>30</th>\n",
       "      <td>0.005492</td>\n",
       "      <td>0.001074</td>\n",
       "      <td>0.000504</td>\n",
       "      <td>0.000638</td>\n",
       "      <td>50</td>\n",
       "      <td>0.7</td>\n",
       "      <td>{'alpha': 50, 'l1_ratio': 0.7}</td>\n",
       "      <td>-53640.677809</td>\n",
       "      <td>-42243.042476</td>\n",
       "      <td>-50688.410223</td>\n",
       "      <td>-43597.299449</td>\n",
       "      <td>-54534.830837</td>\n",
       "      <td>-48940.852159</td>\n",
       "      <td>5096.059809</td>\n",
       "      <td>37</td>\n",
       "    </tr>\n",
       "    <tr>\n",
       "      <th>31</th>\n",
       "      <td>0.005865</td>\n",
       "      <td>0.000863</td>\n",
       "      <td>0.000691</td>\n",
       "      <td>0.000597</td>\n",
       "      <td>50</td>\n",
       "      <td>0.9</td>\n",
       "      <td>{'alpha': 50, 'l1_ratio': 0.9}</td>\n",
       "      <td>-42916.207167</td>\n",
       "      <td>-29622.395247</td>\n",
       "      <td>-38197.565972</td>\n",
       "      <td>-32242.489599</td>\n",
       "      <td>-42063.847534</td>\n",
       "      <td>-37008.501104</td>\n",
       "      <td>5275.240641</td>\n",
       "      <td>33</td>\n",
       "    </tr>\n",
       "    <tr>\n",
       "      <th>32</th>\n",
       "      <td>0.006453</td>\n",
       "      <td>0.000707</td>\n",
       "      <td>0.000800</td>\n",
       "      <td>0.000400</td>\n",
       "      <td>50</td>\n",
       "      <td>0.95</td>\n",
       "      <td>{'alpha': 50, 'l1_ratio': 0.95}</td>\n",
       "      <td>-37873.308581</td>\n",
       "      <td>-24584.251121</td>\n",
       "      <td>-32389.327431</td>\n",
       "      <td>-27482.101491</td>\n",
       "      <td>-36297.052448</td>\n",
       "      <td>-31725.208214</td>\n",
       "      <td>5062.394197</td>\n",
       "      <td>29</td>\n",
       "    </tr>\n",
       "    <tr>\n",
       "      <th>33</th>\n",
       "      <td>0.011309</td>\n",
       "      <td>0.001399</td>\n",
       "      <td>0.001254</td>\n",
       "      <td>0.000425</td>\n",
       "      <td>50</td>\n",
       "      <td>0.99</td>\n",
       "      <td>{'alpha': 50, 'l1_ratio': 0.99}</td>\n",
       "      <td>-31055.892484</td>\n",
       "      <td>-19683.675233</td>\n",
       "      <td>-24915.631299</td>\n",
       "      <td>-22388.344312</td>\n",
       "      <td>-29128.070080</td>\n",
       "      <td>-25434.322682</td>\n",
       "      <td>4191.963453</td>\n",
       "      <td>17</td>\n",
       "    </tr>\n",
       "    <tr>\n",
       "      <th>34</th>\n",
       "      <td>0.086169</td>\n",
       "      <td>0.016689</td>\n",
       "      <td>0.000993</td>\n",
       "      <td>0.000023</td>\n",
       "      <td>50</td>\n",
       "      <td>1</td>\n",
       "      <td>{'alpha': 50, 'l1_ratio': 1}</td>\n",
       "      <td>-29577.743393</td>\n",
       "      <td>-20336.458883</td>\n",
       "      <td>-25239.641740</td>\n",
       "      <td>-22924.137949</td>\n",
       "      <td>-26670.436516</td>\n",
       "      <td>-24949.683696</td>\n",
       "      <td>3157.488915</td>\n",
       "      <td>11</td>\n",
       "    </tr>\n",
       "    <tr>\n",
       "      <th>35</th>\n",
       "      <td>0.005608</td>\n",
       "      <td>0.000685</td>\n",
       "      <td>0.000987</td>\n",
       "      <td>0.000045</td>\n",
       "      <td>100</td>\n",
       "      <td>0.1</td>\n",
       "      <td>{'alpha': 100, 'l1_ratio': 0.1}</td>\n",
       "      <td>-70113.672981</td>\n",
       "      <td>-62351.374927</td>\n",
       "      <td>-69631.969315</td>\n",
       "      <td>-61969.859041</td>\n",
       "      <td>-73151.693403</td>\n",
       "      <td>-67443.713934</td>\n",
       "      <td>4480.919024</td>\n",
       "      <td>42</td>\n",
       "    </tr>\n",
       "    <tr>\n",
       "      <th>36</th>\n",
       "      <td>0.005966</td>\n",
       "      <td>0.001170</td>\n",
       "      <td>0.001230</td>\n",
       "      <td>0.000289</td>\n",
       "      <td>100</td>\n",
       "      <td>0.5</td>\n",
       "      <td>{'alpha': 100, 'l1_ratio': 0.5}</td>\n",
       "      <td>-65826.275770</td>\n",
       "      <td>-57181.350363</td>\n",
       "      <td>-64769.211162</td>\n",
       "      <td>-57179.439818</td>\n",
       "      <td>-68389.983059</td>\n",
       "      <td>-62669.252034</td>\n",
       "      <td>4633.756437</td>\n",
       "      <td>41</td>\n",
       "    </tr>\n",
       "    <tr>\n",
       "      <th>37</th>\n",
       "      <td>0.007241</td>\n",
       "      <td>0.000729</td>\n",
       "      <td>0.001193</td>\n",
       "      <td>0.000752</td>\n",
       "      <td>100</td>\n",
       "      <td>0.7</td>\n",
       "      <td>{'alpha': 100, 'l1_ratio': 0.7}</td>\n",
       "      <td>-61042.469120</td>\n",
       "      <td>-51343.882820</td>\n",
       "      <td>-59283.385792</td>\n",
       "      <td>-51827.445157</td>\n",
       "      <td>-63007.506145</td>\n",
       "      <td>-57300.937807</td>\n",
       "      <td>4815.385855</td>\n",
       "      <td>39</td>\n",
       "    </tr>\n",
       "    <tr>\n",
       "      <th>38</th>\n",
       "      <td>0.006038</td>\n",
       "      <td>0.001288</td>\n",
       "      <td>0.000606</td>\n",
       "      <td>0.000495</td>\n",
       "      <td>100</td>\n",
       "      <td>0.9</td>\n",
       "      <td>{'alpha': 100, 'l1_ratio': 0.9}</td>\n",
       "      <td>-49408.718697</td>\n",
       "      <td>-37108.473215</td>\n",
       "      <td>-45768.382821</td>\n",
       "      <td>-38996.638331</td>\n",
       "      <td>-49628.579755</td>\n",
       "      <td>-44182.158564</td>\n",
       "      <td>5223.469853</td>\n",
       "      <td>36</td>\n",
       "    </tr>\n",
       "    <tr>\n",
       "      <th>39</th>\n",
       "      <td>0.007143</td>\n",
       "      <td>0.001784</td>\n",
       "      <td>0.001303</td>\n",
       "      <td>0.000402</td>\n",
       "      <td>100</td>\n",
       "      <td>0.95</td>\n",
       "      <td>{'alpha': 100, 'l1_ratio': 0.95}</td>\n",
       "      <td>-42960.662482</td>\n",
       "      <td>-29674.840824</td>\n",
       "      <td>-38270.895563</td>\n",
       "      <td>-32297.063803</td>\n",
       "      <td>-42114.511874</td>\n",
       "      <td>-37063.594909</td>\n",
       "      <td>5273.675165</td>\n",
       "      <td>34</td>\n",
       "    </tr>\n",
       "    <tr>\n",
       "      <th>40</th>\n",
       "      <td>0.009694</td>\n",
       "      <td>0.001269</td>\n",
       "      <td>0.000919</td>\n",
       "      <td>0.000515</td>\n",
       "      <td>100</td>\n",
       "      <td>0.99</td>\n",
       "      <td>{'alpha': 100, 'l1_ratio': 0.99}</td>\n",
       "      <td>-33339.577744</td>\n",
       "      <td>-20995.708678</td>\n",
       "      <td>-27209.363665</td>\n",
       "      <td>-23812.707578</td>\n",
       "      <td>-31364.402280</td>\n",
       "      <td>-27344.351989</td>\n",
       "      <td>4580.383001</td>\n",
       "      <td>26</td>\n",
       "    </tr>\n",
       "    <tr>\n",
       "      <th>41</th>\n",
       "      <td>0.052345</td>\n",
       "      <td>0.005030</td>\n",
       "      <td>0.001081</td>\n",
       "      <td>0.000187</td>\n",
       "      <td>100</td>\n",
       "      <td>1</td>\n",
       "      <td>{'alpha': 100, 'l1_ratio': 1}</td>\n",
       "      <td>-29188.880470</td>\n",
       "      <td>-19782.008772</td>\n",
       "      <td>-24595.542129</td>\n",
       "      <td>-22355.397071</td>\n",
       "      <td>-26455.744675</td>\n",
       "      <td>-24475.514624</td>\n",
       "      <td>3245.779748</td>\n",
       "      <td>4</td>\n",
       "    </tr>\n",
       "  </tbody>\n",
       "</table>\n",
       "</div>"
      ],
      "text/plain": [
       "    mean_fit_time  std_fit_time  mean_score_time  std_score_time param_alpha  \\\n",
       "0        0.047924      0.027555         0.001214        0.000431         0.1   \n",
       "1        0.058100      0.015106         0.001467        0.000548         0.1   \n",
       "2        0.078718      0.021044         0.001308        0.000420         0.1   \n",
       "3        0.106412      0.018838         0.001314        0.000887         0.1   \n",
       "4        0.109143      0.019952         0.001624        0.000608         0.1   \n",
       "5        0.112124      0.027270         0.000704        0.000391         0.1   \n",
       "6        0.100829      0.007986         0.001503        0.000641         0.1   \n",
       "7        0.012812      0.001446         0.001003        0.000656           1   \n",
       "8        0.028945      0.005367         0.001407        0.000399           1   \n",
       "9        0.019724      0.004669         0.000723        0.000621           1   \n",
       "10       0.019720      0.001556         0.000810        0.000406           1   \n",
       "11       0.024776      0.000382         0.000795        0.000397           1   \n",
       "12       0.081180      0.013605         0.000839        0.000432           1   \n",
       "13       0.121116      0.032307         0.001304        0.000407           1   \n",
       "14       0.009220      0.002110         0.001289        0.000375           5   \n",
       "15       0.009142      0.000987         0.001400        0.000511           5   \n",
       "16       0.010973      0.002005         0.001296        0.000468           5   \n",
       "17       0.016308      0.003979         0.000811        0.000410           5   \n",
       "18       0.026999      0.002120         0.001171        0.000436           5   \n",
       "19       0.026154      0.002388         0.001213        0.000408           5   \n",
       "20       0.113552      0.022484         0.001066        0.000187           5   \n",
       "21       0.006491      0.000069         0.000621        0.000509          10   \n",
       "22       0.006895      0.001743         0.000593        0.000484          10   \n",
       "23       0.006108      0.001122         0.000710        0.000606          10   \n",
       "24       0.010705      0.002002         0.000884        0.000192          10   \n",
       "25       0.014426      0.002495         0.000894        0.000197          10   \n",
       "26       0.022003      0.006715         0.000806        0.000403          10   \n",
       "27       0.113942      0.026612         0.000807        0.000404          10   \n",
       "28       0.006375      0.000988         0.000800        0.000400          50   \n",
       "29       0.005519      0.001307         0.001100        0.000206          50   \n",
       "30       0.005492      0.001074         0.000504        0.000638          50   \n",
       "31       0.005865      0.000863         0.000691        0.000597          50   \n",
       "32       0.006453      0.000707         0.000800        0.000400          50   \n",
       "33       0.011309      0.001399         0.001254        0.000425          50   \n",
       "34       0.086169      0.016689         0.000993        0.000023          50   \n",
       "35       0.005608      0.000685         0.000987        0.000045         100   \n",
       "36       0.005966      0.001170         0.001230        0.000289         100   \n",
       "37       0.007241      0.000729         0.001193        0.000752         100   \n",
       "38       0.006038      0.001288         0.000606        0.000495         100   \n",
       "39       0.007143      0.001784         0.001303        0.000402         100   \n",
       "40       0.009694      0.001269         0.000919        0.000515         100   \n",
       "41       0.052345      0.005030         0.001081        0.000187         100   \n",
       "\n",
       "   param_l1_ratio                            params  split0_test_score  \\\n",
       "0             0.1   {'alpha': 0.1, 'l1_ratio': 0.1}      -29231.204331   \n",
       "1             0.5   {'alpha': 0.1, 'l1_ratio': 0.5}      -29385.271404   \n",
       "2             0.7   {'alpha': 0.1, 'l1_ratio': 0.7}      -29602.706733   \n",
       "3             0.9   {'alpha': 0.1, 'l1_ratio': 0.9}      -30048.309911   \n",
       "4            0.95  {'alpha': 0.1, 'l1_ratio': 0.95}      -30253.422486   \n",
       "5            0.99  {'alpha': 0.1, 'l1_ratio': 0.99}      -30533.630605   \n",
       "6               1     {'alpha': 0.1, 'l1_ratio': 1}      -30713.485876   \n",
       "7             0.1     {'alpha': 1, 'l1_ratio': 0.1}      -32761.004155   \n",
       "8             0.5     {'alpha': 1, 'l1_ratio': 0.5}      -30935.161861   \n",
       "9             0.7     {'alpha': 1, 'l1_ratio': 0.7}      -29928.461656   \n",
       "10            0.9     {'alpha': 1, 'l1_ratio': 0.9}      -29223.262736   \n",
       "11           0.95    {'alpha': 1, 'l1_ratio': 0.95}      -29379.192272   \n",
       "12           0.99    {'alpha': 1, 'l1_ratio': 0.99}      -30031.279429   \n",
       "13              1       {'alpha': 1, 'l1_ratio': 1}      -30626.684546   \n",
       "14            0.1     {'alpha': 5, 'l1_ratio': 0.1}      -42016.858738   \n",
       "15            0.5     {'alpha': 5, 'l1_ratio': 0.5}      -37829.834845   \n",
       "16            0.7     {'alpha': 5, 'l1_ratio': 0.7}      -34978.080991   \n",
       "17            0.9     {'alpha': 5, 'l1_ratio': 0.9}      -30944.433395   \n",
       "18           0.95    {'alpha': 5, 'l1_ratio': 0.95}      -29690.747951   \n",
       "19           0.99    {'alpha': 5, 'l1_ratio': 0.99}      -29356.380427   \n",
       "20              1       {'alpha': 5, 'l1_ratio': 1}      -30518.832615   \n",
       "21            0.1    {'alpha': 10, 'l1_ratio': 0.1}      -48276.973466   \n",
       "22            0.5    {'alpha': 10, 'l1_ratio': 0.5}      -42881.457364   \n",
       "23            0.7    {'alpha': 10, 'l1_ratio': 0.7}      -39023.977445   \n",
       "24            0.9    {'alpha': 10, 'l1_ratio': 0.9}      -33183.302902   \n",
       "25           0.95   {'alpha': 10, 'l1_ratio': 0.95}      -30956.441046   \n",
       "26           0.99   {'alpha': 10, 'l1_ratio': 0.99}      -29203.003802   \n",
       "27              1      {'alpha': 10, 'l1_ratio': 1}      -30373.858527   \n",
       "28            0.1    {'alpha': 50, 'l1_ratio': 0.1}      -64890.486951   \n",
       "29            0.5    {'alpha': 50, 'l1_ratio': 0.5}      -59129.240515   \n",
       "30            0.7    {'alpha': 50, 'l1_ratio': 0.7}      -53640.677809   \n",
       "31            0.9    {'alpha': 50, 'l1_ratio': 0.9}      -42916.207167   \n",
       "32           0.95   {'alpha': 50, 'l1_ratio': 0.95}      -37873.308581   \n",
       "33           0.99   {'alpha': 50, 'l1_ratio': 0.99}      -31055.892484   \n",
       "34              1      {'alpha': 50, 'l1_ratio': 1}      -29577.743393   \n",
       "35            0.1   {'alpha': 100, 'l1_ratio': 0.1}      -70113.672981   \n",
       "36            0.5   {'alpha': 100, 'l1_ratio': 0.5}      -65826.275770   \n",
       "37            0.7   {'alpha': 100, 'l1_ratio': 0.7}      -61042.469120   \n",
       "38            0.9   {'alpha': 100, 'l1_ratio': 0.9}      -49408.718697   \n",
       "39           0.95  {'alpha': 100, 'l1_ratio': 0.95}      -42960.662482   \n",
       "40           0.99  {'alpha': 100, 'l1_ratio': 0.99}      -33339.577744   \n",
       "41              1     {'alpha': 100, 'l1_ratio': 1}      -29188.880470   \n",
       "\n",
       "    split1_test_score  split2_test_score  split3_test_score  \\\n",
       "0       -19284.392300      -23795.317012      -22287.020781   \n",
       "1       -19594.571839      -24176.676314      -22653.582317   \n",
       "2       -19916.114316      -24558.716676      -22952.976284   \n",
       "3       -20610.345417      -25244.834425      -23436.436668   \n",
       "4       -20984.013731      -25523.464077      -23626.615065   \n",
       "5       -21582.612960      -25896.261134      -23816.982975   \n",
       "6       -21954.154958      -26115.101373      -23843.201960   \n",
       "7       -20707.278631      -26692.728940      -23437.089080   \n",
       "8       -19682.460745      -24858.771668      -22354.774539   \n",
       "9       -19241.696302      -23988.361028      -21968.217892   \n",
       "10      -19237.811366      -23742.891808      -22220.284474   \n",
       "11      -19586.822912      -24171.306490      -22646.817444   \n",
       "12      -20589.474638      -25235.656187      -23419.170057   \n",
       "13      -21851.541008      -26067.441353      -23821.220684   \n",
       "14      -28654.683459      -37136.356621      -31344.313229   \n",
       "15      -24550.891391      -32323.088670      -27436.310423   \n",
       "16      -22215.044782      -29101.897633      -25056.010542   \n",
       "17      -19682.426468      -24862.299990      -22356.511115   \n",
       "18      -19159.721032      -23814.442695      -21923.665602   \n",
       "19      -19552.484745      -24147.216014      -22617.223784   \n",
       "20      -21529.429005      -25881.633850      -23716.852127   \n",
       "21      -35745.046928      -44416.871945      -37774.242087   \n",
       "22      -29580.705208      -38139.367111      -32198.846420   \n",
       "23      -25648.405289      -33691.663925      -28509.221685   \n",
       "24      -20965.464383      -27132.066153      -23723.147332   \n",
       "25      -19682.499150      -24867.118079      -22359.701332   \n",
       "26      -19203.536151      -23719.315307      -22172.875909   \n",
       "27      -21217.433927      -25747.420609      -23589.366805   \n",
       "28      -56041.877190      -63696.501122      -56131.328678   \n",
       "29      -48990.528460      -57066.828690      -49688.118928   \n",
       "30      -42243.042476      -50688.410223      -43597.299449   \n",
       "31      -29622.395247      -38197.565972      -32242.489599   \n",
       "32      -24584.251121      -32389.327431      -27482.101491   \n",
       "33      -19683.675233      -24915.631299      -22388.344312   \n",
       "34      -20336.458883      -25239.641740      -22924.137949   \n",
       "35      -62351.374927      -69631.969315      -61969.859041   \n",
       "36      -57181.350363      -64769.211162      -57179.439818   \n",
       "37      -51343.882820      -59283.385792      -51827.445157   \n",
       "38      -37108.473215      -45768.382821      -38996.638331   \n",
       "39      -29674.840824      -38270.895563      -32297.063803   \n",
       "40      -20995.708678      -27209.363665      -23812.707578   \n",
       "41      -19782.008772      -24595.542129      -22355.397071   \n",
       "\n",
       "    split4_test_score  mean_test_score  std_test_score  rank_test_score  \n",
       "0       -27072.352189    -24334.057323     3505.995555                3  \n",
       "1       -26891.419022    -24540.304179     3380.936598                8  \n",
       "2       -26832.485845    -24772.599971     3301.977907               10  \n",
       "3       -26883.341162    -25244.653517     3178.265933               13  \n",
       "4       -26959.442459    -25469.391564     3118.479338               18  \n",
       "5       -27106.882951    -25787.274125     3027.948751               21  \n",
       "6       -27196.357971    -25964.460428     2989.173612               23  \n",
       "7       -30867.831423    -26893.186446     4482.841400               24  \n",
       "8       -29101.884992    -25386.610761     4161.674046               14  \n",
       "9       -28129.744385    -24651.296253     3920.465287                9  \n",
       "10      -27119.882700    -24308.826617     3534.153501                2  \n",
       "11      -26889.358782    -24534.699580     3382.045725                7  \n",
       "12      -26875.213888    -25230.158840     3180.334117               12  \n",
       "13      -27172.698910    -25907.917300     2989.995858               22  \n",
       "14      -41023.117246    -36035.065859     5260.200541               31  \n",
       "15      -36253.160130    -31678.657092     5059.266884               28  \n",
       "16      -33142.935087    -28898.793807     4784.374636               27  \n",
       "17      -29102.980625    -25389.730319     4164.009434               15  \n",
       "18      -27875.695756    -24492.854607     3846.166872                5  \n",
       "19      -26880.890154    -24510.839025     3388.205760                6  \n",
       "20      -27078.102588    -25744.970037     3048.597440               20  \n",
       "21      -48305.621140    -42903.751113     5251.669475               35  \n",
       "22      -42023.693251    -36964.813871     5276.703756               32  \n",
       "23      -37596.511535    -32893.955976     5139.093880               30  \n",
       "24      -31281.725801    -27257.141314     4547.672533               25  \n",
       "25      -29105.092563    -25394.170434     4166.983878               16  \n",
       "26      -27106.525013    -24281.051236     3542.598736                1  \n",
       "27      -27006.781834    -25586.972340     3099.650814               19  \n",
       "28      -67341.607414    -61620.360271     4668.740720               40  \n",
       "29      -60832.437957    -55141.430910     4890.185186               38  \n",
       "30      -54534.830837    -48940.852159     5096.059809               37  \n",
       "31      -42063.847534    -37008.501104     5275.240641               33  \n",
       "32      -36297.052448    -31725.208214     5062.394197               29  \n",
       "33      -29128.070080    -25434.322682     4191.963453               17  \n",
       "34      -26670.436516    -24949.683696     3157.488915               11  \n",
       "35      -73151.693403    -67443.713934     4480.919024               42  \n",
       "36      -68389.983059    -62669.252034     4633.756437               41  \n",
       "37      -63007.506145    -57300.937807     4815.385855               39  \n",
       "38      -49628.579755    -44182.158564     5223.469853               36  \n",
       "39      -42114.511874    -37063.594909     5273.675165               34  \n",
       "40      -31364.402280    -27344.351989     4580.383001               26  \n",
       "41      -26455.744675    -24475.514624     3245.779748                4  "
      ]
     },
     "execution_count": 88,
     "metadata": {},
     "output_type": "execute_result"
    }
   ],
   "source": [
    "pd.DataFrame(grid_model.cv_results_)"
   ]
  },
  {
   "cell_type": "code",
   "execution_count": null,
   "id": "af7f44c0",
   "metadata": {},
   "outputs": [],
   "source": []
  }
 ],
 "metadata": {
  "kernelspec": {
   "display_name": "Python 3 (ipykernel)",
   "language": "python",
   "name": "python3"
  },
  "language_info": {
   "codemirror_mode": {
    "name": "ipython",
    "version": 3
   },
   "file_extension": ".py",
   "mimetype": "text/x-python",
   "name": "python",
   "nbconvert_exporter": "python",
   "pygments_lexer": "ipython3",
   "version": "3.9.12"
  }
 },
 "nbformat": 4,
 "nbformat_minor": 5
}
