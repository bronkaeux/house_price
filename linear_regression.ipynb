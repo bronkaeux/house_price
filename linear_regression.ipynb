{
 "cells": [
  {
   "cell_type": "code",
   "execution_count": 1,
   "id": "c3b5a67e",
   "metadata": {
    "ExecuteTime": {
     "end_time": "2024-03-16T10:08:56.026389Z",
     "start_time": "2024-03-16T10:08:53.790782Z"
    }
   },
   "outputs": [],
   "source": [
    "import numpy as np\n",
    "import pandas as pd\n",
    "import matplotlib.pyplot as plt\n",
    "import seaborn as sns"
   ]
  },
  {
   "cell_type": "code",
   "execution_count": 2,
   "id": "871b7bb7",
   "metadata": {
    "ExecuteTime": {
     "end_time": "2024-03-16T10:08:57.630432Z",
     "start_time": "2024-03-16T10:08:57.590173Z"
    }
   },
   "outputs": [],
   "source": [
    "df = pd.read_csv('cleaned_df.csv')"
   ]
  },
  {
   "cell_type": "code",
   "execution_count": 5,
   "id": "66baed18",
   "metadata": {
    "ExecuteTime": {
     "end_time": "2024-03-16T10:09:11.483151Z",
     "start_time": "2024-03-16T10:09:11.436368Z"
    }
   },
   "outputs": [
    {
     "name": "stdout",
     "output_type": "stream",
     "text": [
      "<class 'pandas.core.frame.DataFrame'>\n",
      "RangeIndex: 2907 entries, 0 to 2906\n",
      "Columns: 250 entries, LotFrontage to SaleCondition_Partial\n",
      "dtypes: float64(12), int64(25), uint8(213)\n",
      "memory usage: 1.4 MB\n"
     ]
    }
   ],
   "source": [
    "df.info()"
   ]
  },
  {
   "cell_type": "code",
   "execution_count": 3,
   "id": "0a240ca1",
   "metadata": {
    "ExecuteTime": {
     "end_time": "2024-03-16T10:08:58.285281Z",
     "start_time": "2024-03-16T10:08:58.264524Z"
    }
   },
   "outputs": [
    {
     "data": {
      "text/plain": [
       "Index(['LotFrontage', 'LotArea', 'OverallQual', 'OverallCond', 'YearBuilt',\n",
       "       'YearRemodAdd', 'MasVnrArea', 'BsmtFinSF1', 'BsmtFinSF2', 'BsmtUnfSF',\n",
       "       'TotalBsmtSF', '1stFlrSF', '2ndFlrSF', 'LowQualFinSF', 'GrLivArea',\n",
       "       'BsmtFullBath', 'BsmtHalfBath', 'FullBath', 'HalfBath', 'BedroomAbvGr',\n",
       "       'KitchenAbvGr', 'TotRmsAbvGrd', 'Fireplaces', 'GarageYrBlt',\n",
       "       'GarageCars', 'GarageArea', 'WoodDeckSF', 'OpenPorchSF',\n",
       "       'EnclosedPorch', '3SsnPorch', 'ScreenPorch', 'PoolArea', 'MiscVal',\n",
       "       'MoSold', 'YrSold', 'SalePrice', 'MSSubClass', 'MSZoning', 'Street',\n",
       "       'LotShape', 'LandContour', 'Utilities', 'LotConfig', 'LandSlope',\n",
       "       'Neighborhood', 'Condition1', 'Condition2', 'BldgType', 'HouseStyle',\n",
       "       'RoofStyle', 'RoofMatl', 'Exterior1st', 'Exterior2nd', 'MasVnrType',\n",
       "       'ExterQual', 'ExterCond', 'Foundation', 'BsmtQual', 'BsmtCond',\n",
       "       'BsmtExposure', 'BsmtFinType1', 'BsmtFinType2', 'Heating', 'HeatingQC',\n",
       "       'CentralAir', 'Electrical', 'KitchenQual', 'Functional', 'FireplaceQu',\n",
       "       'GarageType', 'GarageFinish', 'GarageQual', 'GarageCond', 'PavedDrive',\n",
       "       'SaleType', 'SaleCondition'],\n",
       "      dtype='object')"
      ]
     },
     "execution_count": 3,
     "metadata": {},
     "output_type": "execute_result"
    }
   ],
   "source": [
    "df.columns"
   ]
  },
  {
   "cell_type": "code",
   "execution_count": 4,
   "id": "563780fb",
   "metadata": {
    "ExecuteTime": {
     "end_time": "2024-03-16T10:08:59.285364Z",
     "start_time": "2024-03-16T10:08:59.219837Z"
    }
   },
   "outputs": [],
   "source": [
    "df = pd.get_dummies(df, drop_first=True)"
   ]
  },
  {
   "cell_type": "code",
   "execution_count": 6,
   "id": "a9e11f26",
   "metadata": {
    "ExecuteTime": {
     "end_time": "2024-03-16T10:09:21.382011Z",
     "start_time": "2024-03-16T10:09:21.360746Z"
    }
   },
   "outputs": [],
   "source": [
    "# Data to be predicted\n",
    "df_to_predict = df[df['SalePrice'].isnull()]\n",
    "df_to_predict = df_to_predict.drop(['SalePrice'], axis = 1)"
   ]
  },
  {
   "cell_type": "code",
   "execution_count": 7,
   "id": "5e6169b8",
   "metadata": {
    "ExecuteTime": {
     "end_time": "2024-03-16T10:09:22.521351Z",
     "start_time": "2024-03-16T10:09:22.498703Z"
    }
   },
   "outputs": [],
   "source": [
    "df = df.dropna()"
   ]
  },
  {
   "cell_type": "code",
   "execution_count": 8,
   "id": "cd652127",
   "metadata": {
    "ExecuteTime": {
     "end_time": "2024-03-16T10:09:23.452097Z",
     "start_time": "2024-03-16T10:09:23.435875Z"
    }
   },
   "outputs": [],
   "source": [
    "X = df.drop('SalePrice',axis=1)\n",
    "y = df['SalePrice']"
   ]
  },
  {
   "cell_type": "code",
   "execution_count": 9,
   "id": "c7a92c27",
   "metadata": {
    "ExecuteTime": {
     "end_time": "2024-03-16T10:09:24.697758Z",
     "start_time": "2024-03-16T10:09:24.459277Z"
    }
   },
   "outputs": [],
   "source": [
    "from sklearn.model_selection import train_test_split\n",
    "X_train, X_test, y_train, y_test = train_test_split(X, y, test_size=0.3, random_state=101)"
   ]
  },
  {
   "cell_type": "code",
   "execution_count": 10,
   "id": "718e5bcd",
   "metadata": {
    "ExecuteTime": {
     "end_time": "2024-03-16T10:09:25.303342Z",
     "start_time": "2024-03-16T10:09:25.286357Z"
    }
   },
   "outputs": [],
   "source": [
    "from sklearn.preprocessing import StandardScaler\n",
    "scaler = StandardScaler()"
   ]
  },
  {
   "cell_type": "code",
   "execution_count": 11,
   "id": "d2d21f4c",
   "metadata": {
    "ExecuteTime": {
     "end_time": "2024-03-16T10:09:25.923528Z",
     "start_time": "2024-03-16T10:09:25.894988Z"
    }
   },
   "outputs": [
    {
     "data": {
      "text/plain": [
       "StandardScaler()"
      ]
     },
     "execution_count": 11,
     "metadata": {},
     "output_type": "execute_result"
    }
   ],
   "source": [
    "scaler.fit(X_train)"
   ]
  },
  {
   "cell_type": "code",
   "execution_count": 12,
   "id": "97e1c9c2",
   "metadata": {
    "ExecuteTime": {
     "end_time": "2024-03-16T10:09:26.359212Z",
     "start_time": "2024-03-16T10:09:26.325602Z"
    }
   },
   "outputs": [],
   "source": [
    "scaled_X_train = scaler.transform(X_train)\n",
    "scaled_X_test = scaler.transform(X_test)"
   ]
  },
  {
   "cell_type": "markdown",
   "id": "e1d5a6fd",
   "metadata": {},
   "source": [
    "## Ridge"
   ]
  },
  {
   "cell_type": "code",
   "execution_count": 13,
   "id": "9cc2ca80",
   "metadata": {
    "ExecuteTime": {
     "end_time": "2024-03-16T10:09:27.437401Z",
     "start_time": "2024-03-16T10:09:27.346026Z"
    }
   },
   "outputs": [],
   "source": [
    "from sklearn.linear_model import Ridge"
   ]
  },
  {
   "cell_type": "code",
   "execution_count": 14,
   "id": "658e36ef",
   "metadata": {
    "ExecuteTime": {
     "end_time": "2024-03-16T10:09:28.057943Z",
     "start_time": "2024-03-16T10:09:28.039751Z"
    }
   },
   "outputs": [],
   "source": [
    "model = Ridge(alpha=10)"
   ]
  },
  {
   "cell_type": "code",
   "execution_count": 15,
   "id": "65ddedb0",
   "metadata": {
    "ExecuteTime": {
     "end_time": "2024-03-16T10:09:28.587755Z",
     "start_time": "2024-03-16T10:09:28.540212Z"
    }
   },
   "outputs": [
    {
     "data": {
      "text/plain": [
       "Ridge(alpha=10)"
      ]
     },
     "execution_count": 15,
     "metadata": {},
     "output_type": "execute_result"
    }
   ],
   "source": [
    "model.fit(scaled_X_train,y_train)"
   ]
  },
  {
   "cell_type": "code",
   "execution_count": 16,
   "id": "40e5156f",
   "metadata": {
    "ExecuteTime": {
     "end_time": "2024-03-16T10:09:31.724160Z",
     "start_time": "2024-03-16T10:09:31.715640Z"
    }
   },
   "outputs": [],
   "source": [
    "y_pred = model.predict(scaled_X_test)"
   ]
  },
  {
   "cell_type": "code",
   "execution_count": 17,
   "id": "ca71a132",
   "metadata": {
    "ExecuteTime": {
     "end_time": "2024-03-16T10:09:32.847512Z",
     "start_time": "2024-03-16T10:09:32.834930Z"
    }
   },
   "outputs": [],
   "source": [
    "from sklearn.metrics import mean_squared_error, mean_absolute_error"
   ]
  },
  {
   "cell_type": "code",
   "execution_count": 18,
   "id": "d44a8b7b",
   "metadata": {
    "ExecuteTime": {
     "end_time": "2024-03-16T10:09:33.814277Z",
     "start_time": "2024-03-16T10:09:33.789935Z"
    }
   },
   "outputs": [
    {
     "data": {
      "text/plain": [
       "16137.38640462468"
      ]
     },
     "execution_count": 18,
     "metadata": {},
     "output_type": "execute_result"
    }
   ],
   "source": [
    "mean_absolute_error(y_test,y_pred)"
   ]
  },
  {
   "cell_type": "code",
   "execution_count": 19,
   "id": "913dcf3f",
   "metadata": {
    "ExecuteTime": {
     "end_time": "2024-03-16T10:09:34.985383Z",
     "start_time": "2024-03-16T10:09:34.971168Z"
    }
   },
   "outputs": [
    {
     "data": {
      "text/plain": [
       "23460.14354183018"
      ]
     },
     "execution_count": 19,
     "metadata": {},
     "output_type": "execute_result"
    }
   ],
   "source": [
    "np.sqrt(mean_squared_error(y_test,y_pred))"
   ]
  },
  {
   "cell_type": "code",
   "execution_count": 20,
   "id": "f582154f",
   "metadata": {
    "ExecuteTime": {
     "end_time": "2024-03-16T10:09:39.202110Z",
     "start_time": "2024-03-16T10:09:39.196477Z"
    }
   },
   "outputs": [],
   "source": [
    "model2 = Ridge(alpha=0.001)"
   ]
  },
  {
   "cell_type": "code",
   "execution_count": 21,
   "id": "4af973f5",
   "metadata": {
    "ExecuteTime": {
     "end_time": "2024-03-16T10:09:40.773328Z",
     "start_time": "2024-03-16T10:09:40.758076Z"
    }
   },
   "outputs": [
    {
     "data": {
      "text/plain": [
       "Ridge(alpha=0.001)"
      ]
     },
     "execution_count": 21,
     "metadata": {},
     "output_type": "execute_result"
    }
   ],
   "source": [
    "model2.fit(scaled_X_train,y_train)"
   ]
  },
  {
   "cell_type": "code",
   "execution_count": 22,
   "id": "f34556d4",
   "metadata": {
    "ExecuteTime": {
     "end_time": "2024-03-16T10:09:41.458548Z",
     "start_time": "2024-03-16T10:09:41.438724Z"
    }
   },
   "outputs": [],
   "source": [
    "y_pred2 = model2.predict(scaled_X_test)"
   ]
  },
  {
   "cell_type": "code",
   "execution_count": 23,
   "id": "b381d166",
   "metadata": {
    "ExecuteTime": {
     "end_time": "2024-03-16T10:09:42.315311Z",
     "start_time": "2024-03-16T10:09:42.302892Z"
    }
   },
   "outputs": [
    {
     "data": {
      "text/plain": [
       "16137.38640462468"
      ]
     },
     "execution_count": 23,
     "metadata": {},
     "output_type": "execute_result"
    }
   ],
   "source": [
    "mean_absolute_error(y_test,y_pred)"
   ]
  },
  {
   "cell_type": "code",
   "execution_count": 24,
   "id": "1fafb6fd",
   "metadata": {
    "ExecuteTime": {
     "end_time": "2024-03-16T10:09:43.329277Z",
     "start_time": "2024-03-16T10:09:43.310287Z"
    }
   },
   "outputs": [
    {
     "data": {
      "text/plain": [
       "24133.861321826265"
      ]
     },
     "execution_count": 24,
     "metadata": {},
     "output_type": "execute_result"
    }
   ],
   "source": [
    "np.sqrt(mean_squared_error(y_test,y_pred2))"
   ]
  },
  {
   "cell_type": "markdown",
   "id": "f50b1245",
   "metadata": {},
   "source": [
    "## CV - train-validation- test split"
   ]
  },
  {
   "cell_type": "code",
   "execution_count": 25,
   "id": "108e4c37",
   "metadata": {
    "ExecuteTime": {
     "end_time": "2024-03-16T10:09:46.401059Z",
     "start_time": "2024-03-16T10:09:46.387430Z"
    }
   },
   "outputs": [],
   "source": [
    "X = df.drop('SalePrice',axis=1)\n",
    "y = df['SalePrice']"
   ]
  },
  {
   "cell_type": "code",
   "execution_count": 26,
   "id": "8e5d49ec",
   "metadata": {
    "ExecuteTime": {
     "end_time": "2024-03-16T10:09:46.930859Z",
     "start_time": "2024-03-16T10:09:46.898991Z"
    }
   },
   "outputs": [],
   "source": [
    "###############################################################################################\n",
    "#### Вызываем SPLIT дважды! Здесь мы создаём три набора данных - TRAIN, VALIDATION и TEST  #########\n",
    "###############################################################################################\n",
    "from sklearn.model_selection import train_test_split\n",
    "\n",
    "# 70% данных определяем в обучающий набор, остальные 30% откладываем в сторону\n",
    "X_train, X_OTHER, y_train, y_OTHER = train_test_split(X, y, test_size=0.3, random_state=101)\n",
    "\n",
    "# Оставшиеся 30% разбиваем на оценочный и тестовый наборы данных\n",
    "# Каждый будет по 15% от исходного набора данных \n",
    "X_eval, X_test, y_eval, y_test = train_test_split(X_OTHER, y_OTHER, test_size=0.5, random_state=101)"
   ]
  },
  {
   "cell_type": "code",
   "execution_count": 27,
   "id": "41cc6e37",
   "metadata": {
    "ExecuteTime": {
     "end_time": "2024-03-16T10:09:47.644981Z",
     "start_time": "2024-03-16T10:09:47.629234Z"
    }
   },
   "outputs": [
    {
     "name": "stdout",
     "output_type": "stream",
     "text": [
      "1449 1014 435 217\n"
     ]
    }
   ],
   "source": [
    "print(len(df), len(X_train), len(X_OTHER), len(X_eval))"
   ]
  },
  {
   "cell_type": "code",
   "execution_count": 28,
   "id": "b5a4acf2",
   "metadata": {
    "ExecuteTime": {
     "end_time": "2024-03-16T10:09:49.264317Z",
     "start_time": "2024-03-16T10:09:49.233556Z"
    }
   },
   "outputs": [],
   "source": [
    "# Масштабируем данные (SCALE)\n",
    "from sklearn.preprocessing import StandardScaler\n",
    "scaler = StandardScaler()\n",
    "scaler.fit(X_train)\n",
    "X_train = scaler.transform(X_train)\n",
    "X_eval = scaler.transform(X_eval)\n",
    "X_test = scaler.transform(X_test)"
   ]
  },
  {
   "cell_type": "code",
   "execution_count": 29,
   "id": "a647a28d",
   "metadata": {
    "ExecuteTime": {
     "end_time": "2024-03-16T10:09:50.166349Z",
     "start_time": "2024-03-16T10:09:50.152041Z"
    }
   },
   "outputs": [],
   "source": [
    "from sklearn.linear_model import Ridge"
   ]
  },
  {
   "cell_type": "code",
   "execution_count": 30,
   "id": "7369e66d",
   "metadata": {
    "ExecuteTime": {
     "end_time": "2024-03-16T10:09:50.787218Z",
     "start_time": "2024-03-16T10:09:50.780657Z"
    }
   },
   "outputs": [],
   "source": [
    "model = Ridge(alpha=5)"
   ]
  },
  {
   "cell_type": "code",
   "execution_count": 31,
   "id": "e8b97b52",
   "metadata": {
    "ExecuteTime": {
     "end_time": "2024-03-16T10:09:51.799218Z",
     "start_time": "2024-03-16T10:09:51.777105Z"
    }
   },
   "outputs": [
    {
     "data": {
      "text/plain": [
       "Ridge(alpha=5)"
      ]
     },
     "execution_count": 31,
     "metadata": {},
     "output_type": "execute_result"
    }
   ],
   "source": [
    "model.fit(X_train,y_train)"
   ]
  },
  {
   "cell_type": "code",
   "execution_count": 32,
   "id": "a992af67",
   "metadata": {
    "ExecuteTime": {
     "end_time": "2024-03-16T10:09:53.075160Z",
     "start_time": "2024-03-16T10:09:53.064613Z"
    }
   },
   "outputs": [],
   "source": [
    "y_eval_pred = model.predict(X_eval)"
   ]
  },
  {
   "cell_type": "code",
   "execution_count": 33,
   "id": "011d81dc",
   "metadata": {
    "ExecuteTime": {
     "end_time": "2024-03-16T10:09:53.988685Z",
     "start_time": "2024-03-16T10:09:53.969891Z"
    }
   },
   "outputs": [],
   "source": [
    "from sklearn.metrics import mean_squared_error, mean_absolute_error"
   ]
  },
  {
   "cell_type": "code",
   "execution_count": 34,
   "id": "6bb21f92",
   "metadata": {
    "ExecuteTime": {
     "end_time": "2024-03-16T10:09:56.193588Z",
     "start_time": "2024-03-16T10:09:56.173565Z"
    }
   },
   "outputs": [
    {
     "data": {
      "text/plain": [
       "17614.815920875997"
      ]
     },
     "execution_count": 34,
     "metadata": {},
     "output_type": "execute_result"
    }
   ],
   "source": [
    "mean_absolute_error(y_eval,y_eval_pred)"
   ]
  },
  {
   "cell_type": "code",
   "execution_count": 35,
   "id": "8d7a2f4e",
   "metadata": {
    "ExecuteTime": {
     "end_time": "2024-03-16T10:09:57.455026Z",
     "start_time": "2024-03-16T10:09:57.443484Z"
    }
   },
   "outputs": [
    {
     "data": {
      "text/plain": [
       "26427.354949412467"
      ]
     },
     "execution_count": 35,
     "metadata": {},
     "output_type": "execute_result"
    }
   ],
   "source": [
    "np.sqrt(mean_squared_error(y_eval,y_eval_pred))"
   ]
  },
  {
   "cell_type": "code",
   "execution_count": 36,
   "id": "5bb69b60",
   "metadata": {
    "ExecuteTime": {
     "end_time": "2024-03-16T10:09:59.169201Z",
     "start_time": "2024-03-16T10:09:59.157595Z"
    }
   },
   "outputs": [],
   "source": [
    "model = Ridge(alpha=0.1)"
   ]
  },
  {
   "cell_type": "code",
   "execution_count": 37,
   "id": "6414ec70",
   "metadata": {
    "ExecuteTime": {
     "end_time": "2024-03-16T10:09:59.479933Z",
     "start_time": "2024-03-16T10:09:59.458831Z"
    }
   },
   "outputs": [
    {
     "data": {
      "text/plain": [
       "Ridge(alpha=0.1)"
      ]
     },
     "execution_count": 37,
     "metadata": {},
     "output_type": "execute_result"
    }
   ],
   "source": [
    "model.fit(X_train,y_train)"
   ]
  },
  {
   "cell_type": "code",
   "execution_count": 38,
   "id": "158c42ef",
   "metadata": {
    "ExecuteTime": {
     "end_time": "2024-03-16T10:10:00.791717Z",
     "start_time": "2024-03-16T10:10:00.779442Z"
    }
   },
   "outputs": [],
   "source": [
    "y_eval_pred = model.predict(X_eval)"
   ]
  },
  {
   "cell_type": "code",
   "execution_count": 39,
   "id": "df5e0662",
   "metadata": {
    "ExecuteTime": {
     "end_time": "2024-03-16T10:10:02.505214Z",
     "start_time": "2024-03-16T10:10:02.495050Z"
    }
   },
   "outputs": [
    {
     "data": {
      "text/plain": [
       "17990.385572279192"
      ]
     },
     "execution_count": 39,
     "metadata": {},
     "output_type": "execute_result"
    }
   ],
   "source": [
    "mean_absolute_error(y_eval,y_eval_pred)"
   ]
  },
  {
   "cell_type": "code",
   "execution_count": 40,
   "id": "2aed0ccd",
   "metadata": {
    "ExecuteTime": {
     "end_time": "2024-03-16T10:10:03.952938Z",
     "start_time": "2024-03-16T10:10:03.932116Z"
    }
   },
   "outputs": [
    {
     "data": {
      "text/plain": [
       "27052.15420851118"
      ]
     },
     "execution_count": 40,
     "metadata": {},
     "output_type": "execute_result"
    }
   ],
   "source": [
    "np.sqrt(mean_squared_error(y_eval,y_eval_pred))"
   ]
  },
  {
   "cell_type": "code",
   "execution_count": 41,
   "id": "7942afc2",
   "metadata": {
    "ExecuteTime": {
     "end_time": "2024-03-16T10:10:05.649364Z",
     "start_time": "2024-03-16T10:10:05.640269Z"
    }
   },
   "outputs": [],
   "source": [
    "y_final_test_pred = model.predict(X_test)"
   ]
  },
  {
   "cell_type": "code",
   "execution_count": 42,
   "id": "c4091d2e",
   "metadata": {
    "ExecuteTime": {
     "end_time": "2024-03-16T10:10:06.412298Z",
     "start_time": "2024-03-16T10:10:06.396195Z"
    }
   },
   "outputs": [
    {
     "data": {
      "text/plain": [
       "20786.453417934965"
      ]
     },
     "execution_count": 42,
     "metadata": {},
     "output_type": "execute_result"
    }
   ],
   "source": [
    "np.sqrt(mean_squared_error(y_test,y_final_test_pred))"
   ]
  },
  {
   "cell_type": "markdown",
   "id": "8fcd65c3",
   "metadata": {},
   "source": [
    "## CV score"
   ]
  },
  {
   "cell_type": "code",
   "execution_count": 43,
   "id": "a9ef7db4",
   "metadata": {
    "ExecuteTime": {
     "end_time": "2024-03-16T10:10:20.171094Z",
     "start_time": "2024-03-16T10:10:20.152029Z"
    }
   },
   "outputs": [],
   "source": [
    "## Создаём X и y\n",
    "X = df.drop('SalePrice',axis=1)\n",
    "y = df['SalePrice']"
   ]
  },
  {
   "cell_type": "code",
   "execution_count": 44,
   "id": "ff5ac2cb",
   "metadata": {
    "ExecuteTime": {
     "end_time": "2024-03-16T10:10:20.590746Z",
     "start_time": "2024-03-16T10:10:20.571641Z"
    }
   },
   "outputs": [],
   "source": [
    "# Разбиение на TRAIN и TEST\n",
    "from sklearn.model_selection import train_test_split\n",
    "X_train, X_test, y_train, y_test = train_test_split(X, y, test_size=0.3, random_state=101)"
   ]
  },
  {
   "cell_type": "code",
   "execution_count": 45,
   "id": "d838c2a6",
   "metadata": {
    "ExecuteTime": {
     "end_time": "2024-03-16T10:10:21.057203Z",
     "start_time": "2024-03-16T10:10:21.021938Z"
    }
   },
   "outputs": [],
   "source": [
    "# Масштабирование данных (SCALE)\n",
    "from sklearn.preprocessing import StandardScaler\n",
    "scaler = StandardScaler()\n",
    "scaler.fit(X_train)\n",
    "X_train = scaler.transform(X_train)\n",
    "X_test = scaler.transform(X_test)"
   ]
  },
  {
   "cell_type": "code",
   "execution_count": 46,
   "id": "4cf1beb3",
   "metadata": {
    "ExecuteTime": {
     "end_time": "2024-03-16T10:10:21.477009Z",
     "start_time": "2024-03-16T10:10:21.471634Z"
    }
   },
   "outputs": [],
   "source": [
    "from sklearn.linear_model import Ridge"
   ]
  },
  {
   "cell_type": "code",
   "execution_count": 47,
   "id": "e4c7a553",
   "metadata": {
    "ExecuteTime": {
     "end_time": "2024-03-16T10:10:22.004909Z",
     "start_time": "2024-03-16T10:10:21.987759Z"
    }
   },
   "outputs": [],
   "source": [
    "model = Ridge(alpha=10)"
   ]
  },
  {
   "cell_type": "code",
   "execution_count": 48,
   "id": "6ca497cd",
   "metadata": {
    "ExecuteTime": {
     "end_time": "2024-03-16T10:10:22.939550Z",
     "start_time": "2024-03-16T10:10:22.920280Z"
    }
   },
   "outputs": [],
   "source": [
    "from sklearn.model_selection import cross_val_score"
   ]
  },
  {
   "cell_type": "code",
   "execution_count": 49,
   "id": "e55e2ccc",
   "metadata": {
    "ExecuteTime": {
     "end_time": "2024-03-16T10:10:25.615821Z",
     "start_time": "2024-03-16T10:10:25.521737Z"
    }
   },
   "outputs": [],
   "source": [
    "scores = cross_val_score(model,X_train,y_train,\n",
    "                         scoring='neg_root_mean_squared_error',cv=10)"
   ]
  },
  {
   "cell_type": "code",
   "execution_count": 50,
   "id": "d980bea6",
   "metadata": {
    "ExecuteTime": {
     "end_time": "2024-03-16T10:10:26.971856Z",
     "start_time": "2024-03-16T10:10:26.963682Z"
    }
   },
   "outputs": [
    {
     "data": {
      "text/plain": [
       "24088.65146262978"
      ]
     },
     "execution_count": 50,
     "metadata": {},
     "output_type": "execute_result"
    }
   ],
   "source": [
    "abs(scores.mean())"
   ]
  },
  {
   "cell_type": "code",
   "execution_count": 51,
   "id": "ac180eb7",
   "metadata": {
    "ExecuteTime": {
     "end_time": "2024-03-16T10:10:32.964855Z",
     "start_time": "2024-03-16T10:10:32.950567Z"
    }
   },
   "outputs": [],
   "source": [
    "model = Ridge(alpha=1)"
   ]
  },
  {
   "cell_type": "code",
   "execution_count": 52,
   "id": "814de8a4",
   "metadata": {
    "ExecuteTime": {
     "end_time": "2024-03-16T10:10:34.647693Z",
     "start_time": "2024-03-16T10:10:34.547731Z"
    }
   },
   "outputs": [],
   "source": [
    "scores = cross_val_score(model,X_train,y_train,\n",
    "                         scoring='neg_root_mean_squared_error',cv=10)"
   ]
  },
  {
   "cell_type": "code",
   "execution_count": 53,
   "id": "dfe2600d",
   "metadata": {
    "ExecuteTime": {
     "end_time": "2024-03-16T10:10:35.916044Z",
     "start_time": "2024-03-16T10:10:35.897910Z"
    }
   },
   "outputs": [
    {
     "data": {
      "text/plain": [
       "24401.385603906045"
      ]
     },
     "execution_count": 53,
     "metadata": {},
     "output_type": "execute_result"
    }
   ],
   "source": [
    "abs(scores.mean())"
   ]
  },
  {
   "cell_type": "code",
   "execution_count": 54,
   "id": "b4a1b301",
   "metadata": {
    "ExecuteTime": {
     "end_time": "2024-03-16T10:10:37.445221Z",
     "start_time": "2024-03-16T10:10:37.429171Z"
    }
   },
   "outputs": [
    {
     "data": {
      "text/plain": [
       "Ridge(alpha=1)"
      ]
     },
     "execution_count": 54,
     "metadata": {},
     "output_type": "execute_result"
    }
   ],
   "source": [
    "model.fit(X_train,y_train)"
   ]
  },
  {
   "cell_type": "code",
   "execution_count": 55,
   "id": "6b35942e",
   "metadata": {
    "ExecuteTime": {
     "end_time": "2024-03-16T10:10:38.197097Z",
     "start_time": "2024-03-16T10:10:38.177778Z"
    }
   },
   "outputs": [],
   "source": [
    "y_final_test_pred = model.predict(X_test)"
   ]
  },
  {
   "cell_type": "code",
   "execution_count": 56,
   "id": "ff23864d",
   "metadata": {
    "ExecuteTime": {
     "end_time": "2024-03-16T10:10:39.008646Z",
     "start_time": "2024-03-16T10:10:38.983416Z"
    }
   },
   "outputs": [
    {
     "data": {
      "text/plain": [
       "16485.172679094867"
      ]
     },
     "execution_count": 56,
     "metadata": {},
     "output_type": "execute_result"
    }
   ],
   "source": [
    "mean_absolute_error(y_test,y_final_test_pred)"
   ]
  },
  {
   "cell_type": "code",
   "execution_count": 57,
   "id": "9c9ae813",
   "metadata": {
    "ExecuteTime": {
     "end_time": "2024-03-16T10:10:40.174631Z",
     "start_time": "2024-03-16T10:10:40.155540Z"
    }
   },
   "outputs": [
    {
     "data": {
      "text/plain": [
       "23987.09755690485"
      ]
     },
     "execution_count": 57,
     "metadata": {},
     "output_type": "execute_result"
    }
   ],
   "source": [
    "np.sqrt(mean_squared_error(y_test,y_final_test_pred))"
   ]
  },
  {
   "cell_type": "code",
   "execution_count": 59,
   "id": "4494fd83",
   "metadata": {
    "ExecuteTime": {
     "end_time": "2024-03-16T10:10:45.286970Z",
     "start_time": "2024-03-16T10:10:45.273026Z"
    }
   },
   "outputs": [],
   "source": [
    "res = y_final_test_pred - y_test"
   ]
  },
  {
   "cell_type": "code",
   "execution_count": 60,
   "id": "62088ae3",
   "metadata": {
    "ExecuteTime": {
     "end_time": "2024-03-16T10:10:46.329598Z",
     "start_time": "2024-03-16T10:10:46.156849Z"
    }
   },
   "outputs": [
    {
     "data": {
      "image/png": "[encoded data removed]",
      "text/plain": [
       "<Figure size 432x288 with 1 Axes>"
      ]
     },
     "metadata": {
      "needs_background": "light"
     },
     "output_type": "display_data"
    }
   ],
   "source": [
    "sns.scatterplot(x=y_test, y=res)\n",
    "plt.axhline(y=0, color='red', ls='--');"
   ]
  },
  {
   "cell_type": "code",
   "execution_count": 61,
   "id": "75312e6f",
   "metadata": {
    "ExecuteTime": {
     "end_time": "2024-03-16T10:11:01.054772Z",
     "start_time": "2024-03-16T10:10:59.799438Z"
    }
   },
   "outputs": [
    {
     "data": {
      "image/png": "[encoded data removed]",
      "text/plain": [
       "<Figure size 360x360 with 1 Axes>"
      ]
     },
     "metadata": {
      "needs_background": "light"
     },
     "output_type": "display_data"
    }
   ],
   "source": [
    "sns.displot(data=res, kde=True);"
   ]
  },
  {
   "cell_type": "markdown",
   "id": "99fa8468",
   "metadata": {},
   "source": [
    "## Cross Validate"
   ]
  },
  {
   "cell_type": "code",
   "execution_count": 62,
   "id": "7a5cf5f4",
   "metadata": {
    "ExecuteTime": {
     "end_time": "2024-03-16T10:11:05.920323Z",
     "start_time": "2024-03-16T10:11:05.873243Z"
    }
   },
   "outputs": [],
   "source": [
    "## Создаём X и y\n",
    "X = df.drop('SalePrice',axis=1)\n",
    "y = df['SalePrice']\n",
    "\n",
    "# Делаем разбиение на TRAIN и TEST\n",
    "from sklearn.model_selection import train_test_split\n",
    "X_train, X_test, y_train, y_test = train_test_split(X, y, test_size=0.3, random_state=101)\n",
    "\n",
    "# Масштабируем данные (SCALE)\n",
    "from sklearn.preprocessing import StandardScaler\n",
    "scaler = StandardScaler()\n",
    "scaler.fit(X_train)\n",
    "X_train = scaler.transform(X_train)\n",
    "X_test = scaler.transform(X_test)"
   ]
  },
  {
   "cell_type": "code",
   "execution_count": 63,
   "id": "7da1906a",
   "metadata": {
    "ExecuteTime": {
     "end_time": "2024-03-16T10:11:07.009602Z",
     "start_time": "2024-03-16T10:11:07.000935Z"
    }
   },
   "outputs": [],
   "source": [
    "from sklearn.model_selection import cross_validate"
   ]
  },
  {
   "cell_type": "code",
   "execution_count": 64,
   "id": "4a0199e3",
   "metadata": {
    "ExecuteTime": {
     "end_time": "2024-03-16T10:11:10.641007Z",
     "start_time": "2024-03-16T10:11:10.628717Z"
    }
   },
   "outputs": [],
   "source": [
    "model = Ridge(alpha=10)"
   ]
  },
  {
   "cell_type": "code",
   "execution_count": 65,
   "id": "05c1a4ad",
   "metadata": {
    "ExecuteTime": {
     "end_time": "2024-03-16T10:11:14.224025Z",
     "start_time": "2024-03-16T10:11:14.164480Z"
    }
   },
   "outputs": [],
   "source": [
    "# Варианты оценки модели:\n",
    "# https://scikit-learn.org/stable/modules/model_evaluation.html\n",
    "scores = cross_validate(model,X_train,y_train,\n",
    "                         scoring=['neg_mean_absolute_error','neg_root_mean_squared_error',\n",
    "                                  'neg_mean_squared_error', 'max_error'],cv=5)"
   ]
  },
  {
   "cell_type": "code",
   "execution_count": 66,
   "id": "8749970b",
   "metadata": {
    "ExecuteTime": {
     "end_time": "2024-03-16T10:11:14.660727Z",
     "start_time": "2024-03-16T10:11:14.645402Z"
    }
   },
   "outputs": [
    {
     "data": {
      "text/plain": [
       "{'fit_time': array([0.01006913, 0.00628042, 0.00553012, 0.00753522, 0.00552917]),\n",
       " 'score_time': array([0.0025034 , 0.00201249, 0.00246906, 0.00199938, 0.00099373]),\n",
       " 'test_neg_mean_absolute_error': array([-16913.90944792, -16957.96367466, -17886.6297834 , -15939.3202887 ,\n",
       "        -16606.96066018]),\n",
       " 'test_neg_root_mean_squared_error': array([-24477.88515077, -24656.44423553, -25861.39725558, -25406.72827595,\n",
       "        -21718.93454838]),\n",
       " 'test_neg_mean_squared_error': array([-5.99166861e+08, -6.07940242e+08, -6.68811868e+08, -6.45501842e+08,\n",
       "        -4.71712118e+08]),\n",
       " 'test_max_error': array([-141474.56675237, -131197.74431256, -146286.7210873 ,\n",
       "        -149710.53864527,  -71018.60467744])}"
      ]
     },
     "execution_count": 66,
     "metadata": {},
     "output_type": "execute_result"
    }
   ],
   "source": [
    "scores"
   ]
  },
  {
   "cell_type": "code",
   "execution_count": 67,
   "id": "de9845fa",
   "metadata": {
    "ExecuteTime": {
     "end_time": "2024-03-16T10:11:15.785067Z",
     "start_time": "2024-03-16T10:11:15.753372Z"
    }
   },
   "outputs": [
    {
     "data": {
      "text/html": [
       "<div>\n",
       "<style scoped>\n",
       "    .dataframe tbody tr th:only-of-type {\n",
       "        vertical-align: middle;\n",
       "    }\n",
       "\n",
       "    .dataframe tbody tr th {\n",
       "        vertical-align: top;\n",
       "    }\n",
       "\n",
       "    .dataframe thead th {\n",
       "        text-align: right;\n",
       "    }\n",
       "</style>\n",
       "<table border=\"1\" class=\"dataframe\">\n",
       "  <thead>\n",
       "    <tr style=\"text-align: right;\">\n",
       "      <th></th>\n",
       "      <th>fit_time</th>\n",
       "      <th>score_time</th>\n",
       "      <th>test_neg_mean_absolute_error</th>\n",
       "      <th>test_neg_root_mean_squared_error</th>\n",
       "      <th>test_neg_mean_squared_error</th>\n",
       "      <th>test_max_error</th>\n",
       "    </tr>\n",
       "  </thead>\n",
       "  <tbody>\n",
       "    <tr>\n",
       "      <th>0</th>\n",
       "      <td>0.010069</td>\n",
       "      <td>0.002503</td>\n",
       "      <td>-16913.909448</td>\n",
       "      <td>-24477.885151</td>\n",
       "      <td>-5.991669e+08</td>\n",
       "      <td>-141474.566752</td>\n",
       "    </tr>\n",
       "    <tr>\n",
       "      <th>1</th>\n",
       "      <td>0.006280</td>\n",
       "      <td>0.002012</td>\n",
       "      <td>-16957.963675</td>\n",
       "      <td>-24656.444236</td>\n",
       "      <td>-6.079402e+08</td>\n",
       "      <td>-131197.744313</td>\n",
       "    </tr>\n",
       "    <tr>\n",
       "      <th>2</th>\n",
       "      <td>0.005530</td>\n",
       "      <td>0.002469</td>\n",
       "      <td>-17886.629783</td>\n",
       "      <td>-25861.397256</td>\n",
       "      <td>-6.688119e+08</td>\n",
       "      <td>-146286.721087</td>\n",
       "    </tr>\n",
       "    <tr>\n",
       "      <th>3</th>\n",
       "      <td>0.007535</td>\n",
       "      <td>0.001999</td>\n",
       "      <td>-15939.320289</td>\n",
       "      <td>-25406.728276</td>\n",
       "      <td>-6.455018e+08</td>\n",
       "      <td>-149710.538645</td>\n",
       "    </tr>\n",
       "    <tr>\n",
       "      <th>4</th>\n",
       "      <td>0.005529</td>\n",
       "      <td>0.000994</td>\n",
       "      <td>-16606.960660</td>\n",
       "      <td>-21718.934548</td>\n",
       "      <td>-4.717121e+08</td>\n",
       "      <td>-71018.604677</td>\n",
       "    </tr>\n",
       "  </tbody>\n",
       "</table>\n",
       "</div>"
      ],
      "text/plain": [
       "   fit_time  score_time  test_neg_mean_absolute_error  \\\n",
       "0  0.010069    0.002503                 -16913.909448   \n",
       "1  0.006280    0.002012                 -16957.963675   \n",
       "2  0.005530    0.002469                 -17886.629783   \n",
       "3  0.007535    0.001999                 -15939.320289   \n",
       "4  0.005529    0.000994                 -16606.960660   \n",
       "\n",
       "   test_neg_root_mean_squared_error  test_neg_mean_squared_error  \\\n",
       "0                     -24477.885151                -5.991669e+08   \n",
       "1                     -24656.444236                -6.079402e+08   \n",
       "2                     -25861.397256                -6.688119e+08   \n",
       "3                     -25406.728276                -6.455018e+08   \n",
       "4                     -21718.934548                -4.717121e+08   \n",
       "\n",
       "   test_max_error  \n",
       "0  -141474.566752  \n",
       "1  -131197.744313  \n",
       "2  -146286.721087  \n",
       "3  -149710.538645  \n",
       "4   -71018.604677  "
      ]
     },
     "execution_count": 67,
     "metadata": {},
     "output_type": "execute_result"
    }
   ],
   "source": [
    "pd.DataFrame(scores)"
   ]
  },
  {
   "cell_type": "code",
   "execution_count": 68,
   "id": "a98fd266",
   "metadata": {
    "ExecuteTime": {
     "end_time": "2024-03-16T10:11:21.462699Z",
     "start_time": "2024-03-16T10:11:21.437825Z"
    }
   },
   "outputs": [
    {
     "data": {
      "text/plain": [
       "fit_time                            6.988811e-03\n",
       "score_time                          1.995611e-03\n",
       "test_neg_mean_absolute_error       -1.686096e+04\n",
       "test_neg_root_mean_squared_error   -2.442428e+04\n",
       "test_neg_mean_squared_error        -5.986266e+08\n",
       "test_max_error                     -1.279376e+05\n",
       "dtype: float64"
      ]
     },
     "execution_count": 68,
     "metadata": {},
     "output_type": "execute_result"
    }
   ],
   "source": [
    "pd.DataFrame(scores).mean()"
   ]
  },
  {
   "cell_type": "code",
   "execution_count": 69,
   "id": "0366f609",
   "metadata": {
    "ExecuteTime": {
     "end_time": "2024-03-16T10:11:27.622034Z",
     "start_time": "2024-03-16T10:11:27.612315Z"
    }
   },
   "outputs": [],
   "source": [
    "model = Ridge(alpha=1)"
   ]
  },
  {
   "cell_type": "code",
   "execution_count": 70,
   "id": "dc400d18",
   "metadata": {
    "ExecuteTime": {
     "end_time": "2024-03-16T10:11:28.511788Z",
     "start_time": "2024-03-16T10:11:28.460262Z"
    }
   },
   "outputs": [],
   "source": [
    "# Варианты оценки модели:\n",
    "# https://scikit-learn.org/stable/modules/model_evaluation.html\n",
    "scores = cross_validate(model,X_train,y_train,\n",
    "                         scoring=['neg_mean_absolute_error','neg_root_mean_squared_error',\n",
    "                                  'neg_mean_squared_error', 'max_error'],cv=5)"
   ]
  },
  {
   "cell_type": "code",
   "execution_count": 71,
   "id": "9b9bc6c4",
   "metadata": {
    "ExecuteTime": {
     "end_time": "2024-03-16T10:11:29.885427Z",
     "start_time": "2024-03-16T10:11:29.852794Z"
    }
   },
   "outputs": [
    {
     "data": {
      "text/html": [
       "<div>\n",
       "<style scoped>\n",
       "    .dataframe tbody tr th:only-of-type {\n",
       "        vertical-align: middle;\n",
       "    }\n",
       "\n",
       "    .dataframe tbody tr th {\n",
       "        vertical-align: top;\n",
       "    }\n",
       "\n",
       "    .dataframe thead th {\n",
       "        text-align: right;\n",
       "    }\n",
       "</style>\n",
       "<table border=\"1\" class=\"dataframe\">\n",
       "  <thead>\n",
       "    <tr style=\"text-align: right;\">\n",
       "      <th></th>\n",
       "      <th>fit_time</th>\n",
       "      <th>score_time</th>\n",
       "      <th>test_neg_mean_absolute_error</th>\n",
       "      <th>test_neg_root_mean_squared_error</th>\n",
       "      <th>test_neg_mean_squared_error</th>\n",
       "      <th>test_max_error</th>\n",
       "    </tr>\n",
       "  </thead>\n",
       "  <tbody>\n",
       "    <tr>\n",
       "      <th>0</th>\n",
       "      <td>0.005552</td>\n",
       "      <td>0.002528</td>\n",
       "      <td>-17308.069974</td>\n",
       "      <td>-24624.608708</td>\n",
       "      <td>-6.063714e+08</td>\n",
       "      <td>-140245.630225</td>\n",
       "    </tr>\n",
       "    <tr>\n",
       "      <th>1</th>\n",
       "      <td>0.004998</td>\n",
       "      <td>0.001997</td>\n",
       "      <td>-17413.139087</td>\n",
       "      <td>-25375.814120</td>\n",
       "      <td>-6.439319e+08</td>\n",
       "      <td>-133672.786152</td>\n",
       "    </tr>\n",
       "    <tr>\n",
       "      <th>2</th>\n",
       "      <td>0.008195</td>\n",
       "      <td>0.002529</td>\n",
       "      <td>-18096.983454</td>\n",
       "      <td>-26089.771625</td>\n",
       "      <td>-6.806762e+08</td>\n",
       "      <td>-143428.405334</td>\n",
       "    </tr>\n",
       "    <tr>\n",
       "      <th>3</th>\n",
       "      <td>0.005006</td>\n",
       "      <td>0.002010</td>\n",
       "      <td>-16289.421027</td>\n",
       "      <td>-25782.730010</td>\n",
       "      <td>-6.647492e+08</td>\n",
       "      <td>-147546.323661</td>\n",
       "    </tr>\n",
       "    <tr>\n",
       "      <th>4</th>\n",
       "      <td>0.006531</td>\n",
       "      <td>0.000999</td>\n",
       "      <td>-16777.243181</td>\n",
       "      <td>-22134.922113</td>\n",
       "      <td>-4.899548e+08</td>\n",
       "      <td>-75702.288328</td>\n",
       "    </tr>\n",
       "  </tbody>\n",
       "</table>\n",
       "</div>"
      ],
      "text/plain": [
       "   fit_time  score_time  test_neg_mean_absolute_error  \\\n",
       "0  0.005552    0.002528                 -17308.069974   \n",
       "1  0.004998    0.001997                 -17413.139087   \n",
       "2  0.008195    0.002529                 -18096.983454   \n",
       "3  0.005006    0.002010                 -16289.421027   \n",
       "4  0.006531    0.000999                 -16777.243181   \n",
       "\n",
       "   test_neg_root_mean_squared_error  test_neg_mean_squared_error  \\\n",
       "0                     -24624.608708                -6.063714e+08   \n",
       "1                     -25375.814120                -6.439319e+08   \n",
       "2                     -26089.771625                -6.806762e+08   \n",
       "3                     -25782.730010                -6.647492e+08   \n",
       "4                     -22134.922113                -4.899548e+08   \n",
       "\n",
       "   test_max_error  \n",
       "0  -140245.630225  \n",
       "1  -133672.786152  \n",
       "2  -143428.405334  \n",
       "3  -147546.323661  \n",
       "4   -75702.288328  "
      ]
     },
     "execution_count": 71,
     "metadata": {},
     "output_type": "execute_result"
    }
   ],
   "source": [
    "pd.DataFrame(scores)"
   ]
  },
  {
   "cell_type": "code",
   "execution_count": 72,
   "id": "05578893",
   "metadata": {
    "ExecuteTime": {
     "end_time": "2024-03-16T10:11:33.556644Z",
     "start_time": "2024-03-16T10:11:33.539116Z"
    }
   },
   "outputs": [
    {
     "data": {
      "text/plain": [
       "fit_time                            6.056356e-03\n",
       "score_time                          2.012587e-03\n",
       "test_neg_mean_absolute_error       -1.717697e+04\n",
       "test_neg_root_mean_squared_error   -2.480157e+04\n",
       "test_neg_mean_squared_error        -6.171367e+08\n",
       "test_max_error                     -1.281191e+05\n",
       "dtype: float64"
      ]
     },
     "execution_count": 72,
     "metadata": {},
     "output_type": "execute_result"
    }
   ],
   "source": [
    "pd.DataFrame(scores).mean()"
   ]
  },
  {
   "cell_type": "code",
   "execution_count": 73,
   "id": "4620b5db",
   "metadata": {
    "ExecuteTime": {
     "end_time": "2024-03-16T10:11:38.945295Z",
     "start_time": "2024-03-16T10:11:38.922666Z"
    }
   },
   "outputs": [
    {
     "data": {
      "text/plain": [
       "Ridge(alpha=1)"
      ]
     },
     "execution_count": 73,
     "metadata": {},
     "output_type": "execute_result"
    }
   ],
   "source": [
    "model.fit(X_train,y_train)"
   ]
  },
  {
   "cell_type": "code",
   "execution_count": 74,
   "id": "e169a753",
   "metadata": {
    "ExecuteTime": {
     "end_time": "2024-03-16T10:11:41.777674Z",
     "start_time": "2024-03-16T10:11:41.765510Z"
    }
   },
   "outputs": [],
   "source": [
    "y_final_test_pred = model.predict(X_test)"
   ]
  },
  {
   "cell_type": "code",
   "execution_count": 75,
   "id": "e6a584ee",
   "metadata": {
    "ExecuteTime": {
     "end_time": "2024-03-16T10:11:43.055540Z",
     "start_time": "2024-03-16T10:11:43.045914Z"
    }
   },
   "outputs": [
    {
     "data": {
      "text/plain": [
       "23987.09755690485"
      ]
     },
     "execution_count": 75,
     "metadata": {},
     "output_type": "execute_result"
    }
   ],
   "source": [
    "np.sqrt(mean_squared_error(y_test, y_final_test_pred))"
   ]
  },
  {
   "cell_type": "markdown",
   "id": "4642fef9",
   "metadata": {},
   "source": [
    "## Grid"
   ]
  },
  {
   "cell_type": "code",
   "execution_count": 76,
   "id": "b78a0aad",
   "metadata": {
    "ExecuteTime": {
     "end_time": "2024-03-16T10:11:46.434022Z",
     "start_time": "2024-03-16T10:11:46.397617Z"
    }
   },
   "outputs": [],
   "source": [
    "## Создаём X и y\n",
    "X = df.drop('SalePrice',axis=1)\n",
    "y = df['SalePrice']\n",
    "\n",
    "# Разбиение на обучающий и тестовый наборы - TRAIN TEST SPLIT\n",
    "from sklearn.model_selection import train_test_split\n",
    "X_train, X_test, y_train, y_test = train_test_split(X, y, test_size=0.3, random_state=101)\n",
    "\n",
    "# Масштабирование данных (SCALE)\n",
    "from sklearn.preprocessing import StandardScaler\n",
    "scaler = StandardScaler()\n",
    "scaler.fit(X_train)\n",
    "X_train = scaler.transform(X_train)\n",
    "X_test = scaler.transform(X_test)"
   ]
  },
  {
   "cell_type": "code",
   "execution_count": 77,
   "id": "81a60314",
   "metadata": {
    "ExecuteTime": {
     "end_time": "2024-03-16T10:11:49.334128Z",
     "start_time": "2024-03-16T10:11:49.317925Z"
    }
   },
   "outputs": [],
   "source": [
    "from sklearn.linear_model import ElasticNet"
   ]
  },
  {
   "cell_type": "code",
   "execution_count": 78,
   "id": "65f68548",
   "metadata": {
    "ExecuteTime": {
     "end_time": "2024-03-16T10:11:52.061796Z",
     "start_time": "2024-03-16T10:11:52.055209Z"
    }
   },
   "outputs": [],
   "source": [
    "base_elastic_model = ElasticNet()"
   ]
  },
  {
   "cell_type": "code",
   "execution_count": 79,
   "id": "9128d8e8",
   "metadata": {
    "ExecuteTime": {
     "end_time": "2024-03-16T10:11:54.163845Z",
     "start_time": "2024-03-16T10:11:54.157346Z"
    }
   },
   "outputs": [],
   "source": [
    "param_grid = {'alpha':[0.1,1,5,10,50,100],\n",
    "              'l1_ratio':[.1, .5, .7, .9, .95, .99, 1]}"
   ]
  },
  {
   "cell_type": "code",
   "execution_count": 80,
   "id": "44fce105",
   "metadata": {
    "ExecuteTime": {
     "end_time": "2024-03-16T10:11:55.227527Z",
     "start_time": "2024-03-16T10:11:55.218990Z"
    }
   },
   "outputs": [],
   "source": [
    "from sklearn.model_selection import GridSearchCV"
   ]
  },
  {
   "cell_type": "code",
   "execution_count": 81,
   "id": "d0708a9f",
   "metadata": {
    "ExecuteTime": {
     "end_time": "2024-03-16T10:12:01.549924Z",
     "start_time": "2024-03-16T10:12:01.535299Z"
    }
   },
   "outputs": [],
   "source": [
    "# число verbose выбирайте сами\n",
    "grid_model = GridSearchCV(estimator=base_elastic_model,\n",
    "                          param_grid=param_grid,\n",
    "                          scoring='neg_mean_squared_error',\n",
    "                          cv=5,\n",
    "                          verbose=2)"
   ]
  },
  {
   "cell_type": "code",
   "execution_count": 82,
   "id": "6c3e81f9",
   "metadata": {
    "ExecuteTime": {
     "end_time": "2024-03-16T10:12:12.102531Z",
     "start_time": "2024-03-16T10:12:04.157721Z"
    }
   },
   "outputs": [
    {
     "name": "stdout",
     "output_type": "stream",
     "text": [
      "Fitting 5 folds for each of 42 candidates, totalling 210 fits\n",
      "[CV] END ............................alpha=0.1, l1_ratio=0.1; total time=   0.0s\n",
      "[CV] END ............................alpha=0.1, l1_ratio=0.1; total time=   0.0s\n",
      "[CV] END ............................alpha=0.1, l1_ratio=0.1; total time=   0.0s\n",
      "[CV] END ............................alpha=0.1, l1_ratio=0.1; total time=   0.0s\n",
      "[CV] END ............................alpha=0.1, l1_ratio=0.1; total time=   0.0s\n",
      "[CV] END ............................alpha=0.1, l1_ratio=0.5; total time=   0.0s\n",
      "[CV] END ............................alpha=0.1, l1_ratio=0.5; total time=   0.0s\n",
      "[CV] END ............................alpha=0.1, l1_ratio=0.5; total time=   0.0s\n",
      "[CV] END ............................alpha=0.1, l1_ratio=0.5; total time=   0.0s\n",
      "[CV] END ............................alpha=0.1, l1_ratio=0.5; total time=   0.0s\n",
      "[CV] END ............................alpha=0.1, l1_ratio=0.7; total time=   0.0s\n",
      "[CV] END ............................alpha=0.1, l1_ratio=0.7; total time=   0.0s\n",
      "[CV] END ............................alpha=0.1, l1_ratio=0.7; total time=   0.0s\n",
      "[CV] END ............................alpha=0.1, l1_ratio=0.7; total time=   0.0s\n",
      "[CV] END ............................alpha=0.1, l1_ratio=0.7; total time=   0.0s\n",
      "[CV] END ............................alpha=0.1, l1_ratio=0.9; total time=   0.0s\n",
      "[CV] END ............................alpha=0.1, l1_ratio=0.9; total time=   0.0s\n",
      "[CV] END ............................alpha=0.1, l1_ratio=0.9; total time=   0.0s\n",
      "[CV] END ............................alpha=0.1, l1_ratio=0.9; total time=   0.0s\n",
      "[CV] END ............................alpha=0.1, l1_ratio=0.9; total time=   0.0s\n",
      "[CV] END ...........................alpha=0.1, l1_ratio=0.95; total time=   0.0s\n"
     ]
    },
    {
     "name": "stderr",
     "output_type": "stream",
     "text": [
      "C:\\Users\\79852\\anaconda3\\lib\\site-packages\\sklearn\\linear_model\\_coordinate_descent.py:647: ConvergenceWarning: Objective did not converge. You might want to increase the number of iterations, check the scale of the features or consider increasing regularisation. Duality gap: 4.620e+09, tolerance: 4.945e+08\n",
      "  model = cd_fast.enet_coordinate_descent(\n",
      "C:\\Users\\79852\\anaconda3\\lib\\site-packages\\sklearn\\linear_model\\_coordinate_descent.py:647: ConvergenceWarning: Objective did not converge. You might want to increase the number of iterations, check the scale of the features or consider increasing regularisation. Duality gap: 5.591e+10, tolerance: 4.677e+08\n",
      "  model = cd_fast.enet_coordinate_descent(\n"
     ]
    },
    {
     "name": "stdout",
     "output_type": "stream",
     "text": [
      "[CV] END ...........................alpha=0.1, l1_ratio=0.95; total time=   0.1s\n",
      "[CV] END ...........................alpha=0.1, l1_ratio=0.95; total time=   0.0s\n"
     ]
    },
    {
     "name": "stderr",
     "output_type": "stream",
     "text": [
      "C:\\Users\\79852\\anaconda3\\lib\\site-packages\\sklearn\\linear_model\\_coordinate_descent.py:647: ConvergenceWarning: Objective did not converge. You might want to increase the number of iterations, check the scale of the features or consider increasing regularisation. Duality gap: 6.234e+10, tolerance: 4.616e+08\n",
      "  model = cd_fast.enet_coordinate_descent(\n",
      "C:\\Users\\79852\\anaconda3\\lib\\site-packages\\sklearn\\linear_model\\_coordinate_descent.py:647: ConvergenceWarning: Objective did not converge. You might want to increase the number of iterations, check the scale of the features or consider increasing regularisation. Duality gap: 5.779e+10, tolerance: 4.775e+08\n",
      "  model = cd_fast.enet_coordinate_descent(\n"
     ]
    },
    {
     "name": "stdout",
     "output_type": "stream",
     "text": [
      "[CV] END ...........................alpha=0.1, l1_ratio=0.95; total time=   0.0s\n",
      "[CV] END ...........................alpha=0.1, l1_ratio=0.95; total time=   0.0s\n"
     ]
    },
    {
     "name": "stderr",
     "output_type": "stream",
     "text": [
      "C:\\Users\\79852\\anaconda3\\lib\\site-packages\\sklearn\\linear_model\\_coordinate_descent.py:647: ConvergenceWarning: Objective did not converge. You might want to increase the number of iterations, check the scale of the features or consider increasing regularisation. Duality gap: 7.335e+10, tolerance: 5.016e+08\n",
      "  model = cd_fast.enet_coordinate_descent(\n",
      "C:\\Users\\79852\\anaconda3\\lib\\site-packages\\sklearn\\linear_model\\_coordinate_descent.py:647: ConvergenceWarning: Objective did not converge. You might want to increase the number of iterations, check the scale of the features or consider increasing regularisation. Duality gap: 1.197e+11, tolerance: 4.945e+08\n",
      "  model = cd_fast.enet_coordinate_descent(\n"
     ]
    },
    {
     "name": "stdout",
     "output_type": "stream",
     "text": [
      "[CV] END ...........................alpha=0.1, l1_ratio=0.99; total time=   0.0s\n",
      "[CV] END ...........................alpha=0.1, l1_ratio=0.99; total time=   0.0s\n"
     ]
    },
    {
     "name": "stderr",
     "output_type": "stream",
     "text": [
      "C:\\Users\\79852\\anaconda3\\lib\\site-packages\\sklearn\\linear_model\\_coordinate_descent.py:647: ConvergenceWarning: Objective did not converge. You might want to increase the number of iterations, check the scale of the features or consider increasing regularisation. Duality gap: 1.138e+11, tolerance: 4.677e+08\n",
      "  model = cd_fast.enet_coordinate_descent(\n",
      "C:\\Users\\79852\\anaconda3\\lib\\site-packages\\sklearn\\linear_model\\_coordinate_descent.py:647: ConvergenceWarning: Objective did not converge. You might want to increase the number of iterations, check the scale of the features or consider increasing regularisation. Duality gap: 1.093e+11, tolerance: 4.616e+08\n",
      "  model = cd_fast.enet_coordinate_descent(\n"
     ]
    },
    {
     "name": "stdout",
     "output_type": "stream",
     "text": [
      "[CV] END ...........................alpha=0.1, l1_ratio=0.99; total time=   0.0s\n",
      "[CV] END ...........................alpha=0.1, l1_ratio=0.99; total time=   0.0s\n"
     ]
    },
    {
     "name": "stderr",
     "output_type": "stream",
     "text": [
      "C:\\Users\\79852\\anaconda3\\lib\\site-packages\\sklearn\\linear_model\\_coordinate_descent.py:647: ConvergenceWarning: Objective did not converge. You might want to increase the number of iterations, check the scale of the features or consider increasing regularisation. Duality gap: 1.112e+11, tolerance: 4.775e+08\n",
      "  model = cd_fast.enet_coordinate_descent(\n",
      "C:\\Users\\79852\\anaconda3\\lib\\site-packages\\sklearn\\linear_model\\_coordinate_descent.py:647: ConvergenceWarning: Objective did not converge. You might want to increase the number of iterations, check the scale of the features or consider increasing regularisation. Duality gap: 1.274e+11, tolerance: 5.016e+08\n",
      "  model = cd_fast.enet_coordinate_descent(\n",
      "C:\\Users\\79852\\anaconda3\\lib\\site-packages\\sklearn\\linear_model\\_coordinate_descent.py:647: ConvergenceWarning: Objective did not converge. You might want to increase the number of iterations, check the scale of the features or consider increasing regularisation. Duality gap: 6.358e+10, tolerance: 4.945e+08\n",
      "  model = cd_fast.enet_coordinate_descent(\n"
     ]
    },
    {
     "name": "stdout",
     "output_type": "stream",
     "text": [
      "[CV] END ...........................alpha=0.1, l1_ratio=0.99; total time=   0.0s\n",
      "[CV] END ..............................alpha=0.1, l1_ratio=1; total time=   0.0s\n"
     ]
    },
    {
     "name": "stderr",
     "output_type": "stream",
     "text": [
      "C:\\Users\\79852\\anaconda3\\lib\\site-packages\\sklearn\\linear_model\\_coordinate_descent.py:647: ConvergenceWarning: Objective did not converge. You might want to increase the number of iterations, check the scale of the features or consider increasing regularisation. Duality gap: 7.684e+10, tolerance: 4.677e+08\n",
      "  model = cd_fast.enet_coordinate_descent(\n",
      "C:\\Users\\79852\\anaconda3\\lib\\site-packages\\sklearn\\linear_model\\_coordinate_descent.py:647: ConvergenceWarning: Objective did not converge. You might want to increase the number of iterations, check the scale of the features or consider increasing regularisation. Duality gap: 1.146e+11, tolerance: 4.616e+08\n",
      "  model = cd_fast.enet_coordinate_descent(\n",
      "C:\\Users\\79852\\anaconda3\\lib\\site-packages\\sklearn\\linear_model\\_coordinate_descent.py:647: ConvergenceWarning: Objective did not converge. You might want to increase the number of iterations, check the scale of the features or consider increasing regularisation. Duality gap: 1.040e+11, tolerance: 4.775e+08\n",
      "  model = cd_fast.enet_coordinate_descent(\n"
     ]
    },
    {
     "name": "stdout",
     "output_type": "stream",
     "text": [
      "[CV] END ..............................alpha=0.1, l1_ratio=1; total time=   0.0s\n",
      "[CV] END ..............................alpha=0.1, l1_ratio=1; total time=   0.0s\n",
      "[CV] END ..............................alpha=0.1, l1_ratio=1; total time=   0.0s\n"
     ]
    },
    {
     "name": "stderr",
     "output_type": "stream",
     "text": [
      "C:\\Users\\79852\\anaconda3\\lib\\site-packages\\sklearn\\linear_model\\_coordinate_descent.py:647: ConvergenceWarning: Objective did not converge. You might want to increase the number of iterations, check the scale of the features or consider increasing regularisation. Duality gap: 1.182e+11, tolerance: 5.016e+08\n",
      "  model = cd_fast.enet_coordinate_descent(\n"
     ]
    },
    {
     "name": "stdout",
     "output_type": "stream",
     "text": [
      "[CV] END ..............................alpha=0.1, l1_ratio=1; total time=   0.0s\n",
      "[CV] END ..............................alpha=1, l1_ratio=0.1; total time=   0.0s\n",
      "[CV] END ..............................alpha=1, l1_ratio=0.1; total time=   0.0s\n",
      "[CV] END ..............................alpha=1, l1_ratio=0.1; total time=   0.0s\n",
      "[CV] END ..............................alpha=1, l1_ratio=0.1; total time=   0.0s\n",
      "[CV] END ..............................alpha=1, l1_ratio=0.1; total time=   0.0s\n",
      "[CV] END ..............................alpha=1, l1_ratio=0.5; total time=   0.0s\n",
      "[CV] END ..............................alpha=1, l1_ratio=0.5; total time=   0.0s\n",
      "[CV] END ..............................alpha=1, l1_ratio=0.5; total time=   0.0s\n",
      "[CV] END ..............................alpha=1, l1_ratio=0.5; total time=   0.0s\n",
      "[CV] END ..............................alpha=1, l1_ratio=0.5; total time=   0.0s\n",
      "[CV] END ..............................alpha=1, l1_ratio=0.7; total time=   0.0s\n",
      "[CV] END ..............................alpha=1, l1_ratio=0.7; total time=   0.0s\n",
      "[CV] END ..............................alpha=1, l1_ratio=0.7; total time=   0.0s\n",
      "[CV] END ..............................alpha=1, l1_ratio=0.7; total time=   0.0s\n",
      "[CV] END ..............................alpha=1, l1_ratio=0.7; total time=   0.0s\n",
      "[CV] END ..............................alpha=1, l1_ratio=0.9; total time=   0.0s\n",
      "[CV] END ..............................alpha=1, l1_ratio=0.9; total time=   0.0s\n",
      "[CV] END ..............................alpha=1, l1_ratio=0.9; total time=   0.0s\n",
      "[CV] END ..............................alpha=1, l1_ratio=0.9; total time=   0.0s\n",
      "[CV] END ..............................alpha=1, l1_ratio=0.9; total time=   0.0s\n",
      "[CV] END .............................alpha=1, l1_ratio=0.95; total time=   0.0s\n",
      "[CV] END .............................alpha=1, l1_ratio=0.95; total time=   0.0s\n",
      "[CV] END .............................alpha=1, l1_ratio=0.95; total time=   0.0s\n",
      "[CV] END .............................alpha=1, l1_ratio=0.95; total time=   0.0s\n",
      "[CV] END .............................alpha=1, l1_ratio=0.95; total time=   0.0s\n",
      "[CV] END .............................alpha=1, l1_ratio=0.99; total time=   0.0s\n",
      "[CV] END .............................alpha=1, l1_ratio=0.99; total time=   0.0s\n",
      "[CV] END .............................alpha=1, l1_ratio=0.99; total time=   0.0s\n",
      "[CV] END .............................alpha=1, l1_ratio=0.99; total time=   0.0s\n",
      "[CV] END .............................alpha=1, l1_ratio=0.99; total time=   0.0s\n"
     ]
    },
    {
     "name": "stderr",
     "output_type": "stream",
     "text": [
      "C:\\Users\\79852\\anaconda3\\lib\\site-packages\\sklearn\\linear_model\\_coordinate_descent.py:647: ConvergenceWarning: Objective did not converge. You might want to increase the number of iterations, check the scale of the features or consider increasing regularisation. Duality gap: 2.350e+09, tolerance: 4.945e+08\n",
      "  model = cd_fast.enet_coordinate_descent(\n",
      "C:\\Users\\79852\\anaconda3\\lib\\site-packages\\sklearn\\linear_model\\_coordinate_descent.py:647: ConvergenceWarning: Objective did not converge. You might want to increase the number of iterations, check the scale of the features or consider increasing regularisation. Duality gap: 9.127e+09, tolerance: 4.677e+08\n",
      "  model = cd_fast.enet_coordinate_descent(\n"
     ]
    },
    {
     "name": "stdout",
     "output_type": "stream",
     "text": [
      "[CV] END ................................alpha=1, l1_ratio=1; total time=   0.1s\n",
      "[CV] END ................................alpha=1, l1_ratio=1; total time=   0.0s\n"
     ]
    },
    {
     "name": "stderr",
     "output_type": "stream",
     "text": [
      "C:\\Users\\79852\\anaconda3\\lib\\site-packages\\sklearn\\linear_model\\_coordinate_descent.py:647: ConvergenceWarning: Objective did not converge. You might want to increase the number of iterations, check the scale of the features or consider increasing regularisation. Duality gap: 6.993e+10, tolerance: 4.616e+08\n",
      "  model = cd_fast.enet_coordinate_descent(\n",
      "C:\\Users\\79852\\anaconda3\\lib\\site-packages\\sklearn\\linear_model\\_coordinate_descent.py:647: ConvergenceWarning: Objective did not converge. You might want to increase the number of iterations, check the scale of the features or consider increasing regularisation. Duality gap: 3.222e+10, tolerance: 4.775e+08\n",
      "  model = cd_fast.enet_coordinate_descent(\n"
     ]
    },
    {
     "name": "stdout",
     "output_type": "stream",
     "text": [
      "[CV] END ................................alpha=1, l1_ratio=1; total time=   0.0s\n",
      "[CV] END ................................alpha=1, l1_ratio=1; total time=   0.0s\n"
     ]
    },
    {
     "name": "stderr",
     "output_type": "stream",
     "text": [
      "C:\\Users\\79852\\anaconda3\\lib\\site-packages\\sklearn\\linear_model\\_coordinate_descent.py:647: ConvergenceWarning: Objective did not converge. You might want to increase the number of iterations, check the scale of the features or consider increasing regularisation. Duality gap: 3.288e+10, tolerance: 5.016e+08\n",
      "  model = cd_fast.enet_coordinate_descent(\n"
     ]
    },
    {
     "name": "stdout",
     "output_type": "stream",
     "text": [
      "[CV] END ................................alpha=1, l1_ratio=1; total time=   0.0s\n",
      "[CV] END ..............................alpha=5, l1_ratio=0.1; total time=   0.0s\n",
      "[CV] END ..............................alpha=5, l1_ratio=0.1; total time=   0.0s\n",
      "[CV] END ..............................alpha=5, l1_ratio=0.1; total time=   0.0s\n",
      "[CV] END ..............................alpha=5, l1_ratio=0.1; total time=   0.0s\n",
      "[CV] END ..............................alpha=5, l1_ratio=0.1; total time=   0.0s\n",
      "[CV] END ..............................alpha=5, l1_ratio=0.5; total time=   0.0s\n",
      "[CV] END ..............................alpha=5, l1_ratio=0.5; total time=   0.0s\n",
      "[CV] END ..............................alpha=5, l1_ratio=0.5; total time=   0.0s\n",
      "[CV] END ..............................alpha=5, l1_ratio=0.5; total time=   0.0s\n",
      "[CV] END ..............................alpha=5, l1_ratio=0.5; total time=   0.0s\n",
      "[CV] END ..............................alpha=5, l1_ratio=0.7; total time=   0.0s\n",
      "[CV] END ..............................alpha=5, l1_ratio=0.7; total time=   0.0s\n",
      "[CV] END ..............................alpha=5, l1_ratio=0.7; total time=   0.0s\n",
      "[CV] END ..............................alpha=5, l1_ratio=0.7; total time=   0.0s\n",
      "[CV] END ..............................alpha=5, l1_ratio=0.7; total time=   0.0s\n",
      "[CV] END ..............................alpha=5, l1_ratio=0.9; total time=   0.0s\n",
      "[CV] END ..............................alpha=5, l1_ratio=0.9; total time=   0.0s\n",
      "[CV] END ..............................alpha=5, l1_ratio=0.9; total time=   0.0s\n",
      "[CV] END ..............................alpha=5, l1_ratio=0.9; total time=   0.0s\n",
      "[CV] END ..............................alpha=5, l1_ratio=0.9; total time=   0.0s\n",
      "[CV] END .............................alpha=5, l1_ratio=0.95; total time=   0.0s\n",
      "[CV] END .............................alpha=5, l1_ratio=0.95; total time=   0.0s\n",
      "[CV] END .............................alpha=5, l1_ratio=0.95; total time=   0.0s\n",
      "[CV] END .............................alpha=5, l1_ratio=0.95; total time=   0.0s\n",
      "[CV] END .............................alpha=5, l1_ratio=0.95; total time=   0.0s\n",
      "[CV] END .............................alpha=5, l1_ratio=0.99; total time=   0.0s\n",
      "[CV] END .............................alpha=5, l1_ratio=0.99; total time=   0.0s\n",
      "[CV] END .............................alpha=5, l1_ratio=0.99; total time=   0.0s\n",
      "[CV] END .............................alpha=5, l1_ratio=0.99; total time=   0.0s\n",
      "[CV] END .............................alpha=5, l1_ratio=0.99; total time=   0.0s\n"
     ]
    },
    {
     "name": "stderr",
     "output_type": "stream",
     "text": [
      "C:\\Users\\79852\\anaconda3\\lib\\site-packages\\sklearn\\linear_model\\_coordinate_descent.py:647: ConvergenceWarning: Objective did not converge. You might want to increase the number of iterations, check the scale of the features or consider increasing regularisation. Duality gap: 1.719e+09, tolerance: 4.945e+08\n",
      "  model = cd_fast.enet_coordinate_descent(\n",
      "C:\\Users\\79852\\anaconda3\\lib\\site-packages\\sklearn\\linear_model\\_coordinate_descent.py:647: ConvergenceWarning: Objective did not converge. You might want to increase the number of iterations, check the scale of the features or consider increasing regularisation. Duality gap: 5.046e+08, tolerance: 4.677e+08\n",
      "  model = cd_fast.enet_coordinate_descent(\n",
      "C:\\Users\\79852\\anaconda3\\lib\\site-packages\\sklearn\\linear_model\\_coordinate_descent.py:647: ConvergenceWarning: Objective did not converge. You might want to increase the number of iterations, check the scale of the features or consider increasing regularisation. Duality gap: 9.207e+09, tolerance: 4.616e+08\n",
      "  model = cd_fast.enet_coordinate_descent(\n"
     ]
    },
    {
     "name": "stdout",
     "output_type": "stream",
     "text": [
      "[CV] END ................................alpha=5, l1_ratio=1; total time=   0.0s\n",
      "[CV] END ................................alpha=5, l1_ratio=1; total time=   0.0s\n"
     ]
    },
    {
     "name": "stderr",
     "output_type": "stream",
     "text": [
      "C:\\Users\\79852\\anaconda3\\lib\\site-packages\\sklearn\\linear_model\\_coordinate_descent.py:647: ConvergenceWarning: Objective did not converge. You might want to increase the number of iterations, check the scale of the features or consider increasing regularisation. Duality gap: 1.229e+09, tolerance: 4.775e+08\n",
      "  model = cd_fast.enet_coordinate_descent(\n",
      "C:\\Users\\79852\\anaconda3\\lib\\site-packages\\sklearn\\linear_model\\_coordinate_descent.py:647: ConvergenceWarning: Objective did not converge. You might want to increase the number of iterations, check the scale of the features or consider increasing regularisation. Duality gap: 1.180e+09, tolerance: 5.016e+08\n",
      "  model = cd_fast.enet_coordinate_descent(\n"
     ]
    },
    {
     "name": "stdout",
     "output_type": "stream",
     "text": [
      "[CV] END ................................alpha=5, l1_ratio=1; total time=   0.0s\n",
      "[CV] END ................................alpha=5, l1_ratio=1; total time=   0.0s\n",
      "[CV] END ................................alpha=5, l1_ratio=1; total time=   0.0s\n",
      "[CV] END .............................alpha=10, l1_ratio=0.1; total time=   0.0s\n",
      "[CV] END .............................alpha=10, l1_ratio=0.1; total time=   0.0s\n",
      "[CV] END .............................alpha=10, l1_ratio=0.1; total time=   0.0s\n",
      "[CV] END .............................alpha=10, l1_ratio=0.1; total time=   0.0s\n",
      "[CV] END .............................alpha=10, l1_ratio=0.1; total time=   0.0s\n",
      "[CV] END .............................alpha=10, l1_ratio=0.5; total time=   0.0s\n",
      "[CV] END .............................alpha=10, l1_ratio=0.5; total time=   0.0s\n",
      "[CV] END .............................alpha=10, l1_ratio=0.5; total time=   0.0s\n",
      "[CV] END .............................alpha=10, l1_ratio=0.5; total time=   0.0s\n",
      "[CV] END .............................alpha=10, l1_ratio=0.5; total time=   0.0s\n",
      "[CV] END .............................alpha=10, l1_ratio=0.7; total time=   0.0s\n",
      "[CV] END .............................alpha=10, l1_ratio=0.7; total time=   0.0s\n",
      "[CV] END .............................alpha=10, l1_ratio=0.7; total time=   0.0s\n",
      "[CV] END .............................alpha=10, l1_ratio=0.7; total time=   0.0s\n",
      "[CV] END .............................alpha=10, l1_ratio=0.7; total time=   0.0s\n",
      "[CV] END .............................alpha=10, l1_ratio=0.9; total time=   0.0s\n",
      "[CV] END .............................alpha=10, l1_ratio=0.9; total time=   0.0s\n",
      "[CV] END .............................alpha=10, l1_ratio=0.9; total time=   0.0s\n",
      "[CV] END .............................alpha=10, l1_ratio=0.9; total time=   0.0s\n",
      "[CV] END .............................alpha=10, l1_ratio=0.9; total time=   0.0s\n",
      "[CV] END ............................alpha=10, l1_ratio=0.95; total time=   0.0s\n",
      "[CV] END ............................alpha=10, l1_ratio=0.95; total time=   0.0s\n",
      "[CV] END ............................alpha=10, l1_ratio=0.95; total time=   0.0s\n",
      "[CV] END ............................alpha=10, l1_ratio=0.95; total time=   0.0s\n",
      "[CV] END ............................alpha=10, l1_ratio=0.95; total time=   0.0s\n",
      "[CV] END ............................alpha=10, l1_ratio=0.99; total time=   0.0s\n",
      "[CV] END ............................alpha=10, l1_ratio=0.99; total time=   0.0s\n",
      "[CV] END ............................alpha=10, l1_ratio=0.99; total time=   0.0s\n",
      "[CV] END ............................alpha=10, l1_ratio=0.99; total time=   0.0s\n",
      "[CV] END ............................alpha=10, l1_ratio=0.99; total time=   0.0s\n"
     ]
    },
    {
     "name": "stderr",
     "output_type": "stream",
     "text": [
      "C:\\Users\\79852\\anaconda3\\lib\\site-packages\\sklearn\\linear_model\\_coordinate_descent.py:647: ConvergenceWarning: Objective did not converge. You might want to increase the number of iterations, check the scale of the features or consider increasing regularisation. Duality gap: 1.909e+09, tolerance: 4.945e+08\n",
      "  model = cd_fast.enet_coordinate_descent(\n",
      "C:\\Users\\79852\\anaconda3\\lib\\site-packages\\sklearn\\linear_model\\_coordinate_descent.py:647: ConvergenceWarning: Objective did not converge. You might want to increase the number of iterations, check the scale of the features or consider increasing regularisation. Duality gap: 9.717e+08, tolerance: 4.616e+08\n",
      "  model = cd_fast.enet_coordinate_descent(\n"
     ]
    },
    {
     "name": "stdout",
     "output_type": "stream",
     "text": [
      "[CV] END ...............................alpha=10, l1_ratio=1; total time=   0.0s\n",
      "[CV] END ...............................alpha=10, l1_ratio=1; total time=   0.0s\n",
      "[CV] END ...............................alpha=10, l1_ratio=1; total time=   0.0s\n",
      "[CV] END ...............................alpha=10, l1_ratio=1; total time=   0.0s\n",
      "[CV] END ...............................alpha=10, l1_ratio=1; total time=   0.0s\n",
      "[CV] END .............................alpha=50, l1_ratio=0.1; total time=   0.0s\n",
      "[CV] END .............................alpha=50, l1_ratio=0.1; total time=   0.0s\n",
      "[CV] END .............................alpha=50, l1_ratio=0.1; total time=   0.0s\n",
      "[CV] END .............................alpha=50, l1_ratio=0.1; total time=   0.0s\n",
      "[CV] END .............................alpha=50, l1_ratio=0.1; total time=   0.0s\n",
      "[CV] END .............................alpha=50, l1_ratio=0.5; total time=   0.0s\n",
      "[CV] END .............................alpha=50, l1_ratio=0.5; total time=   0.0s\n",
      "[CV] END .............................alpha=50, l1_ratio=0.5; total time=   0.0s\n",
      "[CV] END .............................alpha=50, l1_ratio=0.5; total time=   0.0s\n",
      "[CV] END .............................alpha=50, l1_ratio=0.5; total time=   0.0s\n",
      "[CV] END .............................alpha=50, l1_ratio=0.7; total time=   0.0s\n",
      "[CV] END .............................alpha=50, l1_ratio=0.7; total time=   0.0s\n",
      "[CV] END .............................alpha=50, l1_ratio=0.7; total time=   0.0s\n",
      "[CV] END .............................alpha=50, l1_ratio=0.7; total time=   0.0s\n",
      "[CV] END .............................alpha=50, l1_ratio=0.7; total time=   0.0s\n",
      "[CV] END .............................alpha=50, l1_ratio=0.9; total time=   0.0s\n",
      "[CV] END .............................alpha=50, l1_ratio=0.9; total time=   0.0s\n",
      "[CV] END .............................alpha=50, l1_ratio=0.9; total time=   0.0s\n",
      "[CV] END .............................alpha=50, l1_ratio=0.9; total time=   0.0s\n",
      "[CV] END .............................alpha=50, l1_ratio=0.9; total time=   0.0s\n",
      "[CV] END ............................alpha=50, l1_ratio=0.95; total time=   0.0s\n",
      "[CV] END ............................alpha=50, l1_ratio=0.95; total time=   0.0s\n",
      "[CV] END ............................alpha=50, l1_ratio=0.95; total time=   0.0s\n",
      "[CV] END ............................alpha=50, l1_ratio=0.95; total time=   0.0s\n",
      "[CV] END ............................alpha=50, l1_ratio=0.95; total time=   0.0s\n",
      "[CV] END ............................alpha=50, l1_ratio=0.99; total time=   0.0s\n",
      "[CV] END ............................alpha=50, l1_ratio=0.99; total time=   0.0s\n",
      "[CV] END ............................alpha=50, l1_ratio=0.99; total time=   0.0s\n",
      "[CV] END ............................alpha=50, l1_ratio=0.99; total time=   0.0s\n",
      "[CV] END ............................alpha=50, l1_ratio=0.99; total time=   0.0s\n",
      "[CV] END ...............................alpha=50, l1_ratio=1; total time=   0.0s\n"
     ]
    },
    {
     "name": "stderr",
     "output_type": "stream",
     "text": [
      "C:\\Users\\79852\\anaconda3\\lib\\site-packages\\sklearn\\linear_model\\_coordinate_descent.py:647: ConvergenceWarning: Objective did not converge. You might want to increase the number of iterations, check the scale of the features or consider increasing regularisation. Duality gap: 1.280e+09, tolerance: 4.945e+08\n",
      "  model = cd_fast.enet_coordinate_descent(\n"
     ]
    },
    {
     "name": "stdout",
     "output_type": "stream",
     "text": [
      "[CV] END ...............................alpha=50, l1_ratio=1; total time=   0.0s\n",
      "[CV] END ...............................alpha=50, l1_ratio=1; total time=   0.0s\n",
      "[CV] END ...............................alpha=50, l1_ratio=1; total time=   0.0s\n",
      "[CV] END ...............................alpha=50, l1_ratio=1; total time=   0.0s\n",
      "[CV] END ............................alpha=100, l1_ratio=0.1; total time=   0.0s\n",
      "[CV] END ............................alpha=100, l1_ratio=0.1; total time=   0.0s\n",
      "[CV] END ............................alpha=100, l1_ratio=0.1; total time=   0.0s\n",
      "[CV] END ............................alpha=100, l1_ratio=0.1; total time=   0.0s\n",
      "[CV] END ............................alpha=100, l1_ratio=0.1; total time=   0.0s\n",
      "[CV] END ............................alpha=100, l1_ratio=0.5; total time=   0.0s\n",
      "[CV] END ............................alpha=100, l1_ratio=0.5; total time=   0.0s\n",
      "[CV] END ............................alpha=100, l1_ratio=0.5; total time=   0.0s\n",
      "[CV] END ............................alpha=100, l1_ratio=0.5; total time=   0.0s\n",
      "[CV] END ............................alpha=100, l1_ratio=0.5; total time=   0.0s\n",
      "[CV] END ............................alpha=100, l1_ratio=0.7; total time=   0.0s\n",
      "[CV] END ............................alpha=100, l1_ratio=0.7; total time=   0.0s\n",
      "[CV] END ............................alpha=100, l1_ratio=0.7; total time=   0.0s\n",
      "[CV] END ............................alpha=100, l1_ratio=0.7; total time=   0.0s\n",
      "[CV] END ............................alpha=100, l1_ratio=0.7; total time=   0.0s\n",
      "[CV] END ............................alpha=100, l1_ratio=0.9; total time=   0.0s\n",
      "[CV] END ............................alpha=100, l1_ratio=0.9; total time=   0.0s\n",
      "[CV] END ............................alpha=100, l1_ratio=0.9; total time=   0.0s\n",
      "[CV] END ............................alpha=100, l1_ratio=0.9; total time=   0.0s\n",
      "[CV] END ............................alpha=100, l1_ratio=0.9; total time=   0.0s\n",
      "[CV] END ...........................alpha=100, l1_ratio=0.95; total time=   0.0s\n",
      "[CV] END ...........................alpha=100, l1_ratio=0.95; total time=   0.0s\n",
      "[CV] END ...........................alpha=100, l1_ratio=0.95; total time=   0.0s\n",
      "[CV] END ...........................alpha=100, l1_ratio=0.95; total time=   0.0s\n",
      "[CV] END ...........................alpha=100, l1_ratio=0.95; total time=   0.0s\n",
      "[CV] END ...........................alpha=100, l1_ratio=0.99; total time=   0.0s\n",
      "[CV] END ...........................alpha=100, l1_ratio=0.99; total time=   0.0s\n",
      "[CV] END ...........................alpha=100, l1_ratio=0.99; total time=   0.0s\n",
      "[CV] END ...........................alpha=100, l1_ratio=0.99; total time=   0.0s\n",
      "[CV] END ...........................alpha=100, l1_ratio=0.99; total time=   0.0s\n",
      "[CV] END ..............................alpha=100, l1_ratio=1; total time=   0.0s\n",
      "[CV] END ..............................alpha=100, l1_ratio=1; total time=   0.0s\n",
      "[CV] END ..............................alpha=100, l1_ratio=1; total time=   0.0s\n",
      "[CV] END ..............................alpha=100, l1_ratio=1; total time=   0.0s\n",
      "[CV] END ..............................alpha=100, l1_ratio=1; total time=   0.0s\n"
     ]
    },
    {
     "data": {
      "text/plain": [
       "GridSearchCV(cv=5, estimator=ElasticNet(),\n",
       "             param_grid={'alpha': [0.1, 1, 5, 10, 50, 100],\n",
       "                         'l1_ratio': [0.1, 0.5, 0.7, 0.9, 0.95, 0.99, 1]},\n",
       "             scoring='neg_mean_squared_error', verbose=2)"
      ]
     },
     "execution_count": 82,
     "metadata": {},
     "output_type": "execute_result"
    }
   ],
   "source": [
    "grid_model.fit(X_train,y_train)"
   ]
  },
  {
   "cell_type": "code",
   "execution_count": 83,
   "id": "1febd709",
   "metadata": {
    "ExecuteTime": {
     "end_time": "2024-03-16T10:12:19.783228Z",
     "start_time": "2024-03-16T10:12:19.776659Z"
    }
   },
   "outputs": [
    {
     "data": {
      "text/plain": [
       "ElasticNet(alpha=100, l1_ratio=1)"
      ]
     },
     "execution_count": 83,
     "metadata": {},
     "output_type": "execute_result"
    }
   ],
   "source": [
    "grid_model.best_estimator_"
   ]
  },
  {
   "cell_type": "code",
   "execution_count": 84,
   "id": "bb774913",
   "metadata": {
    "ExecuteTime": {
     "end_time": "2024-03-16T10:12:28.677599Z",
     "start_time": "2024-03-16T10:12:28.669495Z"
    }
   },
   "outputs": [
    {
     "data": {
      "text/plain": [
       "{'alpha': 100, 'l1_ratio': 1}"
      ]
     },
     "execution_count": 84,
     "metadata": {},
     "output_type": "execute_result"
    }
   ],
   "source": [
    "grid_model.best_params_"
   ]
  },
  {
   "cell_type": "code",
   "execution_count": 85,
   "id": "8a87850d",
   "metadata": {
    "ExecuteTime": {
     "end_time": "2024-03-16T10:12:30.099343Z",
     "start_time": "2024-03-16T10:12:30.089125Z"
    }
   },
   "outputs": [],
   "source": [
    "y_pred = grid_model.predict(X_test)"
   ]
  },
  {
   "cell_type": "code",
   "execution_count": 86,
   "id": "e8db339e",
   "metadata": {
    "ExecuteTime": {
     "end_time": "2024-03-16T10:12:30.710529Z",
     "start_time": "2024-03-16T10:12:30.692424Z"
    }
   },
   "outputs": [],
   "source": [
    "from sklearn.metrics import mean_squared_error"
   ]
  },
  {
   "cell_type": "code",
   "execution_count": 87,
   "id": "4d2c9eb5",
   "metadata": {
    "ExecuteTime": {
     "end_time": "2024-03-16T10:12:31.519438Z",
     "start_time": "2024-03-16T10:12:31.504897Z"
    }
   },
   "outputs": [
    {
     "data": {
      "text/plain": [
       "22844.17711186713"
      ]
     },
     "execution_count": 87,
     "metadata": {},
     "output_type": "execute_result"
    }
   ],
   "source": [
    "np.sqrt(mean_squared_error(y_test,y_pred))"
   ]
  },
  {
   "cell_type": "code",
   "execution_count": 88,
   "id": "076c69a2",
   "metadata": {
    "ExecuteTime": {
     "end_time": "2024-03-16T10:12:35.401176Z",
     "start_time": "2024-03-16T10:12:35.335901Z"
    }
   },
   "outputs": [
    {
     "data": {
      "text/html": [
       "<div>\n",
       "<style scoped>\n",
       "    .dataframe tbody tr th:only-of-type {\n",
       "        vertical-align: middle;\n",
       "    }\n",
       "\n",
       "    .dataframe tbody tr th {\n",
       "        vertical-align: top;\n",
       "    }\n",
       "\n",
       "    .dataframe thead th {\n",
       "        text-align: right;\n",
       "    }\n",
       "</style>\n",
       "<table border=\"1\" class=\"dataframe\">\n",
       "  <thead>\n",
       "    <tr style=\"text-align: right;\">\n",
       "      <th></th>\n",
       "      <th>mean_fit_time</th>\n",
       "      <th>std_fit_time</th>\n",
       "      <th>mean_score_time</th>\n",
       "      <th>std_score_time</th>\n",
       "      <th>param_alpha</th>\n",
       "      <th>param_l1_ratio</th>\n",
       "      <th>params</th>\n",
       "      <th>split0_test_score</th>\n",
       "      <th>split1_test_score</th>\n",
       "      <th>split2_test_score</th>\n",
       "      <th>split3_test_score</th>\n",
       "      <th>split4_test_score</th>\n",
       "      <th>mean_test_score</th>\n",
       "      <th>std_test_score</th>\n",
       "      <th>rank_test_score</th>\n",
       "    </tr>\n",
       "  </thead>\n",
       "  <tbody>\n",
       "    <tr>\n",
       "      <th>0</th>\n",
       "      <td>0.039603</td>\n",
       "      <td>0.008481</td>\n",
       "      <td>0.001194</td>\n",
       "      <td>0.000403</td>\n",
       "      <td>0.1</td>\n",
       "      <td>0.1</td>\n",
       "      <td>{'alpha': 0.1, 'l1_ratio': 0.1}</td>\n",
       "      <td>-5.963756e+08</td>\n",
       "      <td>-5.687478e+08</td>\n",
       "      <td>-6.611206e+08</td>\n",
       "      <td>-6.389908e+08</td>\n",
       "      <td>-4.317075e+08</td>\n",
       "      <td>-5.793884e+08</td>\n",
       "      <td>8.055313e+07</td>\n",
       "      <td>4</td>\n",
       "    </tr>\n",
       "    <tr>\n",
       "      <th>1</th>\n",
       "      <td>0.039464</td>\n",
       "      <td>0.003298</td>\n",
       "      <td>0.000602</td>\n",
       "      <td>0.000492</td>\n",
       "      <td>0.1</td>\n",
       "      <td>0.5</td>\n",
       "      <td>{'alpha': 0.1, 'l1_ratio': 0.5}</td>\n",
       "      <td>-5.960070e+08</td>\n",
       "      <td>-5.789099e+08</td>\n",
       "      <td>-6.583297e+08</td>\n",
       "      <td>-6.380228e+08</td>\n",
       "      <td>-4.446862e+08</td>\n",
       "      <td>-5.831911e+08</td>\n",
       "      <td>7.485789e+07</td>\n",
       "      <td>7</td>\n",
       "    </tr>\n",
       "    <tr>\n",
       "      <th>2</th>\n",
       "      <td>0.052247</td>\n",
       "      <td>0.005454</td>\n",
       "      <td>0.001252</td>\n",
       "      <td>0.000392</td>\n",
       "      <td>0.1</td>\n",
       "      <td>0.7</td>\n",
       "      <td>{'alpha': 0.1, 'l1_ratio': 0.7}</td>\n",
       "      <td>-5.969286e+08</td>\n",
       "      <td>-5.893904e+08</td>\n",
       "      <td>-6.613690e+08</td>\n",
       "      <td>-6.394842e+08</td>\n",
       "      <td>-4.554360e+08</td>\n",
       "      <td>-5.885216e+08</td>\n",
       "      <td>7.167585e+07</td>\n",
       "      <td>8</td>\n",
       "    </tr>\n",
       "    <tr>\n",
       "      <th>3</th>\n",
       "      <td>0.094377</td>\n",
       "      <td>0.014027</td>\n",
       "      <td>0.001353</td>\n",
       "      <td>0.000382</td>\n",
       "      <td>0.1</td>\n",
       "      <td>0.9</td>\n",
       "      <td>{'alpha': 0.1, 'l1_ratio': 0.9}</td>\n",
       "      <td>-5.997202e+08</td>\n",
       "      <td>-6.120865e+08</td>\n",
       "      <td>-6.702576e+08</td>\n",
       "      <td>-6.473580e+08</td>\n",
       "      <td>-4.747809e+08</td>\n",
       "      <td>-6.008407e+08</td>\n",
       "      <td>6.782531e+07</td>\n",
       "      <td>13</td>\n",
       "    </tr>\n",
       "    <tr>\n",
       "      <th>4</th>\n",
       "      <td>0.134510</td>\n",
       "      <td>0.010784</td>\n",
       "      <td>0.001487</td>\n",
       "      <td>0.000588</td>\n",
       "      <td>0.1</td>\n",
       "      <td>0.95</td>\n",
       "      <td>{'alpha': 0.1, 'l1_ratio': 0.95}</td>\n",
       "      <td>-6.018901e+08</td>\n",
       "      <td>-6.249570e+08</td>\n",
       "      <td>-6.741790e+08</td>\n",
       "      <td>-6.540443e+08</td>\n",
       "      <td>-4.827482e+08</td>\n",
       "      <td>-6.075637e+08</td>\n",
       "      <td>6.709945e+07</td>\n",
       "      <td>14</td>\n",
       "    </tr>\n",
       "    <tr>\n",
       "      <th>5</th>\n",
       "      <td>0.103601</td>\n",
       "      <td>0.007716</td>\n",
       "      <td>0.001495</td>\n",
       "      <td>0.000450</td>\n",
       "      <td>0.1</td>\n",
       "      <td>0.99</td>\n",
       "      <td>{'alpha': 0.1, 'l1_ratio': 0.99}</td>\n",
       "      <td>-6.082375e+08</td>\n",
       "      <td>-6.457712e+08</td>\n",
       "      <td>-6.810178e+08</td>\n",
       "      <td>-6.657778e+08</td>\n",
       "      <td>-4.904350e+08</td>\n",
       "      <td>-6.182479e+08</td>\n",
       "      <td>6.840032e+07</td>\n",
       "      <td>16</td>\n",
       "    </tr>\n",
       "    <tr>\n",
       "      <th>6</th>\n",
       "      <td>0.099689</td>\n",
       "      <td>0.010710</td>\n",
       "      <td>0.001204</td>\n",
       "      <td>0.000398</td>\n",
       "      <td>0.1</td>\n",
       "      <td>1</td>\n",
       "      <td>{'alpha': 0.1, 'l1_ratio': 1}</td>\n",
       "      <td>-6.244187e+08</td>\n",
       "      <td>-6.568090e+08</td>\n",
       "      <td>-6.896688e+08</td>\n",
       "      <td>-6.711581e+08</td>\n",
       "      <td>-4.925052e+08</td>\n",
       "      <td>-6.269120e+08</td>\n",
       "      <td>7.051435e+07</td>\n",
       "      <td>19</td>\n",
       "    </tr>\n",
       "    <tr>\n",
       "      <th>7</th>\n",
       "      <td>0.012429</td>\n",
       "      <td>0.001769</td>\n",
       "      <td>0.001204</td>\n",
       "      <td>0.000403</td>\n",
       "      <td>1</td>\n",
       "      <td>0.1</td>\n",
       "      <td>{'alpha': 1, 'l1_ratio': 0.1}</td>\n",
       "      <td>-7.165825e+08</td>\n",
       "      <td>-6.983861e+08</td>\n",
       "      <td>-9.276179e+08</td>\n",
       "      <td>-7.815557e+08</td>\n",
       "      <td>-4.513672e+08</td>\n",
       "      <td>-7.151019e+08</td>\n",
       "      <td>1.545424e+08</td>\n",
       "      <td>24</td>\n",
       "    </tr>\n",
       "    <tr>\n",
       "      <th>8</th>\n",
       "      <td>0.020371</td>\n",
       "      <td>0.003843</td>\n",
       "      <td>0.001067</td>\n",
       "      <td>0.000641</td>\n",
       "      <td>1</td>\n",
       "      <td>0.5</td>\n",
       "      <td>{'alpha': 1, 'l1_ratio': 0.5}</td>\n",
       "      <td>-6.504299e+08</td>\n",
       "      <td>-6.148233e+08</td>\n",
       "      <td>-7.958577e+08</td>\n",
       "      <td>-7.036440e+08</td>\n",
       "      <td>-4.200043e+08</td>\n",
       "      <td>-6.369518e+08</td>\n",
       "      <td>1.244480e+08</td>\n",
       "      <td>20</td>\n",
       "    </tr>\n",
       "    <tr>\n",
       "      <th>9</th>\n",
       "      <td>0.022178</td>\n",
       "      <td>0.003544</td>\n",
       "      <td>0.001465</td>\n",
       "      <td>0.000455</td>\n",
       "      <td>1</td>\n",
       "      <td>0.7</td>\n",
       "      <td>{'alpha': 1, 'l1_ratio': 0.7}</td>\n",
       "      <td>-6.188666e+08</td>\n",
       "      <td>-5.791203e+08</td>\n",
       "      <td>-7.250335e+08</td>\n",
       "      <td>-6.666042e+08</td>\n",
       "      <td>-4.133672e+08</td>\n",
       "      <td>-6.005984e+08</td>\n",
       "      <td>1.055381e+08</td>\n",
       "      <td>12</td>\n",
       "    </tr>\n",
       "    <tr>\n",
       "      <th>10</th>\n",
       "      <td>0.023457</td>\n",
       "      <td>0.003829</td>\n",
       "      <td>0.000586</td>\n",
       "      <td>0.000479</td>\n",
       "      <td>1</td>\n",
       "      <td>0.9</td>\n",
       "      <td>{'alpha': 1, 'l1_ratio': 0.9}</td>\n",
       "      <td>-5.966985e+08</td>\n",
       "      <td>-5.673101e+08</td>\n",
       "      <td>-6.627570e+08</td>\n",
       "      <td>-6.395263e+08</td>\n",
       "      <td>-4.291549e+08</td>\n",
       "      <td>-5.790894e+08</td>\n",
       "      <td>8.195373e+07</td>\n",
       "      <td>3</td>\n",
       "    </tr>\n",
       "    <tr>\n",
       "      <th>11</th>\n",
       "      <td>0.031940</td>\n",
       "      <td>0.004215</td>\n",
       "      <td>0.001115</td>\n",
       "      <td>0.000229</td>\n",
       "      <td>1</td>\n",
       "      <td>0.95</td>\n",
       "      <td>{'alpha': 1, 'l1_ratio': 0.95}</td>\n",
       "      <td>-5.957648e+08</td>\n",
       "      <td>-5.786660e+08</td>\n",
       "      <td>-6.580923e+08</td>\n",
       "      <td>-6.378866e+08</td>\n",
       "      <td>-4.444278e+08</td>\n",
       "      <td>-5.829675e+08</td>\n",
       "      <td>7.488040e+07</td>\n",
       "      <td>6</td>\n",
       "    </tr>\n",
       "    <tr>\n",
       "      <th>12</th>\n",
       "      <td>0.082239</td>\n",
       "      <td>0.011880</td>\n",
       "      <td>0.000810</td>\n",
       "      <td>0.000763</td>\n",
       "      <td>1</td>\n",
       "      <td>0.99</td>\n",
       "      <td>{'alpha': 1, 'l1_ratio': 0.99}</td>\n",
       "      <td>-5.994162e+08</td>\n",
       "      <td>-6.115844e+08</td>\n",
       "      <td>-6.698816e+08</td>\n",
       "      <td>-6.470336e+08</td>\n",
       "      <td>-4.744718e+08</td>\n",
       "      <td>-6.004775e+08</td>\n",
       "      <td>6.780314e+07</td>\n",
       "      <td>11</td>\n",
       "    </tr>\n",
       "    <tr>\n",
       "      <th>13</th>\n",
       "      <td>0.122113</td>\n",
       "      <td>0.022690</td>\n",
       "      <td>0.000928</td>\n",
       "      <td>0.000524</td>\n",
       "      <td>1</td>\n",
       "      <td>1</td>\n",
       "      <td>{'alpha': 1, 'l1_ratio': 1}</td>\n",
       "      <td>-6.141177e+08</td>\n",
       "      <td>-6.554914e+08</td>\n",
       "      <td>-6.867712e+08</td>\n",
       "      <td>-6.702771e+08</td>\n",
       "      <td>-4.921693e+08</td>\n",
       "      <td>-6.237653e+08</td>\n",
       "      <td>7.007172e+07</td>\n",
       "      <td>18</td>\n",
       "    </tr>\n",
       "    <tr>\n",
       "      <th>14</th>\n",
       "      <td>0.006120</td>\n",
       "      <td>0.000597</td>\n",
       "      <td>0.000697</td>\n",
       "      <td>0.000600</td>\n",
       "      <td>5</td>\n",
       "      <td>0.1</td>\n",
       "      <td>{'alpha': 5, 'l1_ratio': 0.1}</td>\n",
       "      <td>-1.202511e+09</td>\n",
       "      <td>-1.382717e+09</td>\n",
       "      <td>-1.727660e+09</td>\n",
       "      <td>-1.375869e+09</td>\n",
       "      <td>-8.446463e+08</td>\n",
       "      <td>-1.306681e+09</td>\n",
       "      <td>2.870956e+08</td>\n",
       "      <td>31</td>\n",
       "    </tr>\n",
       "    <tr>\n",
       "      <th>15</th>\n",
       "      <td>0.007715</td>\n",
       "      <td>0.001130</td>\n",
       "      <td>0.000915</td>\n",
       "      <td>0.000506</td>\n",
       "      <td>5</td>\n",
       "      <td>0.5</td>\n",
       "      <td>{'alpha': 5, 'l1_ratio': 0.5}</td>\n",
       "      <td>-9.529945e+08</td>\n",
       "      <td>-1.025029e+09</td>\n",
       "      <td>-1.339449e+09</td>\n",
       "      <td>-1.068313e+09</td>\n",
       "      <td>-6.223161e+08</td>\n",
       "      <td>-1.001620e+09</td>\n",
       "      <td>2.303738e+08</td>\n",
       "      <td>28</td>\n",
       "    </tr>\n",
       "    <tr>\n",
       "      <th>16</th>\n",
       "      <td>0.011685</td>\n",
       "      <td>0.002000</td>\n",
       "      <td>0.001195</td>\n",
       "      <td>0.000388</td>\n",
       "      <td>5</td>\n",
       "      <td>0.7</td>\n",
       "      <td>{'alpha': 5, 'l1_ratio': 0.7}</td>\n",
       "      <td>-8.108198e+08</td>\n",
       "      <td>-8.252298e+08</td>\n",
       "      <td>-1.099406e+09</td>\n",
       "      <td>-8.945625e+08</td>\n",
       "      <td>-5.120362e+08</td>\n",
       "      <td>-8.284109e+08</td>\n",
       "      <td>1.887999e+08</td>\n",
       "      <td>27</td>\n",
       "    </tr>\n",
       "    <tr>\n",
       "      <th>17</th>\n",
       "      <td>0.025415</td>\n",
       "      <td>0.007075</td>\n",
       "      <td>0.001387</td>\n",
       "      <td>0.000500</td>\n",
       "      <td>5</td>\n",
       "      <td>0.9</td>\n",
       "      <td>{'alpha': 5, 'l1_ratio': 0.9}</td>\n",
       "      <td>-6.506028e+08</td>\n",
       "      <td>-6.149973e+08</td>\n",
       "      <td>-7.960209e+08</td>\n",
       "      <td>-7.037082e+08</td>\n",
       "      <td>-4.198241e+08</td>\n",
       "      <td>-6.370307e+08</td>\n",
       "      <td>1.245569e+08</td>\n",
       "      <td>21</td>\n",
       "    </tr>\n",
       "    <tr>\n",
       "      <th>18</th>\n",
       "      <td>0.028293</td>\n",
       "      <td>0.004191</td>\n",
       "      <td>0.001396</td>\n",
       "      <td>0.000498</td>\n",
       "      <td>5</td>\n",
       "      <td>0.95</td>\n",
       "      <td>{'alpha': 5, 'l1_ratio': 0.95}</td>\n",
       "      <td>-6.118840e+08</td>\n",
       "      <td>-5.723050e+08</td>\n",
       "      <td>-7.074411e+08</td>\n",
       "      <td>-6.580707e+08</td>\n",
       "      <td>-4.135143e+08</td>\n",
       "      <td>-5.926430e+08</td>\n",
       "      <td>1.003298e+08</td>\n",
       "      <td>10</td>\n",
       "    </tr>\n",
       "    <tr>\n",
       "      <th>19</th>\n",
       "      <td>0.021130</td>\n",
       "      <td>0.001687</td>\n",
       "      <td>0.001206</td>\n",
       "      <td>0.000509</td>\n",
       "      <td>5</td>\n",
       "      <td>0.99</td>\n",
       "      <td>{'alpha': 5, 'l1_ratio': 0.99}</td>\n",
       "      <td>-5.947252e+08</td>\n",
       "      <td>-5.776127e+08</td>\n",
       "      <td>-6.571184e+08</td>\n",
       "      <td>-6.372867e+08</td>\n",
       "      <td>-4.432514e+08</td>\n",
       "      <td>-5.819989e+08</td>\n",
       "      <td>7.500901e+07</td>\n",
       "      <td>5</td>\n",
       "    </tr>\n",
       "    <tr>\n",
       "      <th>20</th>\n",
       "      <td>0.107850</td>\n",
       "      <td>0.015031</td>\n",
       "      <td>0.001084</td>\n",
       "      <td>0.000202</td>\n",
       "      <td>5</td>\n",
       "      <td>1</td>\n",
       "      <td>{'alpha': 5, 'l1_ratio': 1}</td>\n",
       "      <td>-6.102356e+08</td>\n",
       "      <td>-6.491520e+08</td>\n",
       "      <td>-6.787828e+08</td>\n",
       "      <td>-6.667310e+08</td>\n",
       "      <td>-4.912295e+08</td>\n",
       "      <td>-6.192262e+08</td>\n",
       "      <td>6.806357e+07</td>\n",
       "      <td>17</td>\n",
       "    </tr>\n",
       "    <tr>\n",
       "      <th>21</th>\n",
       "      <td>0.009208</td>\n",
       "      <td>0.001785</td>\n",
       "      <td>0.000999</td>\n",
       "      <td>0.000008</td>\n",
       "      <td>10</td>\n",
       "      <td>0.1</td>\n",
       "      <td>{'alpha': 10, 'l1_ratio': 0.1}</td>\n",
       "      <td>-1.665245e+09</td>\n",
       "      <td>-2.038118e+09</td>\n",
       "      <td>-2.391815e+09</td>\n",
       "      <td>-1.942441e+09</td>\n",
       "      <td>-1.296118e+09</td>\n",
       "      <td>-1.866747e+09</td>\n",
       "      <td>3.679714e+08</td>\n",
       "      <td>35</td>\n",
       "    </tr>\n",
       "    <tr>\n",
       "      <th>22</th>\n",
       "      <td>0.009654</td>\n",
       "      <td>0.001271</td>\n",
       "      <td>0.000992</td>\n",
       "      <td>0.000021</td>\n",
       "      <td>10</td>\n",
       "      <td>0.5</td>\n",
       "      <td>{'alpha': 10, 'l1_ratio': 0.5}</td>\n",
       "      <td>-1.260020e+09</td>\n",
       "      <td>-1.465135e+09</td>\n",
       "      <td>-1.813330e+09</td>\n",
       "      <td>-1.446697e+09</td>\n",
       "      <td>-8.989447e+08</td>\n",
       "      <td>-1.376825e+09</td>\n",
       "      <td>2.984058e+08</td>\n",
       "      <td>32</td>\n",
       "    </tr>\n",
       "    <tr>\n",
       "      <th>23</th>\n",
       "      <td>0.009223</td>\n",
       "      <td>0.001148</td>\n",
       "      <td>0.001191</td>\n",
       "      <td>0.000405</td>\n",
       "      <td>10</td>\n",
       "      <td>0.7</td>\n",
       "      <td>{'alpha': 10, 'l1_ratio': 0.7}</td>\n",
       "      <td>-1.019278e+09</td>\n",
       "      <td>-1.119702e+09</td>\n",
       "      <td>-1.445890e+09</td>\n",
       "      <td>-1.149938e+09</td>\n",
       "      <td>-6.787361e+08</td>\n",
       "      <td>-1.082709e+09</td>\n",
       "      <td>2.469843e+08</td>\n",
       "      <td>30</td>\n",
       "    </tr>\n",
       "    <tr>\n",
       "      <th>24</th>\n",
       "      <td>0.010122</td>\n",
       "      <td>0.001205</td>\n",
       "      <td>0.001051</td>\n",
       "      <td>0.000100</td>\n",
       "      <td>10</td>\n",
       "      <td>0.9</td>\n",
       "      <td>{'alpha': 10, 'l1_ratio': 0.9}</td>\n",
       "      <td>-7.332546e+08</td>\n",
       "      <td>-7.201223e+08</td>\n",
       "      <td>-9.587480e+08</td>\n",
       "      <td>-8.011487e+08</td>\n",
       "      <td>-4.609638e+08</td>\n",
       "      <td>-7.348475e+08</td>\n",
       "      <td>1.610956e+08</td>\n",
       "      <td>25</td>\n",
       "    </tr>\n",
       "    <tr>\n",
       "      <th>25</th>\n",
       "      <td>0.014771</td>\n",
       "      <td>0.002145</td>\n",
       "      <td>0.001121</td>\n",
       "      <td>0.000238</td>\n",
       "      <td>10</td>\n",
       "      <td>0.95</td>\n",
       "      <td>{'alpha': 10, 'l1_ratio': 0.95}</td>\n",
       "      <td>-6.508277e+08</td>\n",
       "      <td>-6.151924e+08</td>\n",
       "      <td>-7.962164e+08</td>\n",
       "      <td>-7.037693e+08</td>\n",
       "      <td>-4.196079e+08</td>\n",
       "      <td>-6.371227e+08</td>\n",
       "      <td>1.246868e+08</td>\n",
       "      <td>22</td>\n",
       "    </tr>\n",
       "    <tr>\n",
       "      <th>26</th>\n",
       "      <td>0.023894</td>\n",
       "      <td>0.003319</td>\n",
       "      <td>0.001304</td>\n",
       "      <td>0.000399</td>\n",
       "      <td>10</td>\n",
       "      <td>0.99</td>\n",
       "      <td>{'alpha': 10, 'l1_ratio': 0.99}</td>\n",
       "      <td>-5.956234e+08</td>\n",
       "      <td>-5.661204e+08</td>\n",
       "      <td>-6.614245e+08</td>\n",
       "      <td>-6.383662e+08</td>\n",
       "      <td>-4.266530e+08</td>\n",
       "      <td>-5.776375e+08</td>\n",
       "      <td>8.241442e+07</td>\n",
       "      <td>2</td>\n",
       "    </tr>\n",
       "    <tr>\n",
       "      <th>27</th>\n",
       "      <td>0.100023</td>\n",
       "      <td>0.009499</td>\n",
       "      <td>0.001711</td>\n",
       "      <td>0.000609</td>\n",
       "      <td>10</td>\n",
       "      <td>1</td>\n",
       "      <td>{'alpha': 10, 'l1_ratio': 1}</td>\n",
       "      <td>-6.075290e+08</td>\n",
       "      <td>-6.417142e+08</td>\n",
       "      <td>-6.732416e+08</td>\n",
       "      <td>-6.623485e+08</td>\n",
       "      <td>-4.900392e+08</td>\n",
       "      <td>-6.149745e+08</td>\n",
       "      <td>6.636058e+07</td>\n",
       "      <td>15</td>\n",
       "    </tr>\n",
       "    <tr>\n",
       "      <th>28</th>\n",
       "      <td>0.007126</td>\n",
       "      <td>0.001251</td>\n",
       "      <td>0.001001</td>\n",
       "      <td>0.000003</td>\n",
       "      <td>50</td>\n",
       "      <td>0.1</td>\n",
       "      <td>{'alpha': 50, 'l1_ratio': 0.1}</td>\n",
       "      <td>-3.414413e+09</td>\n",
       "      <td>-4.342471e+09</td>\n",
       "      <td>-4.667395e+09</td>\n",
       "      <td>-4.011814e+09</td>\n",
       "      <td>-3.069796e+09</td>\n",
       "      <td>-3.901178e+09</td>\n",
       "      <td>5.868909e+08</td>\n",
       "      <td>40</td>\n",
       "    </tr>\n",
       "    <tr>\n",
       "      <th>29</th>\n",
       "      <td>0.005453</td>\n",
       "      <td>0.000703</td>\n",
       "      <td>0.000791</td>\n",
       "      <td>0.000396</td>\n",
       "      <td>50</td>\n",
       "      <td>0.5</td>\n",
       "      <td>{'alpha': 50, 'l1_ratio': 0.5}</td>\n",
       "      <td>-2.722855e+09</td>\n",
       "      <td>-3.459288e+09</td>\n",
       "      <td>-3.795546e+09</td>\n",
       "      <td>-3.205707e+09</td>\n",
       "      <td>-2.367554e+09</td>\n",
       "      <td>-3.110190e+09</td>\n",
       "      <td>5.103415e+08</td>\n",
       "      <td>38</td>\n",
       "    </tr>\n",
       "    <tr>\n",
       "      <th>30</th>\n",
       "      <td>0.004522</td>\n",
       "      <td>0.000548</td>\n",
       "      <td>0.000992</td>\n",
       "      <td>0.000018</td>\n",
       "      <td>50</td>\n",
       "      <td>0.7</td>\n",
       "      <td>{'alpha': 50, 'l1_ratio': 0.7}</td>\n",
       "      <td>-2.147704e+09</td>\n",
       "      <td>-2.698829e+09</td>\n",
       "      <td>-3.046013e+09</td>\n",
       "      <td>-2.523849e+09</td>\n",
       "      <td>-1.783078e+09</td>\n",
       "      <td>-2.439895e+09</td>\n",
       "      <td>4.377805e+08</td>\n",
       "      <td>37</td>\n",
       "    </tr>\n",
       "    <tr>\n",
       "      <th>31</th>\n",
       "      <td>0.005917</td>\n",
       "      <td>0.000976</td>\n",
       "      <td>0.000800</td>\n",
       "      <td>0.000400</td>\n",
       "      <td>50</td>\n",
       "      <td>0.9</td>\n",
       "      <td>{'alpha': 50, 'l1_ratio': 0.9}</td>\n",
       "      <td>-1.262430e+09</td>\n",
       "      <td>-1.468609e+09</td>\n",
       "      <td>-1.817436e+09</td>\n",
       "      <td>-1.449627e+09</td>\n",
       "      <td>-9.015849e+08</td>\n",
       "      <td>-1.379937e+09</td>\n",
       "      <td>2.989159e+08</td>\n",
       "      <td>33</td>\n",
       "    </tr>\n",
       "    <tr>\n",
       "      <th>32</th>\n",
       "      <td>0.007141</td>\n",
       "      <td>0.001411</td>\n",
       "      <td>0.000603</td>\n",
       "      <td>0.000492</td>\n",
       "      <td>50</td>\n",
       "      <td>0.95</td>\n",
       "      <td>{'alpha': 50, 'l1_ratio': 0.95}</td>\n",
       "      <td>-9.549650e+08</td>\n",
       "      <td>-1.028093e+09</td>\n",
       "      <td>-1.343909e+09</td>\n",
       "      <td>-1.071140e+09</td>\n",
       "      <td>-6.246728e+08</td>\n",
       "      <td>-1.004556e+09</td>\n",
       "      <td>2.310490e+08</td>\n",
       "      <td>29</td>\n",
       "    </tr>\n",
       "    <tr>\n",
       "      <th>33</th>\n",
       "      <td>0.014063</td>\n",
       "      <td>0.003468</td>\n",
       "      <td>0.001312</td>\n",
       "      <td>0.000393</td>\n",
       "      <td>50</td>\n",
       "      <td>0.99</td>\n",
       "      <td>{'alpha': 50, 'l1_ratio': 0.99}</td>\n",
       "      <td>-6.525507e+08</td>\n",
       "      <td>-6.169188e+08</td>\n",
       "      <td>-7.986370e+08</td>\n",
       "      <td>-7.043325e+08</td>\n",
       "      <td>-4.181943e+08</td>\n",
       "      <td>-6.381267e+08</td>\n",
       "      <td>1.258371e+08</td>\n",
       "      <td>23</td>\n",
       "    </tr>\n",
       "    <tr>\n",
       "      <th>34</th>\n",
       "      <td>0.082479</td>\n",
       "      <td>0.007938</td>\n",
       "      <td>0.001079</td>\n",
       "      <td>0.000243</td>\n",
       "      <td>50</td>\n",
       "      <td>1</td>\n",
       "      <td>{'alpha': 50, 'l1_ratio': 1}</td>\n",
       "      <td>-5.864278e+08</td>\n",
       "      <td>-6.063883e+08</td>\n",
       "      <td>-6.549555e+08</td>\n",
       "      <td>-6.440497e+08</td>\n",
       "      <td>-4.639899e+08</td>\n",
       "      <td>-5.911623e+08</td>\n",
       "      <td>6.825499e+07</td>\n",
       "      <td>9</td>\n",
       "    </tr>\n",
       "    <tr>\n",
       "      <th>35</th>\n",
       "      <td>0.006819</td>\n",
       "      <td>0.001822</td>\n",
       "      <td>0.001315</td>\n",
       "      <td>0.000397</td>\n",
       "      <td>100</td>\n",
       "      <td>0.1</td>\n",
       "      <td>{'alpha': 100, 'l1_ratio': 0.1}</td>\n",
       "      <td>-4.117955e+09</td>\n",
       "      <td>-5.214222e+09</td>\n",
       "      <td>-5.530218e+09</td>\n",
       "      <td>-4.819266e+09</td>\n",
       "      <td>-3.782056e+09</td>\n",
       "      <td>-4.692743e+09</td>\n",
       "      <td>6.555982e+08</td>\n",
       "      <td>42</td>\n",
       "    </tr>\n",
       "    <tr>\n",
       "      <th>36</th>\n",
       "      <td>0.007174</td>\n",
       "      <td>0.000765</td>\n",
       "      <td>0.001172</td>\n",
       "      <td>0.000418</td>\n",
       "      <td>100</td>\n",
       "      <td>0.5</td>\n",
       "      <td>{'alpha': 100, 'l1_ratio': 0.5}</td>\n",
       "      <td>-3.535160e+09</td>\n",
       "      <td>-4.493855e+09</td>\n",
       "      <td>-4.817322e+09</td>\n",
       "      <td>-4.151329e+09</td>\n",
       "      <td>-3.192175e+09</td>\n",
       "      <td>-4.037968e+09</td>\n",
       "      <td>5.993760e+08</td>\n",
       "      <td>41</td>\n",
       "    </tr>\n",
       "    <tr>\n",
       "      <th>37</th>\n",
       "      <td>0.006573</td>\n",
       "      <td>0.000886</td>\n",
       "      <td>0.000990</td>\n",
       "      <td>0.000029</td>\n",
       "      <td>100</td>\n",
       "      <td>0.7</td>\n",
       "      <td>{'alpha': 100, 'l1_ratio': 0.7}</td>\n",
       "      <td>-2.942661e+09</td>\n",
       "      <td>-3.743339e+09</td>\n",
       "      <td>-4.076078e+09</td>\n",
       "      <td>-3.463472e+09</td>\n",
       "      <td>-2.590970e+09</td>\n",
       "      <td>-3.363304e+09</td>\n",
       "      <td>5.359006e+08</td>\n",
       "      <td>39</td>\n",
       "    </tr>\n",
       "    <tr>\n",
       "      <th>38</th>\n",
       "      <td>0.006717</td>\n",
       "      <td>0.000981</td>\n",
       "      <td>0.000932</td>\n",
       "      <td>0.000752</td>\n",
       "      <td>100</td>\n",
       "      <td>0.9</td>\n",
       "      <td>{'alpha': 100, 'l1_ratio': 0.9}</td>\n",
       "      <td>-1.760820e+09</td>\n",
       "      <td>-2.170595e+09</td>\n",
       "      <td>-2.524800e+09</td>\n",
       "      <td>-2.058447e+09</td>\n",
       "      <td>-1.392300e+09</td>\n",
       "      <td>-1.981392e+09</td>\n",
       "      <td>3.828081e+08</td>\n",
       "      <td>36</td>\n",
       "    </tr>\n",
       "    <tr>\n",
       "      <th>39</th>\n",
       "      <td>0.006800</td>\n",
       "      <td>0.002145</td>\n",
       "      <td>0.001183</td>\n",
       "      <td>0.000410</td>\n",
       "      <td>100</td>\n",
       "      <td>0.95</td>\n",
       "      <td>{'alpha': 100, 'l1_ratio': 0.95}</td>\n",
       "      <td>-1.265530e+09</td>\n",
       "      <td>-1.472944e+09</td>\n",
       "      <td>-1.822604e+09</td>\n",
       "      <td>-1.453297e+09</td>\n",
       "      <td>-9.048880e+08</td>\n",
       "      <td>-1.383853e+09</td>\n",
       "      <td>2.995563e+08</td>\n",
       "      <td>34</td>\n",
       "    </tr>\n",
       "    <tr>\n",
       "      <th>40</th>\n",
       "      <td>0.011736</td>\n",
       "      <td>0.002120</td>\n",
       "      <td>0.000803</td>\n",
       "      <td>0.000402</td>\n",
       "      <td>100</td>\n",
       "      <td>0.99</td>\n",
       "      <td>{'alpha': 100, 'l1_ratio': 0.99}</td>\n",
       "      <td>-7.375555e+08</td>\n",
       "      <td>-7.243627e+08</td>\n",
       "      <td>-9.655494e+08</td>\n",
       "      <td>-8.049070e+08</td>\n",
       "      <td>-4.632270e+08</td>\n",
       "      <td>-7.391203e+08</td>\n",
       "      <td>1.624410e+08</td>\n",
       "      <td>26</td>\n",
       "    </tr>\n",
       "    <tr>\n",
       "      <th>41</th>\n",
       "      <td>0.045080</td>\n",
       "      <td>0.003641</td>\n",
       "      <td>0.001003</td>\n",
       "      <td>0.000002</td>\n",
       "      <td>100</td>\n",
       "      <td>1</td>\n",
       "      <td>{'alpha': 100, 'l1_ratio': 1}</td>\n",
       "      <td>-5.775883e+08</td>\n",
       "      <td>-5.833901e+08</td>\n",
       "      <td>-6.348313e+08</td>\n",
       "      <td>-6.275639e+08</td>\n",
       "      <td>-4.329999e+08</td>\n",
       "      <td>-5.712747e+08</td>\n",
       "      <td>7.282100e+07</td>\n",
       "      <td>1</td>\n",
       "    </tr>\n",
       "  </tbody>\n",
       "</table>\n",
       "</div>"
      ],
      "text/plain": [
       "    mean_fit_time  std_fit_time  mean_score_time  std_score_time param_alpha  \\\n",
       "0        0.039603      0.008481         0.001194        0.000403         0.1   \n",
       "1        0.039464      0.003298         0.000602        0.000492         0.1   \n",
       "2        0.052247      0.005454         0.001252        0.000392         0.1   \n",
       "3        0.094377      0.014027         0.001353        0.000382         0.1   \n",
       "4        0.134510      0.010784         0.001487        0.000588         0.1   \n",
       "5        0.103601      0.007716         0.001495        0.000450         0.1   \n",
       "6        0.099689      0.010710         0.001204        0.000398         0.1   \n",
       "7        0.012429      0.001769         0.001204        0.000403           1   \n",
       "8        0.020371      0.003843         0.001067        0.000641           1   \n",
       "9        0.022178      0.003544         0.001465        0.000455           1   \n",
       "10       0.023457      0.003829         0.000586        0.000479           1   \n",
       "11       0.031940      0.004215         0.001115        0.000229           1   \n",
       "12       0.082239      0.011880         0.000810        0.000763           1   \n",
       "13       0.122113      0.022690         0.000928        0.000524           1   \n",
       "14       0.006120      0.000597         0.000697        0.000600           5   \n",
       "15       0.007715      0.001130         0.000915        0.000506           5   \n",
       "16       0.011685      0.002000         0.001195        0.000388           5   \n",
       "17       0.025415      0.007075         0.001387        0.000500           5   \n",
       "18       0.028293      0.004191         0.001396        0.000498           5   \n",
       "19       0.021130      0.001687         0.001206        0.000509           5   \n",
       "20       0.107850      0.015031         0.001084        0.000202           5   \n",
       "21       0.009208      0.001785         0.000999        0.000008          10   \n",
       "22       0.009654      0.001271         0.000992        0.000021          10   \n",
       "23       0.009223      0.001148         0.001191        0.000405          10   \n",
       "24       0.010122      0.001205         0.001051        0.000100          10   \n",
       "25       0.014771      0.002145         0.001121        0.000238          10   \n",
       "26       0.023894      0.003319         0.001304        0.000399          10   \n",
       "27       0.100023      0.009499         0.001711        0.000609          10   \n",
       "28       0.007126      0.001251         0.001001        0.000003          50   \n",
       "29       0.005453      0.000703         0.000791        0.000396          50   \n",
       "30       0.004522      0.000548         0.000992        0.000018          50   \n",
       "31       0.005917      0.000976         0.000800        0.000400          50   \n",
       "32       0.007141      0.001411         0.000603        0.000492          50   \n",
       "33       0.014063      0.003468         0.001312        0.000393          50   \n",
       "34       0.082479      0.007938         0.001079        0.000243          50   \n",
       "35       0.006819      0.001822         0.001315        0.000397         100   \n",
       "36       0.007174      0.000765         0.001172        0.000418         100   \n",
       "37       0.006573      0.000886         0.000990        0.000029         100   \n",
       "38       0.006717      0.000981         0.000932        0.000752         100   \n",
       "39       0.006800      0.002145         0.001183        0.000410         100   \n",
       "40       0.011736      0.002120         0.000803        0.000402         100   \n",
       "41       0.045080      0.003641         0.001003        0.000002         100   \n",
       "\n",
       "   param_l1_ratio                            params  split0_test_score  \\\n",
       "0             0.1   {'alpha': 0.1, 'l1_ratio': 0.1}      -5.963756e+08   \n",
       "1             0.5   {'alpha': 0.1, 'l1_ratio': 0.5}      -5.960070e+08   \n",
       "2             0.7   {'alpha': 0.1, 'l1_ratio': 0.7}      -5.969286e+08   \n",
       "3             0.9   {'alpha': 0.1, 'l1_ratio': 0.9}      -5.997202e+08   \n",
       "4            0.95  {'alpha': 0.1, 'l1_ratio': 0.95}      -6.018901e+08   \n",
       "5            0.99  {'alpha': 0.1, 'l1_ratio': 0.99}      -6.082375e+08   \n",
       "6               1     {'alpha': 0.1, 'l1_ratio': 1}      -6.244187e+08   \n",
       "7             0.1     {'alpha': 1, 'l1_ratio': 0.1}      -7.165825e+08   \n",
       "8             0.5     {'alpha': 1, 'l1_ratio': 0.5}      -6.504299e+08   \n",
       "9             0.7     {'alpha': 1, 'l1_ratio': 0.7}      -6.188666e+08   \n",
       "10            0.9     {'alpha': 1, 'l1_ratio': 0.9}      -5.966985e+08   \n",
       "11           0.95    {'alpha': 1, 'l1_ratio': 0.95}      -5.957648e+08   \n",
       "12           0.99    {'alpha': 1, 'l1_ratio': 0.99}      -5.994162e+08   \n",
       "13              1       {'alpha': 1, 'l1_ratio': 1}      -6.141177e+08   \n",
       "14            0.1     {'alpha': 5, 'l1_ratio': 0.1}      -1.202511e+09   \n",
       "15            0.5     {'alpha': 5, 'l1_ratio': 0.5}      -9.529945e+08   \n",
       "16            0.7     {'alpha': 5, 'l1_ratio': 0.7}      -8.108198e+08   \n",
       "17            0.9     {'alpha': 5, 'l1_ratio': 0.9}      -6.506028e+08   \n",
       "18           0.95    {'alpha': 5, 'l1_ratio': 0.95}      -6.118840e+08   \n",
       "19           0.99    {'alpha': 5, 'l1_ratio': 0.99}      -5.947252e+08   \n",
       "20              1       {'alpha': 5, 'l1_ratio': 1}      -6.102356e+08   \n",
       "21            0.1    {'alpha': 10, 'l1_ratio': 0.1}      -1.665245e+09   \n",
       "22            0.5    {'alpha': 10, 'l1_ratio': 0.5}      -1.260020e+09   \n",
       "23            0.7    {'alpha': 10, 'l1_ratio': 0.7}      -1.019278e+09   \n",
       "24            0.9    {'alpha': 10, 'l1_ratio': 0.9}      -7.332546e+08   \n",
       "25           0.95   {'alpha': 10, 'l1_ratio': 0.95}      -6.508277e+08   \n",
       "26           0.99   {'alpha': 10, 'l1_ratio': 0.99}      -5.956234e+08   \n",
       "27              1      {'alpha': 10, 'l1_ratio': 1}      -6.075290e+08   \n",
       "28            0.1    {'alpha': 50, 'l1_ratio': 0.1}      -3.414413e+09   \n",
       "29            0.5    {'alpha': 50, 'l1_ratio': 0.5}      -2.722855e+09   \n",
       "30            0.7    {'alpha': 50, 'l1_ratio': 0.7}      -2.147704e+09   \n",
       "31            0.9    {'alpha': 50, 'l1_ratio': 0.9}      -1.262430e+09   \n",
       "32           0.95   {'alpha': 50, 'l1_ratio': 0.95}      -9.549650e+08   \n",
       "33           0.99   {'alpha': 50, 'l1_ratio': 0.99}      -6.525507e+08   \n",
       "34              1      {'alpha': 50, 'l1_ratio': 1}      -5.864278e+08   \n",
       "35            0.1   {'alpha': 100, 'l1_ratio': 0.1}      -4.117955e+09   \n",
       "36            0.5   {'alpha': 100, 'l1_ratio': 0.5}      -3.535160e+09   \n",
       "37            0.7   {'alpha': 100, 'l1_ratio': 0.7}      -2.942661e+09   \n",
       "38            0.9   {'alpha': 100, 'l1_ratio': 0.9}      -1.760820e+09   \n",
       "39           0.95  {'alpha': 100, 'l1_ratio': 0.95}      -1.265530e+09   \n",
       "40           0.99  {'alpha': 100, 'l1_ratio': 0.99}      -7.375555e+08   \n",
       "41              1     {'alpha': 100, 'l1_ratio': 1}      -5.775883e+08   \n",
       "\n",
       "    split1_test_score  split2_test_score  split3_test_score  \\\n",
       "0       -5.687478e+08      -6.611206e+08      -6.389908e+08   \n",
       "1       -5.789099e+08      -6.583297e+08      -6.380228e+08   \n",
       "2       -5.893904e+08      -6.613690e+08      -6.394842e+08   \n",
       "3       -6.120865e+08      -6.702576e+08      -6.473580e+08   \n",
       "4       -6.249570e+08      -6.741790e+08      -6.540443e+08   \n",
       "5       -6.457712e+08      -6.810178e+08      -6.657778e+08   \n",
       "6       -6.568090e+08      -6.896688e+08      -6.711581e+08   \n",
       "7       -6.983861e+08      -9.276179e+08      -7.815557e+08   \n",
       "8       -6.148233e+08      -7.958577e+08      -7.036440e+08   \n",
       "9       -5.791203e+08      -7.250335e+08      -6.666042e+08   \n",
       "10      -5.673101e+08      -6.627570e+08      -6.395263e+08   \n",
       "11      -5.786660e+08      -6.580923e+08      -6.378866e+08   \n",
       "12      -6.115844e+08      -6.698816e+08      -6.470336e+08   \n",
       "13      -6.554914e+08      -6.867712e+08      -6.702771e+08   \n",
       "14      -1.382717e+09      -1.727660e+09      -1.375869e+09   \n",
       "15      -1.025029e+09      -1.339449e+09      -1.068313e+09   \n",
       "16      -8.252298e+08      -1.099406e+09      -8.945625e+08   \n",
       "17      -6.149973e+08      -7.960209e+08      -7.037082e+08   \n",
       "18      -5.723050e+08      -7.074411e+08      -6.580707e+08   \n",
       "19      -5.776127e+08      -6.571184e+08      -6.372867e+08   \n",
       "20      -6.491520e+08      -6.787828e+08      -6.667310e+08   \n",
       "21      -2.038118e+09      -2.391815e+09      -1.942441e+09   \n",
       "22      -1.465135e+09      -1.813330e+09      -1.446697e+09   \n",
       "23      -1.119702e+09      -1.445890e+09      -1.149938e+09   \n",
       "24      -7.201223e+08      -9.587480e+08      -8.011487e+08   \n",
       "25      -6.151924e+08      -7.962164e+08      -7.037693e+08   \n",
       "26      -5.661204e+08      -6.614245e+08      -6.383662e+08   \n",
       "27      -6.417142e+08      -6.732416e+08      -6.623485e+08   \n",
       "28      -4.342471e+09      -4.667395e+09      -4.011814e+09   \n",
       "29      -3.459288e+09      -3.795546e+09      -3.205707e+09   \n",
       "30      -2.698829e+09      -3.046013e+09      -2.523849e+09   \n",
       "31      -1.468609e+09      -1.817436e+09      -1.449627e+09   \n",
       "32      -1.028093e+09      -1.343909e+09      -1.071140e+09   \n",
       "33      -6.169188e+08      -7.986370e+08      -7.043325e+08   \n",
       "34      -6.063883e+08      -6.549555e+08      -6.440497e+08   \n",
       "35      -5.214222e+09      -5.530218e+09      -4.819266e+09   \n",
       "36      -4.493855e+09      -4.817322e+09      -4.151329e+09   \n",
       "37      -3.743339e+09      -4.076078e+09      -3.463472e+09   \n",
       "38      -2.170595e+09      -2.524800e+09      -2.058447e+09   \n",
       "39      -1.472944e+09      -1.822604e+09      -1.453297e+09   \n",
       "40      -7.243627e+08      -9.655494e+08      -8.049070e+08   \n",
       "41      -5.833901e+08      -6.348313e+08      -6.275639e+08   \n",
       "\n",
       "    split4_test_score  mean_test_score  std_test_score  rank_test_score  \n",
       "0       -4.317075e+08    -5.793884e+08    8.055313e+07                4  \n",
       "1       -4.446862e+08    -5.831911e+08    7.485789e+07                7  \n",
       "2       -4.554360e+08    -5.885216e+08    7.167585e+07                8  \n",
       "3       -4.747809e+08    -6.008407e+08    6.782531e+07               13  \n",
       "4       -4.827482e+08    -6.075637e+08    6.709945e+07               14  \n",
       "5       -4.904350e+08    -6.182479e+08    6.840032e+07               16  \n",
       "6       -4.925052e+08    -6.269120e+08    7.051435e+07               19  \n",
       "7       -4.513672e+08    -7.151019e+08    1.545424e+08               24  \n",
       "8       -4.200043e+08    -6.369518e+08    1.244480e+08               20  \n",
       "9       -4.133672e+08    -6.005984e+08    1.055381e+08               12  \n",
       "10      -4.291549e+08    -5.790894e+08    8.195373e+07                3  \n",
       "11      -4.444278e+08    -5.829675e+08    7.488040e+07                6  \n",
       "12      -4.744718e+08    -6.004775e+08    6.780314e+07               11  \n",
       "13      -4.921693e+08    -6.237653e+08    7.007172e+07               18  \n",
       "14      -8.446463e+08    -1.306681e+09    2.870956e+08               31  \n",
       "15      -6.223161e+08    -1.001620e+09    2.303738e+08               28  \n",
       "16      -5.120362e+08    -8.284109e+08    1.887999e+08               27  \n",
       "17      -4.198241e+08    -6.370307e+08    1.245569e+08               21  \n",
       "18      -4.135143e+08    -5.926430e+08    1.003298e+08               10  \n",
       "19      -4.432514e+08    -5.819989e+08    7.500901e+07                5  \n",
       "20      -4.912295e+08    -6.192262e+08    6.806357e+07               17  \n",
       "21      -1.296118e+09    -1.866747e+09    3.679714e+08               35  \n",
       "22      -8.989447e+08    -1.376825e+09    2.984058e+08               32  \n",
       "23      -6.787361e+08    -1.082709e+09    2.469843e+08               30  \n",
       "24      -4.609638e+08    -7.348475e+08    1.610956e+08               25  \n",
       "25      -4.196079e+08    -6.371227e+08    1.246868e+08               22  \n",
       "26      -4.266530e+08    -5.776375e+08    8.241442e+07                2  \n",
       "27      -4.900392e+08    -6.149745e+08    6.636058e+07               15  \n",
       "28      -3.069796e+09    -3.901178e+09    5.868909e+08               40  \n",
       "29      -2.367554e+09    -3.110190e+09    5.103415e+08               38  \n",
       "30      -1.783078e+09    -2.439895e+09    4.377805e+08               37  \n",
       "31      -9.015849e+08    -1.379937e+09    2.989159e+08               33  \n",
       "32      -6.246728e+08    -1.004556e+09    2.310490e+08               29  \n",
       "33      -4.181943e+08    -6.381267e+08    1.258371e+08               23  \n",
       "34      -4.639899e+08    -5.911623e+08    6.825499e+07                9  \n",
       "35      -3.782056e+09    -4.692743e+09    6.555982e+08               42  \n",
       "36      -3.192175e+09    -4.037968e+09    5.993760e+08               41  \n",
       "37      -2.590970e+09    -3.363304e+09    5.359006e+08               39  \n",
       "38      -1.392300e+09    -1.981392e+09    3.828081e+08               36  \n",
       "39      -9.048880e+08    -1.383853e+09    2.995563e+08               34  \n",
       "40      -4.632270e+08    -7.391203e+08    1.624410e+08               26  \n",
       "41      -4.329999e+08    -5.712747e+08    7.282100e+07                1  "
      ]
     },
     "execution_count": 88,
     "metadata": {},
     "output_type": "execute_result"
    }
   ],
   "source": [
    "pd.DataFrame(grid_model.cv_results_)"
   ]
  },
  {
   "cell_type": "code",
   "execution_count": null,
   "id": "af7f44c0",
   "metadata": {},
   "outputs": [],
   "source": []
  },
  {
   "cell_type": "code",
   "execution_count": null,
   "id": "4e673484",
   "metadata": {},
   "outputs": [],
   "source": []
  },
  {
   "cell_type": "code",
   "execution_count": 89,
   "id": "8c9aa2c2",
   "metadata": {
    "ExecuteTime": {
     "end_time": "2024-03-16T10:13:50.101523Z",
     "start_time": "2024-03-16T10:13:50.091227Z"
    }
   },
   "outputs": [],
   "source": [
    "from sklearn.linear_model import LassoCV"
   ]
  },
  {
   "cell_type": "code",
   "execution_count": 90,
   "id": "168abfe6",
   "metadata": {
    "ExecuteTime": {
     "end_time": "2024-03-16T10:13:58.867873Z",
     "start_time": "2024-03-16T10:13:58.858441Z"
    }
   },
   "outputs": [],
   "source": [
    "lasso_cv_model = LassoCV(eps=0.1,n_alphas=100,cv=5)"
   ]
  },
  {
   "cell_type": "code",
   "execution_count": 91,
   "id": "468e45a6",
   "metadata": {
    "ExecuteTime": {
     "end_time": "2024-03-16T10:14:19.871451Z",
     "start_time": "2024-03-16T10:14:19.599019Z"
    }
   },
   "outputs": [
    {
     "data": {
      "text/plain": [
       "LassoCV(cv=5, eps=0.1)"
      ]
     },
     "execution_count": 91,
     "metadata": {},
     "output_type": "execute_result"
    }
   ],
   "source": [
    "lasso_cv_model.fit(X_train,y_train)"
   ]
  },
  {
   "cell_type": "code",
   "execution_count": 92,
   "id": "5cf3087c",
   "metadata": {
    "ExecuteTime": {
     "end_time": "2024-03-16T10:14:27.636343Z",
     "start_time": "2024-03-16T10:14:27.618317Z"
    }
   },
   "outputs": [
    {
     "data": {
      "text/plain": [
       "6201.4654077976065"
      ]
     },
     "execution_count": 92,
     "metadata": {},
     "output_type": "execute_result"
    }
   ],
   "source": [
    "lasso_cv_model.alpha_"
   ]
  },
  {
   "cell_type": "code",
   "execution_count": 93,
   "id": "3b2728af",
   "metadata": {
    "ExecuteTime": {
     "end_time": "2024-03-16T10:14:41.797962Z",
     "start_time": "2024-03-16T10:14:41.789432Z"
    }
   },
   "outputs": [],
   "source": [
    "test_predictions = lasso_cv_model.predict(X_test)"
   ]
  },
  {
   "cell_type": "code",
   "execution_count": 94,
   "id": "091efe01",
   "metadata": {
    "ExecuteTime": {
     "end_time": "2024-03-16T10:14:52.238373Z",
     "start_time": "2024-03-16T10:14:52.223778Z"
    }
   },
   "outputs": [],
   "source": [
    "MAE = mean_absolute_error(y_test,test_predictions)\n",
    "MSE = mean_squared_error(y_test,test_predictions)\n",
    "RMSE = np.sqrt(MSE)"
   ]
  },
  {
   "cell_type": "code",
   "execution_count": 95,
   "id": "1e288042",
   "metadata": {
    "ExecuteTime": {
     "end_time": "2024-03-16T10:14:55.899422Z",
     "start_time": "2024-03-16T10:14:55.888860Z"
    }
   },
   "outputs": [
    {
     "data": {
      "text/plain": [
       "21079.173375929695"
      ]
     },
     "execution_count": 95,
     "metadata": {},
     "output_type": "execute_result"
    }
   ],
   "source": [
    "MAE"
   ]
  },
  {
   "cell_type": "code",
   "execution_count": 96,
   "id": "58912b19",
   "metadata": {
    "ExecuteTime": {
     "end_time": "2024-03-16T10:15:01.011194Z",
     "start_time": "2024-03-16T10:15:00.992001Z"
    }
   },
   "outputs": [
    {
     "data": {
      "text/plain": [
       "918114304.8873705"
      ]
     },
     "execution_count": 96,
     "metadata": {},
     "output_type": "execute_result"
    }
   ],
   "source": [
    "MSE"
   ]
  },
  {
   "cell_type": "code",
   "execution_count": 97,
   "id": "13fcaa6a",
   "metadata": {
    "ExecuteTime": {
     "end_time": "2024-03-16T10:15:08.255265Z",
     "start_time": "2024-03-16T10:15:08.237959Z"
    }
   },
   "outputs": [
    {
     "data": {
      "text/plain": [
       "30300.401068094303"
      ]
     },
     "execution_count": 97,
     "metadata": {},
     "output_type": "execute_result"
    }
   ],
   "source": [
    "RMSE"
   ]
  },
  {
   "cell_type": "code",
   "execution_count": 98,
   "id": "54726844",
   "metadata": {
    "ExecuteTime": {
     "end_time": "2024-03-16T10:15:23.587741Z",
     "start_time": "2024-03-16T10:15:23.575260Z"
    }
   },
   "outputs": [
    {
     "data": {
      "text/plain": [
       "array([  962.26072154,   999.3999947 , 24734.31862101,     0.        ,\n",
       "        2313.44918738,  1743.18647069,  2054.29279187,  7033.21595714,\n",
       "           0.        ,    -0.        ,  9439.67013952,     0.        ,\n",
       "           0.        ,    -0.        , 21396.47441921,     0.        ,\n",
       "          -0.        ,     0.        ,     0.        ,    -0.        ,\n",
       "          -0.        ,     0.        ,     0.        ,     0.        ,\n",
       "        2650.8511972 ,  4056.55710078,     0.        ,     0.        ,\n",
       "          -0.        ,     0.        ,     0.        ,     0.        ,\n",
       "           0.        ,    -0.        ,     0.        ,    -0.        ,\n",
       "           0.        ,     0.        ,    -0.        ,     0.        ,\n",
       "          -0.        ,     0.        ,     0.        ,    -0.        ,\n",
       "          -0.        ,     0.        ,     0.        ,    -0.        ,\n",
       "          -0.        ,     0.        ,    -0.        ,    -0.        ,\n",
       "          -0.        ,     0.        ,     0.        ,    -0.        ,\n",
       "          -0.        ,     0.        ,     0.        ,    -0.        ,\n",
       "           0.        ,    -0.        ,     0.        ,    -0.        ,\n",
       "          -0.        ,    -0.        ,    -0.        ,    -0.        ,\n",
       "          -0.        ,     0.        ,  3462.52998616,    -0.        ,\n",
       "          -0.        ,    -0.        ,    -0.        ,     0.        ,\n",
       "           0.        ,     0.        ,     0.        ,    -0.        ,\n",
       "           0.        ,    -0.        ,     0.        ,    -0.        ,\n",
       "          -0.        ,    -0.        ,    -0.        ,    -0.        ,\n",
       "           0.        ,     0.        ,     0.        ,     0.        ,\n",
       "          -0.        ,     0.        ,    -0.        ,    -0.        ,\n",
       "          -0.        ,    -0.        ,    -0.        ,     0.        ,\n",
       "          -0.        ,    -0.        ,     0.        ,    -0.        ,\n",
       "          -0.        ,    -0.        ,     0.        ,     0.        ,\n",
       "          -0.        ,     0.        ,     0.        ,     0.        ,\n",
       "           0.        ,     0.        ,    -0.        ,     0.        ,\n",
       "           0.        ,    -0.        ,     0.        ,    -0.        ,\n",
       "           0.        ,    -0.        ,    -0.        ,    -0.        ,\n",
       "           0.        ,    -0.        ,     0.        ,     0.        ,\n",
       "           0.        ,    -0.        ,    -0.        ,     0.        ,\n",
       "          -0.        ,     0.        ,    -0.        ,     0.        ,\n",
       "          -0.        ,    -0.        ,    -0.        ,     0.        ,\n",
       "          -0.        ,     0.        ,    -0.        ,     0.        ,\n",
       "          -0.        ,    -0.        ,    -0.        ,    -0.        ,\n",
       "           0.        ,    -0.        ,     0.        , -2244.21060105,\n",
       "          -0.        ,     0.        ,     0.        ,     0.        ,\n",
       "          -0.        ,     0.        ,     0.        ,    -0.        ,\n",
       "          -0.        ,    -0.        ,    -0.        ,     0.        ,\n",
       "          -0.        ,     0.        ,     0.        ,    -0.        ,\n",
       "           0.        ,  2665.36348913,     0.        ,    -0.        ,\n",
       "           0.        ,    -0.        ,     0.        ,    -0.        ,\n",
       "           0.        ,    -0.        ,    -0.        ,    -0.        ,\n",
       "           0.        ,    -0.        ,     0.        ,    -0.        ,\n",
       "          -0.        ,     0.        ,    -0.        ,    -0.        ,\n",
       "           0.        ,     0.        ,    -0.        ,    -0.        ,\n",
       "           0.        ,    -0.        ,     0.        ,    -0.        ,\n",
       "          -0.        ,    -0.        ,     0.        ,    -0.        ,\n",
       "           0.        ,     0.        ,  -308.98633174,    -0.        ,\n",
       "          -0.        ,    -0.        ,    -0.        ,     0.        ,\n",
       "          -0.        ,     0.        ,    -0.        ,     0.        ,\n",
       "          -0.        ,    -0.        ,     0.        ,     0.        ,\n",
       "          -0.        ,     0.        ,    -0.        ,    -0.        ,\n",
       "          -0.        ,    -0.        ,    -0.        ,    -0.        ,\n",
       "          -0.        ,     0.        ,    -0.        ,    -0.        ,\n",
       "           0.        ,    -0.        ,     0.        ,    -0.        ,\n",
       "          -0.        ,     0.        ,    -0.        ,     0.        ,\n",
       "           0.        ,     0.        ,    -0.        ,     0.        ,\n",
       "           0.        ,  2407.52647543,     0.        ,    -0.        ,\n",
       "          -0.        ,    -0.        ,    -0.        ,    -0.        ,\n",
       "        1834.79573511])"
      ]
     },
     "execution_count": 98,
     "metadata": {},
     "output_type": "execute_result"
    }
   ],
   "source": [
    "lasso_cv_model.coef_"
   ]
  },
  {
   "cell_type": "code",
   "execution_count": null,
   "id": "606cd9d7",
   "metadata": {},
   "outputs": [],
   "source": []
  },
  {
   "cell_type": "code",
   "execution_count": 99,
   "id": "d9ed296b",
   "metadata": {
    "ExecuteTime": {
     "end_time": "2024-03-16T10:15:39.752056Z",
     "start_time": "2024-03-16T10:15:39.746427Z"
    }
   },
   "outputs": [],
   "source": [
    "from sklearn.linear_model import ElasticNetCV"
   ]
  },
  {
   "cell_type": "code",
   "execution_count": 100,
   "id": "5cb558b7",
   "metadata": {
    "ExecuteTime": {
     "end_time": "2024-03-16T10:15:46.376601Z",
     "start_time": "2024-03-16T10:15:46.368947Z"
    }
   },
   "outputs": [],
   "source": [
    "elastic_model = ElasticNetCV(l1_ratio=[.1, .5, .7,.9, .95, .99, 1],tol=0.01)"
   ]
  },
  {
   "cell_type": "code",
   "execution_count": 101,
   "id": "a73ba024",
   "metadata": {
    "ExecuteTime": {
     "end_time": "2024-03-16T10:15:56.089806Z",
     "start_time": "2024-03-16T10:15:54.714236Z"
    }
   },
   "outputs": [
    {
     "data": {
      "text/plain": [
       "ElasticNetCV(l1_ratio=[0.1, 0.5, 0.7, 0.9, 0.95, 0.99, 1], tol=0.01)"
      ]
     },
     "execution_count": 101,
     "metadata": {},
     "output_type": "execute_result"
    }
   ],
   "source": [
    "elastic_model.fit(X_train,y_train)"
   ]
  },
  {
   "cell_type": "code",
   "execution_count": 102,
   "id": "49a99b91",
   "metadata": {
    "ExecuteTime": {
     "end_time": "2024-03-16T10:16:03.262238Z",
     "start_time": "2024-03-16T10:16:03.240860Z"
    }
   },
   "outputs": [
    {
     "data": {
      "text/plain": [
       "1.0"
      ]
     },
     "execution_count": 102,
     "metadata": {},
     "output_type": "execute_result"
    }
   ],
   "source": [
    "elastic_model.l1_ratio_"
   ]
  },
  {
   "cell_type": "code",
   "execution_count": 103,
   "id": "5b6bc6a5",
   "metadata": {
    "ExecuteTime": {
     "end_time": "2024-03-16T10:16:10.983897Z",
     "start_time": "2024-03-16T10:16:10.975361Z"
    }
   },
   "outputs": [],
   "source": [
    "test_predictions = elastic_model.predict(X_test)"
   ]
  },
  {
   "cell_type": "code",
   "execution_count": 104,
   "id": "8b839d1b",
   "metadata": {
    "ExecuteTime": {
     "end_time": "2024-03-16T10:16:17.347709Z",
     "start_time": "2024-03-16T10:16:17.333154Z"
    }
   },
   "outputs": [],
   "source": [
    "MAE = mean_absolute_error(y_test,test_predictions)\n",
    "MSE = mean_squared_error(y_test,test_predictions)\n",
    "RMSE = np.sqrt(MSE)"
   ]
  },
  {
   "cell_type": "code",
   "execution_count": 105,
   "id": "6946e6cb",
   "metadata": {
    "ExecuteTime": {
     "end_time": "2024-03-16T10:16:27.292329Z",
     "start_time": "2024-03-16T10:16:27.279287Z"
    }
   },
   "outputs": [
    {
     "data": {
      "text/plain": [
       "15247.529182294396"
      ]
     },
     "execution_count": 105,
     "metadata": {},
     "output_type": "execute_result"
    }
   ],
   "source": [
    "MAE"
   ]
  },
  {
   "cell_type": "code",
   "execution_count": 106,
   "id": "eabf1fc8",
   "metadata": {
    "ExecuteTime": {
     "end_time": "2024-03-16T10:16:31.569715Z",
     "start_time": "2024-03-16T10:16:31.549970Z"
    }
   },
   "outputs": [
    {
     "data": {
      "text/plain": [
       "22497.66693778211"
      ]
     },
     "execution_count": 106,
     "metadata": {},
     "output_type": "execute_result"
    }
   ],
   "source": [
    "RMSE"
   ]
  },
  {
   "cell_type": "code",
   "execution_count": 107,
   "id": "0b3a3afe",
   "metadata": {
    "ExecuteTime": {
     "end_time": "2024-03-16T10:16:42.688679Z",
     "start_time": "2024-03-16T10:16:42.668720Z"
    }
   },
   "outputs": [
    {
     "data": {
      "text/plain": [
       "array([ 1.24672709e+03,  4.78887032e+03,  1.06448896e+04,  6.19782145e+03,\n",
       "        8.94345558e+03,  1.89726407e+03,  3.80680407e+03,  6.95762545e+03,\n",
       "        0.00000000e+00, -0.00000000e+00,  8.41937269e+03,  7.86845129e+03,\n",
       "        1.03083887e+04, -5.54735057e+02,  1.42858363e+04,  0.00000000e+00,\n",
       "       -1.46152760e+03,  6.43731590e+02,  2.55258221e+02, -3.70390573e+03,\n",
       "       -3.69219348e+03,  2.91193262e+03,  1.14556822e+03,  2.74997671e+02,\n",
       "        2.48311247e+03,  3.84473029e+03,  1.52853638e+03,  1.81359797e+03,\n",
       "       -2.77108477e+02,  1.56627245e+02,  9.88785773e+02,  1.03434472e+03,\n",
       "       -0.00000000e+00, -5.35838694e+02,  0.00000000e+00, -1.34372606e+03,\n",
       "        2.45591190e+03,  0.00000000e+00, -0.00000000e+00,  0.00000000e+00,\n",
       "       -1.06620516e+03,  3.11668033e+03,  0.00000000e+00,  0.00000000e+00,\n",
       "       -0.00000000e+00,  0.00000000e+00, -7.00126511e+02,  0.00000000e+00,\n",
       "       -1.71341505e+02,  1.74528946e+03, -7.50686893e+02, -9.58679995e+02,\n",
       "       -0.00000000e+00,  0.00000000e+00, -1.16624395e+03, -0.00000000e+00,\n",
       "        0.00000000e+00,  9.87686729e+02,  0.00000000e+00, -0.00000000e+00,\n",
       "        2.41184933e+03, -6.14656461e+02,  0.00000000e+00,  0.00000000e+00,\n",
       "        0.00000000e+00, -1.47751876e+03, -1.37188930e+03,  4.23069746e+02,\n",
       "       -4.97702499e+02,  4.98084369e+03,  6.09061131e+03, -1.23706249e+03,\n",
       "       -0.00000000e+00, -0.00000000e+00,  4.38104781e+02,  0.00000000e+00,\n",
       "        5.92127303e+03, -3.16443133e+02,  3.52095308e+02, -0.00000000e+00,\n",
       "        2.99327917e+03, -3.16336046e+02,  3.59959480e+02, -1.24162648e+03,\n",
       "        0.00000000e+00, -0.00000000e+00,  4.09782132e+02, -0.00000000e+00,\n",
       "       -0.00000000e+00,  6.59546281e+02,  0.00000000e+00,  0.00000000e+00,\n",
       "       -0.00000000e+00,  1.38141607e+02, -0.00000000e+00, -8.48405662e+02,\n",
       "       -2.72750808e+03, -2.52754221e+03,  9.43011321e+01, -0.00000000e+00,\n",
       "       -8.24570255e+02,  0.00000000e+00,  0.00000000e+00, -0.00000000e+00,\n",
       "        0.00000000e+00, -6.62191324e+02,  5.06749810e+02,  0.00000000e+00,\n",
       "        0.00000000e+00,  4.95622824e+02,  7.26325649e+02,  0.00000000e+00,\n",
       "        0.00000000e+00, -0.00000000e+00, -0.00000000e+00,  9.23009893e+02,\n",
       "        0.00000000e+00, -6.27005166e+02,  2.26108932e+03, -2.24603836e+02,\n",
       "        0.00000000e+00, -3.10085297e+02, -0.00000000e+00,  3.82760310e+02,\n",
       "        0.00000000e+00, -1.52501769e+02, -0.00000000e+00,  6.24543096e+02,\n",
       "        0.00000000e+00, -0.00000000e+00, -0.00000000e+00,  0.00000000e+00,\n",
       "        0.00000000e+00,  4.52680183e+02, -5.56852866e+00,  6.33140413e+02,\n",
       "       -0.00000000e+00, -2.83395153e+02,  0.00000000e+00, -8.82826268e+02,\n",
       "       -5.42910715e+02, -8.60193898e+01,  0.00000000e+00,  0.00000000e+00,\n",
       "        0.00000000e+00, -8.26982747e+02, -1.16550927e+03,  5.99939408e+02,\n",
       "        8.80110150e+02, -0.00000000e+00, -6.15049123e+03, -7.55753176e+03,\n",
       "        0.00000000e+00, -0.00000000e+00,  0.00000000e+00,  0.00000000e+00,\n",
       "       -0.00000000e+00,  4.75631517e+02,  0.00000000e+00, -0.00000000e+00,\n",
       "       -8.26688799e+02, -9.00731265e+02, -8.02384973e+03,  0.00000000e+00,\n",
       "       -6.46933192e+03, -0.00000000e+00,  1.80375148e+01,  0.00000000e+00,\n",
       "        9.78016463e+02,  5.85545470e+03, -0.00000000e+00, -1.81104098e+03,\n",
       "        0.00000000e+00, -0.00000000e+00,  1.80578314e+03, -1.13421789e+02,\n",
       "        3.20501275e+01, -4.09517396e+02,  0.00000000e+00, -7.83991681e+02,\n",
       "        1.20574143e+03, -0.00000000e+00,  0.00000000e+00,  0.00000000e+00,\n",
       "       -1.18777676e+02,  0.00000000e+00, -6.50198077e+02, -0.00000000e+00,\n",
       "        0.00000000e+00,  0.00000000e+00, -0.00000000e+00, -5.52720419e+02,\n",
       "        0.00000000e+00, -8.55050293e+02,  0.00000000e+00,  0.00000000e+00,\n",
       "       -0.00000000e+00, -0.00000000e+00, -1.82754712e+02, -1.65523409e+03,\n",
       "       -8.13993549e+03,  0.00000000e+00, -7.33575712e+03, -3.23198336e+01,\n",
       "       -0.00000000e+00,  6.12087574e+02, -2.09503752e+02,  0.00000000e+00,\n",
       "       -1.76161891e+03,  3.51082223e+03, -2.23012831e+02,  5.95345095e+02,\n",
       "       -0.00000000e+00,  0.00000000e+00,  0.00000000e+00, -0.00000000e+00,\n",
       "       -1.26642826e+03,  8.42898000e+02, -1.06988578e+01,  0.00000000e+00,\n",
       "        4.02224677e+02,  2.98500825e-12, -1.18716717e+03, -0.00000000e+00,\n",
       "       -0.00000000e+00,  2.51597760e+02,  7.02026885e+01, -0.00000000e+00,\n",
       "       -0.00000000e+00, -6.63180576e+01, -0.00000000e+00,  4.63455153e+02,\n",
       "        0.00000000e+00, -0.00000000e+00, -2.97174131e+02,  0.00000000e+00,\n",
       "        7.62429667e+02,  7.51898457e+02, -0.00000000e+00,  1.80380123e+02,\n",
       "        0.00000000e+00,  0.00000000e+00,  1.07883982e+02, -0.00000000e+00,\n",
       "        3.46449332e+02, -1.02661270e+02, -0.00000000e+00,  1.96753329e+03,\n",
       "        6.41647538e+03])"
      ]
     },
     "execution_count": 107,
     "metadata": {},
     "output_type": "execute_result"
    }
   ],
   "source": [
    "elastic_model.coef_"
   ]
  },
  {
   "cell_type": "code",
   "execution_count": 108,
   "id": "0a50e19f",
   "metadata": {
    "ExecuteTime": {
     "end_time": "2024-03-16T10:18:04.169748Z",
     "start_time": "2024-03-16T10:18:04.148139Z"
    }
   },
   "outputs": [],
   "source": [
    "test_residuals = y_test - test_predictions"
   ]
  },
  {
   "cell_type": "code",
   "execution_count": 109,
   "id": "800b05df",
   "metadata": {
    "ExecuteTime": {
     "end_time": "2024-03-16T10:18:23.720585Z",
     "start_time": "2024-03-16T10:18:23.497443Z"
    }
   },
   "outputs": [
    {
     "data": {
      "image/png": "[encoded data removed]",
      "text/plain": [
       "<Figure size 432x288 with 1 Axes>"
      ]
     },
     "metadata": {
      "needs_background": "light"
     },
     "output_type": "display_data"
    }
   ],
   "source": [
    "sns.scatterplot(x=y_test, y=test_residuals)\n",
    "plt.axhline(y=0, color='red', ls='--');"
   ]
  },
  {
   "cell_type": "code",
   "execution_count": null,
   "id": "fb8ef237",
   "metadata": {},
   "outputs": [],
   "source": []
  }
 ],
 "metadata": {
  "kernelspec": {
   "display_name": "Python 3 (ipykernel)",
   "language": "python",
   "name": "python3"
  },
  "language_info": {
   "codemirror_mode": {
    "name": "ipython",
    "version": 3
   },
   "file_extension": ".py",
   "mimetype": "text/x-python",
   "name": "python",
   "nbconvert_exporter": "python",
   "pygments_lexer": "ipython3",
   "version": "3.9.12"
  }
 },
 "nbformat": 4,
 "nbformat_minor": 5
}
