{
 "cells": [
  {
   "cell_type": "code",
   "execution_count": 1,
   "id": "a1d686c8",
   "metadata": {
    "ExecuteTime": {
     "end_time": "2024-03-17T07:17:46.924481Z",
     "start_time": "2024-03-17T07:17:42.312266Z"
    }
   },
   "outputs": [],
   "source": [
    "import numpy as np\n",
    "import pandas as pd\n",
    "import matplotlib.pyplot as plt\n",
    "import seaborn as sns"
   ]
  },
  {
   "cell_type": "code",
   "execution_count": 2,
   "id": "1bd76aba",
   "metadata": {
    "ExecuteTime": {
     "end_time": "2024-03-17T07:17:47.002086Z",
     "start_time": "2024-03-17T07:17:46.931113Z"
    }
   },
   "outputs": [],
   "source": [
    "df = pd.read_csv('cleaned_df.csv')"
   ]
  },
  {
   "cell_type": "code",
   "execution_count": 3,
   "id": "053a4ae1",
   "metadata": {
    "ExecuteTime": {
     "end_time": "2024-03-17T07:17:47.049180Z",
     "start_time": "2024-03-17T07:17:47.005624Z"
    }
   },
   "outputs": [
    {
     "name": "stdout",
     "output_type": "stream",
     "text": [
      "<class 'pandas.core.frame.DataFrame'>\n",
      "RangeIndex: 2895 entries, 0 to 2894\n",
      "Data columns (total 76 columns):\n",
      " #   Column         Non-Null Count  Dtype  \n",
      "---  ------         --------------  -----  \n",
      " 0   MSSubClass     2895 non-null   int64  \n",
      " 1   MSZoning       2895 non-null   object \n",
      " 2   LotFrontage    2895 non-null   float64\n",
      " 3   LotArea        2895 non-null   int64  \n",
      " 4   Street         2895 non-null   object \n",
      " 5   LotShape       2895 non-null   object \n",
      " 6   LandContour    2895 non-null   object \n",
      " 7   Utilities      2895 non-null   object \n",
      " 8   LotConfig      2895 non-null   object \n",
      " 9   LandSlope      2895 non-null   object \n",
      " 10  Neighborhood   2895 non-null   object \n",
      " 11  Condition1     2895 non-null   object \n",
      " 12  Condition2     2895 non-null   object \n",
      " 13  BldgType       2895 non-null   object \n",
      " 14  HouseStyle     2895 non-null   object \n",
      " 15  OverallQual    2895 non-null   int64  \n",
      " 16  OverallCond    2895 non-null   int64  \n",
      " 17  YearBuilt      2895 non-null   int64  \n",
      " 18  YearRemodAdd   2895 non-null   int64  \n",
      " 19  RoofStyle      2895 non-null   object \n",
      " 20  RoofMatl       2895 non-null   object \n",
      " 21  Exterior1st    2895 non-null   object \n",
      " 22  Exterior2nd    2895 non-null   object \n",
      " 23  MasVnrType     2895 non-null   object \n",
      " 24  MasVnrArea     2895 non-null   float64\n",
      " 25  ExterQual      2895 non-null   object \n",
      " 26  ExterCond      2895 non-null   object \n",
      " 27  Foundation     2895 non-null   object \n",
      " 28  BsmtQual       2895 non-null   object \n",
      " 29  BsmtCond       2895 non-null   object \n",
      " 30  BsmtExposure   2895 non-null   object \n",
      " 31  BsmtFinType1   2895 non-null   object \n",
      " 32  BsmtFinSF1     2895 non-null   float64\n",
      " 33  BsmtFinType2   2895 non-null   object \n",
      " 34  BsmtFinSF2     2895 non-null   float64\n",
      " 35  BsmtUnfSF      2895 non-null   float64\n",
      " 36  TotalBsmtSF    2895 non-null   float64\n",
      " 37  Heating        2895 non-null   object \n",
      " 38  HeatingQC      2895 non-null   object \n",
      " 39  CentralAir     2895 non-null   object \n",
      " 40  Electrical     2895 non-null   object \n",
      " 41  1stFlrSF       2895 non-null   int64  \n",
      " 42  2ndFlrSF       2895 non-null   int64  \n",
      " 43  LowQualFinSF   2895 non-null   int64  \n",
      " 44  GrLivArea      2895 non-null   int64  \n",
      " 45  BsmtFullBath   2895 non-null   float64\n",
      " 46  BsmtHalfBath   2895 non-null   float64\n",
      " 47  FullBath       2895 non-null   int64  \n",
      " 48  HalfBath       2895 non-null   int64  \n",
      " 49  BedroomAbvGr   2895 non-null   int64  \n",
      " 50  KitchenAbvGr   2895 non-null   int64  \n",
      " 51  KitchenQual    2895 non-null   object \n",
      " 52  TotRmsAbvGrd   2895 non-null   int64  \n",
      " 53  Functional     2895 non-null   object \n",
      " 54  Fireplaces     2895 non-null   int64  \n",
      " 55  FireplaceQu    2895 non-null   object \n",
      " 56  GarageType     2895 non-null   object \n",
      " 57  GarageYrBlt    2895 non-null   float64\n",
      " 58  GarageFinish   2895 non-null   object \n",
      " 59  GarageCars     2895 non-null   float64\n",
      " 60  GarageArea     2895 non-null   float64\n",
      " 61  GarageQual     2895 non-null   object \n",
      " 62  GarageCond     2895 non-null   object \n",
      " 63  PavedDrive     2895 non-null   object \n",
      " 64  WoodDeckSF     2895 non-null   int64  \n",
      " 65  OpenPorchSF    2895 non-null   int64  \n",
      " 66  EnclosedPorch  2895 non-null   int64  \n",
      " 67  3SsnPorch      2895 non-null   int64  \n",
      " 68  ScreenPorch    2895 non-null   int64  \n",
      " 69  PoolArea       2895 non-null   int64  \n",
      " 70  MiscVal        2895 non-null   int64  \n",
      " 71  MoSold         2895 non-null   int64  \n",
      " 72  YrSold         2895 non-null   int64  \n",
      " 73  SaleType       2895 non-null   object \n",
      " 74  SaleCondition  2895 non-null   object \n",
      " 75  SalePrice      1436 non-null   float64\n",
      "dtypes: float64(12), int64(25), object(39)\n",
      "memory usage: 1.7+ MB\n"
     ]
    }
   ],
   "source": [
    "df.info()"
   ]
  },
  {
   "cell_type": "code",
   "execution_count": 4,
   "id": "f82c8393",
   "metadata": {
    "ExecuteTime": {
     "end_time": "2024-03-17T07:17:47.064757Z",
     "start_time": "2024-03-17T07:17:47.052147Z"
    }
   },
   "outputs": [
    {
     "data": {
      "text/plain": [
       "Index(['MSSubClass', 'MSZoning', 'LotFrontage', 'LotArea', 'Street',\n",
       "       'LotShape', 'LandContour', 'Utilities', 'LotConfig', 'LandSlope',\n",
       "       'Neighborhood', 'Condition1', 'Condition2', 'BldgType', 'HouseStyle',\n",
       "       'OverallQual', 'OverallCond', 'YearBuilt', 'YearRemodAdd', 'RoofStyle',\n",
       "       'RoofMatl', 'Exterior1st', 'Exterior2nd', 'MasVnrType', 'MasVnrArea',\n",
       "       'ExterQual', 'ExterCond', 'Foundation', 'BsmtQual', 'BsmtCond',\n",
       "       'BsmtExposure', 'BsmtFinType1', 'BsmtFinSF1', 'BsmtFinType2',\n",
       "       'BsmtFinSF2', 'BsmtUnfSF', 'TotalBsmtSF', 'Heating', 'HeatingQC',\n",
       "       'CentralAir', 'Electrical', '1stFlrSF', '2ndFlrSF', 'LowQualFinSF',\n",
       "       'GrLivArea', 'BsmtFullBath', 'BsmtHalfBath', 'FullBath', 'HalfBath',\n",
       "       'BedroomAbvGr', 'KitchenAbvGr', 'KitchenQual', 'TotRmsAbvGrd',\n",
       "       'Functional', 'Fireplaces', 'FireplaceQu', 'GarageType', 'GarageYrBlt',\n",
       "       'GarageFinish', 'GarageCars', 'GarageArea', 'GarageQual', 'GarageCond',\n",
       "       'PavedDrive', 'WoodDeckSF', 'OpenPorchSF', 'EnclosedPorch', '3SsnPorch',\n",
       "       'ScreenPorch', 'PoolArea', 'MiscVal', 'MoSold', 'YrSold', 'SaleType',\n",
       "       'SaleCondition', 'SalePrice'],\n",
       "      dtype='object')"
      ]
     },
     "execution_count": 4,
     "metadata": {},
     "output_type": "execute_result"
    }
   ],
   "source": [
    "df.columns"
   ]
  },
  {
   "cell_type": "code",
   "execution_count": 5,
   "id": "19b65504",
   "metadata": {
    "ExecuteTime": {
     "end_time": "2024-03-17T07:17:47.128383Z",
     "start_time": "2024-03-17T07:17:47.067256Z"
    }
   },
   "outputs": [],
   "source": [
    "df = pd.get_dummies(df, drop_first=True)"
   ]
  },
  {
   "cell_type": "code",
   "execution_count": 6,
   "id": "ddc85116",
   "metadata": {
    "ExecuteTime": {
     "end_time": "2024-03-17T07:17:47.159188Z",
     "start_time": "2024-03-17T07:17:47.131303Z"
    }
   },
   "outputs": [],
   "source": [
    "# Data to be predicted\n",
    "df_to_predict = df[df['SalePrice'].isnull()]\n",
    "df_to_predict = df_to_predict.drop(['SalePrice'], axis = 1)"
   ]
  },
  {
   "cell_type": "code",
   "execution_count": 7,
   "id": "f75d3dd6",
   "metadata": {
    "ExecuteTime": {
     "end_time": "2024-03-17T07:17:47.174802Z",
     "start_time": "2024-03-17T07:17:47.163264Z"
    }
   },
   "outputs": [],
   "source": [
    "df = df.dropna()"
   ]
  },
  {
   "cell_type": "code",
   "execution_count": 8,
   "id": "aaf33099",
   "metadata": {
    "ExecuteTime": {
     "end_time": "2024-03-17T07:17:47.189943Z",
     "start_time": "2024-03-17T07:17:47.178337Z"
    }
   },
   "outputs": [],
   "source": [
    "X = df.drop('SalePrice',axis=1)\n",
    "y = df['SalePrice']"
   ]
  },
  {
   "cell_type": "code",
   "execution_count": 9,
   "id": "c2cb3337",
   "metadata": {
    "ExecuteTime": {
     "end_time": "2024-03-17T07:17:47.517864Z",
     "start_time": "2024-03-17T07:17:47.191885Z"
    }
   },
   "outputs": [],
   "source": [
    "from sklearn.model_selection import train_test_split\n",
    "\n",
    "X_train, X_test, y_train, y_test = train_test_split(X, y, test_size=0.3)"
   ]
  },
  {
   "cell_type": "code",
   "execution_count": 10,
   "id": "e12e8852",
   "metadata": {
    "ExecuteTime": {
     "end_time": "2024-03-17T07:17:47.564457Z",
     "start_time": "2024-03-17T07:17:47.525336Z"
    }
   },
   "outputs": [],
   "source": [
    "from sklearn.preprocessing import StandardScaler\n",
    "\n",
    "scaler = StandardScaler()\n",
    "scaler.fit(X_train)\n",
    "X_train = scaler.transform(X_train)\n",
    "X_test = scaler.transform(X_test)"
   ]
  },
  {
   "cell_type": "markdown",
   "id": "ab08c3ce",
   "metadata": {},
   "source": [
    "## LassoCV"
   ]
  },
  {
   "cell_type": "code",
   "execution_count": 11,
   "id": "d8663b4b",
   "metadata": {
    "ExecuteTime": {
     "end_time": "2024-03-17T07:17:48.340350Z",
     "start_time": "2024-03-17T07:17:48.226770Z"
    }
   },
   "outputs": [],
   "source": [
    "from sklearn.linear_model import LassoCV\n",
    "from sklearn.model_selection import GridSearchCV\n",
    "from sklearn.metrics import mean_squared_error, mean_absolute_error, r2_score"
   ]
  },
  {
   "cell_type": "code",
   "execution_count": 12,
   "id": "d3c4f5b0",
   "metadata": {
    "ExecuteTime": {
     "end_time": "2024-03-17T07:17:48.588731Z",
     "start_time": "2024-03-17T07:17:48.578180Z"
    }
   },
   "outputs": [],
   "source": [
    "lassoCV = LassoCV(eps=0.001, n_alphas=105, cv=10, tol=0.0001)"
   ]
  },
  {
   "cell_type": "code",
   "execution_count": 13,
   "id": "1967a03f",
   "metadata": {
    "ExecuteTime": {
     "end_time": "2024-03-17T07:17:50.437249Z",
     "start_time": "2024-03-17T07:17:49.317701Z"
    }
   },
   "outputs": [
    {
     "data": {
      "text/plain": [
       "LassoCV(cv=10, n_alphas=105)"
      ]
     },
     "execution_count": 13,
     "metadata": {},
     "output_type": "execute_result"
    }
   ],
   "source": [
    "lassoCV.fit(X_train,y_train)"
   ]
  },
  {
   "cell_type": "code",
   "execution_count": 14,
   "id": "d6c6303f",
   "metadata": {
    "ExecuteTime": {
     "end_time": "2024-03-17T07:17:51.031235Z",
     "start_time": "2024-03-17T07:17:51.022707Z"
    }
   },
   "outputs": [],
   "source": [
    "y_pred = lassoCV.predict(X_test)"
   ]
  },
  {
   "cell_type": "code",
   "execution_count": 15,
   "id": "a3b163d0",
   "metadata": {
    "ExecuteTime": {
     "end_time": "2024-03-17T07:17:51.839047Z",
     "start_time": "2024-03-17T07:17:51.820927Z"
    }
   },
   "outputs": [],
   "source": [
    "MAE = mean_absolute_error(y_test,y_pred)\n",
    "MSE = mean_squared_error(y_test,y_pred)\n",
    "RMSE = np.sqrt(MSE)"
   ]
  },
  {
   "cell_type": "code",
   "execution_count": 16,
   "id": "028ac699",
   "metadata": {
    "ExecuteTime": {
     "end_time": "2024-03-17T07:17:53.165481Z",
     "start_time": "2024-03-17T07:17:53.152938Z"
    }
   },
   "outputs": [
    {
     "data": {
      "text/plain": [
       "0.90096213012719"
      ]
     },
     "execution_count": 16,
     "metadata": {},
     "output_type": "execute_result"
    }
   ],
   "source": [
    "r2_score(y_test,y_pred)"
   ]
  },
  {
   "cell_type": "code",
   "execution_count": 17,
   "id": "2cadb4fb",
   "metadata": {
    "ExecuteTime": {
     "end_time": "2024-03-17T07:17:54.861595Z",
     "start_time": "2024-03-17T07:17:54.851102Z"
    }
   },
   "outputs": [
    {
     "data": {
      "text/plain": [
       "15489.744581931445"
      ]
     },
     "execution_count": 17,
     "metadata": {},
     "output_type": "execute_result"
    }
   ],
   "source": [
    "MAE"
   ]
  },
  {
   "cell_type": "code",
   "execution_count": 18,
   "id": "0a14336f",
   "metadata": {
    "ExecuteTime": {
     "end_time": "2024-03-17T07:17:56.018808Z",
     "start_time": "2024-03-17T07:17:56.008093Z"
    }
   },
   "outputs": [
    {
     "data": {
      "text/plain": [
       "21929.012936093233"
      ]
     },
     "execution_count": 18,
     "metadata": {},
     "output_type": "execute_result"
    }
   ],
   "source": [
    "RMSE"
   ]
  },
  {
   "cell_type": "code",
   "execution_count": 19,
   "id": "fc288c26",
   "metadata": {
    "ExecuteTime": {
     "end_time": "2024-03-17T07:17:57.937681Z",
     "start_time": "2024-03-17T07:17:57.663791Z"
    }
   },
   "outputs": [
    {
     "data": {
      "image/png": "[encoded data removed]",
      "text/plain": [
       "<Figure size 432x288 with 1 Axes>"
      ]
     },
     "metadata": {
      "needs_background": "light"
     },
     "output_type": "display_data"
    }
   ],
   "source": [
    "test_residuals = y_test - y_pred\n",
    "sns.scatterplot(x=y_test, y=test_residuals)\n",
    "plt.axhline(y=0, color='red', ls='--');"
   ]
  },
  {
   "cell_type": "code",
   "execution_count": 20,
   "id": "53a0b613",
   "metadata": {
    "ExecuteTime": {
     "end_time": "2024-03-17T07:17:58.776846Z",
     "start_time": "2024-03-17T07:17:58.762319Z"
    }
   },
   "outputs": [
    {
     "data": {
      "text/plain": [
       "759      90210.654628\n",
       "1163     79425.964019\n",
       "218      74835.961042\n",
       "231      64845.556598\n",
       "1246     50516.232157\n",
       "            ...      \n",
       "1028    -61962.099537\n",
       "653     -68623.898278\n",
       "405     -71051.505184\n",
       "576     -96958.031895\n",
       "1302   -146819.733122\n",
       "Name: SalePrice, Length: 431, dtype: float64"
      ]
     },
     "execution_count": 20,
     "metadata": {},
     "output_type": "execute_result"
    }
   ],
   "source": [
    "test_residuals.sort_values(ascending=False)"
   ]
  },
  {
   "cell_type": "code",
   "execution_count": 21,
   "id": "f423c458",
   "metadata": {
    "ExecuteTime": {
     "end_time": "2024-03-17T07:18:00.037663Z",
     "start_time": "2024-03-17T07:18:00.029004Z"
    }
   },
   "outputs": [],
   "source": [
    "from sklearn.model_selection import cross_validate"
   ]
  },
  {
   "cell_type": "code",
   "execution_count": 22,
   "id": "5c71e1fa",
   "metadata": {
    "ExecuteTime": {
     "end_time": "2024-03-17T07:18:06.662895Z",
     "start_time": "2024-03-17T07:18:00.645182Z"
    }
   },
   "outputs": [],
   "source": [
    "scores = cross_validate(lassoCV,X_train,y_train,\n",
    "                         scoring=['neg_mean_absolute_error','neg_root_mean_squared_error',\n",
    "                                  'neg_mean_squared_error', 'max_error'],cv=5)"
   ]
  },
  {
   "cell_type": "code",
   "execution_count": 23,
   "id": "e233ab02",
   "metadata": {
    "ExecuteTime": {
     "end_time": "2024-03-17T07:18:06.694361Z",
     "start_time": "2024-03-17T07:18:06.664839Z"
    }
   },
   "outputs": [
    {
     "data": {
      "text/html": [
       "<div>\n",
       "<style scoped>\n",
       "    .dataframe tbody tr th:only-of-type {\n",
       "        vertical-align: middle;\n",
       "    }\n",
       "\n",
       "    .dataframe tbody tr th {\n",
       "        vertical-align: top;\n",
       "    }\n",
       "\n",
       "    .dataframe thead th {\n",
       "        text-align: right;\n",
       "    }\n",
       "</style>\n",
       "<table border=\"1\" class=\"dataframe\">\n",
       "  <thead>\n",
       "    <tr style=\"text-align: right;\">\n",
       "      <th></th>\n",
       "      <th>fit_time</th>\n",
       "      <th>score_time</th>\n",
       "      <th>test_neg_mean_absolute_error</th>\n",
       "      <th>test_neg_root_mean_squared_error</th>\n",
       "      <th>test_neg_mean_squared_error</th>\n",
       "      <th>test_max_error</th>\n",
       "    </tr>\n",
       "  </thead>\n",
       "  <tbody>\n",
       "    <tr>\n",
       "      <th>0</th>\n",
       "      <td>1.584056</td>\n",
       "      <td>0.002998</td>\n",
       "      <td>-13243.355916</td>\n",
       "      <td>-19474.800388</td>\n",
       "      <td>-3.792679e+08</td>\n",
       "      <td>-82181.387537</td>\n",
       "    </tr>\n",
       "    <tr>\n",
       "      <th>1</th>\n",
       "      <td>1.070209</td>\n",
       "      <td>0.002540</td>\n",
       "      <td>-17317.864665</td>\n",
       "      <td>-25937.093648</td>\n",
       "      <td>-6.727328e+08</td>\n",
       "      <td>-152244.704951</td>\n",
       "    </tr>\n",
       "    <tr>\n",
       "      <th>2</th>\n",
       "      <td>1.043939</td>\n",
       "      <td>0.001002</td>\n",
       "      <td>-14957.712968</td>\n",
       "      <td>-20762.903078</td>\n",
       "      <td>-4.310981e+08</td>\n",
       "      <td>-87552.054053</td>\n",
       "    </tr>\n",
       "    <tr>\n",
       "      <th>3</th>\n",
       "      <td>1.285615</td>\n",
       "      <td>0.001485</td>\n",
       "      <td>-15744.959743</td>\n",
       "      <td>-26311.436090</td>\n",
       "      <td>-6.922917e+08</td>\n",
       "      <td>-166228.845630</td>\n",
       "    </tr>\n",
       "    <tr>\n",
       "      <th>4</th>\n",
       "      <td>1.000770</td>\n",
       "      <td>0.002007</td>\n",
       "      <td>-15543.608963</td>\n",
       "      <td>-20951.518049</td>\n",
       "      <td>-4.389661e+08</td>\n",
       "      <td>-81231.391949</td>\n",
       "    </tr>\n",
       "  </tbody>\n",
       "</table>\n",
       "</div>"
      ],
      "text/plain": [
       "   fit_time  score_time  test_neg_mean_absolute_error  \\\n",
       "0  1.584056    0.002998                 -13243.355916   \n",
       "1  1.070209    0.002540                 -17317.864665   \n",
       "2  1.043939    0.001002                 -14957.712968   \n",
       "3  1.285615    0.001485                 -15744.959743   \n",
       "4  1.000770    0.002007                 -15543.608963   \n",
       "\n",
       "   test_neg_root_mean_squared_error  test_neg_mean_squared_error  \\\n",
       "0                     -19474.800388                -3.792679e+08   \n",
       "1                     -25937.093648                -6.727328e+08   \n",
       "2                     -20762.903078                -4.310981e+08   \n",
       "3                     -26311.436090                -6.922917e+08   \n",
       "4                     -20951.518049                -4.389661e+08   \n",
       "\n",
       "   test_max_error  \n",
       "0   -82181.387537  \n",
       "1  -152244.704951  \n",
       "2   -87552.054053  \n",
       "3  -166228.845630  \n",
       "4   -81231.391949  "
      ]
     },
     "execution_count": 23,
     "metadata": {},
     "output_type": "execute_result"
    }
   ],
   "source": [
    "pd.DataFrame(scores)"
   ]
  },
  {
   "cell_type": "code",
   "execution_count": 24,
   "id": "9daddc13",
   "metadata": {
    "ExecuteTime": {
     "end_time": "2024-03-17T07:18:07.580383Z",
     "start_time": "2024-03-17T07:18:07.554669Z"
    }
   },
   "outputs": [
    {
     "data": {
      "text/plain": [
       "fit_time                            1.196918e+00\n",
       "score_time                          2.006292e-03\n",
       "test_neg_mean_absolute_error       -1.536150e+04\n",
       "test_neg_root_mean_squared_error   -2.268755e+04\n",
       "test_neg_mean_squared_error        -5.228713e+08\n",
       "test_max_error                     -1.138877e+05\n",
       "dtype: float64"
      ]
     },
     "execution_count": 24,
     "metadata": {},
     "output_type": "execute_result"
    }
   ],
   "source": [
    "pd.DataFrame(scores).mean()"
   ]
  },
  {
   "cell_type": "code",
   "execution_count": 25,
   "id": "414402b9",
   "metadata": {
    "ExecuteTime": {
     "end_time": "2024-03-17T07:18:08.229050Z",
     "start_time": "2024-03-17T07:18:08.207968Z"
    }
   },
   "outputs": [],
   "source": [
    "final_model = LassoCV(eps=0.001, n_alphas=105, cv=10, tol=0.0001)"
   ]
  },
  {
   "cell_type": "code",
   "execution_count": 26,
   "id": "5a7e1594",
   "metadata": {
    "ExecuteTime": {
     "end_time": "2024-03-17T07:18:11.001470Z",
     "start_time": "2024-03-17T07:18:10.381192Z"
    }
   },
   "outputs": [
    {
     "data": {
      "text/plain": [
       "LassoCV(cv=10, n_alphas=105)"
      ]
     },
     "execution_count": 26,
     "metadata": {},
     "output_type": "execute_result"
    }
   ],
   "source": [
    "lassoCV.fit(X,y)"
   ]
  },
  {
   "cell_type": "code",
   "execution_count": 27,
   "id": "119ed14c",
   "metadata": {
    "ExecuteTime": {
     "end_time": "2024-03-17T07:18:12.468953Z",
     "start_time": "2024-03-17T07:18:12.443061Z"
    }
   },
   "outputs": [
    {
     "data": {
      "text/plain": [
       "0.8010189668066652"
      ]
     },
     "execution_count": 27,
     "metadata": {},
     "output_type": "execute_result"
    }
   ],
   "source": [
    "lassoCV.score(X,y)"
   ]
  },
  {
   "cell_type": "code",
   "execution_count": 28,
   "id": "1bff2f9e",
   "metadata": {
    "ExecuteTime": {
     "end_time": "2024-03-17T07:18:22.039205Z",
     "start_time": "2024-03-17T07:18:19.868893Z"
    }
   },
   "outputs": [],
   "source": [
    "scores = cross_validate(lassoCV,X,y,\n",
    "                         scoring=['neg_mean_absolute_error','neg_root_mean_squared_error',\n",
    "                                  'neg_mean_squared_error', 'max_error'],cv=5)"
   ]
  },
  {
   "cell_type": "code",
   "execution_count": 29,
   "id": "77a0ceab",
   "metadata": {
    "ExecuteTime": {
     "end_time": "2024-03-17T07:18:22.225778Z",
     "start_time": "2024-03-17T07:18:22.216232Z"
    }
   },
   "outputs": [],
   "source": [
    "from sklearn.model_selection import cross_validate\n",
    "from sklearn.model_selection import cross_val_score\n",
    "from sklearn.model_selection import cross_val_predict"
   ]
  },
  {
   "cell_type": "code",
   "execution_count": 30,
   "id": "bc8b6e97",
   "metadata": {
    "ExecuteTime": {
     "end_time": "2024-03-17T07:18:27.757928Z",
     "start_time": "2024-03-17T07:18:23.180233Z"
    }
   },
   "outputs": [],
   "source": [
    "y_pred = cross_val_predict(lassoCV, X, y, cv=10)"
   ]
  },
  {
   "cell_type": "code",
   "execution_count": 31,
   "id": "b1d36f1c",
   "metadata": {
    "ExecuteTime": {
     "end_time": "2024-03-17T07:18:27.962286Z",
     "start_time": "2024-03-17T07:18:27.760937Z"
    }
   },
   "outputs": [
    {
     "data": {
      "image/png": "[encoded data removed]",
      "text/plain": [
       "<Figure size 432x288 with 1 Axes>"
      ]
     },
     "metadata": {
      "needs_background": "light"
     },
     "output_type": "display_data"
    }
   ],
   "source": [
    "test_residuals = y - y_pred\n",
    "sns.scatterplot(x=y, y=test_residuals)\n",
    "plt.axhline(y=0, color='red', ls='--');"
   ]
  },
  {
   "cell_type": "code",
   "execution_count": 32,
   "id": "86bb67d8",
   "metadata": {
    "ExecuteTime": {
     "end_time": "2024-03-17T07:18:27.977490Z",
     "start_time": "2024-03-17T07:18:27.964262Z"
    }
   },
   "outputs": [
    {
     "data": {
      "text/plain": [
       "1302   -126330.356397\n",
       "620    -121228.931177\n",
       "66     -117880.169239\n",
       "1203   -117710.183885\n",
       "653    -116874.785981\n",
       "            ...      \n",
       "185     160743.497186\n",
       "675     178601.464069\n",
       "1030    209943.250418\n",
       "883     232265.559200\n",
       "788     233637.154218\n",
       "Name: SalePrice, Length: 1436, dtype: float64"
      ]
     },
     "execution_count": 32,
     "metadata": {},
     "output_type": "execute_result"
    }
   ],
   "source": [
    "test_residuals.sort_values()"
   ]
  },
  {
   "cell_type": "code",
   "execution_count": 32,
   "id": "bcf12ff5",
   "metadata": {
    "ExecuteTime": {
     "end_time": "2024-03-16T16:09:39.887055Z",
     "start_time": "2024-03-16T16:09:39.852828Z"
    }
   },
   "outputs": [],
   "source": [
    "test = pd.read_csv('test.csv')"
   ]
  },
  {
   "cell_type": "code",
   "execution_count": 33,
   "id": "b8385356",
   "metadata": {
    "ExecuteTime": {
     "end_time": "2024-03-16T16:09:41.059638Z",
     "start_time": "2024-03-16T16:09:41.024722Z"
    }
   },
   "outputs": [
    {
     "data": {
      "text/html": [
       "<div>\n",
       "<style scoped>\n",
       "    .dataframe tbody tr th:only-of-type {\n",
       "        vertical-align: middle;\n",
       "    }\n",
       "\n",
       "    .dataframe tbody tr th {\n",
       "        vertical-align: top;\n",
       "    }\n",
       "\n",
       "    .dataframe thead th {\n",
       "        text-align: right;\n",
       "    }\n",
       "</style>\n",
       "<table border=\"1\" class=\"dataframe\">\n",
       "  <thead>\n",
       "    <tr style=\"text-align: right;\">\n",
       "      <th></th>\n",
       "      <th>Id</th>\n",
       "      <th>MSSubClass</th>\n",
       "      <th>MSZoning</th>\n",
       "      <th>LotFrontage</th>\n",
       "      <th>LotArea</th>\n",
       "      <th>Street</th>\n",
       "      <th>Alley</th>\n",
       "      <th>LotShape</th>\n",
       "      <th>LandContour</th>\n",
       "      <th>Utilities</th>\n",
       "      <th>...</th>\n",
       "      <th>ScreenPorch</th>\n",
       "      <th>PoolArea</th>\n",
       "      <th>PoolQC</th>\n",
       "      <th>Fence</th>\n",
       "      <th>MiscFeature</th>\n",
       "      <th>MiscVal</th>\n",
       "      <th>MoSold</th>\n",
       "      <th>YrSold</th>\n",
       "      <th>SaleType</th>\n",
       "      <th>SaleCondition</th>\n",
       "    </tr>\n",
       "  </thead>\n",
       "  <tbody>\n",
       "    <tr>\n",
       "      <th>0</th>\n",
       "      <td>1461</td>\n",
       "      <td>20</td>\n",
       "      <td>RH</td>\n",
       "      <td>80.0</td>\n",
       "      <td>11622</td>\n",
       "      <td>Pave</td>\n",
       "      <td>NaN</td>\n",
       "      <td>Reg</td>\n",
       "      <td>Lvl</td>\n",
       "      <td>AllPub</td>\n",
       "      <td>...</td>\n",
       "      <td>120</td>\n",
       "      <td>0</td>\n",
       "      <td>NaN</td>\n",
       "      <td>MnPrv</td>\n",
       "      <td>NaN</td>\n",
       "      <td>0</td>\n",
       "      <td>6</td>\n",
       "      <td>2010</td>\n",
       "      <td>WD</td>\n",
       "      <td>Normal</td>\n",
       "    </tr>\n",
       "    <tr>\n",
       "      <th>1</th>\n",
       "      <td>1462</td>\n",
       "      <td>20</td>\n",
       "      <td>RL</td>\n",
       "      <td>81.0</td>\n",
       "      <td>14267</td>\n",
       "      <td>Pave</td>\n",
       "      <td>NaN</td>\n",
       "      <td>IR1</td>\n",
       "      <td>Lvl</td>\n",
       "      <td>AllPub</td>\n",
       "      <td>...</td>\n",
       "      <td>0</td>\n",
       "      <td>0</td>\n",
       "      <td>NaN</td>\n",
       "      <td>NaN</td>\n",
       "      <td>Gar2</td>\n",
       "      <td>12500</td>\n",
       "      <td>6</td>\n",
       "      <td>2010</td>\n",
       "      <td>WD</td>\n",
       "      <td>Normal</td>\n",
       "    </tr>\n",
       "    <tr>\n",
       "      <th>2</th>\n",
       "      <td>1463</td>\n",
       "      <td>60</td>\n",
       "      <td>RL</td>\n",
       "      <td>74.0</td>\n",
       "      <td>13830</td>\n",
       "      <td>Pave</td>\n",
       "      <td>NaN</td>\n",
       "      <td>IR1</td>\n",
       "      <td>Lvl</td>\n",
       "      <td>AllPub</td>\n",
       "      <td>...</td>\n",
       "      <td>0</td>\n",
       "      <td>0</td>\n",
       "      <td>NaN</td>\n",
       "      <td>MnPrv</td>\n",
       "      <td>NaN</td>\n",
       "      <td>0</td>\n",
       "      <td>3</td>\n",
       "      <td>2010</td>\n",
       "      <td>WD</td>\n",
       "      <td>Normal</td>\n",
       "    </tr>\n",
       "    <tr>\n",
       "      <th>3</th>\n",
       "      <td>1464</td>\n",
       "      <td>60</td>\n",
       "      <td>RL</td>\n",
       "      <td>78.0</td>\n",
       "      <td>9978</td>\n",
       "      <td>Pave</td>\n",
       "      <td>NaN</td>\n",
       "      <td>IR1</td>\n",
       "      <td>Lvl</td>\n",
       "      <td>AllPub</td>\n",
       "      <td>...</td>\n",
       "      <td>0</td>\n",
       "      <td>0</td>\n",
       "      <td>NaN</td>\n",
       "      <td>NaN</td>\n",
       "      <td>NaN</td>\n",
       "      <td>0</td>\n",
       "      <td>6</td>\n",
       "      <td>2010</td>\n",
       "      <td>WD</td>\n",
       "      <td>Normal</td>\n",
       "    </tr>\n",
       "    <tr>\n",
       "      <th>4</th>\n",
       "      <td>1465</td>\n",
       "      <td>120</td>\n",
       "      <td>RL</td>\n",
       "      <td>43.0</td>\n",
       "      <td>5005</td>\n",
       "      <td>Pave</td>\n",
       "      <td>NaN</td>\n",
       "      <td>IR1</td>\n",
       "      <td>HLS</td>\n",
       "      <td>AllPub</td>\n",
       "      <td>...</td>\n",
       "      <td>144</td>\n",
       "      <td>0</td>\n",
       "      <td>NaN</td>\n",
       "      <td>NaN</td>\n",
       "      <td>NaN</td>\n",
       "      <td>0</td>\n",
       "      <td>1</td>\n",
       "      <td>2010</td>\n",
       "      <td>WD</td>\n",
       "      <td>Normal</td>\n",
       "    </tr>\n",
       "    <tr>\n",
       "      <th>...</th>\n",
       "      <td>...</td>\n",
       "      <td>...</td>\n",
       "      <td>...</td>\n",
       "      <td>...</td>\n",
       "      <td>...</td>\n",
       "      <td>...</td>\n",
       "      <td>...</td>\n",
       "      <td>...</td>\n",
       "      <td>...</td>\n",
       "      <td>...</td>\n",
       "      <td>...</td>\n",
       "      <td>...</td>\n",
       "      <td>...</td>\n",
       "      <td>...</td>\n",
       "      <td>...</td>\n",
       "      <td>...</td>\n",
       "      <td>...</td>\n",
       "      <td>...</td>\n",
       "      <td>...</td>\n",
       "      <td>...</td>\n",
       "      <td>...</td>\n",
       "    </tr>\n",
       "    <tr>\n",
       "      <th>1454</th>\n",
       "      <td>2915</td>\n",
       "      <td>160</td>\n",
       "      <td>RM</td>\n",
       "      <td>21.0</td>\n",
       "      <td>1936</td>\n",
       "      <td>Pave</td>\n",
       "      <td>NaN</td>\n",
       "      <td>Reg</td>\n",
       "      <td>Lvl</td>\n",
       "      <td>AllPub</td>\n",
       "      <td>...</td>\n",
       "      <td>0</td>\n",
       "      <td>0</td>\n",
       "      <td>NaN</td>\n",
       "      <td>NaN</td>\n",
       "      <td>NaN</td>\n",
       "      <td>0</td>\n",
       "      <td>6</td>\n",
       "      <td>2006</td>\n",
       "      <td>WD</td>\n",
       "      <td>Normal</td>\n",
       "    </tr>\n",
       "    <tr>\n",
       "      <th>1455</th>\n",
       "      <td>2916</td>\n",
       "      <td>160</td>\n",
       "      <td>RM</td>\n",
       "      <td>21.0</td>\n",
       "      <td>1894</td>\n",
       "      <td>Pave</td>\n",
       "      <td>NaN</td>\n",
       "      <td>Reg</td>\n",
       "      <td>Lvl</td>\n",
       "      <td>AllPub</td>\n",
       "      <td>...</td>\n",
       "      <td>0</td>\n",
       "      <td>0</td>\n",
       "      <td>NaN</td>\n",
       "      <td>NaN</td>\n",
       "      <td>NaN</td>\n",
       "      <td>0</td>\n",
       "      <td>4</td>\n",
       "      <td>2006</td>\n",
       "      <td>WD</td>\n",
       "      <td>Abnorml</td>\n",
       "    </tr>\n",
       "    <tr>\n",
       "      <th>1456</th>\n",
       "      <td>2917</td>\n",
       "      <td>20</td>\n",
       "      <td>RL</td>\n",
       "      <td>160.0</td>\n",
       "      <td>20000</td>\n",
       "      <td>Pave</td>\n",
       "      <td>NaN</td>\n",
       "      <td>Reg</td>\n",
       "      <td>Lvl</td>\n",
       "      <td>AllPub</td>\n",
       "      <td>...</td>\n",
       "      <td>0</td>\n",
       "      <td>0</td>\n",
       "      <td>NaN</td>\n",
       "      <td>NaN</td>\n",
       "      <td>NaN</td>\n",
       "      <td>0</td>\n",
       "      <td>9</td>\n",
       "      <td>2006</td>\n",
       "      <td>WD</td>\n",
       "      <td>Abnorml</td>\n",
       "    </tr>\n",
       "    <tr>\n",
       "      <th>1457</th>\n",
       "      <td>2918</td>\n",
       "      <td>85</td>\n",
       "      <td>RL</td>\n",
       "      <td>62.0</td>\n",
       "      <td>10441</td>\n",
       "      <td>Pave</td>\n",
       "      <td>NaN</td>\n",
       "      <td>Reg</td>\n",
       "      <td>Lvl</td>\n",
       "      <td>AllPub</td>\n",
       "      <td>...</td>\n",
       "      <td>0</td>\n",
       "      <td>0</td>\n",
       "      <td>NaN</td>\n",
       "      <td>MnPrv</td>\n",
       "      <td>Shed</td>\n",
       "      <td>700</td>\n",
       "      <td>7</td>\n",
       "      <td>2006</td>\n",
       "      <td>WD</td>\n",
       "      <td>Normal</td>\n",
       "    </tr>\n",
       "    <tr>\n",
       "      <th>1458</th>\n",
       "      <td>2919</td>\n",
       "      <td>60</td>\n",
       "      <td>RL</td>\n",
       "      <td>74.0</td>\n",
       "      <td>9627</td>\n",
       "      <td>Pave</td>\n",
       "      <td>NaN</td>\n",
       "      <td>Reg</td>\n",
       "      <td>Lvl</td>\n",
       "      <td>AllPub</td>\n",
       "      <td>...</td>\n",
       "      <td>0</td>\n",
       "      <td>0</td>\n",
       "      <td>NaN</td>\n",
       "      <td>NaN</td>\n",
       "      <td>NaN</td>\n",
       "      <td>0</td>\n",
       "      <td>11</td>\n",
       "      <td>2006</td>\n",
       "      <td>WD</td>\n",
       "      <td>Normal</td>\n",
       "    </tr>\n",
       "  </tbody>\n",
       "</table>\n",
       "<p>1459 rows × 80 columns</p>\n",
       "</div>"
      ],
      "text/plain": [
       "        Id  MSSubClass MSZoning  LotFrontage  LotArea Street Alley LotShape  \\\n",
       "0     1461          20       RH         80.0    11622   Pave   NaN      Reg   \n",
       "1     1462          20       RL         81.0    14267   Pave   NaN      IR1   \n",
       "2     1463          60       RL         74.0    13830   Pave   NaN      IR1   \n",
       "3     1464          60       RL         78.0     9978   Pave   NaN      IR1   \n",
       "4     1465         120       RL         43.0     5005   Pave   NaN      IR1   \n",
       "...    ...         ...      ...          ...      ...    ...   ...      ...   \n",
       "1454  2915         160       RM         21.0     1936   Pave   NaN      Reg   \n",
       "1455  2916         160       RM         21.0     1894   Pave   NaN      Reg   \n",
       "1456  2917          20       RL        160.0    20000   Pave   NaN      Reg   \n",
       "1457  2918          85       RL         62.0    10441   Pave   NaN      Reg   \n",
       "1458  2919          60       RL         74.0     9627   Pave   NaN      Reg   \n",
       "\n",
       "     LandContour Utilities  ... ScreenPorch PoolArea PoolQC  Fence  \\\n",
       "0            Lvl    AllPub  ...         120        0    NaN  MnPrv   \n",
       "1            Lvl    AllPub  ...           0        0    NaN    NaN   \n",
       "2            Lvl    AllPub  ...           0        0    NaN  MnPrv   \n",
       "3            Lvl    AllPub  ...           0        0    NaN    NaN   \n",
       "4            HLS    AllPub  ...         144        0    NaN    NaN   \n",
       "...          ...       ...  ...         ...      ...    ...    ...   \n",
       "1454         Lvl    AllPub  ...           0        0    NaN    NaN   \n",
       "1455         Lvl    AllPub  ...           0        0    NaN    NaN   \n",
       "1456         Lvl    AllPub  ...           0        0    NaN    NaN   \n",
       "1457         Lvl    AllPub  ...           0        0    NaN  MnPrv   \n",
       "1458         Lvl    AllPub  ...           0        0    NaN    NaN   \n",
       "\n",
       "     MiscFeature MiscVal MoSold  YrSold  SaleType  SaleCondition  \n",
       "0            NaN       0      6    2010        WD         Normal  \n",
       "1           Gar2   12500      6    2010        WD         Normal  \n",
       "2            NaN       0      3    2010        WD         Normal  \n",
       "3            NaN       0      6    2010        WD         Normal  \n",
       "4            NaN       0      1    2010        WD         Normal  \n",
       "...          ...     ...    ...     ...       ...            ...  \n",
       "1454         NaN       0      6    2006        WD         Normal  \n",
       "1455         NaN       0      4    2006        WD        Abnorml  \n",
       "1456         NaN       0      9    2006        WD        Abnorml  \n",
       "1457        Shed     700      7    2006        WD         Normal  \n",
       "1458         NaN       0     11    2006        WD         Normal  \n",
       "\n",
       "[1459 rows x 80 columns]"
      ]
     },
     "execution_count": 33,
     "metadata": {},
     "output_type": "execute_result"
    }
   ],
   "source": [
    "test"
   ]
  },
  {
   "cell_type": "code",
   "execution_count": 34,
   "id": "2f718cd5",
   "metadata": {
    "ExecuteTime": {
     "end_time": "2024-03-16T16:09:44.269557Z",
     "start_time": "2024-03-16T16:09:44.249644Z"
    }
   },
   "outputs": [],
   "source": [
    "result = lassoCV.predict(df_to_predict)"
   ]
  },
  {
   "cell_type": "code",
   "execution_count": 35,
   "id": "f4e42eff",
   "metadata": {
    "ExecuteTime": {
     "end_time": "2024-03-16T16:09:44.997919Z",
     "start_time": "2024-03-16T16:09:44.989850Z"
    }
   },
   "outputs": [],
   "source": [
    "submission = pd.DataFrame({'Id':test['Id'],'SalePrice':result})"
   ]
  },
  {
   "cell_type": "code",
   "execution_count": 36,
   "id": "29beb339",
   "metadata": {
    "ExecuteTime": {
     "end_time": "2024-03-16T16:10:02.499772Z",
     "start_time": "2024-03-16T16:10:02.488198Z"
    }
   },
   "outputs": [
    {
     "name": "stdout",
     "output_type": "stream",
     "text": [
      "(1459, 2)\n"
     ]
    }
   ],
   "source": [
    "submission['SalePrice'] = submission['SalePrice'].astype(int)\n",
    "print(submission.shape)"
   ]
  },
  {
   "cell_type": "code",
   "execution_count": 37,
   "id": "f58c28f9",
   "metadata": {
    "ExecuteTime": {
     "end_time": "2024-03-16T16:10:13.208492Z",
     "start_time": "2024-03-16T16:10:13.188287Z"
    }
   },
   "outputs": [
    {
     "name": "stdout",
     "output_type": "stream",
     "text": [
      "Saved file: house_preds.csv\n"
     ]
    }
   ],
   "source": [
    "filename = 'house_preds.csv'\n",
    "submission.to_csv(filename,index=False)\n",
    "print('Saved file: ' + filename)"
   ]
  },
  {
   "cell_type": "code",
   "execution_count": null,
   "id": "89db16a0",
   "metadata": {},
   "outputs": [],
   "source": []
  }
 ],
 "metadata": {
  "kernelspec": {
   "display_name": "Python 3 (ipykernel)",
   "language": "python",
   "name": "python3"
  },
  "language_info": {
   "codemirror_mode": {
    "name": "ipython",
    "version": 3
   },
   "file_extension": ".py",
   "mimetype": "text/x-python",
   "name": "python",
   "nbconvert_exporter": "python",
   "pygments_lexer": "ipython3",
   "version": "3.9.12"
  }
 },
 "nbformat": 4,
 "nbformat_minor": 5
}
