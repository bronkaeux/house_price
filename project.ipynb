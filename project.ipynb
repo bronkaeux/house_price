{
 "cells": [
  {
   "cell_type": "code",
   "execution_count": 1,
   "id": "9cbbdef6",
   "metadata": {
    "ExecuteTime": {
     "end_time": "2024-03-16T10:08:00.052039Z",
     "start_time": "2024-03-16T10:07:57.163170Z"
    }
   },
   "outputs": [],
   "source": [
    "import numpy as np\n",
    "import pandas as pd\n",
    "import matplotlib.pyplot as plt\n",
    "import seaborn as sns"
   ]
  },
  {
   "cell_type": "code",
   "execution_count": 2,
   "id": "a7f8a117",
   "metadata": {
    "ExecuteTime": {
     "end_time": "2024-03-16T10:08:00.114015Z",
     "start_time": "2024-03-16T10:08:00.055051Z"
    }
   },
   "outputs": [],
   "source": [
    "df = pd.read_csv('cleaned_df.csv')"
   ]
  },
  {
   "cell_type": "code",
   "execution_count": 3,
   "id": "af74ce08",
   "metadata": {
    "ExecuteTime": {
     "end_time": "2024-03-16T10:08:00.160023Z",
     "start_time": "2024-03-16T10:08:00.116088Z"
    }
   },
   "outputs": [
    {
     "name": "stdout",
     "output_type": "stream",
     "text": [
      "<class 'pandas.core.frame.DataFrame'>\n",
      "RangeIndex: 2907 entries, 0 to 2906\n",
      "Data columns (total 76 columns):\n",
      " #   Column         Non-Null Count  Dtype  \n",
      "---  ------         --------------  -----  \n",
      " 0   LotFrontage    2907 non-null   float64\n",
      " 1   LotArea        2907 non-null   int64  \n",
      " 2   OverallQual    2907 non-null   int64  \n",
      " 3   OverallCond    2907 non-null   int64  \n",
      " 4   YearBuilt      2907 non-null   int64  \n",
      " 5   YearRemodAdd   2907 non-null   int64  \n",
      " 6   MasVnrArea     2907 non-null   float64\n",
      " 7   BsmtFinSF1     2907 non-null   float64\n",
      " 8   BsmtFinSF2     2907 non-null   float64\n",
      " 9   BsmtUnfSF      2907 non-null   float64\n",
      " 10  TotalBsmtSF    2907 non-null   float64\n",
      " 11  1stFlrSF       2907 non-null   int64  \n",
      " 12  2ndFlrSF       2907 non-null   int64  \n",
      " 13  LowQualFinSF   2907 non-null   int64  \n",
      " 14  GrLivArea      2907 non-null   int64  \n",
      " 15  BsmtFullBath   2907 non-null   float64\n",
      " 16  BsmtHalfBath   2907 non-null   float64\n",
      " 17  FullBath       2907 non-null   int64  \n",
      " 18  HalfBath       2907 non-null   int64  \n",
      " 19  BedroomAbvGr   2907 non-null   int64  \n",
      " 20  KitchenAbvGr   2907 non-null   int64  \n",
      " 21  TotRmsAbvGrd   2907 non-null   int64  \n",
      " 22  Fireplaces     2907 non-null   int64  \n",
      " 23  GarageYrBlt    2907 non-null   float64\n",
      " 24  GarageCars     2907 non-null   float64\n",
      " 25  GarageArea     2907 non-null   float64\n",
      " 26  WoodDeckSF     2907 non-null   int64  \n",
      " 27  OpenPorchSF    2907 non-null   int64  \n",
      " 28  EnclosedPorch  2907 non-null   int64  \n",
      " 29  3SsnPorch      2907 non-null   int64  \n",
      " 30  ScreenPorch    2907 non-null   int64  \n",
      " 31  PoolArea       2907 non-null   int64  \n",
      " 32  MiscVal        2907 non-null   int64  \n",
      " 33  MoSold         2907 non-null   int64  \n",
      " 34  YrSold         2907 non-null   int64  \n",
      " 35  SalePrice      1449 non-null   float64\n",
      " 36  MSSubClass     2907 non-null   int64  \n",
      " 37  MSZoning       2907 non-null   object \n",
      " 38  Street         2907 non-null   object \n",
      " 39  LotShape       2907 non-null   object \n",
      " 40  LandContour    2907 non-null   object \n",
      " 41  Utilities      2907 non-null   object \n",
      " 42  LotConfig      2907 non-null   object \n",
      " 43  LandSlope      2907 non-null   object \n",
      " 44  Neighborhood   2907 non-null   object \n",
      " 45  Condition1     2907 non-null   object \n",
      " 46  Condition2     2907 non-null   object \n",
      " 47  BldgType       2907 non-null   object \n",
      " 48  HouseStyle     2907 non-null   object \n",
      " 49  RoofStyle      2907 non-null   object \n",
      " 50  RoofMatl       2907 non-null   object \n",
      " 51  Exterior1st    2907 non-null   object \n",
      " 52  Exterior2nd    2907 non-null   object \n",
      " 53  MasVnrType     2907 non-null   object \n",
      " 54  ExterQual      2907 non-null   object \n",
      " 55  ExterCond      2907 non-null   object \n",
      " 56  Foundation     2907 non-null   object \n",
      " 57  BsmtQual       2907 non-null   object \n",
      " 58  BsmtCond       2907 non-null   object \n",
      " 59  BsmtExposure   2907 non-null   object \n",
      " 60  BsmtFinType1   2907 non-null   object \n",
      " 61  BsmtFinType2   2907 non-null   object \n",
      " 62  Heating        2907 non-null   object \n",
      " 63  HeatingQC      2907 non-null   object \n",
      " 64  CentralAir     2907 non-null   object \n",
      " 65  Electrical     2907 non-null   object \n",
      " 66  KitchenQual    2907 non-null   object \n",
      " 67  Functional     2907 non-null   object \n",
      " 68  FireplaceQu    2907 non-null   object \n",
      " 69  GarageType     2907 non-null   object \n",
      " 70  GarageFinish   2907 non-null   object \n",
      " 71  GarageQual     2907 non-null   object \n",
      " 72  GarageCond     2907 non-null   object \n",
      " 73  PavedDrive     2907 non-null   object \n",
      " 74  SaleType       2907 non-null   object \n",
      " 75  SaleCondition  2907 non-null   object \n",
      "dtypes: float64(12), int64(25), object(39)\n",
      "memory usage: 1.7+ MB\n"
     ]
    }
   ],
   "source": [
    "df.info()"
   ]
  },
  {
   "cell_type": "code",
   "execution_count": 4,
   "id": "50da5518",
   "metadata": {
    "ExecuteTime": {
     "end_time": "2024-03-16T10:08:04.387790Z",
     "start_time": "2024-03-16T10:08:04.333155Z"
    }
   },
   "outputs": [],
   "source": [
    "df = pd.get_dummies(df, drop_first=True)"
   ]
  },
  {
   "cell_type": "code",
   "execution_count": 5,
   "id": "4593eef2",
   "metadata": {
    "ExecuteTime": {
     "end_time": "2024-03-16T10:08:04.997059Z",
     "start_time": "2024-03-16T10:08:04.978212Z"
    }
   },
   "outputs": [],
   "source": [
    "# Data to be predicted\n",
    "df_to_predict = df[df['SalePrice'].isnull()]\n",
    "df_to_predict = df_to_predict.drop(['SalePrice'], axis = 1)"
   ]
  },
  {
   "cell_type": "code",
   "execution_count": 6,
   "id": "2c6c3402",
   "metadata": {
    "ExecuteTime": {
     "end_time": "2024-03-16T10:08:05.556593Z",
     "start_time": "2024-03-16T10:08:05.530796Z"
    }
   },
   "outputs": [],
   "source": [
    "df = df.dropna()"
   ]
  },
  {
   "cell_type": "code",
   "execution_count": 7,
   "id": "3c1999f5",
   "metadata": {
    "ExecuteTime": {
     "end_time": "2024-03-16T10:08:06.118210Z",
     "start_time": "2024-03-16T10:08:06.084304Z"
    }
   },
   "outputs": [
    {
     "name": "stdout",
     "output_type": "stream",
     "text": [
      "<class 'pandas.core.frame.DataFrame'>\n",
      "Int64Index: 1449 entries, 0 to 1448\n",
      "Columns: 250 entries, LotFrontage to SaleCondition_Partial\n",
      "dtypes: float64(12), int64(25), uint8(213)\n",
      "memory usage: 731.6 KB\n"
     ]
    }
   ],
   "source": [
    "df.info()"
   ]
  },
  {
   "cell_type": "code",
   "execution_count": null,
   "id": "f2c313d2",
   "metadata": {},
   "outputs": [],
   "source": []
  },
  {
   "cell_type": "code",
   "execution_count": 8,
   "id": "9ea53b9e",
   "metadata": {
    "ExecuteTime": {
     "end_time": "2024-03-16T10:08:07.533429Z",
     "start_time": "2024-03-16T10:08:07.519012Z"
    }
   },
   "outputs": [],
   "source": [
    "X = df.drop('SalePrice',axis=1)\n",
    "y = df['SalePrice']"
   ]
  },
  {
   "cell_type": "code",
   "execution_count": null,
   "id": "75050814",
   "metadata": {},
   "outputs": [],
   "source": []
  },
  {
   "cell_type": "code",
   "execution_count": 9,
   "id": "1b6633a0",
   "metadata": {
    "ExecuteTime": {
     "end_time": "2024-03-16T10:08:08.964300Z",
     "start_time": "2024-03-16T10:08:08.594892Z"
    }
   },
   "outputs": [],
   "source": [
    "from sklearn.model_selection import train_test_split"
   ]
  },
  {
   "cell_type": "code",
   "execution_count": 10,
   "id": "77cfde9c",
   "metadata": {
    "ExecuteTime": {
     "end_time": "2024-03-16T10:08:09.665618Z",
     "start_time": "2024-03-16T10:08:09.644483Z"
    }
   },
   "outputs": [],
   "source": [
    "X_train, X_test, y_train, y_test = train_test_split(X, y, test_size=0.2, random_state=101)"
   ]
  },
  {
   "cell_type": "code",
   "execution_count": null,
   "id": "aeb549f0",
   "metadata": {},
   "outputs": [],
   "source": []
  },
  {
   "cell_type": "code",
   "execution_count": 11,
   "id": "6fac8dfc",
   "metadata": {
    "ExecuteTime": {
     "end_time": "2024-03-16T10:08:10.836574Z",
     "start_time": "2024-03-16T10:08:10.830366Z"
    }
   },
   "outputs": [],
   "source": [
    "from sklearn.preprocessing import StandardScaler"
   ]
  },
  {
   "cell_type": "code",
   "execution_count": 12,
   "id": "0b126948",
   "metadata": {
    "ExecuteTime": {
     "end_time": "2024-03-16T10:08:11.147433Z",
     "start_time": "2024-03-16T10:08:11.127522Z"
    }
   },
   "outputs": [],
   "source": [
    "scaler = StandardScaler()"
   ]
  },
  {
   "cell_type": "code",
   "execution_count": 13,
   "id": "254fd129",
   "metadata": {
    "ExecuteTime": {
     "end_time": "2024-03-16T10:08:11.610369Z",
     "start_time": "2024-03-16T10:08:11.568065Z"
    }
   },
   "outputs": [],
   "source": [
    "scaled_X_train = scaler.fit_transform(X_train)\n",
    "scaled_X_test = scaler.transform(X_test)"
   ]
  },
  {
   "cell_type": "code",
   "execution_count": null,
   "id": "93d0a1cd",
   "metadata": {},
   "outputs": [],
   "source": []
  },
  {
   "cell_type": "code",
   "execution_count": 14,
   "id": "fe8a2fc0",
   "metadata": {
    "ExecuteTime": {
     "end_time": "2024-03-16T10:08:13.683908Z",
     "start_time": "2024-03-16T10:08:13.556375Z"
    }
   },
   "outputs": [],
   "source": [
    "from sklearn.linear_model import ElasticNet"
   ]
  },
  {
   "cell_type": "code",
   "execution_count": 15,
   "id": "d175de76",
   "metadata": {
    "ExecuteTime": {
     "end_time": "2024-03-16T10:08:14.585604Z",
     "start_time": "2024-03-16T10:08:14.576994Z"
    }
   },
   "outputs": [],
   "source": [
    "base_elastic_model = ElasticNet(max_iter=1000000)"
   ]
  },
  {
   "cell_type": "code",
   "execution_count": 16,
   "id": "aec62913",
   "metadata": {
    "ExecuteTime": {
     "end_time": "2024-03-16T10:08:15.317549Z",
     "start_time": "2024-03-16T10:08:15.297449Z"
    }
   },
   "outputs": [],
   "source": [
    "param_grid = {'alpha':[5.5, 6, 6.5],\n",
    "              'l1_ratio':[.98, .985, .987]}"
   ]
  },
  {
   "cell_type": "code",
   "execution_count": 17,
   "id": "f87f9d99",
   "metadata": {
    "ExecuteTime": {
     "end_time": "2024-03-16T10:08:16.955508Z",
     "start_time": "2024-03-16T10:08:16.949046Z"
    }
   },
   "outputs": [],
   "source": [
    "from sklearn.model_selection import GridSearchCV"
   ]
  },
  {
   "cell_type": "code",
   "execution_count": 18,
   "id": "df9d295d",
   "metadata": {
    "ExecuteTime": {
     "end_time": "2024-03-16T10:08:18.513771Z",
     "start_time": "2024-03-16T10:08:18.494275Z"
    }
   },
   "outputs": [],
   "source": [
    "grid_model = GridSearchCV(estimator=base_elastic_model,\n",
    "                          param_grid=param_grid,\n",
    "                          scoring='neg_mean_squared_error',\n",
    "                          cv=10,\n",
    "                          verbose=2)"
   ]
  },
  {
   "cell_type": "code",
   "execution_count": 19,
   "id": "8cdeab59",
   "metadata": {
    "ExecuteTime": {
     "end_time": "2024-03-16T10:08:22.144987Z",
     "start_time": "2024-03-16T10:08:19.235923Z"
    }
   },
   "outputs": [
    {
     "name": "stdout",
     "output_type": "stream",
     "text": [
      "Fitting 10 folds for each of 9 candidates, totalling 90 fits\n",
      "[CV] END ...........................alpha=5.5, l1_ratio=0.98; total time=   0.0s\n",
      "[CV] END ...........................alpha=5.5, l1_ratio=0.98; total time=   0.0s\n",
      "[CV] END ...........................alpha=5.5, l1_ratio=0.98; total time=   0.0s\n",
      "[CV] END ...........................alpha=5.5, l1_ratio=0.98; total time=   0.0s\n",
      "[CV] END ...........................alpha=5.5, l1_ratio=0.98; total time=   0.0s\n",
      "[CV] END ...........................alpha=5.5, l1_ratio=0.98; total time=   0.0s\n",
      "[CV] END ...........................alpha=5.5, l1_ratio=0.98; total time=   0.0s\n",
      "[CV] END ...........................alpha=5.5, l1_ratio=0.98; total time=   0.0s\n",
      "[CV] END ...........................alpha=5.5, l1_ratio=0.98; total time=   0.0s\n",
      "[CV] END ...........................alpha=5.5, l1_ratio=0.98; total time=   0.0s\n",
      "[CV] END ..........................alpha=5.5, l1_ratio=0.985; total time=   0.0s\n",
      "[CV] END ..........................alpha=5.5, l1_ratio=0.985; total time=   0.0s\n",
      "[CV] END ..........................alpha=5.5, l1_ratio=0.985; total time=   0.0s\n",
      "[CV] END ..........................alpha=5.5, l1_ratio=0.985; total time=   0.0s\n",
      "[CV] END ..........................alpha=5.5, l1_ratio=0.985; total time=   0.0s\n",
      "[CV] END ..........................alpha=5.5, l1_ratio=0.985; total time=   0.0s\n",
      "[CV] END ..........................alpha=5.5, l1_ratio=0.985; total time=   0.0s\n",
      "[CV] END ..........................alpha=5.5, l1_ratio=0.985; total time=   0.0s\n",
      "[CV] END ..........................alpha=5.5, l1_ratio=0.985; total time=   0.0s\n",
      "[CV] END ..........................alpha=5.5, l1_ratio=0.985; total time=   0.0s\n",
      "[CV] END ..........................alpha=5.5, l1_ratio=0.987; total time=   0.0s\n",
      "[CV] END ..........................alpha=5.5, l1_ratio=0.987; total time=   0.0s\n",
      "[CV] END ..........................alpha=5.5, l1_ratio=0.987; total time=   0.0s\n",
      "[CV] END ..........................alpha=5.5, l1_ratio=0.987; total time=   0.0s\n",
      "[CV] END ..........................alpha=5.5, l1_ratio=0.987; total time=   0.0s\n",
      "[CV] END ..........................alpha=5.5, l1_ratio=0.987; total time=   0.0s\n",
      "[CV] END ..........................alpha=5.5, l1_ratio=0.987; total time=   0.0s\n",
      "[CV] END ..........................alpha=5.5, l1_ratio=0.987; total time=   0.0s\n",
      "[CV] END ..........................alpha=5.5, l1_ratio=0.987; total time=   0.0s\n",
      "[CV] END ..........................alpha=5.5, l1_ratio=0.987; total time=   0.0s\n",
      "[CV] END .............................alpha=6, l1_ratio=0.98; total time=   0.0s\n",
      "[CV] END .............................alpha=6, l1_ratio=0.98; total time=   0.0s\n",
      "[CV] END .............................alpha=6, l1_ratio=0.98; total time=   0.0s\n",
      "[CV] END .............................alpha=6, l1_ratio=0.98; total time=   0.0s\n",
      "[CV] END .............................alpha=6, l1_ratio=0.98; total time=   0.0s\n",
      "[CV] END .............................alpha=6, l1_ratio=0.98; total time=   0.0s\n",
      "[CV] END .............................alpha=6, l1_ratio=0.98; total time=   0.0s\n",
      "[CV] END .............................alpha=6, l1_ratio=0.98; total time=   0.0s\n",
      "[CV] END .............................alpha=6, l1_ratio=0.98; total time=   0.0s\n",
      "[CV] END .............................alpha=6, l1_ratio=0.98; total time=   0.0s\n",
      "[CV] END ............................alpha=6, l1_ratio=0.985; total time=   0.0s\n",
      "[CV] END ............................alpha=6, l1_ratio=0.985; total time=   0.0s\n",
      "[CV] END ............................alpha=6, l1_ratio=0.985; total time=   0.0s\n",
      "[CV] END ............................alpha=6, l1_ratio=0.985; total time=   0.0s\n",
      "[CV] END ............................alpha=6, l1_ratio=0.985; total time=   0.0s\n",
      "[CV] END ............................alpha=6, l1_ratio=0.985; total time=   0.0s\n",
      "[CV] END ............................alpha=6, l1_ratio=0.985; total time=   0.0s\n",
      "[CV] END ............................alpha=6, l1_ratio=0.985; total time=   0.0s\n",
      "[CV] END ............................alpha=6, l1_ratio=0.985; total time=   0.0s\n",
      "[CV] END ............................alpha=6, l1_ratio=0.985; total time=   0.0s\n",
      "[CV] END ............................alpha=6, l1_ratio=0.987; total time=   0.0s\n",
      "[CV] END ............................alpha=6, l1_ratio=0.987; total time=   0.0s\n",
      "[CV] END ............................alpha=6, l1_ratio=0.987; total time=   0.0s\n",
      "[CV] END ............................alpha=6, l1_ratio=0.987; total time=   0.0s\n",
      "[CV] END ............................alpha=6, l1_ratio=0.987; total time=   0.0s\n",
      "[CV] END ............................alpha=6, l1_ratio=0.987; total time=   0.0s\n",
      "[CV] END ............................alpha=6, l1_ratio=0.987; total time=   0.0s\n",
      "[CV] END ............................alpha=6, l1_ratio=0.987; total time=   0.0s\n",
      "[CV] END ............................alpha=6, l1_ratio=0.987; total time=   0.0s\n",
      "[CV] END ............................alpha=6, l1_ratio=0.987; total time=   0.0s\n",
      "[CV] END ...........................alpha=6.5, l1_ratio=0.98; total time=   0.0s\n",
      "[CV] END ...........................alpha=6.5, l1_ratio=0.98; total time=   0.0s\n",
      "[CV] END ...........................alpha=6.5, l1_ratio=0.98; total time=   0.0s\n",
      "[CV] END ...........................alpha=6.5, l1_ratio=0.98; total time=   0.0s\n",
      "[CV] END ...........................alpha=6.5, l1_ratio=0.98; total time=   0.0s\n",
      "[CV] END ...........................alpha=6.5, l1_ratio=0.98; total time=   0.0s\n",
      "[CV] END ...........................alpha=6.5, l1_ratio=0.98; total time=   0.0s\n",
      "[CV] END ...........................alpha=6.5, l1_ratio=0.98; total time=   0.0s\n",
      "[CV] END ...........................alpha=6.5, l1_ratio=0.98; total time=   0.0s\n",
      "[CV] END ...........................alpha=6.5, l1_ratio=0.98; total time=   0.0s\n",
      "[CV] END ..........................alpha=6.5, l1_ratio=0.985; total time=   0.0s\n",
      "[CV] END ..........................alpha=6.5, l1_ratio=0.985; total time=   0.0s\n",
      "[CV] END ..........................alpha=6.5, l1_ratio=0.985; total time=   0.0s\n",
      "[CV] END ..........................alpha=6.5, l1_ratio=0.985; total time=   0.0s\n",
      "[CV] END ..........................alpha=6.5, l1_ratio=0.985; total time=   0.0s\n",
      "[CV] END ..........................alpha=6.5, l1_ratio=0.985; total time=   0.0s\n",
      "[CV] END ..........................alpha=6.5, l1_ratio=0.985; total time=   0.0s\n",
      "[CV] END ..........................alpha=6.5, l1_ratio=0.985; total time=   0.0s\n",
      "[CV] END ..........................alpha=6.5, l1_ratio=0.985; total time=   0.0s\n",
      "[CV] END ..........................alpha=6.5, l1_ratio=0.985; total time=   0.0s\n",
      "[CV] END ..........................alpha=6.5, l1_ratio=0.987; total time=   0.0s\n",
      "[CV] END ..........................alpha=6.5, l1_ratio=0.987; total time=   0.0s\n",
      "[CV] END ..........................alpha=6.5, l1_ratio=0.987; total time=   0.0s\n",
      "[CV] END ..........................alpha=6.5, l1_ratio=0.987; total time=   0.0s\n",
      "[CV] END ..........................alpha=6.5, l1_ratio=0.987; total time=   0.0s\n",
      "[CV] END ..........................alpha=6.5, l1_ratio=0.987; total time=   0.0s\n",
      "[CV] END ..........................alpha=6.5, l1_ratio=0.987; total time=   0.0s\n",
      "[CV] END ..........................alpha=6.5, l1_ratio=0.987; total time=   0.0s\n",
      "[CV] END ..........................alpha=6.5, l1_ratio=0.987; total time=   0.0s\n",
      "[CV] END ..........................alpha=6.5, l1_ratio=0.987; total time=   0.0s\n"
     ]
    },
    {
     "data": {
      "text/plain": [
       "GridSearchCV(cv=10, estimator=ElasticNet(max_iter=1000000),\n",
       "             param_grid={'alpha': [5.5, 6, 6.5],\n",
       "                         'l1_ratio': [0.98, 0.985, 0.987]},\n",
       "             scoring='neg_mean_squared_error', verbose=2)"
      ]
     },
     "execution_count": 19,
     "metadata": {},
     "output_type": "execute_result"
    }
   ],
   "source": [
    "grid_model.fit(scaled_X_train,y_train)"
   ]
  },
  {
   "cell_type": "code",
   "execution_count": 20,
   "id": "01568ab4",
   "metadata": {
    "ExecuteTime": {
     "end_time": "2024-03-16T10:08:26.478764Z",
     "start_time": "2024-03-16T10:08:26.470417Z"
    }
   },
   "outputs": [
    {
     "data": {
      "text/plain": [
       "{'alpha': 6, 'l1_ratio': 0.987}"
      ]
     },
     "execution_count": 20,
     "metadata": {},
     "output_type": "execute_result"
    }
   ],
   "source": [
    "grid_model.best_params_"
   ]
  },
  {
   "cell_type": "code",
   "execution_count": 21,
   "id": "3b5cfff1",
   "metadata": {
    "ExecuteTime": {
     "end_time": "2024-03-16T10:08:30.370112Z",
     "start_time": "2024-03-16T10:08:30.353365Z"
    }
   },
   "outputs": [],
   "source": [
    "y_pred = grid_model.predict(scaled_X_test)"
   ]
  },
  {
   "cell_type": "code",
   "execution_count": 22,
   "id": "cf46a4fb",
   "metadata": {
    "ExecuteTime": {
     "end_time": "2024-03-16T10:08:31.400949Z",
     "start_time": "2024-03-16T10:08:31.395942Z"
    }
   },
   "outputs": [],
   "source": [
    "from sklearn.metrics import mean_absolute_error,mean_squared_error"
   ]
  },
  {
   "cell_type": "code",
   "execution_count": 23,
   "id": "003c801f",
   "metadata": {
    "ExecuteTime": {
     "end_time": "2024-03-16T10:08:32.069307Z",
     "start_time": "2024-03-16T10:08:32.051051Z"
    }
   },
   "outputs": [
    {
     "data": {
      "text/plain": [
       "15680.936027026577"
      ]
     },
     "execution_count": 23,
     "metadata": {},
     "output_type": "execute_result"
    }
   ],
   "source": [
    "mean_absolute_error(y_test,y_pred)"
   ]
  },
  {
   "cell_type": "code",
   "execution_count": 24,
   "id": "0310a668",
   "metadata": {
    "ExecuteTime": {
     "end_time": "2024-03-16T10:08:37.454841Z",
     "start_time": "2024-03-16T10:08:37.431206Z"
    }
   },
   "outputs": [
    {
     "data": {
      "text/plain": [
       "180331.95514147688"
      ]
     },
     "execution_count": 24,
     "metadata": {},
     "output_type": "execute_result"
    }
   ],
   "source": [
    "np.mean(df['SalePrice'])"
   ]
  },
  {
   "cell_type": "code",
   "execution_count": 25,
   "id": "0a841a6f",
   "metadata": {
    "ExecuteTime": {
     "end_time": "2024-03-16T10:08:40.174188Z",
     "start_time": "2024-03-16T10:08:40.154436Z"
    }
   },
   "outputs": [
    {
     "data": {
      "text/plain": [
       "542848515.7213072"
      ]
     },
     "execution_count": 25,
     "metadata": {},
     "output_type": "execute_result"
    }
   ],
   "source": [
    "mean_squared_error(y_test,y_pred)"
   ]
  },
  {
   "cell_type": "code",
   "execution_count": 26,
   "id": "963ee5eb",
   "metadata": {
    "ExecuteTime": {
     "end_time": "2024-03-16T10:08:41.369339Z",
     "start_time": "2024-03-16T10:08:41.348704Z"
    }
   },
   "outputs": [
    {
     "data": {
      "text/plain": [
       "23299.109762420263"
      ]
     },
     "execution_count": 26,
     "metadata": {},
     "output_type": "execute_result"
    }
   ],
   "source": [
    "np.sqrt(mean_squared_error(y_test,y_pred))"
   ]
  },
  {
   "cell_type": "code",
   "execution_count": null,
   "id": "3715df50",
   "metadata": {},
   "outputs": [],
   "source": []
  }
 ],
 "metadata": {
  "kernelspec": {
   "display_name": "Python 3 (ipykernel)",
   "language": "python",
   "name": "python3"
  },
  "language_info": {
   "codemirror_mode": {
    "name": "ipython",
    "version": 3
   },
   "file_extension": ".py",
   "mimetype": "text/x-python",
   "name": "python",
   "nbconvert_exporter": "python",
   "pygments_lexer": "ipython3",
   "version": "3.9.12"
  }
 },
 "nbformat": 4,
 "nbformat_minor": 5
}
