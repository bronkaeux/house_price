{
 "cells": [
  {
   "cell_type": "code",
   "execution_count": 1,
   "id": "9c2a7464",
   "metadata": {
    "ExecuteTime": {
     "end_time": "2024-03-16T14:20:41.463206Z",
     "start_time": "2024-03-16T14:20:37.551874Z"
    }
   },
   "outputs": [],
   "source": [
    "import numpy as np\n",
    "import pandas as pd\n",
    "import matplotlib.pyplot as plt\n",
    "import seaborn as sns"
   ]
  },
  {
   "cell_type": "code",
   "execution_count": 2,
   "id": "f2b86047",
   "metadata": {
    "ExecuteTime": {
     "end_time": "2024-03-16T14:20:41.509888Z",
     "start_time": "2024-03-16T14:20:41.466166Z"
    }
   },
   "outputs": [],
   "source": [
    "df = pd.read_csv('cleaned_df.csv')"
   ]
  },
  {
   "cell_type": "code",
   "execution_count": 3,
   "id": "b8e36b4c",
   "metadata": {
    "ExecuteTime": {
     "end_time": "2024-03-16T14:20:41.555880Z",
     "start_time": "2024-03-16T14:20:41.512844Z"
    }
   },
   "outputs": [
    {
     "name": "stdout",
     "output_type": "stream",
     "text": [
      "<class 'pandas.core.frame.DataFrame'>\n",
      "RangeIndex: 2907 entries, 0 to 2906\n",
      "Data columns (total 76 columns):\n",
      " #   Column         Non-Null Count  Dtype  \n",
      "---  ------         --------------  -----  \n",
      " 0   LotFrontage    2907 non-null   float64\n",
      " 1   LotArea        2907 non-null   int64  \n",
      " 2   OverallQual    2907 non-null   int64  \n",
      " 3   OverallCond    2907 non-null   int64  \n",
      " 4   YearBuilt      2907 non-null   int64  \n",
      " 5   YearRemodAdd   2907 non-null   int64  \n",
      " 6   MasVnrArea     2907 non-null   float64\n",
      " 7   BsmtFinSF1     2907 non-null   float64\n",
      " 8   BsmtFinSF2     2907 non-null   float64\n",
      " 9   BsmtUnfSF      2907 non-null   float64\n",
      " 10  TotalBsmtSF    2907 non-null   float64\n",
      " 11  1stFlrSF       2907 non-null   int64  \n",
      " 12  2ndFlrSF       2907 non-null   int64  \n",
      " 13  LowQualFinSF   2907 non-null   int64  \n",
      " 14  GrLivArea      2907 non-null   int64  \n",
      " 15  BsmtFullBath   2907 non-null   float64\n",
      " 16  BsmtHalfBath   2907 non-null   float64\n",
      " 17  FullBath       2907 non-null   int64  \n",
      " 18  HalfBath       2907 non-null   int64  \n",
      " 19  BedroomAbvGr   2907 non-null   int64  \n",
      " 20  KitchenAbvGr   2907 non-null   int64  \n",
      " 21  TotRmsAbvGrd   2907 non-null   int64  \n",
      " 22  Fireplaces     2907 non-null   int64  \n",
      " 23  GarageYrBlt    2907 non-null   float64\n",
      " 24  GarageCars     2907 non-null   float64\n",
      " 25  GarageArea     2907 non-null   float64\n",
      " 26  WoodDeckSF     2907 non-null   int64  \n",
      " 27  OpenPorchSF    2907 non-null   int64  \n",
      " 28  EnclosedPorch  2907 non-null   int64  \n",
      " 29  3SsnPorch      2907 non-null   int64  \n",
      " 30  ScreenPorch    2907 non-null   int64  \n",
      " 31  PoolArea       2907 non-null   int64  \n",
      " 32  MiscVal        2907 non-null   int64  \n",
      " 33  MoSold         2907 non-null   int64  \n",
      " 34  YrSold         2907 non-null   int64  \n",
      " 35  SalePrice      1449 non-null   float64\n",
      " 36  MSSubClass     2907 non-null   int64  \n",
      " 37  MSZoning       2907 non-null   object \n",
      " 38  Street         2907 non-null   object \n",
      " 39  LotShape       2907 non-null   object \n",
      " 40  LandContour    2907 non-null   object \n",
      " 41  Utilities      2907 non-null   object \n",
      " 42  LotConfig      2907 non-null   object \n",
      " 43  LandSlope      2907 non-null   object \n",
      " 44  Neighborhood   2907 non-null   object \n",
      " 45  Condition1     2907 non-null   object \n",
      " 46  Condition2     2907 non-null   object \n",
      " 47  BldgType       2907 non-null   object \n",
      " 48  HouseStyle     2907 non-null   object \n",
      " 49  RoofStyle      2907 non-null   object \n",
      " 50  RoofMatl       2907 non-null   object \n",
      " 51  Exterior1st    2907 non-null   object \n",
      " 52  Exterior2nd    2907 non-null   object \n",
      " 53  MasVnrType     2907 non-null   object \n",
      " 54  ExterQual      2907 non-null   object \n",
      " 55  ExterCond      2907 non-null   object \n",
      " 56  Foundation     2907 non-null   object \n",
      " 57  BsmtQual       2907 non-null   object \n",
      " 58  BsmtCond       2907 non-null   object \n",
      " 59  BsmtExposure   2907 non-null   object \n",
      " 60  BsmtFinType1   2907 non-null   object \n",
      " 61  BsmtFinType2   2907 non-null   object \n",
      " 62  Heating        2907 non-null   object \n",
      " 63  HeatingQC      2907 non-null   object \n",
      " 64  CentralAir     2907 non-null   object \n",
      " 65  Electrical     2907 non-null   object \n",
      " 66  KitchenQual    2907 non-null   object \n",
      " 67  Functional     2907 non-null   object \n",
      " 68  FireplaceQu    2907 non-null   object \n",
      " 69  GarageType     2907 non-null   object \n",
      " 70  GarageFinish   2907 non-null   object \n",
      " 71  GarageQual     2907 non-null   object \n",
      " 72  GarageCond     2907 non-null   object \n",
      " 73  PavedDrive     2907 non-null   object \n",
      " 74  SaleType       2907 non-null   object \n",
      " 75  SaleCondition  2907 non-null   object \n",
      "dtypes: float64(12), int64(25), object(39)\n",
      "memory usage: 1.7+ MB\n"
     ]
    }
   ],
   "source": [
    "df.info()"
   ]
  },
  {
   "cell_type": "code",
   "execution_count": 4,
   "id": "3e64032f",
   "metadata": {
    "ExecuteTime": {
     "end_time": "2024-03-16T14:20:41.571816Z",
     "start_time": "2024-03-16T14:20:41.557849Z"
    }
   },
   "outputs": [
    {
     "data": {
      "text/plain": [
       "Index(['LotFrontage', 'LotArea', 'OverallQual', 'OverallCond', 'YearBuilt',\n",
       "       'YearRemodAdd', 'MasVnrArea', 'BsmtFinSF1', 'BsmtFinSF2', 'BsmtUnfSF',\n",
       "       'TotalBsmtSF', '1stFlrSF', '2ndFlrSF', 'LowQualFinSF', 'GrLivArea',\n",
       "       'BsmtFullBath', 'BsmtHalfBath', 'FullBath', 'HalfBath', 'BedroomAbvGr',\n",
       "       'KitchenAbvGr', 'TotRmsAbvGrd', 'Fireplaces', 'GarageYrBlt',\n",
       "       'GarageCars', 'GarageArea', 'WoodDeckSF', 'OpenPorchSF',\n",
       "       'EnclosedPorch', '3SsnPorch', 'ScreenPorch', 'PoolArea', 'MiscVal',\n",
       "       'MoSold', 'YrSold', 'SalePrice', 'MSSubClass', 'MSZoning', 'Street',\n",
       "       'LotShape', 'LandContour', 'Utilities', 'LotConfig', 'LandSlope',\n",
       "       'Neighborhood', 'Condition1', 'Condition2', 'BldgType', 'HouseStyle',\n",
       "       'RoofStyle', 'RoofMatl', 'Exterior1st', 'Exterior2nd', 'MasVnrType',\n",
       "       'ExterQual', 'ExterCond', 'Foundation', 'BsmtQual', 'BsmtCond',\n",
       "       'BsmtExposure', 'BsmtFinType1', 'BsmtFinType2', 'Heating', 'HeatingQC',\n",
       "       'CentralAir', 'Electrical', 'KitchenQual', 'Functional', 'FireplaceQu',\n",
       "       'GarageType', 'GarageFinish', 'GarageQual', 'GarageCond', 'PavedDrive',\n",
       "       'SaleType', 'SaleCondition'],\n",
       "      dtype='object')"
      ]
     },
     "execution_count": 4,
     "metadata": {},
     "output_type": "execute_result"
    }
   ],
   "source": [
    "df.columns"
   ]
  },
  {
   "cell_type": "code",
   "execution_count": 5,
   "id": "bda07b25",
   "metadata": {
    "ExecuteTime": {
     "end_time": "2024-03-16T14:20:41.634202Z",
     "start_time": "2024-03-16T14:20:41.576782Z"
    }
   },
   "outputs": [],
   "source": [
    "df = pd.get_dummies(df, drop_first=True)"
   ]
  },
  {
   "cell_type": "code",
   "execution_count": 6,
   "id": "007b7d22",
   "metadata": {
    "ExecuteTime": {
     "end_time": "2024-03-16T14:20:42.879349Z",
     "start_time": "2024-03-16T14:20:42.847091Z"
    }
   },
   "outputs": [],
   "source": [
    "# Data to be predicted\n",
    "df_to_predict = df[df['SalePrice'].isnull()]\n",
    "df_to_predict = df_to_predict.drop(['SalePrice'], axis = 1)"
   ]
  },
  {
   "cell_type": "code",
   "execution_count": 7,
   "id": "754a4b91",
   "metadata": {
    "ExecuteTime": {
     "end_time": "2024-03-16T14:20:44.001845Z",
     "start_time": "2024-03-16T14:20:43.988299Z"
    }
   },
   "outputs": [],
   "source": [
    "df = df.dropna()"
   ]
  },
  {
   "cell_type": "code",
   "execution_count": 8,
   "id": "cbae76a4",
   "metadata": {
    "ExecuteTime": {
     "end_time": "2024-03-16T14:20:44.764889Z",
     "start_time": "2024-03-16T14:20:44.744948Z"
    }
   },
   "outputs": [],
   "source": [
    "X = df.drop('SalePrice',axis=1)\n",
    "y = df['SalePrice']"
   ]
  },
  {
   "cell_type": "code",
   "execution_count": 9,
   "id": "517b1aaa",
   "metadata": {
    "ExecuteTime": {
     "end_time": "2024-03-16T14:20:45.670109Z",
     "start_time": "2024-03-16T14:20:45.266527Z"
    }
   },
   "outputs": [],
   "source": [
    "from sklearn.model_selection import train_test_split\n",
    "\n",
    "X_train, X_test, y_train, y_test = train_test_split(X, y, test_size=0.3, random_state=101)"
   ]
  },
  {
   "cell_type": "code",
   "execution_count": 10,
   "id": "2dfce775",
   "metadata": {
    "ExecuteTime": {
     "end_time": "2024-03-16T14:20:46.027860Z",
     "start_time": "2024-03-16T14:20:45.988635Z"
    }
   },
   "outputs": [],
   "source": [
    "from sklearn.preprocessing import StandardScaler\n",
    "\n",
    "scaler = StandardScaler()\n",
    "scaler.fit(X_train)\n",
    "X_train = scaler.transform(X_train)\n",
    "X_test = scaler.transform(X_test)"
   ]
  },
  {
   "cell_type": "code",
   "execution_count": 11,
   "id": "e93c5646",
   "metadata": {
    "ExecuteTime": {
     "end_time": "2024-03-16T14:20:46.602084Z",
     "start_time": "2024-03-16T14:20:46.470757Z"
    }
   },
   "outputs": [],
   "source": [
    "from sklearn.linear_model import Ridge\n",
    "from sklearn.linear_model import RidgeCV\n",
    "from sklearn.linear_model import Lasso\n",
    "from sklearn.linear_model import LassoCV\n",
    "from sklearn.linear_model import ElasticNet\n",
    "from sklearn.linear_model import ElasticNetCV\n",
    "from sklearn.model_selection import GridSearchCV\n",
    "from sklearn.metrics import mean_squared_error, mean_absolute_error"
   ]
  },
  {
   "cell_type": "markdown",
   "id": "9a320d70",
   "metadata": {},
   "source": [
    "## Ridge"
   ]
  },
  {
   "cell_type": "code",
   "execution_count": 12,
   "id": "cbdab968",
   "metadata": {
    "ExecuteTime": {
     "end_time": "2024-03-16T14:20:47.490739Z",
     "start_time": "2024-03-16T14:20:47.484158Z"
    }
   },
   "outputs": [],
   "source": [
    "ridge = Ridge()"
   ]
  },
  {
   "cell_type": "code",
   "execution_count": 13,
   "id": "8f92ae8a",
   "metadata": {
    "ExecuteTime": {
     "end_time": "2024-03-16T14:20:47.833444Z",
     "start_time": "2024-03-16T14:20:47.822914Z"
    }
   },
   "outputs": [],
   "source": [
    "param_grid = {'alpha':[1, 10, 50, 100, 110]}"
   ]
  },
  {
   "cell_type": "code",
   "execution_count": 14,
   "id": "dd0ffeea",
   "metadata": {
    "ExecuteTime": {
     "end_time": "2024-03-16T14:20:48.175712Z",
     "start_time": "2024-03-16T14:20:48.163668Z"
    }
   },
   "outputs": [],
   "source": [
    "grid_model = GridSearchCV(estimator=ridge,\n",
    "                          param_grid=param_grid,\n",
    "                          scoring='neg_mean_squared_error',\n",
    "                          cv=10)"
   ]
  },
  {
   "cell_type": "code",
   "execution_count": 15,
   "id": "41c670f0",
   "metadata": {
    "ExecuteTime": {
     "end_time": "2024-03-16T14:20:49.265018Z",
     "start_time": "2024-03-16T14:20:48.579903Z"
    }
   },
   "outputs": [
    {
     "data": {
      "text/plain": [
       "GridSearchCV(cv=10, estimator=Ridge(),\n",
       "             param_grid={'alpha': [1, 10, 50, 100, 110]},\n",
       "             scoring='neg_mean_squared_error')"
      ]
     },
     "execution_count": 15,
     "metadata": {},
     "output_type": "execute_result"
    }
   ],
   "source": [
    "grid_model.fit(X_train,y_train)"
   ]
  },
  {
   "cell_type": "code",
   "execution_count": 16,
   "id": "c021b134",
   "metadata": {
    "ExecuteTime": {
     "end_time": "2024-03-16T14:20:49.280680Z",
     "start_time": "2024-03-16T14:20:49.267093Z"
    }
   },
   "outputs": [
    {
     "data": {
      "text/plain": [
       "{'alpha': 100}"
      ]
     },
     "execution_count": 16,
     "metadata": {},
     "output_type": "execute_result"
    }
   ],
   "source": [
    "grid_model.best_params_"
   ]
  },
  {
   "cell_type": "code",
   "execution_count": 17,
   "id": "227404e5",
   "metadata": {
    "ExecuteTime": {
     "end_time": "2024-03-16T14:20:50.025077Z",
     "start_time": "2024-03-16T14:20:50.007986Z"
    }
   },
   "outputs": [],
   "source": [
    "y_pred = grid_model.predict(X_test)"
   ]
  },
  {
   "cell_type": "code",
   "execution_count": 18,
   "id": "b26810e2",
   "metadata": {
    "ExecuteTime": {
     "end_time": "2024-03-16T14:20:50.723298Z",
     "start_time": "2024-03-16T14:20:50.705586Z"
    }
   },
   "outputs": [],
   "source": [
    "MAE = mean_absolute_error(y_test,y_pred)\n",
    "MSE = mean_squared_error(y_test,y_pred)\n",
    "RMSE = np.sqrt(MSE)"
   ]
  },
  {
   "cell_type": "code",
   "execution_count": 19,
   "id": "7abc6cb4",
   "metadata": {
    "ExecuteTime": {
     "end_time": "2024-03-16T14:20:51.174871Z",
     "start_time": "2024-03-16T14:20:51.152750Z"
    }
   },
   "outputs": [
    {
     "data": {
      "text/plain": [
       "15830.256044589287"
      ]
     },
     "execution_count": 19,
     "metadata": {},
     "output_type": "execute_result"
    }
   ],
   "source": [
    "MAE"
   ]
  },
  {
   "cell_type": "code",
   "execution_count": 20,
   "id": "9b0ce9bc",
   "metadata": {
    "ExecuteTime": {
     "end_time": "2024-03-16T14:20:51.691506Z",
     "start_time": "2024-03-16T14:20:51.675459Z"
    }
   },
   "outputs": [
    {
     "data": {
      "text/plain": [
       "23034.779460280508"
      ]
     },
     "execution_count": 20,
     "metadata": {},
     "output_type": "execute_result"
    }
   ],
   "source": [
    "RMSE"
   ]
  },
  {
   "cell_type": "code",
   "execution_count": 21,
   "id": "715e3508",
   "metadata": {
    "ExecuteTime": {
     "end_time": "2024-03-16T14:20:52.941573Z",
     "start_time": "2024-03-16T14:20:52.709710Z"
    }
   },
   "outputs": [
    {
     "data": {
      "image/png": "[encoded data removed]",
      "text/plain": [
       "<Figure size 432x288 with 1 Axes>"
      ]
     },
     "metadata": {
      "needs_background": "light"
     },
     "output_type": "display_data"
    }
   ],
   "source": [
    "test_residuals = y_test - y_pred\n",
    "sns.scatterplot(x=y_test, y=test_residuals)\n",
    "plt.axhline(y=0, color='red', ls='--');"
   ]
  },
  {
   "cell_type": "markdown",
   "id": "e65d3d97",
   "metadata": {},
   "source": [
    "## RigdeCV"
   ]
  },
  {
   "cell_type": "code",
   "execution_count": 22,
   "id": "6d0a5a00",
   "metadata": {
    "ExecuteTime": {
     "end_time": "2024-03-16T14:21:08.123107Z",
     "start_time": "2024-03-16T14:21:08.110578Z"
    }
   },
   "outputs": [],
   "source": [
    "ridgeCV = RidgeCV(alphas=(0.1, 1.0, 10.0),scoring='neg_mean_absolute_error', cv=10)"
   ]
  },
  {
   "cell_type": "code",
   "execution_count": 23,
   "id": "d3617dd4",
   "metadata": {
    "ExecuteTime": {
     "end_time": "2024-03-16T14:21:08.903534Z",
     "start_time": "2024-03-16T14:21:08.647800Z"
    }
   },
   "outputs": [
    {
     "data": {
      "text/plain": [
       "RidgeCV(alphas=array([ 0.1,  1. , 10. ]), cv=10,\n",
       "        scoring='neg_mean_absolute_error')"
      ]
     },
     "execution_count": 23,
     "metadata": {},
     "output_type": "execute_result"
    }
   ],
   "source": [
    "ridgeCV.fit(X_train,y_train)"
   ]
  },
  {
   "cell_type": "code",
   "execution_count": 24,
   "id": "74488902",
   "metadata": {
    "ExecuteTime": {
     "end_time": "2024-03-16T14:21:09.307519Z",
     "start_time": "2024-03-16T14:21:09.293735Z"
    }
   },
   "outputs": [
    {
     "data": {
      "text/plain": [
       "10.0"
      ]
     },
     "execution_count": 24,
     "metadata": {},
     "output_type": "execute_result"
    }
   ],
   "source": [
    "ridgeCV.alpha_"
   ]
  },
  {
   "cell_type": "code",
   "execution_count": 25,
   "id": "6fe50742",
   "metadata": {
    "ExecuteTime": {
     "end_time": "2024-03-16T14:21:10.039058Z",
     "start_time": "2024-03-16T14:21:10.025850Z"
    }
   },
   "outputs": [],
   "source": [
    "y_pred = ridgeCV.predict(X_test)"
   ]
  },
  {
   "cell_type": "code",
   "execution_count": 26,
   "id": "b995d5f7",
   "metadata": {
    "ExecuteTime": {
     "end_time": "2024-03-16T14:21:10.817959Z",
     "start_time": "2024-03-16T14:21:10.803046Z"
    }
   },
   "outputs": [],
   "source": [
    "MAE = mean_absolute_error(y_test,y_pred)\n",
    "MSE = mean_squared_error(y_test,y_pred)\n",
    "RMSE = np.sqrt(MSE)"
   ]
  },
  {
   "cell_type": "code",
   "execution_count": 27,
   "id": "78cd74fb",
   "metadata": {
    "ExecuteTime": {
     "end_time": "2024-03-16T14:21:11.299607Z",
     "start_time": "2024-03-16T14:21:11.276222Z"
    }
   },
   "outputs": [
    {
     "data": {
      "text/plain": [
       "16137.38640462468"
      ]
     },
     "execution_count": 27,
     "metadata": {},
     "output_type": "execute_result"
    }
   ],
   "source": [
    "MAE"
   ]
  },
  {
   "cell_type": "code",
   "execution_count": 28,
   "id": "a6b4a5b2",
   "metadata": {
    "ExecuteTime": {
     "end_time": "2024-03-16T14:21:12.268196Z",
     "start_time": "2024-03-16T14:21:12.258071Z"
    }
   },
   "outputs": [
    {
     "data": {
      "text/plain": [
       "23460.14354183018"
      ]
     },
     "execution_count": 28,
     "metadata": {},
     "output_type": "execute_result"
    }
   ],
   "source": [
    "RMSE"
   ]
  },
  {
   "cell_type": "code",
   "execution_count": 29,
   "id": "51e3d6e8",
   "metadata": {
    "ExecuteTime": {
     "end_time": "2024-03-16T14:21:13.698156Z",
     "start_time": "2024-03-16T14:21:13.508617Z"
    }
   },
   "outputs": [
    {
     "data": {
      "image/png": "[encoded data removed]",
      "text/plain": [
       "<Figure size 432x288 with 1 Axes>"
      ]
     },
     "metadata": {
      "needs_background": "light"
     },
     "output_type": "display_data"
    }
   ],
   "source": [
    "test_residuals = y_test - y_pred\n",
    "sns.scatterplot(x=y_test, y=test_residuals)\n",
    "plt.axhline(y=0, color='red', ls='--');"
   ]
  },
  {
   "cell_type": "markdown",
   "id": "040a9f2f",
   "metadata": {},
   "source": [
    "## Lasso"
   ]
  },
  {
   "cell_type": "code",
   "execution_count": 30,
   "id": "94770e50",
   "metadata": {
    "ExecuteTime": {
     "end_time": "2024-03-16T14:21:24.268095Z",
     "start_time": "2024-03-16T14:21:24.252922Z"
    }
   },
   "outputs": [],
   "source": [
    "lasso = Lasso(max_iter=1000000)"
   ]
  },
  {
   "cell_type": "code",
   "execution_count": 31,
   "id": "757c9876",
   "metadata": {
    "ExecuteTime": {
     "end_time": "2024-03-16T14:21:24.611522Z",
     "start_time": "2024-03-16T14:21:24.603826Z"
    }
   },
   "outputs": [],
   "source": [
    "param_grid = {'alpha':[350, 370, 400]}"
   ]
  },
  {
   "cell_type": "code",
   "execution_count": 32,
   "id": "3dc5593a",
   "metadata": {
    "ExecuteTime": {
     "end_time": "2024-03-16T14:21:29.383907Z",
     "start_time": "2024-03-16T14:21:29.365227Z"
    }
   },
   "outputs": [],
   "source": [
    "grid_model = GridSearchCV(estimator=lasso,\n",
    "                          param_grid=param_grid,\n",
    "                          scoring='neg_mean_squared_error',\n",
    "                          cv=10)"
   ]
  },
  {
   "cell_type": "code",
   "execution_count": 33,
   "id": "4a55f910",
   "metadata": {
    "ExecuteTime": {
     "end_time": "2024-03-16T14:21:30.554136Z",
     "start_time": "2024-03-16T14:21:29.788822Z"
    }
   },
   "outputs": [
    {
     "data": {
      "text/plain": [
       "GridSearchCV(cv=10, estimator=Lasso(max_iter=1000000),\n",
       "             param_grid={'alpha': [350, 370, 400]},\n",
       "             scoring='neg_mean_squared_error')"
      ]
     },
     "execution_count": 33,
     "metadata": {},
     "output_type": "execute_result"
    }
   ],
   "source": [
    "grid_model.fit(X_train,y_train)"
   ]
  },
  {
   "cell_type": "code",
   "execution_count": 34,
   "id": "47c95c33",
   "metadata": {
    "ExecuteTime": {
     "end_time": "2024-03-16T14:21:31.024646Z",
     "start_time": "2024-03-16T14:21:31.015114Z"
    }
   },
   "outputs": [
    {
     "data": {
      "text/plain": [
       "{'alpha': 350}"
      ]
     },
     "execution_count": 34,
     "metadata": {},
     "output_type": "execute_result"
    }
   ],
   "source": [
    "grid_model.best_params_"
   ]
  },
  {
   "cell_type": "code",
   "execution_count": 35,
   "id": "7ca369de",
   "metadata": {
    "ExecuteTime": {
     "end_time": "2024-03-16T14:21:31.850226Z",
     "start_time": "2024-03-16T14:21:31.842651Z"
    }
   },
   "outputs": [],
   "source": [
    "y_pred = grid_model.predict(X_test)"
   ]
  },
  {
   "cell_type": "code",
   "execution_count": 36,
   "id": "4c8ee60e",
   "metadata": {
    "ExecuteTime": {
     "end_time": "2024-03-16T14:21:32.409070Z",
     "start_time": "2024-03-16T14:21:32.400786Z"
    }
   },
   "outputs": [],
   "source": [
    "MAE = mean_absolute_error(y_test,y_pred)\n",
    "MSE = mean_squared_error(y_test,y_pred)\n",
    "RMSE = np.sqrt(MSE)"
   ]
  },
  {
   "cell_type": "code",
   "execution_count": 37,
   "id": "7ab80b78",
   "metadata": {
    "ExecuteTime": {
     "end_time": "2024-03-16T14:21:32.752257Z",
     "start_time": "2024-03-16T14:21:32.735880Z"
    }
   },
   "outputs": [
    {
     "data": {
      "text/plain": [
       "15246.678996022321"
      ]
     },
     "execution_count": 37,
     "metadata": {},
     "output_type": "execute_result"
    }
   ],
   "source": [
    "MAE"
   ]
  },
  {
   "cell_type": "code",
   "execution_count": 38,
   "id": "4b16f6de",
   "metadata": {
    "ExecuteTime": {
     "end_time": "2024-03-16T14:21:33.488215Z",
     "start_time": "2024-03-16T14:21:33.470054Z"
    }
   },
   "outputs": [
    {
     "data": {
      "text/plain": [
       "22496.53731189179"
      ]
     },
     "execution_count": 38,
     "metadata": {},
     "output_type": "execute_result"
    }
   ],
   "source": [
    "RMSE"
   ]
  },
  {
   "cell_type": "code",
   "execution_count": 39,
   "id": "251fbb8c",
   "metadata": {
    "ExecuteTime": {
     "end_time": "2024-03-16T14:21:36.107672Z",
     "start_time": "2024-03-16T14:21:35.930325Z"
    }
   },
   "outputs": [
    {
     "data": {
      "image/png": "[encoded data removed]",
      "text/plain": [
       "<Figure size 432x288 with 1 Axes>"
      ]
     },
     "metadata": {
      "needs_background": "light"
     },
     "output_type": "display_data"
    }
   ],
   "source": [
    "test_residuals = y_test - y_pred\n",
    "sns.scatterplot(x=y_test, y=test_residuals)\n",
    "plt.axhline(y=0, color='red', ls='--');"
   ]
  },
  {
   "cell_type": "markdown",
   "id": "9d569f89",
   "metadata": {},
   "source": [
    "## LassoCV"
   ]
  },
  {
   "cell_type": "code",
   "execution_count": 40,
   "id": "153a1d95",
   "metadata": {
    "ExecuteTime": {
     "end_time": "2024-03-16T14:21:39.813072Z",
     "start_time": "2024-03-16T14:21:39.802477Z"
    }
   },
   "outputs": [],
   "source": [
    "lassoCV = LassoCV()"
   ]
  },
  {
   "cell_type": "code",
   "execution_count": 52,
   "id": "c5f8f589",
   "metadata": {
    "ExecuteTime": {
     "end_time": "2024-03-16T14:23:16.187641Z",
     "start_time": "2024-03-16T14:23:16.175356Z"
    }
   },
   "outputs": [],
   "source": [
    "param_grid = {'n_alphas':[104, 105, 110],\n",
    "             'eps':[.001, .005, .009]}"
   ]
  },
  {
   "cell_type": "code",
   "execution_count": 53,
   "id": "89541c40",
   "metadata": {
    "ExecuteTime": {
     "end_time": "2024-03-16T14:23:16.764097Z",
     "start_time": "2024-03-16T14:23:16.746051Z"
    }
   },
   "outputs": [],
   "source": [
    "grid_model = GridSearchCV(estimator=lassoCV,\n",
    "                          param_grid=param_grid,\n",
    "                          scoring='neg_mean_squared_error',\n",
    "                          cv=10)"
   ]
  },
  {
   "cell_type": "code",
   "execution_count": 54,
   "id": "507207a9",
   "metadata": {
    "ExecuteTime": {
     "end_time": "2024-03-16T14:23:57.878606Z",
     "start_time": "2024-03-16T14:23:17.144338Z"
    }
   },
   "outputs": [
    {
     "data": {
      "text/plain": [
       "GridSearchCV(cv=10, estimator=LassoCV(),\n",
       "             param_grid={'eps': [0.001, 0.005, 0.009],\n",
       "                         'n_alphas': [104, 105, 110]},\n",
       "             scoring='neg_mean_squared_error')"
      ]
     },
     "execution_count": 54,
     "metadata": {},
     "output_type": "execute_result"
    }
   ],
   "source": [
    "grid_model.fit(X_train,y_train)"
   ]
  },
  {
   "cell_type": "code",
   "execution_count": 55,
   "id": "3f5d583f",
   "metadata": {
    "ExecuteTime": {
     "end_time": "2024-03-16T14:24:01.454419Z",
     "start_time": "2024-03-16T14:24:01.445770Z"
    }
   },
   "outputs": [
    {
     "data": {
      "text/plain": [
       "{'eps': 0.001, 'n_alphas': 105}"
      ]
     },
     "execution_count": 55,
     "metadata": {},
     "output_type": "execute_result"
    }
   ],
   "source": [
    "grid_model.best_params_"
   ]
  },
  {
   "cell_type": "code",
   "execution_count": 56,
   "id": "eb4a3e2f",
   "metadata": {
    "ExecuteTime": {
     "end_time": "2024-03-16T14:24:02.995562Z",
     "start_time": "2024-03-16T14:24:02.990997Z"
    }
   },
   "outputs": [],
   "source": [
    "y_pred = grid_model.predict(X_test)"
   ]
  },
  {
   "cell_type": "code",
   "execution_count": 57,
   "id": "cf794a9c",
   "metadata": {
    "ExecuteTime": {
     "end_time": "2024-03-16T14:24:03.741770Z",
     "start_time": "2024-03-16T14:24:03.734240Z"
    }
   },
   "outputs": [],
   "source": [
    "MAE = mean_absolute_error(y_test,y_pred)\n",
    "MSE = mean_squared_error(y_test,y_pred)\n",
    "RMSE = np.sqrt(MSE)"
   ]
  },
  {
   "cell_type": "code",
   "execution_count": 58,
   "id": "a2b14cf6",
   "metadata": {
    "ExecuteTime": {
     "end_time": "2024-03-16T14:24:04.428536Z",
     "start_time": "2024-03-16T14:24:04.410942Z"
    }
   },
   "outputs": [
    {
     "data": {
      "text/plain": [
       "15246.725290258068"
      ]
     },
     "execution_count": 58,
     "metadata": {},
     "output_type": "execute_result"
    }
   ],
   "source": [
    "MAE"
   ]
  },
  {
   "cell_type": "code",
   "execution_count": 59,
   "id": "d4aecc00",
   "metadata": {
    "ExecuteTime": {
     "end_time": "2024-03-16T14:24:05.441045Z",
     "start_time": "2024-03-16T14:24:05.423478Z"
    }
   },
   "outputs": [
    {
     "data": {
      "text/plain": [
       "22499.85298919799"
      ]
     },
     "execution_count": 59,
     "metadata": {},
     "output_type": "execute_result"
    }
   ],
   "source": [
    "RMSE"
   ]
  },
  {
   "cell_type": "code",
   "execution_count": 60,
   "id": "62e84cc8",
   "metadata": {
    "ExecuteTime": {
     "end_time": "2024-03-16T14:24:07.305544Z",
     "start_time": "2024-03-16T14:24:07.121398Z"
    }
   },
   "outputs": [
    {
     "data": {
      "image/png": "[encoded data removed]",
      "text/plain": [
       "<Figure size 432x288 with 1 Axes>"
      ]
     },
     "metadata": {
      "needs_background": "light"
     },
     "output_type": "display_data"
    }
   ],
   "source": [
    "test_residuals = y_test - y_pred\n",
    "sns.scatterplot(x=y_test, y=test_residuals)\n",
    "plt.axhline(y=0, color='red', ls='--');"
   ]
  },
  {
   "cell_type": "code",
   "execution_count": 62,
   "id": "10e354ac",
   "metadata": {
    "ExecuteTime": {
     "end_time": "2024-03-16T14:24:22.484198Z",
     "start_time": "2024-03-16T14:24:22.462707Z"
    }
   },
   "outputs": [
    {
     "data": {
      "text/plain": [
       "185     141378.071623\n",
       "218      83191.874268\n",
       "1175     80010.629161\n",
       "605      79167.652375\n",
       "765      68068.586557\n",
       "            ...      \n",
       "412     -62711.839641\n",
       "30      -63951.572438\n",
       "70      -72320.752530\n",
       "629    -100683.223470\n",
       "585    -117852.418773\n",
       "Name: SalePrice, Length: 435, dtype: float64"
      ]
     },
     "execution_count": 62,
     "metadata": {},
     "output_type": "execute_result"
    }
   ],
   "source": [
    "test_residuals.sort_values(ascending=False)"
   ]
  },
  {
   "cell_type": "markdown",
   "id": "dd31c78d",
   "metadata": {},
   "source": [
    "## ElasticNet"
   ]
  },
  {
   "cell_type": "code",
   "execution_count": 63,
   "id": "6c57c9f0",
   "metadata": {
    "ExecuteTime": {
     "end_time": "2024-03-16T14:24:26.929008Z",
     "start_time": "2024-03-16T14:24:26.915049Z"
    }
   },
   "outputs": [],
   "source": [
    "elasticnet = ElasticNet(max_iter=100000)"
   ]
  },
  {
   "cell_type": "code",
   "execution_count": 64,
   "id": "ddf52d2e",
   "metadata": {
    "ExecuteTime": {
     "end_time": "2024-03-16T14:24:28.387698Z",
     "start_time": "2024-03-16T14:24:28.368596Z"
    }
   },
   "outputs": [],
   "source": [
    "param_grid = {'alpha':[100],\n",
    "              'l1_ratio':[.97, .98, .99, 1]}"
   ]
  },
  {
   "cell_type": "code",
   "execution_count": 65,
   "id": "fa756606",
   "metadata": {
    "ExecuteTime": {
     "end_time": "2024-03-16T14:24:29.537459Z",
     "start_time": "2024-03-16T14:24:29.523275Z"
    }
   },
   "outputs": [],
   "source": [
    "grid_model = GridSearchCV(estimator=elasticnet,\n",
    "                          param_grid=param_grid,\n",
    "                          scoring='neg_mean_squared_error',\n",
    "                          cv=10)"
   ]
  },
  {
   "cell_type": "code",
   "execution_count": 66,
   "id": "ccdeb78f",
   "metadata": {
    "ExecuteTime": {
     "end_time": "2024-03-16T14:24:30.892565Z",
     "start_time": "2024-03-16T14:24:29.982602Z"
    }
   },
   "outputs": [
    {
     "data": {
      "text/plain": [
       "GridSearchCV(cv=10, estimator=ElasticNet(max_iter=100000),\n",
       "             param_grid={'alpha': [100], 'l1_ratio': [0.97, 0.98, 0.99, 1]},\n",
       "             scoring='neg_mean_squared_error')"
      ]
     },
     "execution_count": 66,
     "metadata": {},
     "output_type": "execute_result"
    }
   ],
   "source": [
    "grid_model.fit(X_train,y_train)"
   ]
  },
  {
   "cell_type": "code",
   "execution_count": 67,
   "id": "28d92766",
   "metadata": {
    "ExecuteTime": {
     "end_time": "2024-03-16T14:24:33.404106Z",
     "start_time": "2024-03-16T14:24:33.386282Z"
    }
   },
   "outputs": [
    {
     "data": {
      "text/plain": [
       "ElasticNet(alpha=100, l1_ratio=1, max_iter=100000)"
      ]
     },
     "execution_count": 67,
     "metadata": {},
     "output_type": "execute_result"
    }
   ],
   "source": [
    "grid_model.best_estimator_"
   ]
  },
  {
   "cell_type": "code",
   "execution_count": 68,
   "id": "d4701bc3",
   "metadata": {
    "ExecuteTime": {
     "end_time": "2024-03-16T14:24:34.789216Z",
     "start_time": "2024-03-16T14:24:34.774999Z"
    }
   },
   "outputs": [
    {
     "data": {
      "text/plain": [
       "{'alpha': 100, 'l1_ratio': 1}"
      ]
     },
     "execution_count": 68,
     "metadata": {},
     "output_type": "execute_result"
    }
   ],
   "source": [
    "grid_model.best_params_"
   ]
  },
  {
   "cell_type": "code",
   "execution_count": 69,
   "id": "7f8b7ca7",
   "metadata": {
    "ExecuteTime": {
     "end_time": "2024-03-16T14:24:35.877492Z",
     "start_time": "2024-03-16T14:24:35.865275Z"
    }
   },
   "outputs": [],
   "source": [
    "y_pred = grid_model.predict(X_test)"
   ]
  },
  {
   "cell_type": "code",
   "execution_count": 70,
   "id": "f25bd42d",
   "metadata": {
    "ExecuteTime": {
     "end_time": "2024-03-16T14:24:36.544778Z",
     "start_time": "2024-03-16T14:24:36.529269Z"
    }
   },
   "outputs": [],
   "source": [
    "MAE = mean_absolute_error(y_test,y_pred)\n",
    "MSE = mean_squared_error(y_test,y_pred)\n",
    "RMSE = np.sqrt(MSE)"
   ]
  },
  {
   "cell_type": "code",
   "execution_count": 71,
   "id": "560be397",
   "metadata": {
    "ExecuteTime": {
     "end_time": "2024-03-16T14:24:36.980916Z",
     "start_time": "2024-03-16T14:24:36.960991Z"
    }
   },
   "outputs": [
    {
     "data": {
      "text/plain": [
       "15489.985162295508"
      ]
     },
     "execution_count": 71,
     "metadata": {},
     "output_type": "execute_result"
    }
   ],
   "source": [
    "MAE"
   ]
  },
  {
   "cell_type": "code",
   "execution_count": 72,
   "id": "65afd5ae",
   "metadata": {
    "ExecuteTime": {
     "end_time": "2024-03-16T14:24:37.698040Z",
     "start_time": "2024-03-16T14:24:37.679263Z"
    }
   },
   "outputs": [
    {
     "data": {
      "text/plain": [
       "22844.17711186713"
      ]
     },
     "execution_count": 72,
     "metadata": {},
     "output_type": "execute_result"
    }
   ],
   "source": [
    "RMSE"
   ]
  },
  {
   "cell_type": "code",
   "execution_count": 73,
   "id": "12c7e260",
   "metadata": {
    "ExecuteTime": {
     "end_time": "2024-03-16T14:24:39.609403Z",
     "start_time": "2024-03-16T14:24:39.433478Z"
    }
   },
   "outputs": [
    {
     "data": {
      "image/png": "[encoded data removed]",
      "text/plain": [
       "<Figure size 432x288 with 1 Axes>"
      ]
     },
     "metadata": {
      "needs_background": "light"
     },
     "output_type": "display_data"
    }
   ],
   "source": [
    "test_residuals = y_test - y_pred\n",
    "sns.scatterplot(x=y_test, y=test_residuals)\n",
    "plt.axhline(y=0, color='red', ls='--');"
   ]
  },
  {
   "cell_type": "markdown",
   "id": "51939468",
   "metadata": {},
   "source": [
    "## ElasticNetCV"
   ]
  },
  {
   "cell_type": "code",
   "execution_count": 76,
   "id": "68d2ae2d",
   "metadata": {
    "ExecuteTime": {
     "end_time": "2024-03-16T14:25:24.151150Z",
     "start_time": "2024-03-16T14:25:24.132091Z"
    }
   },
   "outputs": [],
   "source": [
    "elasticnetCV = ElasticNetCV()"
   ]
  },
  {
   "cell_type": "code",
   "execution_count": 77,
   "id": "b5cc9c60",
   "metadata": {
    "ExecuteTime": {
     "end_time": "2024-03-16T14:25:27.890378Z",
     "start_time": "2024-03-16T14:25:27.881759Z"
    }
   },
   "outputs": [],
   "source": [
    "param_grid = {'n_alphas':[300, 350],\n",
    "              'l1_ratio':[.99, 1],\n",
    "             'eps': [.0001, .001, .005]}"
   ]
  },
  {
   "cell_type": "code",
   "execution_count": 78,
   "id": "9abfbc56",
   "metadata": {
    "ExecuteTime": {
     "end_time": "2024-03-16T14:25:28.682291Z",
     "start_time": "2024-03-16T14:25:28.675165Z"
    }
   },
   "outputs": [],
   "source": [
    "grid_model = GridSearchCV(estimator=elasticnetCV,\n",
    "                          param_grid=param_grid,\n",
    "                          scoring='neg_mean_squared_error',\n",
    "                          cv=10)"
   ]
  },
  {
   "cell_type": "code",
   "execution_count": 79,
   "id": "2fb81351",
   "metadata": {
    "ExecuteTime": {
     "end_time": "2024-03-16T14:28:17.769533Z",
     "start_time": "2024-03-16T14:25:33.480477Z"
    }
   },
   "outputs": [
    {
     "data": {
      "text/plain": [
       "GridSearchCV(cv=10, estimator=ElasticNetCV(),\n",
       "             param_grid={'eps': [0.0001, 0.001, 0.005], 'l1_ratio': [0.99, 1],\n",
       "                         'n_alphas': [300, 350]},\n",
       "             scoring='neg_mean_squared_error')"
      ]
     },
     "execution_count": 79,
     "metadata": {},
     "output_type": "execute_result"
    }
   ],
   "source": [
    "grid_model.fit(X_train,y_train)"
   ]
  },
  {
   "cell_type": "code",
   "execution_count": 80,
   "id": "a84e46e1",
   "metadata": {
    "ExecuteTime": {
     "end_time": "2024-03-16T14:29:55.910670Z",
     "start_time": "2024-03-16T14:29:55.889424Z"
    }
   },
   "outputs": [
    {
     "data": {
      "text/plain": [
       "{'eps': 0.001, 'l1_ratio': 1, 'n_alphas': 300}"
      ]
     },
     "execution_count": 80,
     "metadata": {},
     "output_type": "execute_result"
    }
   ],
   "source": [
    "grid_model.best_params_"
   ]
  },
  {
   "cell_type": "code",
   "execution_count": 81,
   "id": "0db92bd3",
   "metadata": {
    "ExecuteTime": {
     "end_time": "2024-03-16T14:29:56.719061Z",
     "start_time": "2024-03-16T14:29:56.706513Z"
    }
   },
   "outputs": [],
   "source": [
    "y_pred = grid_model.predict(X_test)"
   ]
  },
  {
   "cell_type": "code",
   "execution_count": 82,
   "id": "7fa5e914",
   "metadata": {
    "ExecuteTime": {
     "end_time": "2024-03-16T14:29:57.403057Z",
     "start_time": "2024-03-16T14:29:57.386196Z"
    }
   },
   "outputs": [],
   "source": [
    "MAE = mean_absolute_error(y_test,y_pred)\n",
    "MSE = mean_squared_error(y_test,y_pred)\n",
    "RMSE = np.sqrt(MSE)"
   ]
  },
  {
   "cell_type": "code",
   "execution_count": 83,
   "id": "519ab451",
   "metadata": {
    "ExecuteTime": {
     "end_time": "2024-03-16T14:29:58.163534Z",
     "start_time": "2024-03-16T14:29:58.142419Z"
    }
   },
   "outputs": [
    {
     "data": {
      "text/plain": [
       "15246.671801910348"
      ]
     },
     "execution_count": 83,
     "metadata": {},
     "output_type": "execute_result"
    }
   ],
   "source": [
    "MAE"
   ]
  },
  {
   "cell_type": "code",
   "execution_count": 84,
   "id": "b6cb36b6",
   "metadata": {
    "ExecuteTime": {
     "end_time": "2024-03-16T14:29:59.239295Z",
     "start_time": "2024-03-16T14:29:59.226811Z"
    }
   },
   "outputs": [
    {
     "data": {
      "text/plain": [
       "22500.10801845674"
      ]
     },
     "execution_count": 84,
     "metadata": {},
     "output_type": "execute_result"
    }
   ],
   "source": [
    "RMSE"
   ]
  },
  {
   "cell_type": "code",
   "execution_count": 85,
   "id": "bedbced7",
   "metadata": {
    "ExecuteTime": {
     "end_time": "2024-03-16T14:30:01.836325Z",
     "start_time": "2024-03-16T14:30:01.627926Z"
    }
   },
   "outputs": [
    {
     "data": {
      "image/png": "[encoded data removed]",
      "text/plain": [
       "<Figure size 432x288 with 1 Axes>"
      ]
     },
     "metadata": {
      "needs_background": "light"
     },
     "output_type": "display_data"
    }
   ],
   "source": [
    "test_residuals = y_test - y_pred\n",
    "sns.scatterplot(x=y_test, y=test_residuals)\n",
    "plt.axhline(y=0, color='red', ls='--');"
   ]
  },
  {
   "cell_type": "code",
   "execution_count": null,
   "id": "895c6ee5",
   "metadata": {},
   "outputs": [],
   "source": []
  }
 ],
 "metadata": {
  "kernelspec": {
   "display_name": "Python 3 (ipykernel)",
   "language": "python",
   "name": "python3"
  },
  "language_info": {
   "codemirror_mode": {
    "name": "ipython",
    "version": 3
   },
   "file_extension": ".py",
   "mimetype": "text/x-python",
   "name": "python",
   "nbconvert_exporter": "python",
   "pygments_lexer": "ipython3",
   "version": "3.9.12"
  }
 },
 "nbformat": 4,
 "nbformat_minor": 5
}
